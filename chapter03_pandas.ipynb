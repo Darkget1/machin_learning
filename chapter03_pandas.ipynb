{
 "cells": [
  {
   "cell_type": "code",
   "execution_count": 75,
   "metadata": {
    "collapsed": true,
    "ExecuteTime": {
     "end_time": "2023-07-06T08:49:08.002147400Z",
     "start_time": "2023-07-06T08:49:08.001642Z"
    }
   },
   "outputs": [
    {
     "data": {
      "text/plain": "   name  dept  score\n0  jang   com    100\n1  yang   eng     90\n2    oh  math     95",
      "text/html": "<div>\n<style scoped>\n    .dataframe tbody tr th:only-of-type {\n        vertical-align: middle;\n    }\n\n    .dataframe tbody tr th {\n        vertical-align: top;\n    }\n\n    .dataframe thead th {\n        text-align: right;\n    }\n</style>\n<table border=\"1\" class=\"dataframe\">\n  <thead>\n    <tr style=\"text-align: right;\">\n      <th></th>\n      <th>name</th>\n      <th>dept</th>\n      <th>score</th>\n    </tr>\n  </thead>\n  <tbody>\n    <tr>\n      <th>0</th>\n      <td>jang</td>\n      <td>com</td>\n      <td>100</td>\n    </tr>\n    <tr>\n      <th>1</th>\n      <td>yang</td>\n      <td>eng</td>\n      <td>90</td>\n    </tr>\n    <tr>\n      <th>2</th>\n      <td>oh</td>\n      <td>math</td>\n      <td>95</td>\n    </tr>\n  </tbody>\n</table>\n</div>"
     },
     "execution_count": 75,
     "metadata": {},
     "output_type": "execute_result"
    }
   ],
   "source": [
    "import pandas as pd\n",
    "df = pd.DataFrame({'name':['jang','yang','oh'],'dept':['com','eng','math'],'score':[100,90,95]})\n",
    "df"
   ]
  },
  {
   "cell_type": "code",
   "execution_count": 73,
   "outputs": [
    {
     "data": {
      "text/plain": "0    jang\n1    yang\n2      oh\ndtype: object"
     },
     "execution_count": 73,
     "metadata": {},
     "output_type": "execute_result"
    }
   ],
   "source": [
    "name = pd.Series(['jang','yang','oh'])\n",
    "name"
   ],
   "metadata": {
    "collapsed": false,
    "ExecuteTime": {
     "end_time": "2023-07-06T08:49:06.008891700Z",
     "start_time": "2023-07-06T08:49:06.006566500Z"
    }
   }
  },
  {
   "cell_type": "code",
   "execution_count": 4,
   "outputs": [
    {
     "data": {
      "text/plain": "    id  nclass  math  english  science\n0    1       1    50       98       50\n1    2       1    60       97       60\n2    3       1    45       86       78\n3    4       1    30       98       58\n4    5       2    25       80       65\n5    6       2    50       89       98\n6    7       2    80       90       45\n7    8       2    90       78       25\n8    9       3    20       98       15\n9   10       3    50       98       45\n10  11       3    65       65       65\n11  12       3    45       85       32\n12  13       4    46       98       65\n13  14       4    48       87       12\n14  15       4    75       56       78\n15  16       4    58       98       65\n16  17       5    65       68       98\n17  18       5    80       78       90\n18  19       5    89       68       87\n19  20       5    78       83       58",
      "text/html": "<div>\n<style scoped>\n    .dataframe tbody tr th:only-of-type {\n        vertical-align: middle;\n    }\n\n    .dataframe tbody tr th {\n        vertical-align: top;\n    }\n\n    .dataframe thead th {\n        text-align: right;\n    }\n</style>\n<table border=\"1\" class=\"dataframe\">\n  <thead>\n    <tr style=\"text-align: right;\">\n      <th></th>\n      <th>id</th>\n      <th>nclass</th>\n      <th>math</th>\n      <th>english</th>\n      <th>science</th>\n    </tr>\n  </thead>\n  <tbody>\n    <tr>\n      <th>0</th>\n      <td>1</td>\n      <td>1</td>\n      <td>50</td>\n      <td>98</td>\n      <td>50</td>\n    </tr>\n    <tr>\n      <th>1</th>\n      <td>2</td>\n      <td>1</td>\n      <td>60</td>\n      <td>97</td>\n      <td>60</td>\n    </tr>\n    <tr>\n      <th>2</th>\n      <td>3</td>\n      <td>1</td>\n      <td>45</td>\n      <td>86</td>\n      <td>78</td>\n    </tr>\n    <tr>\n      <th>3</th>\n      <td>4</td>\n      <td>1</td>\n      <td>30</td>\n      <td>98</td>\n      <td>58</td>\n    </tr>\n    <tr>\n      <th>4</th>\n      <td>5</td>\n      <td>2</td>\n      <td>25</td>\n      <td>80</td>\n      <td>65</td>\n    </tr>\n    <tr>\n      <th>5</th>\n      <td>6</td>\n      <td>2</td>\n      <td>50</td>\n      <td>89</td>\n      <td>98</td>\n    </tr>\n    <tr>\n      <th>6</th>\n      <td>7</td>\n      <td>2</td>\n      <td>80</td>\n      <td>90</td>\n      <td>45</td>\n    </tr>\n    <tr>\n      <th>7</th>\n      <td>8</td>\n      <td>2</td>\n      <td>90</td>\n      <td>78</td>\n      <td>25</td>\n    </tr>\n    <tr>\n      <th>8</th>\n      <td>9</td>\n      <td>3</td>\n      <td>20</td>\n      <td>98</td>\n      <td>15</td>\n    </tr>\n    <tr>\n      <th>9</th>\n      <td>10</td>\n      <td>3</td>\n      <td>50</td>\n      <td>98</td>\n      <td>45</td>\n    </tr>\n    <tr>\n      <th>10</th>\n      <td>11</td>\n      <td>3</td>\n      <td>65</td>\n      <td>65</td>\n      <td>65</td>\n    </tr>\n    <tr>\n      <th>11</th>\n      <td>12</td>\n      <td>3</td>\n      <td>45</td>\n      <td>85</td>\n      <td>32</td>\n    </tr>\n    <tr>\n      <th>12</th>\n      <td>13</td>\n      <td>4</td>\n      <td>46</td>\n      <td>98</td>\n      <td>65</td>\n    </tr>\n    <tr>\n      <th>13</th>\n      <td>14</td>\n      <td>4</td>\n      <td>48</td>\n      <td>87</td>\n      <td>12</td>\n    </tr>\n    <tr>\n      <th>14</th>\n      <td>15</td>\n      <td>4</td>\n      <td>75</td>\n      <td>56</td>\n      <td>78</td>\n    </tr>\n    <tr>\n      <th>15</th>\n      <td>16</td>\n      <td>4</td>\n      <td>58</td>\n      <td>98</td>\n      <td>65</td>\n    </tr>\n    <tr>\n      <th>16</th>\n      <td>17</td>\n      <td>5</td>\n      <td>65</td>\n      <td>68</td>\n      <td>98</td>\n    </tr>\n    <tr>\n      <th>17</th>\n      <td>18</td>\n      <td>5</td>\n      <td>80</td>\n      <td>78</td>\n      <td>90</td>\n    </tr>\n    <tr>\n      <th>18</th>\n      <td>19</td>\n      <td>5</td>\n      <td>89</td>\n      <td>68</td>\n      <td>87</td>\n    </tr>\n    <tr>\n      <th>19</th>\n      <td>20</td>\n      <td>5</td>\n      <td>78</td>\n      <td>83</td>\n      <td>58</td>\n    </tr>\n  </tbody>\n</table>\n</div>"
     },
     "execution_count": 4,
     "metadata": {},
     "output_type": "execute_result"
    }
   ],
   "source": [
    "import pandas as pd\n",
    "df = pd.read_csv('data/Machine_Learning/exam.csv')\n",
    "df"
   ],
   "metadata": {
    "collapsed": false,
    "ExecuteTime": {
     "end_time": "2023-07-06T08:53:32.322392600Z",
     "start_time": "2023-07-06T08:53:31.791623400Z"
    }
   }
  },
  {
   "cell_type": "code",
   "execution_count": 6,
   "outputs": [
    {
     "data": {
      "text/plain": "  학과코드   학과명\n0  A01   컴퓨터\n1  A02    국문\n2  A03    영문\n3  A04    경영\n4  A05    경제\n5  A06  전자공학\n6  A07  기계설비\n7  A99   디자인",
      "text/html": "<div>\n<style scoped>\n    .dataframe tbody tr th:only-of-type {\n        vertical-align: middle;\n    }\n\n    .dataframe tbody tr th {\n        vertical-align: top;\n    }\n\n    .dataframe thead th {\n        text-align: right;\n    }\n</style>\n<table border=\"1\" class=\"dataframe\">\n  <thead>\n    <tr style=\"text-align: right;\">\n      <th></th>\n      <th>학과코드</th>\n      <th>학과명</th>\n    </tr>\n  </thead>\n  <tbody>\n    <tr>\n      <th>0</th>\n      <td>A01</td>\n      <td>컴퓨터</td>\n    </tr>\n    <tr>\n      <th>1</th>\n      <td>A02</td>\n      <td>국문</td>\n    </tr>\n    <tr>\n      <th>2</th>\n      <td>A03</td>\n      <td>영문</td>\n    </tr>\n    <tr>\n      <th>3</th>\n      <td>A04</td>\n      <td>경영</td>\n    </tr>\n    <tr>\n      <th>4</th>\n      <td>A05</td>\n      <td>경제</td>\n    </tr>\n    <tr>\n      <th>5</th>\n      <td>A06</td>\n      <td>전자공학</td>\n    </tr>\n    <tr>\n      <th>6</th>\n      <td>A07</td>\n      <td>기계설비</td>\n    </tr>\n    <tr>\n      <th>7</th>\n      <td>A99</td>\n      <td>디자인</td>\n    </tr>\n  </tbody>\n</table>\n</div>"
     },
     "execution_count": 6,
     "metadata": {},
     "output_type": "execute_result"
    }
   ],
   "source": [
    "df = pd.read_excel('data/Machine_Learning/code.xlsx')\n",
    "df"
   ],
   "metadata": {
    "collapsed": false,
    "ExecuteTime": {
     "end_time": "2023-07-06T08:54:44.666045400Z",
     "start_time": "2023-07-06T08:54:44.405490500Z"
    }
   }
  },
  {
   "cell_type": "code",
   "execution_count": 8,
   "outputs": [
    {
     "data": {
      "text/plain": "       title singer  personnel sortation release_date                 agency  \\\n0        좋은날    아이유          1        솔로   2010-12-09              카카오엔터테인먼트   \n1    내가제일잘나가   2NE1          4        그룹   2011-06-24               YG엔터테인먼트   \n2      강남스타일     싸이          1        솔로   2012-07-15               YG엔터테인먼트   \n3       첫사랑니   f(x)          5        그룹   2013-07-29               SM엔터테인먼트   \n4        위아래   EXID          4        그룹   2014-08-27                  바나나컬쳐   \n5    Ah-Choo   러블리즈          8        그룹   2015-10-01               울림엔터테인먼트   \n6       피땀눈물  방탄소년단          7        그룹   2016-10-10                  빅히트뮤직   \n7     시간을달려서   여자친구          6        그룹   2016-01-25                   쏘스뮤직   \n8        빨간맛   레드벨벳          5        그룹   2017-07-09               SM엔터테인먼트   \n9       에너제틱    워너원         11        그룹   2017-08-07  YMC엔터테인먼트, 스톤뮤직엔터테인먼트   \n10      뚜두뚜두   블랙핑크          4        그룹   2018-06-15               YG엔터테인먼트   \n11      달라달라     있지          5        그룹   2019-02-12              JYP엔터테인먼트   \n12  Dynamite  방탄소년단          7        그룹   2020-08-21                  빅히트뮤직   \n\n   genre type  \n0    발라드   EP  \n1     댄스   싱글  \n2     힙합   정규  \n3     댄스   정규  \n4     댄스   싱글  \n5     댄스   EP  \n6    R&B   정규  \n7     댄스   EP  \n8     댄스   EP  \n9     댄스   EP  \n10    댄스   EP  \n11    댄스   싱글  \n12    댄스   싱글  ",
      "text/html": "<div>\n<style scoped>\n    .dataframe tbody tr th:only-of-type {\n        vertical-align: middle;\n    }\n\n    .dataframe tbody tr th {\n        vertical-align: top;\n    }\n\n    .dataframe thead th {\n        text-align: right;\n    }\n</style>\n<table border=\"1\" class=\"dataframe\">\n  <thead>\n    <tr style=\"text-align: right;\">\n      <th></th>\n      <th>title</th>\n      <th>singer</th>\n      <th>personnel</th>\n      <th>sortation</th>\n      <th>release_date</th>\n      <th>agency</th>\n      <th>genre</th>\n      <th>type</th>\n    </tr>\n  </thead>\n  <tbody>\n    <tr>\n      <th>0</th>\n      <td>좋은날</td>\n      <td>아이유</td>\n      <td>1</td>\n      <td>솔로</td>\n      <td>2010-12-09</td>\n      <td>카카오엔터테인먼트</td>\n      <td>발라드</td>\n      <td>EP</td>\n    </tr>\n    <tr>\n      <th>1</th>\n      <td>내가제일잘나가</td>\n      <td>2NE1</td>\n      <td>4</td>\n      <td>그룹</td>\n      <td>2011-06-24</td>\n      <td>YG엔터테인먼트</td>\n      <td>댄스</td>\n      <td>싱글</td>\n    </tr>\n    <tr>\n      <th>2</th>\n      <td>강남스타일</td>\n      <td>싸이</td>\n      <td>1</td>\n      <td>솔로</td>\n      <td>2012-07-15</td>\n      <td>YG엔터테인먼트</td>\n      <td>힙합</td>\n      <td>정규</td>\n    </tr>\n    <tr>\n      <th>3</th>\n      <td>첫사랑니</td>\n      <td>f(x)</td>\n      <td>5</td>\n      <td>그룹</td>\n      <td>2013-07-29</td>\n      <td>SM엔터테인먼트</td>\n      <td>댄스</td>\n      <td>정규</td>\n    </tr>\n    <tr>\n      <th>4</th>\n      <td>위아래</td>\n      <td>EXID</td>\n      <td>4</td>\n      <td>그룹</td>\n      <td>2014-08-27</td>\n      <td>바나나컬쳐</td>\n      <td>댄스</td>\n      <td>싱글</td>\n    </tr>\n    <tr>\n      <th>5</th>\n      <td>Ah-Choo</td>\n      <td>러블리즈</td>\n      <td>8</td>\n      <td>그룹</td>\n      <td>2015-10-01</td>\n      <td>울림엔터테인먼트</td>\n      <td>댄스</td>\n      <td>EP</td>\n    </tr>\n    <tr>\n      <th>6</th>\n      <td>피땀눈물</td>\n      <td>방탄소년단</td>\n      <td>7</td>\n      <td>그룹</td>\n      <td>2016-10-10</td>\n      <td>빅히트뮤직</td>\n      <td>R&amp;B</td>\n      <td>정규</td>\n    </tr>\n    <tr>\n      <th>7</th>\n      <td>시간을달려서</td>\n      <td>여자친구</td>\n      <td>6</td>\n      <td>그룹</td>\n      <td>2016-01-25</td>\n      <td>쏘스뮤직</td>\n      <td>댄스</td>\n      <td>EP</td>\n    </tr>\n    <tr>\n      <th>8</th>\n      <td>빨간맛</td>\n      <td>레드벨벳</td>\n      <td>5</td>\n      <td>그룹</td>\n      <td>2017-07-09</td>\n      <td>SM엔터테인먼트</td>\n      <td>댄스</td>\n      <td>EP</td>\n    </tr>\n    <tr>\n      <th>9</th>\n      <td>에너제틱</td>\n      <td>워너원</td>\n      <td>11</td>\n      <td>그룹</td>\n      <td>2017-08-07</td>\n      <td>YMC엔터테인먼트, 스톤뮤직엔터테인먼트</td>\n      <td>댄스</td>\n      <td>EP</td>\n    </tr>\n    <tr>\n      <th>10</th>\n      <td>뚜두뚜두</td>\n      <td>블랙핑크</td>\n      <td>4</td>\n      <td>그룹</td>\n      <td>2018-06-15</td>\n      <td>YG엔터테인먼트</td>\n      <td>댄스</td>\n      <td>EP</td>\n    </tr>\n    <tr>\n      <th>11</th>\n      <td>달라달라</td>\n      <td>있지</td>\n      <td>5</td>\n      <td>그룹</td>\n      <td>2019-02-12</td>\n      <td>JYP엔터테인먼트</td>\n      <td>댄스</td>\n      <td>싱글</td>\n    </tr>\n    <tr>\n      <th>12</th>\n      <td>Dynamite</td>\n      <td>방탄소년단</td>\n      <td>7</td>\n      <td>그룹</td>\n      <td>2020-08-21</td>\n      <td>빅히트뮤직</td>\n      <td>댄스</td>\n      <td>싱글</td>\n    </tr>\n  </tbody>\n</table>\n</div>"
     },
     "execution_count": 8,
     "metadata": {},
     "output_type": "execute_result"
    }
   ],
   "source": [
    "import pandas as pd\n",
    "filename = 'data/Machine_Learning/music.csv'\n",
    "df = pd.read_csv(filename)\n",
    "df"
   ],
   "metadata": {
    "collapsed": false,
    "ExecuteTime": {
     "end_time": "2023-07-06T08:56:16.788611500Z",
     "start_time": "2023-07-06T08:56:16.772046Z"
    }
   }
  },
  {
   "cell_type": "code",
   "execution_count": 10,
   "outputs": [
    {
     "name": "stdout",
     "output_type": "stream",
     "text": [
      "<class 'pandas.core.frame.DataFrame'>\n",
      "RangeIndex: 13 entries, 0 to 12\n",
      "Data columns (total 8 columns):\n",
      " #   Column        Non-Null Count  Dtype \n",
      "---  ------        --------------  ----- \n",
      " 0   title         13 non-null     object\n",
      " 1   singer        13 non-null     object\n",
      " 2   personnel     13 non-null     int64 \n",
      " 3   sortation     13 non-null     object\n",
      " 4   release_date  13 non-null     object\n",
      " 5   agency        13 non-null     object\n",
      " 6   genre         13 non-null     object\n",
      " 7   type          13 non-null     object\n",
      "dtypes: int64(1), object(7)\n",
      "memory usage: 964.0+ bytes\n"
     ]
    }
   ],
   "source": [
    "df.info()"
   ],
   "metadata": {
    "collapsed": false,
    "ExecuteTime": {
     "end_time": "2023-07-06T08:57:06.023066300Z",
     "start_time": "2023-07-06T08:57:06.019437300Z"
    }
   }
  },
  {
   "cell_type": "code",
   "execution_count": 11,
   "outputs": [
    {
     "data": {
      "text/plain": "     title singer  personnel sortation release_date     agency genre type\n0      좋은날    아이유          1        솔로   2010-12-09  카카오엔터테인먼트   발라드   EP\n1  내가제일잘나가   2NE1          4        그룹   2011-06-24   YG엔터테인먼트    댄스   싱글\n2    강남스타일     싸이          1        솔로   2012-07-15   YG엔터테인먼트    힙합   정규\n3     첫사랑니   f(x)          5        그룹   2013-07-29   SM엔터테인먼트    댄스   정규\n4      위아래   EXID          4        그룹   2014-08-27      바나나컬쳐    댄스   싱글",
      "text/html": "<div>\n<style scoped>\n    .dataframe tbody tr th:only-of-type {\n        vertical-align: middle;\n    }\n\n    .dataframe tbody tr th {\n        vertical-align: top;\n    }\n\n    .dataframe thead th {\n        text-align: right;\n    }\n</style>\n<table border=\"1\" class=\"dataframe\">\n  <thead>\n    <tr style=\"text-align: right;\">\n      <th></th>\n      <th>title</th>\n      <th>singer</th>\n      <th>personnel</th>\n      <th>sortation</th>\n      <th>release_date</th>\n      <th>agency</th>\n      <th>genre</th>\n      <th>type</th>\n    </tr>\n  </thead>\n  <tbody>\n    <tr>\n      <th>0</th>\n      <td>좋은날</td>\n      <td>아이유</td>\n      <td>1</td>\n      <td>솔로</td>\n      <td>2010-12-09</td>\n      <td>카카오엔터테인먼트</td>\n      <td>발라드</td>\n      <td>EP</td>\n    </tr>\n    <tr>\n      <th>1</th>\n      <td>내가제일잘나가</td>\n      <td>2NE1</td>\n      <td>4</td>\n      <td>그룹</td>\n      <td>2011-06-24</td>\n      <td>YG엔터테인먼트</td>\n      <td>댄스</td>\n      <td>싱글</td>\n    </tr>\n    <tr>\n      <th>2</th>\n      <td>강남스타일</td>\n      <td>싸이</td>\n      <td>1</td>\n      <td>솔로</td>\n      <td>2012-07-15</td>\n      <td>YG엔터테인먼트</td>\n      <td>힙합</td>\n      <td>정규</td>\n    </tr>\n    <tr>\n      <th>3</th>\n      <td>첫사랑니</td>\n      <td>f(x)</td>\n      <td>5</td>\n      <td>그룹</td>\n      <td>2013-07-29</td>\n      <td>SM엔터테인먼트</td>\n      <td>댄스</td>\n      <td>정규</td>\n    </tr>\n    <tr>\n      <th>4</th>\n      <td>위아래</td>\n      <td>EXID</td>\n      <td>4</td>\n      <td>그룹</td>\n      <td>2014-08-27</td>\n      <td>바나나컬쳐</td>\n      <td>댄스</td>\n      <td>싱글</td>\n    </tr>\n  </tbody>\n</table>\n</div>"
     },
     "execution_count": 11,
     "metadata": {},
     "output_type": "execute_result"
    }
   ],
   "source": [
    "df.head()"
   ],
   "metadata": {
    "collapsed": false,
    "ExecuteTime": {
     "end_time": "2023-07-06T08:57:26.955610200Z",
     "start_time": "2023-07-06T08:57:26.955610200Z"
    }
   }
  },
  {
   "cell_type": "code",
   "execution_count": 13,
   "outputs": [
    {
     "data": {
      "text/plain": "       title singer  personnel sortation release_date                 agency  \\\n8        빨간맛   레드벨벳          5        그룹   2017-07-09               SM엔터테인먼트   \n9       에너제틱    워너원         11        그룹   2017-08-07  YMC엔터테인먼트, 스톤뮤직엔터테인먼트   \n10      뚜두뚜두   블랙핑크          4        그룹   2018-06-15               YG엔터테인먼트   \n11      달라달라     있지          5        그룹   2019-02-12              JYP엔터테인먼트   \n12  Dynamite  방탄소년단          7        그룹   2020-08-21                  빅히트뮤직   \n\n   genre type  \n8     댄스   EP  \n9     댄스   EP  \n10    댄스   EP  \n11    댄스   싱글  \n12    댄스   싱글  ",
      "text/html": "<div>\n<style scoped>\n    .dataframe tbody tr th:only-of-type {\n        vertical-align: middle;\n    }\n\n    .dataframe tbody tr th {\n        vertical-align: top;\n    }\n\n    .dataframe thead th {\n        text-align: right;\n    }\n</style>\n<table border=\"1\" class=\"dataframe\">\n  <thead>\n    <tr style=\"text-align: right;\">\n      <th></th>\n      <th>title</th>\n      <th>singer</th>\n      <th>personnel</th>\n      <th>sortation</th>\n      <th>release_date</th>\n      <th>agency</th>\n      <th>genre</th>\n      <th>type</th>\n    </tr>\n  </thead>\n  <tbody>\n    <tr>\n      <th>8</th>\n      <td>빨간맛</td>\n      <td>레드벨벳</td>\n      <td>5</td>\n      <td>그룹</td>\n      <td>2017-07-09</td>\n      <td>SM엔터테인먼트</td>\n      <td>댄스</td>\n      <td>EP</td>\n    </tr>\n    <tr>\n      <th>9</th>\n      <td>에너제틱</td>\n      <td>워너원</td>\n      <td>11</td>\n      <td>그룹</td>\n      <td>2017-08-07</td>\n      <td>YMC엔터테인먼트, 스톤뮤직엔터테인먼트</td>\n      <td>댄스</td>\n      <td>EP</td>\n    </tr>\n    <tr>\n      <th>10</th>\n      <td>뚜두뚜두</td>\n      <td>블랙핑크</td>\n      <td>4</td>\n      <td>그룹</td>\n      <td>2018-06-15</td>\n      <td>YG엔터테인먼트</td>\n      <td>댄스</td>\n      <td>EP</td>\n    </tr>\n    <tr>\n      <th>11</th>\n      <td>달라달라</td>\n      <td>있지</td>\n      <td>5</td>\n      <td>그룹</td>\n      <td>2019-02-12</td>\n      <td>JYP엔터테인먼트</td>\n      <td>댄스</td>\n      <td>싱글</td>\n    </tr>\n    <tr>\n      <th>12</th>\n      <td>Dynamite</td>\n      <td>방탄소년단</td>\n      <td>7</td>\n      <td>그룹</td>\n      <td>2020-08-21</td>\n      <td>빅히트뮤직</td>\n      <td>댄스</td>\n      <td>싱글</td>\n    </tr>\n  </tbody>\n</table>\n</div>"
     },
     "execution_count": 13,
     "metadata": {},
     "output_type": "execute_result"
    }
   ],
   "source": [
    "df.tail()"
   ],
   "metadata": {
    "collapsed": false,
    "ExecuteTime": {
     "end_time": "2023-07-06T08:57:42.801272200Z",
     "start_time": "2023-07-06T08:57:42.797047200Z"
    }
   }
  },
  {
   "cell_type": "code",
   "execution_count": 14,
   "outputs": [
    {
     "data": {
      "text/plain": "     title singer  personnel sortation release_date                 agency  \\\n0      좋은날    아이유          1        솔로   2010-12-09              카카오엔터테인먼트   \n1  내가제일잘나가   2NE1          4        그룹   2011-06-24               YG엔터테인먼트   \n2    강남스타일     싸이          1        솔로   2012-07-15               YG엔터테인먼트   \n3     첫사랑니   f(x)          5        그룹   2013-07-29               SM엔터테인먼트   \n4      위아래   EXID          4        그룹   2014-08-27                  바나나컬쳐   \n5  Ah-Choo   러블리즈          8        그룹   2015-10-01               울림엔터테인먼트   \n6     피땀눈물  방탄소년단          7        그룹   2016-10-10                  빅히트뮤직   \n7   시간을달려서   여자친구          6        그룹   2016-01-25                   쏘스뮤직   \n8      빨간맛   레드벨벳          5        그룹   2017-07-09               SM엔터테인먼트   \n9     에너제틱    워너원         11        그룹   2017-08-07  YMC엔터테인먼트, 스톤뮤직엔터테인먼트   \n\n  genre type  \n0   발라드   EP  \n1    댄스   싱글  \n2    힙합   정규  \n3    댄스   정규  \n4    댄스   싱글  \n5    댄스   EP  \n6   R&B   정규  \n7    댄스   EP  \n8    댄스   EP  \n9    댄스   EP  ",
      "text/html": "<div>\n<style scoped>\n    .dataframe tbody tr th:only-of-type {\n        vertical-align: middle;\n    }\n\n    .dataframe tbody tr th {\n        vertical-align: top;\n    }\n\n    .dataframe thead th {\n        text-align: right;\n    }\n</style>\n<table border=\"1\" class=\"dataframe\">\n  <thead>\n    <tr style=\"text-align: right;\">\n      <th></th>\n      <th>title</th>\n      <th>singer</th>\n      <th>personnel</th>\n      <th>sortation</th>\n      <th>release_date</th>\n      <th>agency</th>\n      <th>genre</th>\n      <th>type</th>\n    </tr>\n  </thead>\n  <tbody>\n    <tr>\n      <th>0</th>\n      <td>좋은날</td>\n      <td>아이유</td>\n      <td>1</td>\n      <td>솔로</td>\n      <td>2010-12-09</td>\n      <td>카카오엔터테인먼트</td>\n      <td>발라드</td>\n      <td>EP</td>\n    </tr>\n    <tr>\n      <th>1</th>\n      <td>내가제일잘나가</td>\n      <td>2NE1</td>\n      <td>4</td>\n      <td>그룹</td>\n      <td>2011-06-24</td>\n      <td>YG엔터테인먼트</td>\n      <td>댄스</td>\n      <td>싱글</td>\n    </tr>\n    <tr>\n      <th>2</th>\n      <td>강남스타일</td>\n      <td>싸이</td>\n      <td>1</td>\n      <td>솔로</td>\n      <td>2012-07-15</td>\n      <td>YG엔터테인먼트</td>\n      <td>힙합</td>\n      <td>정규</td>\n    </tr>\n    <tr>\n      <th>3</th>\n      <td>첫사랑니</td>\n      <td>f(x)</td>\n      <td>5</td>\n      <td>그룹</td>\n      <td>2013-07-29</td>\n      <td>SM엔터테인먼트</td>\n      <td>댄스</td>\n      <td>정규</td>\n    </tr>\n    <tr>\n      <th>4</th>\n      <td>위아래</td>\n      <td>EXID</td>\n      <td>4</td>\n      <td>그룹</td>\n      <td>2014-08-27</td>\n      <td>바나나컬쳐</td>\n      <td>댄스</td>\n      <td>싱글</td>\n    </tr>\n    <tr>\n      <th>5</th>\n      <td>Ah-Choo</td>\n      <td>러블리즈</td>\n      <td>8</td>\n      <td>그룹</td>\n      <td>2015-10-01</td>\n      <td>울림엔터테인먼트</td>\n      <td>댄스</td>\n      <td>EP</td>\n    </tr>\n    <tr>\n      <th>6</th>\n      <td>피땀눈물</td>\n      <td>방탄소년단</td>\n      <td>7</td>\n      <td>그룹</td>\n      <td>2016-10-10</td>\n      <td>빅히트뮤직</td>\n      <td>R&amp;B</td>\n      <td>정규</td>\n    </tr>\n    <tr>\n      <th>7</th>\n      <td>시간을달려서</td>\n      <td>여자친구</td>\n      <td>6</td>\n      <td>그룹</td>\n      <td>2016-01-25</td>\n      <td>쏘스뮤직</td>\n      <td>댄스</td>\n      <td>EP</td>\n    </tr>\n    <tr>\n      <th>8</th>\n      <td>빨간맛</td>\n      <td>레드벨벳</td>\n      <td>5</td>\n      <td>그룹</td>\n      <td>2017-07-09</td>\n      <td>SM엔터테인먼트</td>\n      <td>댄스</td>\n      <td>EP</td>\n    </tr>\n    <tr>\n      <th>9</th>\n      <td>에너제틱</td>\n      <td>워너원</td>\n      <td>11</td>\n      <td>그룹</td>\n      <td>2017-08-07</td>\n      <td>YMC엔터테인먼트, 스톤뮤직엔터테인먼트</td>\n      <td>댄스</td>\n      <td>EP</td>\n    </tr>\n  </tbody>\n</table>\n</div>"
     },
     "execution_count": 14,
     "metadata": {},
     "output_type": "execute_result"
    }
   ],
   "source": [
    "df.head(10)"
   ],
   "metadata": {
    "collapsed": false,
    "ExecuteTime": {
     "end_time": "2023-07-06T08:57:56.047890100Z",
     "start_time": "2023-07-06T08:57:56.016646900Z"
    }
   }
  },
  {
   "cell_type": "code",
   "execution_count": 15,
   "outputs": [
    {
     "data": {
      "text/plain": "       title singer  personnel sortation release_date                 agency  \\\n3       첫사랑니   f(x)          5        그룹   2013-07-29               SM엔터테인먼트   \n4        위아래   EXID          4        그룹   2014-08-27                  바나나컬쳐   \n5    Ah-Choo   러블리즈          8        그룹   2015-10-01               울림엔터테인먼트   \n6       피땀눈물  방탄소년단          7        그룹   2016-10-10                  빅히트뮤직   \n7     시간을달려서   여자친구          6        그룹   2016-01-25                   쏘스뮤직   \n8        빨간맛   레드벨벳          5        그룹   2017-07-09               SM엔터테인먼트   \n9       에너제틱    워너원         11        그룹   2017-08-07  YMC엔터테인먼트, 스톤뮤직엔터테인먼트   \n10      뚜두뚜두   블랙핑크          4        그룹   2018-06-15               YG엔터테인먼트   \n11      달라달라     있지          5        그룹   2019-02-12              JYP엔터테인먼트   \n12  Dynamite  방탄소년단          7        그룹   2020-08-21                  빅히트뮤직   \n\n   genre type  \n3     댄스   정규  \n4     댄스   싱글  \n5     댄스   EP  \n6    R&B   정규  \n7     댄스   EP  \n8     댄스   EP  \n9     댄스   EP  \n10    댄스   EP  \n11    댄스   싱글  \n12    댄스   싱글  ",
      "text/html": "<div>\n<style scoped>\n    .dataframe tbody tr th:only-of-type {\n        vertical-align: middle;\n    }\n\n    .dataframe tbody tr th {\n        vertical-align: top;\n    }\n\n    .dataframe thead th {\n        text-align: right;\n    }\n</style>\n<table border=\"1\" class=\"dataframe\">\n  <thead>\n    <tr style=\"text-align: right;\">\n      <th></th>\n      <th>title</th>\n      <th>singer</th>\n      <th>personnel</th>\n      <th>sortation</th>\n      <th>release_date</th>\n      <th>agency</th>\n      <th>genre</th>\n      <th>type</th>\n    </tr>\n  </thead>\n  <tbody>\n    <tr>\n      <th>3</th>\n      <td>첫사랑니</td>\n      <td>f(x)</td>\n      <td>5</td>\n      <td>그룹</td>\n      <td>2013-07-29</td>\n      <td>SM엔터테인먼트</td>\n      <td>댄스</td>\n      <td>정규</td>\n    </tr>\n    <tr>\n      <th>4</th>\n      <td>위아래</td>\n      <td>EXID</td>\n      <td>4</td>\n      <td>그룹</td>\n      <td>2014-08-27</td>\n      <td>바나나컬쳐</td>\n      <td>댄스</td>\n      <td>싱글</td>\n    </tr>\n    <tr>\n      <th>5</th>\n      <td>Ah-Choo</td>\n      <td>러블리즈</td>\n      <td>8</td>\n      <td>그룹</td>\n      <td>2015-10-01</td>\n      <td>울림엔터테인먼트</td>\n      <td>댄스</td>\n      <td>EP</td>\n    </tr>\n    <tr>\n      <th>6</th>\n      <td>피땀눈물</td>\n      <td>방탄소년단</td>\n      <td>7</td>\n      <td>그룹</td>\n      <td>2016-10-10</td>\n      <td>빅히트뮤직</td>\n      <td>R&amp;B</td>\n      <td>정규</td>\n    </tr>\n    <tr>\n      <th>7</th>\n      <td>시간을달려서</td>\n      <td>여자친구</td>\n      <td>6</td>\n      <td>그룹</td>\n      <td>2016-01-25</td>\n      <td>쏘스뮤직</td>\n      <td>댄스</td>\n      <td>EP</td>\n    </tr>\n    <tr>\n      <th>8</th>\n      <td>빨간맛</td>\n      <td>레드벨벳</td>\n      <td>5</td>\n      <td>그룹</td>\n      <td>2017-07-09</td>\n      <td>SM엔터테인먼트</td>\n      <td>댄스</td>\n      <td>EP</td>\n    </tr>\n    <tr>\n      <th>9</th>\n      <td>에너제틱</td>\n      <td>워너원</td>\n      <td>11</td>\n      <td>그룹</td>\n      <td>2017-08-07</td>\n      <td>YMC엔터테인먼트, 스톤뮤직엔터테인먼트</td>\n      <td>댄스</td>\n      <td>EP</td>\n    </tr>\n    <tr>\n      <th>10</th>\n      <td>뚜두뚜두</td>\n      <td>블랙핑크</td>\n      <td>4</td>\n      <td>그룹</td>\n      <td>2018-06-15</td>\n      <td>YG엔터테인먼트</td>\n      <td>댄스</td>\n      <td>EP</td>\n    </tr>\n    <tr>\n      <th>11</th>\n      <td>달라달라</td>\n      <td>있지</td>\n      <td>5</td>\n      <td>그룹</td>\n      <td>2019-02-12</td>\n      <td>JYP엔터테인먼트</td>\n      <td>댄스</td>\n      <td>싱글</td>\n    </tr>\n    <tr>\n      <th>12</th>\n      <td>Dynamite</td>\n      <td>방탄소년단</td>\n      <td>7</td>\n      <td>그룹</td>\n      <td>2020-08-21</td>\n      <td>빅히트뮤직</td>\n      <td>댄스</td>\n      <td>싱글</td>\n    </tr>\n  </tbody>\n</table>\n</div>"
     },
     "execution_count": 15,
     "metadata": {},
     "output_type": "execute_result"
    }
   ],
   "source": [
    "df.tail(10)"
   ],
   "metadata": {
    "collapsed": false,
    "ExecuteTime": {
     "end_time": "2023-07-06T08:58:05.673153200Z",
     "start_time": "2023-07-06T08:58:05.641909700Z"
    }
   }
  },
  {
   "cell_type": "code",
   "execution_count": 35,
   "outputs": [
    {
     "name": "stdout",
     "output_type": "stream",
     "text": [
      "None\n"
     ]
    }
   ],
   "source": [
    "data_count=df.describe().get('count')\n",
    "print(data_count)\n"
   ],
   "metadata": {
    "collapsed": false,
    "ExecuteTime": {
     "end_time": "2023-07-06T09:15:59.830298400Z",
     "start_time": "2023-07-06T09:15:59.810844200Z"
    }
   }
  },
  {
   "cell_type": "code",
   "execution_count": 17,
   "outputs": [
    {
     "name": "stdout",
     "output_type": "stream",
     "text": [
      "<class 'pandas.core.frame.DataFrame'>\n",
      "RangeIndex: 13 entries, 0 to 12\n",
      "Data columns (total 8 columns):\n",
      " #   Column        Non-Null Count  Dtype \n",
      "---  ------        --------------  ----- \n",
      " 0   title         13 non-null     object\n",
      " 1   singer        13 non-null     object\n",
      " 2   personnel     13 non-null     int64 \n",
      " 3   sortation     13 non-null     object\n",
      " 4   release_date  13 non-null     object\n",
      " 5   agency        13 non-null     object\n",
      " 6   genre         13 non-null     object\n",
      " 7   type          13 non-null     object\n",
      "dtypes: int64(1), object(7)\n",
      "memory usage: 964.0+ bytes\n"
     ]
    }
   ],
   "source": [
    "df.info()\n"
   ],
   "metadata": {
    "collapsed": false,
    "ExecuteTime": {
     "end_time": "2023-07-06T09:04:31.747373600Z",
     "start_time": "2023-07-06T09:04:31.716189700Z"
    }
   }
  },
  {
   "cell_type": "code",
   "execution_count": 36,
   "outputs": [
    {
     "data": {
      "text/plain": "       title singer sortation release_date    agency genre type\ncount     13     13        13           13        13    13   13\nunique    13     12         2           13         9     4    3\ntop      좋은날  방탄소년단        그룹   2010-12-09  YG엔터테인먼트    댄스   EP\nfreq       1      2        11            1         3    10    6",
      "text/html": "<div>\n<style scoped>\n    .dataframe tbody tr th:only-of-type {\n        vertical-align: middle;\n    }\n\n    .dataframe tbody tr th {\n        vertical-align: top;\n    }\n\n    .dataframe thead th {\n        text-align: right;\n    }\n</style>\n<table border=\"1\" class=\"dataframe\">\n  <thead>\n    <tr style=\"text-align: right;\">\n      <th></th>\n      <th>title</th>\n      <th>singer</th>\n      <th>sortation</th>\n      <th>release_date</th>\n      <th>agency</th>\n      <th>genre</th>\n      <th>type</th>\n    </tr>\n  </thead>\n  <tbody>\n    <tr>\n      <th>count</th>\n      <td>13</td>\n      <td>13</td>\n      <td>13</td>\n      <td>13</td>\n      <td>13</td>\n      <td>13</td>\n      <td>13</td>\n    </tr>\n    <tr>\n      <th>unique</th>\n      <td>13</td>\n      <td>12</td>\n      <td>2</td>\n      <td>13</td>\n      <td>9</td>\n      <td>4</td>\n      <td>3</td>\n    </tr>\n    <tr>\n      <th>top</th>\n      <td>좋은날</td>\n      <td>방탄소년단</td>\n      <td>그룹</td>\n      <td>2010-12-09</td>\n      <td>YG엔터테인먼트</td>\n      <td>댄스</td>\n      <td>EP</td>\n    </tr>\n    <tr>\n      <th>freq</th>\n      <td>1</td>\n      <td>2</td>\n      <td>11</td>\n      <td>1</td>\n      <td>3</td>\n      <td>10</td>\n      <td>6</td>\n    </tr>\n  </tbody>\n</table>\n</div>"
     },
     "execution_count": 36,
     "metadata": {},
     "output_type": "execute_result"
    }
   ],
   "source": [
    "df.describe(include='object')"
   ],
   "metadata": {
    "collapsed": false,
    "ExecuteTime": {
     "end_time": "2023-07-06T09:17:30.194408800Z",
     "start_time": "2023-07-06T09:17:30.194408800Z"
    }
   }
  },
  {
   "cell_type": "code",
   "execution_count": 37,
   "outputs": [
    {
     "data": {
      "text/plain": "(13, 8)"
     },
     "execution_count": 37,
     "metadata": {},
     "output_type": "execute_result"
    }
   ],
   "source": [
    "df.shape"
   ],
   "metadata": {
    "collapsed": false,
    "ExecuteTime": {
     "end_time": "2023-07-06T09:18:34.502653200Z",
     "start_time": "2023-07-06T09:18:34.470500500Z"
    }
   }
  },
  {
   "cell_type": "code",
   "execution_count": 38,
   "outputs": [
    {
     "data": {
      "text/plain": "RangeIndex(start=0, stop=13, step=1)"
     },
     "execution_count": 38,
     "metadata": {},
     "output_type": "execute_result"
    }
   ],
   "source": [
    "df.index"
   ],
   "metadata": {
    "collapsed": false,
    "ExecuteTime": {
     "end_time": "2023-07-06T09:18:41.211871600Z",
     "start_time": "2023-07-06T09:18:41.180630800Z"
    }
   }
  },
  {
   "cell_type": "code",
   "execution_count": 39,
   "outputs": [
    {
     "data": {
      "text/plain": "Index(['title', 'singer', 'personnel', 'sortation', 'release_date', 'agency',\n       'genre', 'type'],\n      dtype='object')"
     },
     "execution_count": 39,
     "metadata": {},
     "output_type": "execute_result"
    }
   ],
   "source": [
    "df.columns"
   ],
   "metadata": {
    "collapsed": false,
    "ExecuteTime": {
     "end_time": "2023-07-06T09:18:46.596016300Z",
     "start_time": "2023-07-06T09:18:46.564860400Z"
    }
   }
  },
  {
   "cell_type": "code",
   "execution_count": null,
   "outputs": [],
   "source": [],
   "metadata": {
    "collapsed": false
   }
  }
 ],
 "metadata": {
  "kernelspec": {
   "display_name": "Python 3",
   "language": "python",
   "name": "python3"
  },
  "language_info": {
   "codemirror_mode": {
    "name": "ipython",
    "version": 2
   },
   "file_extension": ".py",
   "mimetype": "text/x-python",
   "name": "python",
   "nbconvert_exporter": "python",
   "pygments_lexer": "ipython2",
   "version": "2.7.6"
  }
 },
 "nbformat": 4,
 "nbformat_minor": 0
}
