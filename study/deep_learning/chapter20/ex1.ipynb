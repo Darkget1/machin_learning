{
 "cells": [
  {
   "cell_type": "code",
   "execution_count": 2,
   "metadata": {
    "collapsed": true,
    "ExecuteTime": {
     "start_time": "2023-08-06T21:01:02.199335Z",
     "end_time": "2023-08-06T21:01:02.214442Z"
    }
   },
   "outputs": [],
   "source": [
    "from keras.models import Sequential\n",
    "from keras.layers import Dense,Activation,Dropout,Flatten,Conv2D,MaxPooling2D\n",
    "from keras.preprocessing.image import ImageDataGenerator\n",
    "from keras.callbacks import EarlyStopping\n",
    "from keras import optimizers\n",
    "\n",
    "import numpy as np\n",
    "import matplotlib.pyplot as plt\n",
    "\n"
   ]
  },
  {
   "cell_type": "code",
   "execution_count": 3,
   "outputs": [
    {
     "name": "stderr",
     "output_type": "stream",
     "text": [
      "fatal: destination path 'data-ch20' already exists and is not an empty directory.\n"
     ]
    }
   ],
   "source": [
    "#깃허브 데이터 설치\n",
    "!git clone https://github.com/taehojo/data-ch20.git"
   ],
   "metadata": {
    "collapsed": false,
    "ExecuteTime": {
     "start_time": "2023-08-06T21:01:02.214442Z",
     "end_time": "2023-08-06T21:01:02.277159Z"
    }
   }
  },
  {
   "cell_type": "code",
   "execution_count": 4,
   "outputs": [
    {
     "name": "stdout",
     "output_type": "stream",
     "text": [
      "Found 160 images belonging to 2 classes.\n"
     ]
    }
   ],
   "source": [
    "#학습셋의 변형을 설정하는 부분입니다.\n",
    "train_datagen = ImageDataGenerator(rescale=1./255,#주어진 이미지 크기를 설정\n",
    "                                   horizontal_flip=True,#수평 대칭 이미지를 50%확률로 만들어 추가\n",
    "                                   width_shift_range=0.1#전체크기의 15%범위에서 좌우로 이동\n",
    "                                   ,height_shift_range=0.1)\n",
    "#마찬가지로 위아래로 이동\n",
    "train_generator = train_datagen.flow_from_directory(\n",
    "    './data-ch20/train',\n",
    "    target_size=(150,150),\n",
    "    batch_size=5,\n",
    "    class_mode='binary'\n",
    ")"
   ],
   "metadata": {
    "collapsed": false,
    "ExecuteTime": {
     "start_time": "2023-08-06T21:01:02.278160Z",
     "end_time": "2023-08-06T21:01:02.338168Z"
    }
   }
  },
  {
   "cell_type": "code",
   "execution_count": 5,
   "outputs": [
    {
     "name": "stdout",
     "output_type": "stream",
     "text": [
      "Found 120 images belonging to 2 classes.\n"
     ]
    }
   ],
   "source": [
    "#테스트셋은 이미지 부풀리기 과정을 진행x\n",
    "test_datagen = ImageDataGenerator(rescale=1./255)\n",
    "test_generator = test_datagen.flow_from_directory(\n",
    "    './data-ch20/test',\n",
    "    target_size=(150,150),\n",
    "    batch_size=5,\n",
    "    class_mode='binary'\n",
    ")"
   ],
   "metadata": {
    "collapsed": false,
    "ExecuteTime": {
     "start_time": "2023-08-06T21:01:02.312168Z",
     "end_time": "2023-08-06T21:01:02.346168Z"
    }
   }
  },
  {
   "cell_type": "code",
   "execution_count": 6,
   "outputs": [],
   "source": [
    "#앞서 배운 CNN모델 적용\n",
    "model = Sequential()\n",
    "model.add(Conv2D(32,(3,3),input_shape=(150,150,3)))\n",
    "model.add(Activation('relu'))\n",
    "model.add(MaxPooling2D(pool_size=(2,2)))\n",
    "\n",
    "model.add(Conv2D(32,(3,3)))\n",
    "model.add(Activation('relu'))\n",
    "model.add(MaxPooling2D(pool_size=(2,2)))\n",
    "\n",
    "model.add(Conv2D(64,(3,3)))\n",
    "model.add(Activation('relu'))\n",
    "model.add(MaxPooling2D(pool_size=(2,2)))\n",
    "\n",
    "model.add(Flatten())\n",
    "model.add(Dense(64))\n",
    "model.add(Activation('relu'))\n",
    "model.add(Dropout(0.5))\n",
    "model.add(Dense(1))\n",
    "model.add(Activation('sigmoid'))\n"
   ],
   "metadata": {
    "collapsed": false,
    "ExecuteTime": {
     "start_time": "2023-08-06T21:01:02.342168Z",
     "end_time": "2023-08-06T21:01:05.638880Z"
    }
   }
  },
  {
   "cell_type": "code",
   "execution_count": 7,
   "outputs": [],
   "source": [
    "#모델의실행옵션\n",
    "model.compile(loss='binary_crossentropy',optimizer=optimizers.Adam(\n",
    "    learning_rate=0.0002),metrics=['accuracy'])"
   ],
   "metadata": {
    "collapsed": false,
    "ExecuteTime": {
     "start_time": "2023-08-06T21:01:05.638880Z",
     "end_time": "2023-08-06T21:01:05.654870Z"
    }
   }
  },
  {
   "cell_type": "code",
   "execution_count": 8,
   "outputs": [],
   "source": [
    "#학습조기 중단 설정\n",
    "early_stopping_callback = EarlyStopping(monitor='val_loss',patience=5)\n"
   ],
   "metadata": {
    "collapsed": false,
    "ExecuteTime": {
     "start_time": "2023-08-06T21:01:05.656870Z",
     "end_time": "2023-08-06T21:01:05.671617Z"
    }
   }
  },
  {
   "cell_type": "code",
   "execution_count": 9,
   "outputs": [
    {
     "name": "stdout",
     "output_type": "stream",
     "text": [
      "Epoch 1/100\n",
      "32/32 [==============================] - 4s 17ms/step - loss: 0.7106 - accuracy: 0.4313 - val_loss: 0.6885 - val_accuracy: 0.5200\n",
      "Epoch 2/100\n",
      "32/32 [==============================] - 0s 14ms/step - loss: 0.6840 - accuracy: 0.5625 - val_loss: 0.6811 - val_accuracy: 0.5800\n",
      "Epoch 3/100\n",
      "32/32 [==============================] - 0s 13ms/step - loss: 0.6982 - accuracy: 0.4563 - val_loss: 0.6816 - val_accuracy: 0.5400\n",
      "Epoch 4/100\n",
      "32/32 [==============================] - 0s 14ms/step - loss: 0.6807 - accuracy: 0.5250 - val_loss: 0.6607 - val_accuracy: 0.6800\n",
      "Epoch 5/100\n",
      "32/32 [==============================] - 0s 13ms/step - loss: 0.6761 - accuracy: 0.6062 - val_loss: 0.6854 - val_accuracy: 0.4800\n",
      "Epoch 6/100\n",
      "32/32 [==============================] - 0s 13ms/step - loss: 0.6618 - accuracy: 0.6125 - val_loss: 0.6585 - val_accuracy: 0.5200\n",
      "Epoch 7/100\n",
      "32/32 [==============================] - 0s 13ms/step - loss: 0.6427 - accuracy: 0.6500 - val_loss: 0.5779 - val_accuracy: 0.7800\n",
      "Epoch 8/100\n",
      "32/32 [==============================] - 0s 13ms/step - loss: 0.5850 - accuracy: 0.7312 - val_loss: 0.7263 - val_accuracy: 0.5400\n",
      "Epoch 9/100\n",
      "32/32 [==============================] - 0s 13ms/step - loss: 0.6222 - accuracy: 0.7000 - val_loss: 0.5126 - val_accuracy: 0.7000\n",
      "Epoch 10/100\n",
      "32/32 [==============================] - 0s 13ms/step - loss: 0.5287 - accuracy: 0.8250 - val_loss: 0.4983 - val_accuracy: 0.7400\n",
      "Epoch 11/100\n",
      "32/32 [==============================] - 0s 13ms/step - loss: 0.4876 - accuracy: 0.8000 - val_loss: 0.4174 - val_accuracy: 0.8600\n",
      "Epoch 12/100\n",
      "32/32 [==============================] - 0s 13ms/step - loss: 0.4556 - accuracy: 0.8125 - val_loss: 0.2817 - val_accuracy: 0.9400\n",
      "Epoch 13/100\n",
      "32/32 [==============================] - 0s 13ms/step - loss: 0.4212 - accuracy: 0.8313 - val_loss: 0.5357 - val_accuracy: 0.6600\n",
      "Epoch 14/100\n",
      "32/32 [==============================] - 0s 13ms/step - loss: 0.3889 - accuracy: 0.8562 - val_loss: 0.2335 - val_accuracy: 0.9800\n",
      "Epoch 15/100\n",
      "32/32 [==============================] - 0s 13ms/step - loss: 0.3497 - accuracy: 0.8375 - val_loss: 0.2242 - val_accuracy: 0.9400\n",
      "Epoch 16/100\n",
      "32/32 [==============================] - 0s 13ms/step - loss: 0.2842 - accuracy: 0.8875 - val_loss: 0.2096 - val_accuracy: 0.9200\n",
      "Epoch 17/100\n",
      "32/32 [==============================] - 0s 13ms/step - loss: 0.2703 - accuracy: 0.9062 - val_loss: 0.1563 - val_accuracy: 0.9600\n",
      "Epoch 18/100\n",
      "32/32 [==============================] - 0s 14ms/step - loss: 0.2121 - accuracy: 0.9312 - val_loss: 0.1367 - val_accuracy: 0.9800\n",
      "Epoch 19/100\n",
      "32/32 [==============================] - 0s 13ms/step - loss: 0.2387 - accuracy: 0.8875 - val_loss: 0.3496 - val_accuracy: 0.8400\n",
      "Epoch 20/100\n",
      "32/32 [==============================] - 0s 13ms/step - loss: 0.2646 - accuracy: 0.9187 - val_loss: 0.1642 - val_accuracy: 0.9600\n",
      "Epoch 21/100\n",
      "32/32 [==============================] - 0s 13ms/step - loss: 0.2097 - accuracy: 0.9250 - val_loss: 0.0855 - val_accuracy: 0.9800\n",
      "Epoch 22/100\n",
      "32/32 [==============================] - 0s 13ms/step - loss: 0.1885 - accuracy: 0.9250 - val_loss: 0.1479 - val_accuracy: 0.9400\n",
      "Epoch 23/100\n",
      "32/32 [==============================] - 0s 13ms/step - loss: 0.1764 - accuracy: 0.9375 - val_loss: 0.0974 - val_accuracy: 0.9800\n",
      "Epoch 24/100\n",
      "32/32 [==============================] - 0s 13ms/step - loss: 0.1564 - accuracy: 0.9625 - val_loss: 0.1166 - val_accuracy: 0.9600\n",
      "Epoch 25/100\n",
      "32/32 [==============================] - 0s 13ms/step - loss: 0.1269 - accuracy: 0.9500 - val_loss: 0.0590 - val_accuracy: 0.9800\n",
      "Epoch 26/100\n",
      "32/32 [==============================] - 0s 13ms/step - loss: 0.1520 - accuracy: 0.9500 - val_loss: 0.0957 - val_accuracy: 0.9800\n",
      "Epoch 27/100\n",
      "32/32 [==============================] - 0s 13ms/step - loss: 0.1697 - accuracy: 0.9438 - val_loss: 0.0685 - val_accuracy: 1.0000\n",
      "Epoch 28/100\n",
      "32/32 [==============================] - 0s 13ms/step - loss: 0.1504 - accuracy: 0.9500 - val_loss: 0.0736 - val_accuracy: 0.9800\n",
      "Epoch 29/100\n",
      "32/32 [==============================] - 0s 13ms/step - loss: 0.1282 - accuracy: 0.9563 - val_loss: 0.0487 - val_accuracy: 1.0000\n",
      "Epoch 30/100\n",
      "32/32 [==============================] - 0s 13ms/step - loss: 0.1338 - accuracy: 0.9500 - val_loss: 0.0486 - val_accuracy: 0.9600\n",
      "Epoch 31/100\n",
      "32/32 [==============================] - 0s 13ms/step - loss: 0.1276 - accuracy: 0.9563 - val_loss: 0.1049 - val_accuracy: 0.9400\n",
      "Epoch 32/100\n",
      "32/32 [==============================] - 0s 13ms/step - loss: 0.1097 - accuracy: 0.9688 - val_loss: 0.1335 - val_accuracy: 0.9600\n",
      "Epoch 33/100\n",
      "32/32 [==============================] - 0s 13ms/step - loss: 0.1461 - accuracy: 0.9438 - val_loss: 0.1393 - val_accuracy: 0.9400\n",
      "Epoch 34/100\n",
      "32/32 [==============================] - 0s 14ms/step - loss: 0.1184 - accuracy: 0.9563 - val_loss: 0.0536 - val_accuracy: 1.0000\n",
      "Epoch 35/100\n",
      "32/32 [==============================] - 0s 14ms/step - loss: 0.1022 - accuracy: 0.9563 - val_loss: 0.0815 - val_accuracy: 0.9400\n"
     ]
    }
   ],
   "source": [
    "#모델을 싱행\n",
    "his = model.fit(\n",
    "    train_generator,epochs=100,\n",
    "    validation_data=test_generator,\n",
    "    validation_steps=10,\n",
    "    callbacks=[early_stopping_callback]\n",
    ")"
   ],
   "metadata": {
    "collapsed": false,
    "ExecuteTime": {
     "start_time": "2023-08-06T21:01:05.671617Z",
     "end_time": "2023-08-06T21:01:24.684676Z"
    }
   }
  },
  {
   "cell_type": "code",
   "execution_count": 12,
   "outputs": [],
   "source": [
    "#검증셋과 학습셋의; 오차를 저장합니다.\n",
    "y_vloss = his.history['val_loss']\n",
    "y_loss = his.history['loss']"
   ],
   "metadata": {
    "collapsed": false,
    "ExecuteTime": {
     "start_time": "2023-08-06T21:01:36.853416Z",
     "end_time": "2023-08-06T21:01:36.861416Z"
    }
   }
  },
  {
   "cell_type": "code",
   "execution_count": 13,
   "outputs": [
    {
     "data": {
      "text/plain": "<Figure size 640x480 with 1 Axes>",
      "image/png": "[encoded data removed]"
     },
     "metadata": {},
     "output_type": "display_data"
    }
   ],
   "source": [
    "#그래프로 표현\n",
    "x_len = np.arange(len(y_loss))\n",
    "plt.plot(x_len,y_vloss,marker='.',c='red',label='Testset_loss')\n",
    "plt.plot(x_len,y_loss,marker='.',c='blue',label='Trainset_loss')\n",
    "#그래프에 그리드+레이블\n",
    "plt.legend(loc='upper right')\n",
    "plt.grid()\n",
    "plt.xlabel('epoch')\n",
    "plt.ylabel('loss')\n",
    "plt.show()"
   ],
   "metadata": {
    "collapsed": false,
    "ExecuteTime": {
     "start_time": "2023-08-06T21:01:38.402260Z",
     "end_time": "2023-08-06T21:01:38.507262Z"
    }
   }
  },
  {
   "cell_type": "code",
   "execution_count": 11,
   "outputs": [],
   "source": [],
   "metadata": {
    "collapsed": false,
    "ExecuteTime": {
     "start_time": "2023-08-06T21:01:24.813258Z",
     "end_time": "2023-08-06T21:01:24.926001Z"
    }
   }
  }
 ],
 "metadata": {
  "kernelspec": {
   "display_name": "Python 3",
   "language": "python",
   "name": "python3"
  },
  "language_info": {
   "codemirror_mode": {
    "name": "ipython",
    "version": 2
   },
   "file_extension": ".py",
   "mimetype": "text/x-python",
   "name": "python",
   "nbconvert_exporter": "python",
   "pygments_lexer": "ipython2",
   "version": "2.7.6"
  }
 },
 "nbformat": 4,
 "nbformat_minor": 0
}
