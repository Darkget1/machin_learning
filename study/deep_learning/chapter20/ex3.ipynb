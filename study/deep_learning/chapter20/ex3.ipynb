{
 "cells": [
  {
   "cell_type": "code",
   "execution_count": 1,
   "metadata": {
    "collapsed": true,
    "ExecuteTime": {
     "start_time": "2023-08-07T11:57:48.002673Z",
     "end_time": "2023-08-07T11:57:49.943937Z"
    }
   },
   "outputs": [],
   "source": [
    "import numpy as np\n",
    "import keras"
   ]
  },
  {
   "cell_type": "code",
   "execution_count": 2,
   "outputs": [],
   "source": [
    "test_input = np.random.random((128,32))\n",
    "test_target = np.random.random((128,1))"
   ],
   "metadata": {
    "collapsed": false,
    "ExecuteTime": {
     "start_time": "2023-08-07T11:57:57.897474Z",
     "end_time": "2023-08-07T11:57:57.930364Z"
    }
   }
  },
  {
   "cell_type": "code",
   "execution_count": 4,
   "outputs": [
    {
     "name": "stdout",
     "output_type": "stream",
     "text": [
      "Epoch 1/3\n",
      "4/4 [==============================] - 1s 2ms/step - loss: 0.2621\n",
      "Epoch 2/3\n",
      "4/4 [==============================] - 0s 3ms/step - loss: 0.2278\n",
      "Epoch 3/3\n",
      "4/4 [==============================] - 0s 4ms/step - loss: 0.2081\n"
     ]
    },
    {
     "data": {
      "text/plain": "<keras.callbacks.History at 0x1a325f87d60>"
     },
     "execution_count": 4,
     "metadata": {},
     "output_type": "execute_result"
    }
   ],
   "source": [
    "input = keras.Input(shape=(32,))\n",
    "outputs = keras.layers.Dense(1)(input)\n",
    "model = keras.Model(input,outputs)\n",
    "model.compile(optimizer='adam',loss='mean_squared_error')\n",
    "model.fit(test_input,test_target,epochs=3)"
   ],
   "metadata": {
    "collapsed": false,
    "ExecuteTime": {
     "start_time": "2023-08-07T11:58:24.913663Z",
     "end_time": "2023-08-07T11:58:26.360874Z"
    }
   }
  },
  {
   "cell_type": "code",
   "execution_count": 5,
   "outputs": [
    {
     "name": "stdout",
     "output_type": "stream",
     "text": [
      "INFO:tensorflow:Assets written to: model/my_model\\assets\n"
     ]
    }
   ],
   "source": [
    "model.save('model/my_model')"
   ],
   "metadata": {
    "collapsed": false,
    "ExecuteTime": {
     "start_time": "2023-08-07T11:59:28.916643Z",
     "end_time": "2023-08-07T11:59:29.180046Z"
    }
   }
  },
  {
   "cell_type": "code",
   "execution_count": 6,
   "outputs": [
    {
     "name": "stdout",
     "output_type": "stream",
     "text": [
      "Epoch 1/3\n",
      "4/4 [==============================] - 0s 2ms/step - loss: 0.1934\n",
      "Epoch 2/3\n",
      "4/4 [==============================] - 0s 3ms/step - loss: 0.1869\n",
      "Epoch 3/3\n",
      "4/4 [==============================] - 0s 2ms/step - loss: 0.1850\n"
     ]
    },
    {
     "data": {
      "text/plain": "<keras.callbacks.History at 0x1aed33aa470>"
     },
     "execution_count": 6,
     "metadata": {},
     "output_type": "execute_result"
    }
   ],
   "source": [
    "saved_model = keras.models.load_model('model/my_model')\n",
    "saved_model.fit(test_input,test_target,epochs=3)"
   ],
   "metadata": {
    "collapsed": false,
    "ExecuteTime": {
     "start_time": "2023-08-07T12:01:38.511131Z",
     "end_time": "2023-08-07T12:01:38.755414Z"
    }
   }
  },
  {
   "cell_type": "code",
   "execution_count": null,
   "outputs": [],
   "source": [],
   "metadata": {
    "collapsed": false
   }
  }
 ],
 "metadata": {
  "kernelspec": {
   "display_name": "Python 3",
   "language": "python",
   "name": "python3"
  },
  "language_info": {
   "codemirror_mode": {
    "name": "ipython",
    "version": 2
   },
   "file_extension": ".py",
   "mimetype": "text/x-python",
   "name": "python",
   "nbconvert_exporter": "python",
   "pygments_lexer": "ipython2",
   "version": "2.7.6"
  }
 },
 "nbformat": 4,
 "nbformat_minor": 0
}
