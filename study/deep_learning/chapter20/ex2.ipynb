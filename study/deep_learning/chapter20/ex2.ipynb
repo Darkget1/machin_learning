{
 "cells": [
  {
   "cell_type": "code",
   "execution_count": 1,
   "metadata": {
    "collapsed": true,
    "ExecuteTime": {
     "start_time": "2023-08-07T11:13:24.648796Z",
     "end_time": "2023-08-07T11:13:28.535569Z"
    }
   },
   "outputs": [],
   "source": [
    "from keras.preprocessing.image import ImageDataGenerator\n",
    "from keras import Input,models,layers,optimizers,metrics\n",
    "from keras.layers import  Dense,Flatten,Activation,Dropout\n",
    "from keras.applications import VGG16\n",
    "from keras.callbacks import EarlyStopping\n",
    "\n",
    "import  numpy as np\n",
    "import matplotlib.pyplot as plt"
   ]
  },
  {
   "cell_type": "code",
   "execution_count": 2,
   "outputs": [
    {
     "name": "stdout",
     "output_type": "stream",
     "text": [
      "Found 160 images belonging to 2 classes.\n"
     ]
    }
   ],
   "source": [
    "#학습셋의 변형을 설정하는 부분입니다.\n",
    "train_datagen = ImageDataGenerator(rescale=1./255,#주어진 이미지 크기를 설정\n",
    "                                   horizontal_flip=True,#수평 대칭 이미지를 50%확률로 만들어 추가\n",
    "                                   width_shift_range=0.1#전체크기의 15%범위에서 좌우로 이동\n",
    "                                   ,height_shift_range=0.1)\n",
    "#마찬가지로 위아래로 이동\n",
    "train_generator = train_datagen.flow_from_directory(\n",
    "    './data-ch20/train',\n",
    "    target_size=(150,150),\n",
    "    batch_size=5,\n",
    "    class_mode='binary'\n",
    ")"
   ],
   "metadata": {
    "collapsed": false,
    "ExecuteTime": {
     "start_time": "2023-08-07T11:14:28.971738Z",
     "end_time": "2023-08-07T11:14:29.005679Z"
    }
   }
  },
  {
   "cell_type": "code",
   "execution_count": 4,
   "outputs": [
    {
     "name": "stdout",
     "output_type": "stream",
     "text": [
      "Found 160 images belonging to 2 classes.\n"
     ]
    }
   ],
   "source": [
    "#테스트셋의 정규화를 설정\n",
    "test_datagen = ImageDataGenerator(rescale=1. / 255)\n",
    "test_generator = test_datagen.flow_from_directory(\n",
    "    './data-ch20/train',\n",
    "    target_size=(150, 150),\n",
    "    batch_size=5,\n",
    "    class_mode='binary'\n",
    ")\n",
    "\n"
   ],
   "metadata": {
    "collapsed": false,
    "ExecuteTime": {
     "start_time": "2023-08-07T11:15:50.118733Z",
     "end_time": "2023-08-07T11:15:50.150626Z"
    }
   }
  },
  {
   "cell_type": "code",
   "execution_count": 5,
   "outputs": [
    {
     "name": "stdout",
     "output_type": "stream",
     "text": [
      "Downloading data from https://storage.googleapis.com/tensorflow/keras-applications/vgg16/vgg16_weights_tf_dim_ordering_tf_kernels_notop.h5\n",
      "58889256/58889256 [==============================] - 6s 0us/step\n"
     ]
    }
   ],
   "source": [
    "#VGG16 모델을 불러옵니다.\n",
    "transfer_model = VGG16(weights='imagenet',include_top=False,\n",
    "                       input_shape=(150,150,3))\n",
    "transfer_model.trainable = False"
   ],
   "metadata": {
    "collapsed": false,
    "ExecuteTime": {
     "start_time": "2023-08-07T11:17:00.430291Z",
     "end_time": "2023-08-07T11:17:11.072793Z"
    }
   }
  },
  {
   "cell_type": "code",
   "execution_count": 7,
   "outputs": [
    {
     "name": "stdout",
     "output_type": "stream",
     "text": [
      "Model: \"sequential_1\"\n",
      "_________________________________________________________________\n",
      " Layer (type)                Output Shape              Param #   \n",
      "=================================================================\n",
      " vgg16 (Functional)          (None, 4, 4, 512)         14714688  \n",
      "                                                                 \n",
      " flatten (Flatten)           (None, 8192)              0         \n",
      "                                                                 \n",
      " dense (Dense)               (None, 64)                524352    \n",
      "                                                                 \n",
      " activation (Activation)     (None, 64)                0         \n",
      "                                                                 \n",
      " dropout (Dropout)           (None, 64)                0         \n",
      "                                                                 \n",
      " dense_1 (Dense)             (None, 1)                 65        \n",
      "                                                                 \n",
      " activation_1 (Activation)   (None, 1)                 0         \n",
      "                                                                 \n",
      "=================================================================\n",
      "Total params: 15,239,105\n",
      "Trainable params: 524,417\n",
      "Non-trainable params: 14,714,688\n",
      "_________________________________________________________________\n"
     ]
    }
   ],
   "source": [
    "#우리의 모델을 설정합니다.\n",
    "finetune_model = models.Sequential()\n",
    "finetune_model.add(transfer_model)\n",
    "finetune_model.add(Flatten())\n",
    "finetune_model.add(Dense(64))\n",
    "finetune_model.add(Activation('relu'))\n",
    "finetune_model.add(Dropout(0.5))\n",
    "finetune_model.add(Dense(1))\n",
    "finetune_model.add(Activation('sigmoid'))\n",
    "finetune_model.summary()\n"
   ],
   "metadata": {
    "collapsed": false,
    "ExecuteTime": {
     "start_time": "2023-08-07T11:18:42.075450Z",
     "end_time": "2023-08-07T11:18:42.145217Z"
    }
   }
  },
  {
   "cell_type": "code",
   "execution_count": 8,
   "outputs": [],
   "source": [
    "#모델의 실행 옵션을 설정\n",
    "finetune_model.compile(loss='binary_crossentropy',optimizer=optimizers.Adam(learning_rate=0.0002),metrics=['accuracy'])"
   ],
   "metadata": {
    "collapsed": false,
    "ExecuteTime": {
     "start_time": "2023-08-07T11:20:01.089277Z",
     "end_time": "2023-08-07T11:20:01.105223Z"
    }
   }
  },
  {
   "cell_type": "code",
   "execution_count": 9,
   "outputs": [],
   "source": [
    "#학습의 조기 중단을 설정합니다.\n",
    "early_stopping_callback = EarlyStopping(monitor='val_loss',patience=5)"
   ],
   "metadata": {
    "collapsed": false,
    "ExecuteTime": {
     "start_time": "2023-08-07T11:20:36.357433Z",
     "end_time": "2023-08-07T11:20:36.363413Z"
    }
   }
  },
  {
   "cell_type": "code",
   "execution_count": 10,
   "outputs": [
    {
     "name": "stdout",
     "output_type": "stream",
     "text": [
      "Epoch 1/20\n",
      "32/32 [==============================] - 4s 19ms/step - loss: 0.6887 - accuracy: 0.6187 - val_loss: 0.5433 - val_accuracy: 0.7400\n",
      "Epoch 2/20\n",
      "32/32 [==============================] - 0s 14ms/step - loss: 0.5247 - accuracy: 0.7375 - val_loss: 0.4294 - val_accuracy: 0.8600\n",
      "Epoch 3/20\n",
      "32/32 [==============================] - 0s 14ms/step - loss: 0.4334 - accuracy: 0.8188 - val_loss: 0.2660 - val_accuracy: 0.9400\n",
      "Epoch 4/20\n",
      "32/32 [==============================] - 0s 14ms/step - loss: 0.3744 - accuracy: 0.8562 - val_loss: 0.2803 - val_accuracy: 0.9200\n",
      "Epoch 5/20\n",
      "32/32 [==============================] - 0s 14ms/step - loss: 0.3089 - accuracy: 0.8813 - val_loss: 0.2030 - val_accuracy: 0.9600\n",
      "Epoch 6/20\n",
      "32/32 [==============================] - 0s 14ms/step - loss: 0.2607 - accuracy: 0.9125 - val_loss: 0.2010 - val_accuracy: 0.9600\n",
      "Epoch 7/20\n",
      "32/32 [==============================] - 0s 15ms/step - loss: 0.2719 - accuracy: 0.8938 - val_loss: 0.1850 - val_accuracy: 0.9400\n",
      "Epoch 8/20\n",
      "32/32 [==============================] - 0s 13ms/step - loss: 0.2340 - accuracy: 0.9187 - val_loss: 0.2176 - val_accuracy: 0.9400\n",
      "Epoch 9/20\n",
      "32/32 [==============================] - 0s 14ms/step - loss: 0.2333 - accuracy: 0.9312 - val_loss: 0.2119 - val_accuracy: 0.9600\n",
      "Epoch 10/20\n",
      "32/32 [==============================] - 0s 14ms/step - loss: 0.2387 - accuracy: 0.9250 - val_loss: 0.2201 - val_accuracy: 0.9200\n",
      "Epoch 11/20\n",
      "32/32 [==============================] - 0s 14ms/step - loss: 0.1883 - accuracy: 0.9500 - val_loss: 0.1272 - val_accuracy: 0.9600\n",
      "Epoch 12/20\n",
      "32/32 [==============================] - 0s 14ms/step - loss: 0.1877 - accuracy: 0.9312 - val_loss: 0.1500 - val_accuracy: 0.9800\n",
      "Epoch 13/20\n",
      "32/32 [==============================] - 0s 13ms/step - loss: 0.1928 - accuracy: 0.9250 - val_loss: 0.2068 - val_accuracy: 0.9200\n",
      "Epoch 14/20\n",
      "32/32 [==============================] - 0s 14ms/step - loss: 0.1629 - accuracy: 0.9312 - val_loss: 0.0895 - val_accuracy: 1.0000\n",
      "Epoch 15/20\n",
      "32/32 [==============================] - 0s 15ms/step - loss: 0.1424 - accuracy: 0.9625 - val_loss: 0.0891 - val_accuracy: 1.0000\n",
      "Epoch 16/20\n",
      "32/32 [==============================] - 0s 14ms/step - loss: 0.1907 - accuracy: 0.9375 - val_loss: 0.1117 - val_accuracy: 0.9800\n",
      "Epoch 17/20\n",
      "32/32 [==============================] - 0s 14ms/step - loss: 0.1290 - accuracy: 0.9688 - val_loss: 0.0645 - val_accuracy: 1.0000\n",
      "Epoch 18/20\n",
      "32/32 [==============================] - 0s 14ms/step - loss: 0.1275 - accuracy: 0.9750 - val_loss: 0.1171 - val_accuracy: 0.9600\n",
      "Epoch 19/20\n",
      "32/32 [==============================] - 0s 14ms/step - loss: 0.1568 - accuracy: 0.9375 - val_loss: 0.0854 - val_accuracy: 1.0000\n",
      "Epoch 20/20\n",
      "32/32 [==============================] - 0s 14ms/step - loss: 0.1250 - accuracy: 0.9812 - val_loss: 0.0683 - val_accuracy: 0.9600\n"
     ]
    }
   ],
   "source": [
    "#모델을 실행합니다.\n",
    "history = finetune_model.fit(\n",
    "    train_generator,\n",
    "    epochs=20,\n",
    "    validation_data=test_generator,\n",
    "    validation_steps=10,\n",
    "    callbacks=[early_stopping_callback]\n",
    ")"
   ],
   "metadata": {
    "collapsed": false,
    "ExecuteTime": {
     "start_time": "2023-08-07T11:21:17.422970Z",
     "end_time": "2023-08-07T11:21:30.838616Z"
    }
   }
  },
  {
   "cell_type": "code",
   "execution_count": 11,
   "outputs": [],
   "source": [
    "#검증셋과 학습셋 오차를 저장\n",
    "y_vloss = history.history['val_loss']\n",
    "y_loss = history.history['loss']"
   ],
   "metadata": {
    "collapsed": false,
    "ExecuteTime": {
     "start_time": "2023-08-07T11:22:02.869649Z",
     "end_time": "2023-08-07T11:22:02.878619Z"
    }
   }
  },
  {
   "cell_type": "code",
   "execution_count": 12,
   "outputs": [
    {
     "data": {
      "text/plain": "<Figure size 640x480 with 1 Axes>",
      "image/png": "[encoded data removed]"
     },
     "metadata": {},
     "output_type": "display_data"
    }
   ],
   "source": [
    "x_len = np.arange(len(y_loss))\n",
    "plt.plot(x_len,y_vloss,marker='.',c='red',label='Testset_loss')\n",
    "plt.plot(x_len,y_loss,marker='.',c='blue',label='Trainset_loss')\n",
    "#그래프에 그리드+레이블\n",
    "plt.legend(loc='upper right')\n",
    "plt.grid()\n",
    "plt.xlabel('epoch')\n",
    "plt.ylabel('loss')\n",
    "plt.show()"
   ],
   "metadata": {
    "collapsed": false,
    "ExecuteTime": {
     "start_time": "2023-08-07T11:22:14.649295Z",
     "end_time": "2023-08-07T11:22:14.758010Z"
    }
   }
  },
  {
   "cell_type": "code",
   "execution_count": null,
   "outputs": [],
   "source": [],
   "metadata": {
    "collapsed": false
   }
  }
 ],
 "metadata": {
  "kernelspec": {
   "display_name": "Python 3",
   "language": "python",
   "name": "python3"
  },
  "language_info": {
   "codemirror_mode": {
    "name": "ipython",
    "version": 2
   },
   "file_extension": ".py",
   "mimetype": "text/x-python",
   "name": "python",
   "nbconvert_exporter": "python",
   "pygments_lexer": "ipython2",
   "version": "2.7.6"
  }
 },
 "nbformat": 4,
 "nbformat_minor": 0
}
