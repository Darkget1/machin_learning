{
 "cells": [
  {
   "cell_type": "code",
   "execution_count": 1,
   "metadata": {
    "collapsed": true,
    "ExecuteTime": {
     "end_time": "2023-07-25T03:53:26.554611100Z",
     "start_time": "2023-07-25T03:53:23.053703Z"
    }
   },
   "outputs": [],
   "source": [
    "from sklearn.linear_model import Perceptron\n"
   ]
  },
  {
   "cell_type": "code",
   "execution_count": 2,
   "outputs": [],
   "source": [
    "x=[[160,55],[165,48],[163,43],[170,80],[175,76],[180,70]]#항상 2차원 배열이여야한다\n",
    "y=[0,0,0,1,1,1]\n",
    "\n"
   ],
   "metadata": {
    "collapsed": false,
    "ExecuteTime": {
     "end_time": "2023-07-25T03:54:40.764106300Z",
     "start_time": "2023-07-25T03:54:40.760114800Z"
    }
   }
  },
  {
   "cell_type": "code",
   "execution_count": 3,
   "outputs": [],
   "source": [
    "#퍼셉트론을 생성한다. tol는 종료 조건이다. random_state는 0이다\n",
    "clf = Perceptron(tol=1e-3,random_state=0)\n"
   ],
   "metadata": {
    "collapsed": false,
    "ExecuteTime": {
     "end_time": "2023-07-25T03:57:28.028426300Z",
     "start_time": "2023-07-25T03:57:28.025432500Z"
    }
   }
  },
  {
   "cell_type": "code",
   "execution_count": 4,
   "outputs": [
    {
     "data": {
      "text/plain": "Perceptron()"
     },
     "execution_count": 4,
     "metadata": {},
     "output_type": "execute_result"
    }
   ],
   "source": [
    "#학습을 수행한다.\n",
    "clf.fit(x,y)\n"
   ],
   "metadata": {
    "collapsed": false,
    "ExecuteTime": {
     "end_time": "2023-07-25T03:57:43.499839800Z",
     "start_time": "2023-07-25T03:57:43.443395400Z"
    }
   }
  },
  {
   "cell_type": "code",
   "execution_count": 6,
   "outputs": [
    {
     "name": "stdout",
     "output_type": "stream",
     "text": [
      "[0 0 0 1 1 1]\n",
      "[[-59. 160.]]\n",
      "[-1.]\n"
     ]
    }
   ],
   "source": [
    "#테스트를 수행한다.\n",
    "print(clf.predict(x))\n",
    "print(clf.coef_)#가중치  y = a1x1 + a2x2 +b 에서 a1,a2값이 가중치다!!\n",
    "#a1=-59,a2=160이다 따라서 y=-59 x1+160 x2 식을 만들수있다\n",
    "print(clf.intercept_)#바이어스값 바이어스는 b값이다"
   ],
   "metadata": {
    "collapsed": false,
    "ExecuteTime": {
     "end_time": "2023-07-25T03:58:45.203794500Z",
     "start_time": "2023-07-25T03:58:45.182063200Z"
    }
   }
  },
  {
   "cell_type": "code",
   "execution_count": null,
   "outputs": [],
   "source": [],
   "metadata": {
    "collapsed": false
   }
  }
 ],
 "metadata": {
  "kernelspec": {
   "display_name": "Python 3",
   "language": "python",
   "name": "python3"
  },
  "language_info": {
   "codemirror_mode": {
    "name": "ipython",
    "version": 2
   },
   "file_extension": ".py",
   "mimetype": "text/x-python",
   "name": "python",
   "nbconvert_exporter": "python",
   "pygments_lexer": "ipython2",
   "version": "2.7.6"
  }
 },
 "nbformat": 4,
 "nbformat_minor": 0
}
