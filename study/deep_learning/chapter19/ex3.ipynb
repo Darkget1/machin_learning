{
 "cells": [
  {
   "cell_type": "code",
   "execution_count": 18,
   "outputs": [
    {
     "data": {
      "text/plain": "['./sample_data/mnist_test.csv', './sample_data/mnist_train_small.csv']"
     },
     "execution_count": 18,
     "metadata": {},
     "output_type": "execute_result"
    }
   ],
   "source": [],
   "metadata": {
    "collapsed": false,
    "ExecuteTime": {
     "start_time": "2023-08-03T17:19:35.109842Z",
     "end_time": "2023-08-03T17:19:35.116842Z"
    }
   }
  },
  {
   "cell_type": "code",
   "execution_count": 29,
   "outputs": [
    {
     "name": "stdout",
     "output_type": "stream",
     "text": [
      "       0    1    2    3    4    5    6    7    8    9    ...  775  776  777  \\\n",
      "0        5    0    0    0    0    0    0    0    0    0  ...    0    0    0   \n",
      "1        7    0    0    0    0    0    0    0    0    0  ...    0    0    0   \n",
      "2        9    0    0    0    0    0    0    0    0    0  ...    0    0    0   \n",
      "3        5    0    0    0    0    0    0    0    0    0  ...    0    0    0   \n",
      "4        2    0    0    0    0    0    0    0    0    0  ...    0    0    0   \n",
      "...    ...  ...  ...  ...  ...  ...  ...  ...  ...  ...  ...  ...  ...  ...   \n",
      "19994    0    0    0    0    0    0    0    0    0    0  ...    0    0    0   \n",
      "19995    1    0    0    0    0    0    0    0    0    0  ...    0    0    0   \n",
      "19996    2    0    0    0    0    0    0    0    0    0  ...    0    0    0   \n",
      "19997    9    0    0    0    0    0    0    0    0    0  ...    0    0    0   \n",
      "19998    5    0    0    0    0    0    0    0    0    0  ...    0    0    0   \n",
      "\n",
      "       778  779  780  781  782  783  784  \n",
      "0        0    0    0    0    0    0    0  \n",
      "1        0    0    0    0    0    0    0  \n",
      "2        0    0    0    0    0    0    0  \n",
      "3        0    0    0    0    0    0    0  \n",
      "4        0    0    0    0    0    0    0  \n",
      "...    ...  ...  ...  ...  ...  ...  ...  \n",
      "19994    0    0    0    0    0    0    0  \n",
      "19995    0    0    0    0    0    0    0  \n",
      "19996    0    0    0    0    0    0    0  \n",
      "19997    0    0    0    0    0    0    0  \n",
      "19998    0    0    0    0    0    0    0  \n",
      "\n",
      "[19999 rows x 785 columns]\n"
     ]
    }
   ],
   "source": [
    "import pandas as pd\n",
    "import numpy as np\n",
    "data = pd.read_csv('../data/mnist_train_small.csv')\n",
    "data = np.array(data)\n",
    "data1 = pd.DataFrame(data)\n",
    "print(data1)"
   ],
   "metadata": {
    "collapsed": false,
    "ExecuteTime": {
     "start_time": "2023-08-03T17:33:37.617919Z",
     "end_time": "2023-08-03T17:33:38.068908Z"
    }
   }
  },
  {
   "cell_type": "code",
   "execution_count": 31,
   "outputs": [
    {
     "name": "stdout",
     "output_type": "stream",
     "text": [
      "[5 7 9 ... 2 9 5]\n"
     ]
    }
   ],
   "source": [
    "y_train = data[:,1:]\n",
    "x_train = data[:,0]\n",
    "print(x_train)\n",
    "#reshape 1차원 ->2차원\n",
    "y_train = y_train.reshape(-1,28,28)\n"
   ],
   "metadata": {
    "collapsed": false,
    "ExecuteTime": {
     "start_time": "2023-08-03T17:33:52.297425Z",
     "end_time": "2023-08-03T17:33:52.306424Z"
    }
   }
  },
  {
   "cell_type": "code",
   "execution_count": 33,
   "outputs": [
    {
     "data": {
      "text/plain": "5"
     },
     "execution_count": 33,
     "metadata": {},
     "output_type": "execute_result"
    },
    {
     "data": {
      "text/plain": "<Figure size 640x480 with 1 Axes>",
      "image/png": "[encoded data removed]"
     },
     "metadata": {},
     "output_type": "display_data"
    }
   ],
   "source": [
    "import matplotlib.pyplot as plt\n",
    "plt.imshow(y_train[1,:,:])\n",
    "x_train[0]"
   ],
   "metadata": {
    "collapsed": false,
    "ExecuteTime": {
     "start_time": "2023-08-03T17:34:01.344647Z",
     "end_time": "2023-08-03T17:34:01.426646Z"
    }
   }
  },
  {
   "cell_type": "code",
   "execution_count": 34,
   "outputs": [],
   "source": [
    "from keras.utils import to_categorical\n",
    "x_train = to_categorical(x_train)\n",
    "y_train = y_train/255"
   ],
   "metadata": {
    "collapsed": false,
    "ExecuteTime": {
     "start_time": "2023-08-03T17:34:21.181412Z",
     "end_time": "2023-08-03T17:34:21.236416Z"
    }
   }
  },
  {
   "cell_type": "code",
   "execution_count": 35,
   "outputs": [],
   "source": [
    "from keras.models import Sequential\n",
    "from keras import layers\n",
    "from keras import optimizers"
   ],
   "metadata": {
    "collapsed": false,
    "ExecuteTime": {
     "start_time": "2023-08-03T17:35:00.176475Z",
     "end_time": "2023-08-03T17:35:00.204579Z"
    }
   }
  },
  {
   "cell_type": "code",
   "execution_count": 39,
   "outputs": [
    {
     "name": "stdout",
     "output_type": "stream",
     "text": [
      "Model: \"sequential_3\"\n",
      "_________________________________________________________________\n",
      " Layer (type)                Output Shape              Param #   \n",
      "=================================================================\n",
      " dense_3 (Dense)             (None, 3136)              34496     \n",
      "                                                                 \n",
      " reshape_3 (Reshape)         (None, 7, 7, 64)          0         \n",
      "                                                                 \n",
      " up_sampling2d_2 (UpSampling  (None, 14, 14, 64)       0         \n",
      " 2D)                                                             \n",
      "                                                                 \n",
      " conv2d_4 (Conv2D)           (None, 14, 14, 16)        9232      \n",
      "                                                                 \n",
      " up_sampling2d_3 (UpSampling  (None, 28, 28, 16)       0         \n",
      " 2D)                                                             \n",
      "                                                                 \n",
      " conv2d_5 (Conv2D)           (None, 28, 28, 32)        4640      \n",
      "                                                                 \n",
      " conv2d_6 (Conv2D)           (None, 28, 28, 1)         289       \n",
      "                                                                 \n",
      "=================================================================\n",
      "Total params: 48,657\n",
      "Trainable params: 48,657\n",
      "Non-trainable params: 0\n",
      "_________________________________________________________________\n"
     ]
    }
   ],
   "source": [
    "model = Sequential()\n",
    "model.add(layers.Dense(units=3136,input_shape=(10,),activation='relu'))\n",
    "model.add(layers.Reshape((7,7,64)))\n",
    "#업셈플링 2배로  14개\n",
    "model.add(layers.UpSampling2D((2,2)))\n",
    "model.add(layers.Conv2D(filters=16,kernel_size=3,padding='same',\n",
    "                        activation='relu'))\n",
    "#업셈플링 2배로 ->28개\n",
    "model.add(layers.UpSampling2D((2,2)))\n",
    "model.add(layers.Conv2D(filters=32,kernel_size=3,padding='same',\n",
    "                        activation='relu'))\n",
    "model.add(layers.Conv2D(filters=1,kernel_size=3,padding='same',\n",
    "                        activation='sigmoid'))\n",
    "model.compile(loss='mean_squared_error',\n",
    "              optimizer=optimizers.RMSprop(learning_rate=0.001),metrics=['accuracy'])\n",
    "model.summary()"
   ],
   "metadata": {
    "collapsed": false,
    "ExecuteTime": {
     "start_time": "2023-08-03T17:43:17.474702Z",
     "end_time": "2023-08-03T17:43:17.526707Z"
    }
   }
  },
  {
   "cell_type": "code",
   "execution_count": 40,
   "outputs": [
    {
     "name": "stdout",
     "output_type": "stream",
     "text": [
      "Epoch 1/10\n",
      "219/219 [==============================] - 14s 10ms/step - loss: 0.0596 - accuracy: 0.7917 - val_loss: 0.0541 - val_accuracy: 0.7952\n",
      "Epoch 2/10\n",
      "219/219 [==============================] - 1s 5ms/step - loss: 0.0541 - accuracy: 0.7921 - val_loss: 0.0541 - val_accuracy: 0.7990\n",
      "Epoch 3/10\n",
      "219/219 [==============================] - 1s 5ms/step - loss: 0.0539 - accuracy: 0.7928 - val_loss: 0.0537 - val_accuracy: 0.7988\n",
      "Epoch 4/10\n",
      "219/219 [==============================] - 1s 5ms/step - loss: 0.0538 - accuracy: 0.7931 - val_loss: 0.0534 - val_accuracy: 0.7953\n",
      "Epoch 5/10\n",
      "219/219 [==============================] - 1s 5ms/step - loss: 0.0537 - accuracy: 0.7932 - val_loss: 0.0534 - val_accuracy: 0.7954\n",
      "Epoch 6/10\n",
      "219/219 [==============================] - 1s 5ms/step - loss: 0.0537 - accuracy: 0.7934 - val_loss: 0.0534 - val_accuracy: 0.7927\n",
      "Epoch 7/10\n",
      "219/219 [==============================] - 1s 5ms/step - loss: 0.0537 - accuracy: 0.7934 - val_loss: 0.0533 - val_accuracy: 0.7948\n",
      "Epoch 8/10\n",
      "219/219 [==============================] - 1s 5ms/step - loss: 0.0536 - accuracy: 0.7935 - val_loss: 0.0533 - val_accuracy: 0.7952\n",
      "Epoch 9/10\n",
      "219/219 [==============================] - 1s 5ms/step - loss: 0.0536 - accuracy: 0.7935 - val_loss: 0.0533 - val_accuracy: 0.7962\n",
      "Epoch 10/10\n",
      "219/219 [==============================] - 1s 5ms/step - loss: 0.0536 - accuracy: 0.7936 - val_loss: 0.0538 - val_accuracy: 0.7989\n"
     ]
    }
   ],
   "source": [
    "hist = model.fit(x_train,y_train,epochs=10,batch_size=64,\n",
    "                 validation_split=0.3)"
   ],
   "metadata": {
    "collapsed": false,
    "ExecuteTime": {
     "start_time": "2023-08-03T17:51:37.549037Z",
     "end_time": "2023-08-03T17:52:01.664441Z"
    }
   }
  },
  {
   "cell_type": "code",
   "execution_count": 44,
   "outputs": [
    {
     "name": "stdout",
     "output_type": "stream",
     "text": [
      "1/1 [==============================] - 0s 11ms/step\n"
     ]
    }
   ],
   "source": [
    "test_d = np.zeros((1,10))\n",
    "test_d[0,7] = 1\n",
    "o = model.predict(test_d)"
   ],
   "metadata": {
    "collapsed": false,
    "ExecuteTime": {
     "start_time": "2023-08-03T18:08:02.314357Z",
     "end_time": "2023-08-03T18:08:02.362331Z"
    }
   }
  },
  {
   "cell_type": "code",
   "execution_count": 45,
   "outputs": [
    {
     "data": {
      "text/plain": "<matplotlib.image.AxesImage at 0x1bf5938a680>"
     },
     "execution_count": 45,
     "metadata": {},
     "output_type": "execute_result"
    },
    {
     "data": {
      "text/plain": "<Figure size 640x480 with 1 Axes>",
      "image/png": "[encoded data removed]"
     },
     "metadata": {},
     "output_type": "display_data"
    }
   ],
   "source": [
    "im = o.reshape((28,28))\n",
    "plt.imshow(im)"
   ],
   "metadata": {
    "collapsed": false,
    "ExecuteTime": {
     "start_time": "2023-08-03T18:08:03.418338Z",
     "end_time": "2023-08-03T18:08:03.519342Z"
    }
   }
  },
  {
   "cell_type": "code",
   "execution_count": 46,
   "outputs": [
    {
     "name": "stdout",
     "output_type": "stream",
     "text": [
      "1/1 [==============================] - 0s 37ms/step\n"
     ]
    },
    {
     "data": {
      "text/plain": "<matplotlib.image.AxesImage at 0x1bf591cc490>"
     },
     "execution_count": 46,
     "metadata": {},
     "output_type": "execute_result"
    },
    {
     "data": {
      "text/plain": "<Figure size 640x480 with 1 Axes>",
      "image/png": "[encoded data removed]"
     },
     "metadata": {},
     "output_type": "display_data"
    }
   ],
   "source": [
    "from keras.models import load_model\n",
    "model.save('iris.h5')\n",
    "new_model = load_model('iris.h5')\n",
    "\n",
    "\n",
    "test_d = np.zeros((1,10))\n",
    "test_d[0,7] = 1\n",
    "o = new_model.predict(test_d)\n",
    "im = o.reshape((28,28))\n",
    "plt.imshow(im)"
   ],
   "metadata": {
    "collapsed": false,
    "ExecuteTime": {
     "start_time": "2023-08-03T18:12:11.059139Z",
     "end_time": "2023-08-03T18:12:11.287611Z"
    }
   }
  },
  {
   "cell_type": "code",
   "execution_count": null,
   "outputs": [],
   "source": [],
   "metadata": {
    "collapsed": false
   }
  }
 ],
 "metadata": {
  "kernelspec": {
   "display_name": "Python 3",
   "language": "python",
   "name": "python3"
  },
  "language_info": {
   "codemirror_mode": {
    "name": "ipython",
    "version": 2
   },
   "file_extension": ".py",
   "mimetype": "text/x-python",
   "name": "python",
   "nbconvert_exporter": "python",
   "pygments_lexer": "ipython2",
   "version": "2.7.6"
  }
 },
 "nbformat": 4,
 "nbformat_minor": 0
}
