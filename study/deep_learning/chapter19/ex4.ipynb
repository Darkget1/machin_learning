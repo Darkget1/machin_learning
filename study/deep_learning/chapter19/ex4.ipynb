{
 "cells": [
  {
   "cell_type": "code",
   "execution_count": 14,
   "metadata": {
    "collapsed": true,
    "ExecuteTime": {
     "start_time": "2023-08-04T12:06:02.126792Z",
     "end_time": "2023-08-04T12:06:02.131793Z"
    }
   },
   "outputs": [],
   "source": [
    "from keras.datasets import mnist\n",
    "from keras.models import Sequential,Model\n",
    "from keras.layers import Input, Dense,Conv2D,MaxPooling2D,UpSampling2D,Flatten,Reshape\n",
    "import matplotlib.pyplot as plt\n",
    "import numpy as np\n"
   ]
  },
  {
   "cell_type": "code",
   "execution_count": 15,
   "outputs": [],
   "source": [
    "#MNIST 데이터셋\n",
    "(X_train,_),(X_test,_) = mnist.load_data()\n",
    "X_train = X_train.reshape(X_train.shape[0],28,28,1).astype('float32')/255\n",
    "X_test = X_test.reshape(X_test.shape[0],28,28,1).astype('float32')/255\n"
   ],
   "metadata": {
    "collapsed": false,
    "ExecuteTime": {
     "start_time": "2023-08-04T12:06:03.347319Z",
     "end_time": "2023-08-04T12:06:03.567322Z"
    }
   }
  },
  {
   "cell_type": "code",
   "execution_count": 16,
   "outputs": [],
   "source": [
    "#생성자 모델\n",
    "autoencoder = Sequential()"
   ],
   "metadata": {
    "collapsed": false,
    "ExecuteTime": {
     "start_time": "2023-08-04T12:06:04.298186Z",
     "end_time": "2023-08-04T12:06:04.323186Z"
    }
   }
  },
  {
   "cell_type": "code",
   "execution_count": 17,
   "outputs": [],
   "source": [
    "#인코딩 부분\n",
    "autoencoder.add(Conv2D(16,kernel_size=3,padding='same',input_shape=(28,28,1),\n",
    "                       activation='relu'))\n",
    "autoencoder.add(MaxPooling2D(pool_size=2,padding='same'))\n",
    "autoencoder.add(Conv2D(8,kernel_size=3,activation='relu',padding='same'))\n",
    "autoencoder.add(MaxPooling2D(pool_size=2,padding='same'))\n",
    "autoencoder.add(Conv2D(8,kernel_size=3,strides=2,padding='same',\n",
    "                       activation='relu'))\n"
   ],
   "metadata": {
    "collapsed": false,
    "ExecuteTime": {
     "start_time": "2023-08-04T12:06:05.022662Z",
     "end_time": "2023-08-04T12:06:05.056668Z"
    }
   }
  },
  {
   "cell_type": "code",
   "execution_count": 18,
   "outputs": [],
   "source": [
    "#디코딩 부분\n",
    "autoencoder.add(Conv2D(8,kernel_size=3,padding='same',\n",
    "                       activation='relu'))\n",
    "autoencoder.add(UpSampling2D())\n",
    "autoencoder.add(Conv2D(8,kernel_size=3,padding='same',\n",
    "                       activation='relu'))\n",
    "autoencoder.add(UpSampling2D())\n",
    "autoencoder.add(Conv2D(16,kernel_size=3,activation='relu'))\n",
    "autoencoder.add(UpSampling2D())\n",
    "autoencoder.add(Conv2D(1,kernel_size=3,padding='same',\n",
    "                       activation='sigmoid'))\n"
   ],
   "metadata": {
    "collapsed": false,
    "ExecuteTime": {
     "start_time": "2023-08-04T12:06:05.670586Z",
     "end_time": "2023-08-04T12:06:05.716872Z"
    }
   }
  },
  {
   "cell_type": "code",
   "execution_count": 19,
   "outputs": [
    {
     "name": "stdout",
     "output_type": "stream",
     "text": [
      "Model: \"sequential_1\"\n",
      "_________________________________________________________________\n",
      " Layer (type)                Output Shape              Param #   \n",
      "=================================================================\n",
      " conv2d_9 (Conv2D)           (None, 28, 28, 16)        160       \n",
      "                                                                 \n",
      " max_pooling2d_2 (MaxPooling  (None, 14, 14, 16)       0         \n",
      " 2D)                                                             \n",
      "                                                                 \n",
      " conv2d_10 (Conv2D)          (None, 14, 14, 8)         1160      \n",
      "                                                                 \n",
      " max_pooling2d_3 (MaxPooling  (None, 7, 7, 8)          0         \n",
      " 2D)                                                             \n",
      "                                                                 \n",
      " conv2d_11 (Conv2D)          (None, 4, 4, 8)           584       \n",
      "                                                                 \n",
      " conv2d_12 (Conv2D)          (None, 4, 4, 8)           584       \n",
      "                                                                 \n",
      " up_sampling2d_4 (UpSampling  (None, 8, 8, 8)          0         \n",
      " 2D)                                                             \n",
      "                                                                 \n",
      " conv2d_13 (Conv2D)          (None, 8, 8, 8)           584       \n",
      "                                                                 \n",
      " up_sampling2d_5 (UpSampling  (None, 16, 16, 8)        0         \n",
      " 2D)                                                             \n",
      "                                                                 \n",
      " conv2d_14 (Conv2D)          (None, 14, 14, 16)        1168      \n",
      "                                                                 \n",
      " up_sampling2d_6 (UpSampling  (None, 28, 28, 16)       0         \n",
      " 2D)                                                             \n",
      "                                                                 \n",
      " conv2d_15 (Conv2D)          (None, 28, 28, 1)         145       \n",
      "                                                                 \n",
      "=================================================================\n",
      "Total params: 4,385\n",
      "Trainable params: 4,385\n",
      "Non-trainable params: 0\n",
      "_________________________________________________________________\n"
     ]
    }
   ],
   "source": [
    "autoencoder.summary()"
   ],
   "metadata": {
    "collapsed": false,
    "ExecuteTime": {
     "start_time": "2023-08-04T12:06:06.789250Z",
     "end_time": "2023-08-04T12:06:06.812251Z"
    }
   }
  },
  {
   "cell_type": "code",
   "execution_count": 20,
   "outputs": [
    {
     "name": "stdout",
     "output_type": "stream",
     "text": [
      "Epoch 1/50\n",
      "469/469 [==============================] - 5s 5ms/step - loss: 0.2099 - val_loss: 0.1338\n",
      "Epoch 2/50\n",
      "469/469 [==============================] - 2s 5ms/step - loss: 0.1244 - val_loss: 0.1159\n",
      "Epoch 3/50\n",
      "469/469 [==============================] - 2s 5ms/step - loss: 0.1134 - val_loss: 0.1092\n",
      "Epoch 4/50\n",
      "469/469 [==============================] - 2s 5ms/step - loss: 0.1084 - val_loss: 0.1052\n",
      "Epoch 5/50\n",
      "469/469 [==============================] - 2s 5ms/step - loss: 0.1051 - val_loss: 0.1023\n",
      "Epoch 6/50\n",
      "469/469 [==============================] - 2s 5ms/step - loss: 0.1027 - val_loss: 0.1002\n",
      "Epoch 7/50\n",
      "469/469 [==============================] - 2s 5ms/step - loss: 0.1008 - val_loss: 0.0986\n",
      "Epoch 8/50\n",
      "469/469 [==============================] - 2s 5ms/step - loss: 0.0992 - val_loss: 0.0974\n",
      "Epoch 9/50\n",
      "469/469 [==============================] - 2s 5ms/step - loss: 0.0979 - val_loss: 0.0959\n",
      "Epoch 10/50\n",
      "469/469 [==============================] - 2s 5ms/step - loss: 0.0967 - val_loss: 0.0948\n",
      "Epoch 11/50\n",
      "469/469 [==============================] - 2s 5ms/step - loss: 0.0956 - val_loss: 0.0937\n",
      "Epoch 12/50\n",
      "469/469 [==============================] - 2s 5ms/step - loss: 0.0945 - val_loss: 0.0928\n",
      "Epoch 13/50\n",
      "469/469 [==============================] - 2s 5ms/step - loss: 0.0935 - val_loss: 0.0918\n",
      "Epoch 14/50\n",
      "469/469 [==============================] - 2s 5ms/step - loss: 0.0926 - val_loss: 0.0911\n",
      "Epoch 15/50\n",
      "469/469 [==============================] - 2s 5ms/step - loss: 0.0919 - val_loss: 0.0907\n",
      "Epoch 16/50\n",
      "469/469 [==============================] - 2s 5ms/step - loss: 0.0912 - val_loss: 0.0896\n",
      "Epoch 17/50\n",
      "469/469 [==============================] - 2s 5ms/step - loss: 0.0906 - val_loss: 0.0891\n",
      "Epoch 18/50\n",
      "469/469 [==============================] - 2s 5ms/step - loss: 0.0900 - val_loss: 0.0890\n",
      "Epoch 19/50\n",
      "469/469 [==============================] - 2s 5ms/step - loss: 0.0894 - val_loss: 0.0878\n",
      "Epoch 20/50\n",
      "469/469 [==============================] - 2s 5ms/step - loss: 0.0888 - val_loss: 0.0872\n",
      "Epoch 21/50\n",
      "469/469 [==============================] - 2s 5ms/step - loss: 0.0883 - val_loss: 0.0871\n",
      "Epoch 22/50\n",
      "469/469 [==============================] - 2s 5ms/step - loss: 0.0878 - val_loss: 0.0863\n",
      "Epoch 23/50\n",
      "469/469 [==============================] - 2s 5ms/step - loss: 0.0872 - val_loss: 0.0860\n",
      "Epoch 24/50\n",
      "469/469 [==============================] - 2s 5ms/step - loss: 0.0869 - val_loss: 0.0855\n",
      "Epoch 25/50\n",
      "469/469 [==============================] - 2s 5ms/step - loss: 0.0864 - val_loss: 0.0850\n",
      "Epoch 26/50\n",
      "469/469 [==============================] - 2s 5ms/step - loss: 0.0859 - val_loss: 0.0852\n",
      "Epoch 27/50\n",
      "469/469 [==============================] - 2s 5ms/step - loss: 0.0856 - val_loss: 0.0842\n",
      "Epoch 28/50\n",
      "469/469 [==============================] - 2s 5ms/step - loss: 0.0853 - val_loss: 0.0839\n",
      "Epoch 29/50\n",
      "469/469 [==============================] - 2s 5ms/step - loss: 0.0850 - val_loss: 0.0839\n",
      "Epoch 30/50\n",
      "469/469 [==============================] - 2s 5ms/step - loss: 0.0846 - val_loss: 0.0833\n",
      "Epoch 31/50\n",
      "469/469 [==============================] - 2s 5ms/step - loss: 0.0844 - val_loss: 0.0835\n",
      "Epoch 32/50\n",
      "469/469 [==============================] - 2s 5ms/step - loss: 0.0841 - val_loss: 0.0829\n",
      "Epoch 33/50\n",
      "469/469 [==============================] - 2s 5ms/step - loss: 0.0838 - val_loss: 0.0827\n",
      "Epoch 34/50\n",
      "469/469 [==============================] - 2s 5ms/step - loss: 0.0836 - val_loss: 0.0829\n",
      "Epoch 35/50\n",
      "469/469 [==============================] - 2s 5ms/step - loss: 0.0834 - val_loss: 0.0821\n",
      "Epoch 36/50\n",
      "469/469 [==============================] - 2s 5ms/step - loss: 0.0832 - val_loss: 0.0826\n",
      "Epoch 37/50\n",
      "469/469 [==============================] - 2s 5ms/step - loss: 0.0830 - val_loss: 0.0819\n",
      "Epoch 38/50\n",
      "469/469 [==============================] - 2s 5ms/step - loss: 0.0828 - val_loss: 0.0819\n",
      "Epoch 39/50\n",
      "469/469 [==============================] - 2s 5ms/step - loss: 0.0826 - val_loss: 0.0820\n",
      "Epoch 40/50\n",
      "469/469 [==============================] - 2s 5ms/step - loss: 0.0825 - val_loss: 0.0814\n",
      "Epoch 41/50\n",
      "469/469 [==============================] - 2s 5ms/step - loss: 0.0823 - val_loss: 0.0812\n",
      "Epoch 42/50\n",
      "469/469 [==============================] - 2s 5ms/step - loss: 0.0822 - val_loss: 0.0819\n",
      "Epoch 43/50\n",
      "469/469 [==============================] - 2s 5ms/step - loss: 0.0820 - val_loss: 0.0811\n",
      "Epoch 44/50\n",
      "469/469 [==============================] - 2s 5ms/step - loss: 0.0819 - val_loss: 0.0809\n",
      "Epoch 45/50\n",
      "469/469 [==============================] - 2s 5ms/step - loss: 0.0818 - val_loss: 0.0810\n",
      "Epoch 46/50\n",
      "469/469 [==============================] - 2s 5ms/step - loss: 0.0817 - val_loss: 0.0808\n",
      "Epoch 47/50\n",
      "469/469 [==============================] - 2s 5ms/step - loss: 0.0815 - val_loss: 0.0807\n",
      "Epoch 48/50\n",
      "469/469 [==============================] - 2s 5ms/step - loss: 0.0814 - val_loss: 0.0805\n",
      "Epoch 49/50\n",
      "469/469 [==============================] - 2s 5ms/step - loss: 0.0813 - val_loss: 0.0804\n",
      "Epoch 50/50\n",
      "469/469 [==============================] - 2s 5ms/step - loss: 0.0812 - val_loss: 0.0804\n"
     ]
    },
    {
     "data": {
      "text/plain": "<keras.callbacks.History at 0x22f946050c0>"
     },
     "execution_count": 20,
     "metadata": {},
     "output_type": "execute_result"
    }
   ],
   "source": [
    "#컴파일 및 학습\n",
    "autoencoder.compile(optimizer='adam',loss='binary_crossentropy')\n",
    "autoencoder.fit(X_train,X_train,epochs=50,batch_size=128,\n",
    "                validation_data=(X_test,X_test))\n"
   ],
   "metadata": {
    "collapsed": false,
    "ExecuteTime": {
     "start_time": "2023-08-04T12:06:07.656872Z",
     "end_time": "2023-08-04T12:07:58.947315Z"
    }
   }
  },
  {
   "cell_type": "code",
   "execution_count": 22,
   "outputs": [
    {
     "name": "stdout",
     "output_type": "stream",
     "text": [
      "313/313 [==============================] - 1s 2ms/step\n"
     ]
    },
    {
     "data": {
      "text/plain": "<Figure size 700x200 with 10 Axes>",
      "image/png": "[encoded data removed]"
     },
     "metadata": {},
     "output_type": "display_data"
    }
   ],
   "source": [
    "#학습된 결과를 출력\n",
    "random_test = np.random.randint(X_test.shape[0],size=5)\n",
    "ae_imgs = autoencoder.predict(X_test)\n",
    "plt.figure(figsize=(7,2))#출력 이미지의 크기를 정합니다.\n",
    "for i, image_idx in enumerate(random_test):\n",
    "    #랜덤으로 뽑은 이미지를 차례로 나열합니다.\n",
    "    ax =plt.subplot(2,7,i+1)\n",
    "    #테스트할 이미지를 먼저 그대로 보여줍니다.\n",
    "    plt.imshow(X_test[image_idx].reshape(28,28))\n",
    "    ax.axis('off')\n",
    "    ax = plt.subplot(2,7,7+i+1)\n",
    "    #오토인코딩 결과를 다음 열에 입력합니다.\n",
    "    plt.imshow(ae_imgs[image_idx].reshape(28,28))\n",
    "    ax.axis('off')\n",
    "plt.show()"
   ],
   "metadata": {
    "collapsed": false,
    "ExecuteTime": {
     "start_time": "2023-08-04T12:08:16.416795Z",
     "end_time": "2023-08-04T12:08:17.229879Z"
    }
   }
  },
  {
   "cell_type": "code",
   "execution_count": null,
   "outputs": [],
   "source": [],
   "metadata": {
    "collapsed": false
   }
  }
 ],
 "metadata": {
  "kernelspec": {
   "display_name": "Python 3",
   "language": "python",
   "name": "python3"
  },
  "language_info": {
   "codemirror_mode": {
    "name": "ipython",
    "version": 2
   },
   "file_extension": ".py",
   "mimetype": "text/x-python",
   "name": "python",
   "nbconvert_exporter": "python",
   "pygments_lexer": "ipython2",
   "version": "2.7.6"
  }
 },
 "nbformat": 4,
 "nbformat_minor": 0
}
