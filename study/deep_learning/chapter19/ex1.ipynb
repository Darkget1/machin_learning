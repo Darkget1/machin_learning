{
 "cells": [
  {
   "cell_type": "code",
   "execution_count": 2,
   "metadata": {
    "ExecuteTime": {
     "start_time": "2023-08-03T15:37:17.583471Z",
     "end_time": "2023-08-03T15:37:20.132051Z"
    },
    "collapsed": false,
    "jupyter": {
     "outputs_hidden": false
    }
   },
   "outputs": [],
   "source": [
    "from keras.datasets import mnist\n",
    "from keras.layers import Input,Dense,Reshape,Flatten,Dropout\n",
    "from keras.layers import BatchNormalization,Activation,LeakyReLU,UpSampling2D,Conv2D\n",
    "from keras.models import Sequential,Model\n",
    "\n",
    "import numpy as np\n",
    "import matplotlib.pyplot as plt"
   ]
  },
  {
   "cell_type": "code",
   "execution_count": 3,
   "metadata": {
    "collapsed": true,
    "jupyter": {
     "outputs_hidden": true
    },
    "ExecuteTime": {
     "start_time": "2023-08-03T15:37:20.116051Z",
     "end_time": "2023-08-03T15:37:21.774102Z"
    }
   },
   "outputs": [],
   "source": [
    "#생성자 모델을 만듭니다.\n",
    "generator = Sequential()\n",
    "generator.add(Dense(128*7*7, input_dim=100,activation=LeakyReLU(0.2)))\n",
    "generator.add(BatchNormalization())\n",
    "generator.add(Reshape((7,7,128)))\n",
    "generator.add(UpSampling2D())\n",
    "generator.add(Conv2D(64,kernel_size=5,padding='same'))\n",
    "generator.add(BatchNormalization())\n",
    "generator.add(Activation(LeakyReLU(0.2)))\n",
    "generator.add(UpSampling2D())\n",
    "generator.add(Conv2D(1,kernel_size=5,padding='same',activation='tanh'))"
   ]
  },
  {
   "cell_type": "code",
   "execution_count": 4,
   "outputs": [],
   "source": [
    "#판별자 모델을 만듭니다.\n",
    "discriminatior = Sequential()\n",
    "discriminatior.add(Conv2D(64,kernel_size=5,strides=2,input_shape=(28,28,1),padding=\n",
    "                          'same'))\n",
    "discriminatior.add(Activation(LeakyReLU(0.2)))\n",
    "discriminatior.add(Dropout(0.3))\n",
    "discriminatior.add(Conv2D(128,kernel_size=5,strides=2,padding='same'))\n",
    "discriminatior.add(Activation(LeakyReLU(0.2)))\n",
    "discriminatior.add(Dropout(0.3))\n",
    "discriminatior.add(Flatten())\n",
    "discriminatior.add(Dense(1,activation='sigmoid'))\n",
    "discriminatior.compile(loss='binary_crossentropy',optimizer='adam')\n",
    "discriminatior.trainable=False"
   ],
   "metadata": {
    "collapsed": false,
    "ExecuteTime": {
     "start_time": "2023-08-03T15:37:21.776102Z",
     "end_time": "2023-08-03T15:37:21.806846Z"
    }
   }
  },
  {
   "cell_type": "code",
   "execution_count": 5,
   "outputs": [
    {
     "name": "stdout",
     "output_type": "stream",
     "text": [
      "Model: \"model\"\n",
      "_________________________________________________________________\n",
      " Layer (type)                Output Shape              Param #   \n",
      "=================================================================\n",
      " input_1 (InputLayer)        [(None, 100)]             0         \n",
      "                                                                 \n",
      " sequential (Sequential)     (None, 28, 28, 1)         865281    \n",
      "                                                                 \n",
      " sequential_1 (Sequential)   (None, 1)                 212865    \n",
      "                                                                 \n",
      "=================================================================\n",
      "Total params: 1,078,146\n",
      "Trainable params: 852,609\n",
      "Non-trainable params: 225,537\n",
      "_________________________________________________________________\n"
     ]
    }
   ],
   "source": [
    "#생성자와 판별자 모델을 연결시키는 gen 모델을 만듭니다.\n",
    "ginput = Input(shape=(100,))\n",
    "dis_output = discriminatior(generator(ginput))\n",
    "gan = Model(ginput,dis_output)\n",
    "gan.compile(loss='binary_crossentropy',optimizer='adam')\n",
    "gan.summary()"
   ],
   "metadata": {
    "collapsed": false,
    "ExecuteTime": {
     "start_time": "2023-08-03T15:37:21.806846Z",
     "end_time": "2023-08-03T15:37:21.872930Z"
    }
   }
  },
  {
   "cell_type": "code",
   "execution_count": 6,
   "outputs": [],
   "source": [
    "#신경망을 실행시키는 함수를 만듭니다.\n",
    "def gan_train(epoch,batch_size,saving_interval):\n",
    "    #MNIST 데이터 불러오기\n",
    "    #이미지만 사용할 것이기 때문에 X_train만 호출합니다.\n",
    "    (X_train,_),(_,_) =mnist.load_data()\n",
    "    X_train = X_train.reshape(X_train.shape[0],28,28,1).astype('float32')\n",
    "    X_train = (X_train-127.5)/127.5\n",
    "    true = np.ones((batch_size,1))\n",
    "    fake = np.zeros((batch_size,1))\n",
    "\n",
    "    for i in range(epoch):\n",
    "        #실제 데이터를 판별자에 입력하는 부분\n",
    "        idx = np.random.randint(0,X_train.shape[0],batch_size)\n",
    "        imgs = X_train[idx]\n",
    "        d_loss_real = discriminatior.train_on_batch(imgs,true)\n",
    "        noise = np.random.normal(0,1,(batch_size,100))\n",
    "        gen_imgs = generator.predict(noise)\n",
    "        d_loss_fake = discriminatior.train_on_batch(gen_imgs,fake)\n",
    "        #판별자와 생성자의 오차를 계산합니다.\n",
    "        d_loss = 0.5*np.add(d_loss_real,d_loss_fake)\n",
    "        g_loss = gan.train_on_batch(noise,true)\n",
    "\n",
    "        print('epoch:%d'%i,'d_loss:%.4f'%d_loss,'g_loss:%.4f'%g_loss)\n",
    "        #중간과정을 이미지로 저장하는 부분입니다. 정해진 인터벌만큼 학습되면\n",
    "        #그때 만든 이미지를 gen_images 폴더에 저장하는의미\n",
    "        #이 코드는 이장의 주된 목표와는 관계가 없어서 소스코드만 소개\n",
    "        if i % saving_interval==0:\n",
    "            noise =np.random.normal(0,1,(25,100))\n",
    "            gen_imgs = generator.predict(noise)\n",
    "            #REscale images 0-1\n",
    "            gen_imgs = 0.5*gen_imgs+0.5\n",
    "\n",
    "            fig,axs = plt.subplots(5,5)\n",
    "            count=0\n",
    "            for j in range(5):\n",
    "                for k in range(5):\n",
    "                    axs[j,k].imshow(gen_imgs[count,:,:,0],cmap='gray')\n",
    "                    axs[j,k].axis('off')\n",
    "                    count+=1\n",
    "            fig.saveifg('gan_images/gan_mnist_%d.png'%i)\n",
    "#2000번 반복되고(+1을 하는것에 주의),\n",
    "#배치 크기는 32,200번 마다 결과가 저장됩니다."
   ],
   "metadata": {
    "collapsed": false,
    "ExecuteTime": {
     "start_time": "2023-08-03T15:37:21.852846Z",
     "end_time": "2023-08-03T15:37:21.872930Z"
    }
   }
  },
  {
   "cell_type": "code",
   "execution_count": null,
   "outputs": [],
   "source": [
    "gan_train(2001,32,200)"
   ],
   "metadata": {
    "collapsed": false,
    "ExecuteTime": {
     "start_time": "2023-08-03T15:37:02.922254Z",
     "end_time": "2023-08-03T15:37:12.201975Z"
    },
    "pycharm": {
     "is_executing": true
    }
   }
  },
  {
   "cell_type": "code",
   "execution_count": null,
   "outputs": [],
   "source": [],
   "metadata": {
    "collapsed": false,
    "pycharm": {
     "is_executing": true
    }
   }
  }
 ],
 "metadata": {
  "kernelspec": {
   "display_name": "Python 3 (ipykernel)",
   "language": "python",
   "name": "python3"
  },
  "language_info": {
   "codemirror_mode": {
    "name": "ipython",
    "version": 3
   },
   "file_extension": ".py",
   "mimetype": "text/x-python",
   "name": "python",
   "nbconvert_exporter": "python",
   "pygments_lexer": "ipython3",
   "version": "3.10.12"
  }
 },
 "nbformat": 4,
 "nbformat_minor": 4
}
