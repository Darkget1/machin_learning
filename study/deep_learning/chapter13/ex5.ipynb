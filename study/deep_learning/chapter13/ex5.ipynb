{
 "cells": [
  {
   "cell_type": "code",
   "execution_count": 1,
   "metadata": {
    "collapsed": true,
    "ExecuteTime": {
     "end_time": "2023-07-27T05:55:34.238816600Z",
     "start_time": "2023-07-27T05:55:30.530026Z"
    }
   },
   "outputs": [],
   "source": [
    "from keras.models import Sequential\n",
    "from keras.layers import Dense\n",
    "from sklearn.model_selection import KFold\n",
    "from sklearn.metrics import accuracy_score\n",
    "import pandas as pd\n"
   ]
  },
  {
   "cell_type": "code",
   "execution_count": 2,
   "outputs": [],
   "source": [
    "#광물 데이터 불러옵니다\n",
    "df = pd.read_csv('../data/sonar3.csv',header=None)\n"
   ],
   "metadata": {
    "collapsed": false,
    "ExecuteTime": {
     "end_time": "2023-07-27T05:55:58.193771200Z",
     "start_time": "2023-07-27T05:55:58.193771200Z"
    }
   }
  },
  {
   "cell_type": "code",
   "execution_count": 3,
   "outputs": [],
   "source": [
    "#음파 관련 속성을 x로 광물의 종류를 y로 저장합니다.\n",
    "X = df.iloc[:,0:60]\n",
    "y = df.iloc[:,60]\n"
   ],
   "metadata": {
    "collapsed": false,
    "ExecuteTime": {
     "end_time": "2023-07-27T05:56:35.675151600Z",
     "start_time": "2023-07-27T05:56:35.675151600Z"
    }
   }
  },
  {
   "cell_type": "code",
   "execution_count": 4,
   "outputs": [],
   "source": [
    "#몇 겹으로 나눌 것인지 정합니다.\n",
    "k=5"
   ],
   "metadata": {
    "collapsed": false,
    "ExecuteTime": {
     "end_time": "2023-07-27T05:56:49.186469200Z",
     "start_time": "2023-07-27T05:56:49.186469200Z"
    }
   }
  },
  {
   "cell_type": "code",
   "execution_count": 5,
   "outputs": [],
   "source": [
    "#KFOLD 합수를 불러옵니다.분할하기 전에 샘플이 치우치지 않도록 섞어 줍니다.\n",
    "kfold = KFold(n_splits=k,shuffle=True)"
   ],
   "metadata": {
    "collapsed": false,
    "ExecuteTime": {
     "end_time": "2023-07-27T05:57:34.739349500Z",
     "start_time": "2023-07-27T05:57:34.739349500Z"
    }
   }
  },
  {
   "cell_type": "code",
   "execution_count": 6,
   "outputs": [],
   "source": [
    "#wjdghkrehrk codnjwlf qls fltmxm wnsql\n",
    "acc_score=[]\n",
    "def model_fn():\n",
    "    model = Sequential() #딥러닝 모델의 구조를 시작합니다.\n",
    "    model.add(Dense(24,input_dim=60,activation='relu'))\n",
    "    model.add(Dense(10,activation='relu'))\n",
    "    model.add(Dense(1,activation='sigmoid'))\n",
    "    return model"
   ],
   "metadata": {
    "collapsed": false,
    "ExecuteTime": {
     "end_time": "2023-07-27T05:59:16.357877Z",
     "start_time": "2023-07-27T05:59:16.357877Z"
    }
   }
  },
  {
   "cell_type": "code",
   "execution_count": 8,
   "outputs": [
    {
     "name": "stdout",
     "output_type": "stream",
     "text": [
      "2/2 [==============================] - 0s 0s/step - loss: 0.3637 - accuracy: 0.8810\n",
      "2/2 [==============================] - 0s 0s/step - loss: 0.8859 - accuracy: 0.8333\n",
      "2/2 [==============================] - 0s 0s/step - loss: 0.4435 - accuracy: 0.8810\n",
      "2/2 [==============================] - 0s 14ms/step - loss: 0.6584 - accuracy: 0.8537\n",
      "WARNING:tensorflow:5 out of the last 9 calls to <function Model.make_test_function.<locals>.test_function at 0x000002F4D19193A0> triggered tf.function retracing. Tracing is expensive and the excessive number of tracings could be due to (1) creating @tf.function repeatedly in a loop, (2) passing tensors with different shapes, (3) passing Python objects instead of tensors. For (1), please define your @tf.function outside of the loop. For (2), @tf.function has reduce_retracing=True option that can avoid unnecessary retracing. For (3), please refer to https://www.tensorflow.org/guide/function#controlling_retracing and https://www.tensorflow.org/api_docs/python/tf/function for  more details.\n",
      "2/2 [==============================] - 0s 0s/step - loss: 1.4067 - accuracy: 0.6585\n"
     ]
    }
   ],
   "source": [
    "#k겹 교차 검증을 이용해 k번 학습을 실행합니다.\n",
    "#for문에 의 k번 반복합니다.\n",
    "#split()에 의해 k개의 학습셋 테스트셋으로 분리합닏.\n",
    "for train_index,test_index in kfold.split(X):\n",
    "    X_train, X_test = X.iloc[train_index,:],X.iloc[test_index,:]\n",
    "    y_train, y_test = y.iloc[train_index],y.iloc[test_index]\n",
    "\n",
    "    model = model_fn()\n",
    "    model.compile(loss='binary_crossentropy',optimizer='adam',\n",
    "                  metrics=['accuracy'])\n",
    "    history = model.fit(X_train,y_train,epochs=200,batch_size=10,verbose=0)\n",
    "    accuracy = model.evaluate(X_test,y_test)[1]#정확도를 구합니다.\n",
    "    acc_score.append(accuracy) #정확도 리스트에 저장합니다.\n",
    "\n",
    "\n"
   ],
   "metadata": {
    "collapsed": false,
    "ExecuteTime": {
     "end_time": "2023-07-27T06:04:35.265163100Z",
     "start_time": "2023-07-27T06:04:13.231693800Z"
    }
   }
  },
  {
   "cell_type": "code",
   "execution_count": 9,
   "outputs": [],
   "source": [
    "#k번 실시된 정확도의 평균을 구합니다.\n",
    "avg_acc_score = sum(acc_score)/k"
   ],
   "metadata": {
    "collapsed": false,
    "ExecuteTime": {
     "end_time": "2023-07-27T06:04:43.083996900Z",
     "start_time": "2023-07-27T06:04:43.083996900Z"
    }
   }
  },
  {
   "cell_type": "code",
   "execution_count": 10,
   "outputs": [
    {
     "name": "stdout",
     "output_type": "stream",
     "text": [
      "정확도 :  [0.8809523582458496, 0.8333333134651184, 0.8809523582458496, 0.8536585569381714, 0.6585366129875183]\n",
      "정확도 평균 :  0.8214866399765015\n"
     ]
    }
   ],
   "source": [
    "#결과를 출력합니다.\n",
    "print('정확도 : ',acc_score)\n",
    "print('정확도 평균 : ',avg_acc_score)"
   ],
   "metadata": {
    "collapsed": false,
    "ExecuteTime": {
     "end_time": "2023-07-27T06:05:09.627910100Z",
     "start_time": "2023-07-27T06:05:09.612315900Z"
    }
   }
  },
  {
   "cell_type": "code",
   "execution_count": null,
   "outputs": [],
   "source": [],
   "metadata": {
    "collapsed": false
   }
  }
 ],
 "metadata": {
  "kernelspec": {
   "display_name": "Python 3",
   "language": "python",
   "name": "python3"
  },
  "language_info": {
   "codemirror_mode": {
    "name": "ipython",
    "version": 2
   },
   "file_extension": ".py",
   "mimetype": "text/x-python",
   "name": "python",
   "nbconvert_exporter": "python",
   "pygments_lexer": "ipython2",
   "version": "2.7.6"
  }
 },
 "nbformat": 4,
 "nbformat_minor": 0
}
