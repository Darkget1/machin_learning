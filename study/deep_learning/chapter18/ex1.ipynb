{
 "cells": [
  {
   "cell_type": "code",
   "execution_count": 3,
   "metadata": {
    "collapsed": true,
    "ExecuteTime": {
     "start_time": "2023-08-02T11:58:49.143349Z",
     "end_time": "2023-08-02T11:58:49.324481Z"
    }
   },
   "outputs": [],
   "source": [
    "import numpy as np\n",
    "\n",
    "X=[]\n",
    "Y=[]\n",
    "for i in range(6):\n",
    "    lst = list(range(i,i+4))\n",
    "    X.append(list(map(lambda c: [c/10],lst)))\n",
    "    Y.append((i+4)/10)"
   ]
  },
  {
   "cell_type": "code",
   "execution_count": 4,
   "outputs": [
    {
     "name": "stdout",
     "output_type": "stream",
     "text": [
      "(array([[0. ],\n",
      "       [0.1],\n",
      "       [0.2],\n",
      "       [0.3]]), 0.4)\n",
      "(array([[0.1],\n",
      "       [0.2],\n",
      "       [0.3],\n",
      "       [0.4]]), 0.5)\n",
      "(array([[0.2],\n",
      "       [0.3],\n",
      "       [0.4],\n",
      "       [0.5]]), 0.6)\n",
      "(array([[0.3],\n",
      "       [0.4],\n",
      "       [0.5],\n",
      "       [0.6]]), 0.7)\n",
      "(array([[0.4],\n",
      "       [0.5],\n",
      "       [0.6],\n",
      "       [0.7]]), 0.8)\n",
      "(array([[0.5],\n",
      "       [0.6],\n",
      "       [0.7],\n",
      "       [0.8]]), 0.9)\n"
     ]
    }
   ],
   "source": [
    "X=np.array(X)\n",
    "Y=np.array(Y)\n",
    "for i in range(len(X)):\n",
    "    print((X[i],Y[i]))"
   ],
   "metadata": {
    "collapsed": false,
    "ExecuteTime": {
     "start_time": "2023-08-02T11:58:51.330872Z",
     "end_time": "2023-08-02T11:58:51.365780Z"
    }
   }
  },
  {
   "cell_type": "code",
   "execution_count": 10,
   "outputs": [
    {
     "name": "stdout",
     "output_type": "stream",
     "text": [
      "Model: \"sequential_1\"\n",
      "_________________________________________________________________\n",
      " Layer (type)                Output Shape              Param #   \n",
      "=================================================================\n",
      " simple_rnn_1 (SimpleRNN)    (None, 64)                4224      \n",
      "                                                                 \n",
      " dense_1 (Dense)             (None, 1)                 65        \n",
      "                                                                 \n",
      "=================================================================\n",
      "Total params: 4,289\n",
      "Trainable params: 4,289\n",
      "Non-trainable params: 0\n",
      "_________________________________________________________________\n"
     ]
    }
   ],
   "source": [
    "import keras\n",
    "from keras import layers\n",
    "import tensorflow as tf\n",
    "\n",
    "model = keras.models.Sequential([\n",
    "    keras.layers.SimpleRNN(units=64,return_sequences=False,\n",
    "                           input_shape=[4,1]),\n",
    "    keras.layers.Dense(1)\n",
    "])\n",
    "model.compile(optimizer='adam',loss='mse')\n",
    "model.summary()"
   ],
   "metadata": {
    "collapsed": false,
    "ExecuteTime": {
     "start_time": "2023-08-02T12:14:03.419069Z",
     "end_time": "2023-08-02T12:14:03.478562Z"
    }
   }
  },
  {
   "cell_type": "code",
   "execution_count": 13,
   "outputs": [
    {
     "data": {
      "text/plain": "<keras.callbacks.History at 0x2d53b44be80>"
     },
     "execution_count": 13,
     "metadata": {},
     "output_type": "execute_result"
    }
   ],
   "source": [
    "model.fit(X,Y,epochs=300,verbose=0)\n"
   ],
   "metadata": {
    "collapsed": false,
    "ExecuteTime": {
     "start_time": "2023-08-02T12:15:17.783019Z",
     "end_time": "2023-08-02T12:15:19.471660Z"
    }
   }
  },
  {
   "cell_type": "code",
   "execution_count": 14,
   "outputs": [
    {
     "name": "stdout",
     "output_type": "stream",
     "text": [
      "1/1 [==============================] - 0s 12ms/step\n",
      "[[0.39489317]\n",
      " [0.50079715]\n",
      " [0.60415137]\n",
      " [0.70453113]\n",
      " [0.801377  ]\n",
      " [0.8940136 ]]\n"
     ]
    }
   ],
   "source": [
    "print(model.predict(X))"
   ],
   "metadata": {
    "collapsed": false,
    "ExecuteTime": {
     "start_time": "2023-08-02T12:15:20.365888Z",
     "end_time": "2023-08-02T12:15:20.407748Z"
    }
   }
  },
  {
   "cell_type": "code",
   "execution_count": null,
   "outputs": [],
   "source": [],
   "metadata": {
    "collapsed": false
   }
  }
 ],
 "metadata": {
  "kernelspec": {
   "display_name": "Python 3",
   "language": "python",
   "name": "python3"
  },
  "language_info": {
   "codemirror_mode": {
    "name": "ipython",
    "version": 2
   },
   "file_extension": ".py",
   "mimetype": "text/x-python",
   "name": "python",
   "nbconvert_exporter": "python",
   "pygments_lexer": "ipython2",
   "version": "2.7.6"
  }
 },
 "nbformat": 4,
 "nbformat_minor": 0
}
