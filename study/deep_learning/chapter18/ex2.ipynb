{
 "cells": [
  {
   "cell_type": "code",
   "execution_count": 24,
   "metadata": {
    "collapsed": true,
    "ExecuteTime": {
     "start_time": "2023-08-02T15:41:09.859570Z",
     "end_time": "2023-08-02T15:41:09.866547Z"
    }
   },
   "outputs": [],
   "source": [
    "from keras.models import Sequential\n",
    "from keras.layers import Dense,LSTM,Embedding\n",
    "from keras.utils import to_categorical\n",
    "from keras.preprocessing import sequence\n",
    "from keras.datasets import reuters\n",
    "from keras.utils import pad_sequences\n",
    "from keras.callbacks import EarlyStopping\n",
    "\n",
    "import numpy as np\n",
    "import matplotlib.pyplot as plt\n"
   ]
  },
  {
   "cell_type": "code",
   "execution_count": 2,
   "outputs": [
    {
     "name": "stdout",
     "output_type": "stream",
     "text": [
      "Downloading data from https://storage.googleapis.com/tensorflow/tf-keras-datasets/reuters.npz\n",
      "2110848/2110848 [==============================] - 0s 0us/step\n"
     ]
    }
   ],
   "source": [
    "#데이터를 불러와 학습셋,데이터셋으로 나눕니다.\n",
    "(X_train,y_train),(X_test,y_test) = reuters.load_data(num_words=1000,test_split=0.2)"
   ],
   "metadata": {
    "collapsed": false,
    "ExecuteTime": {
     "start_time": "2023-08-02T12:52:41.038679Z",
     "end_time": "2023-08-02T12:52:41.855396Z"
    }
   }
  },
  {
   "cell_type": "code",
   "execution_count": 4,
   "outputs": [
    {
     "name": "stdout",
     "output_type": "stream",
     "text": [
      "46 카테고리\n",
      "8982 학습용 뉴스 기사\n",
      "2246 테스트용 뉴스 기사\n",
      "[1, 2, 2, 8, 43, 10, 447, 5, 25, 207, 270, 5, 2, 111, 16, 369, 186, 90, 67, 7, 89, 5, 19, 102, 6, 19, 124, 15, 90, 67, 84, 22, 482, 26, 7, 48, 4, 49, 8, 864, 39, 209, 154, 6, 151, 6, 83, 11, 15, 22, 155, 11, 15, 7, 48, 9, 2, 2, 504, 6, 258, 6, 272, 11, 15, 22, 134, 44, 11, 15, 16, 8, 197, 2, 90, 67, 52, 29, 209, 30, 32, 132, 6, 109, 15, 17, 12]\n"
     ]
    }
   ],
   "source": [
    "#데이터를 확인해 보겠습니다.\n",
    "category = np.max(y_train)+1\n",
    "print(category,'카테고리')\n",
    "print(len(X_train),'학습용 뉴스 기사')\n",
    "print(len(X_test),'테스트용 뉴스 기사')\n",
    "print(X_train[0])"
   ],
   "metadata": {
    "collapsed": false,
    "ExecuteTime": {
     "start_time": "2023-08-02T12:54:11.137493Z",
     "end_time": "2023-08-02T12:54:11.147460Z"
    }
   }
  },
  {
   "cell_type": "code",
   "execution_count": 7,
   "outputs": [],
   "source": [
    "#단어의 수를 맞추어 줍니다.\n",
    "X_train = pad_sequences(X_train,maxlen=100)\n",
    "X_test = pad_sequences(X_test,maxlen=100)\n"
   ],
   "metadata": {
    "collapsed": false,
    "ExecuteTime": {
     "start_time": "2023-08-02T12:56:40.197860Z",
     "end_time": "2023-08-02T12:56:40.260379Z"
    }
   }
  },
  {
   "cell_type": "code",
   "execution_count": 8,
   "outputs": [],
   "source": [
    "#원-핫 인코딩 처리를 합니다.\n",
    "y_train = to_categorical(y_train)\n",
    "y_test = to_categorical(y_test)"
   ],
   "metadata": {
    "collapsed": false,
    "ExecuteTime": {
     "start_time": "2023-08-02T12:57:10.636951Z",
     "end_time": "2023-08-02T12:57:10.655945Z"
    }
   }
  },
  {
   "cell_type": "code",
   "execution_count": 9,
   "outputs": [],
   "source": [
    "#모델의 구조를 설정합니다.\n",
    "model =Sequential()\n",
    "model.add(Embedding(1000,100))\n",
    "model.add(LSTM(100,activation='tanh'))\n",
    "model.add(Dense(46,activation='softmax'))"
   ],
   "metadata": {
    "collapsed": false,
    "ExecuteTime": {
     "start_time": "2023-08-02T12:58:08.555208Z",
     "end_time": "2023-08-02T12:58:18.308862Z"
    }
   }
  },
  {
   "cell_type": "code",
   "execution_count": 13,
   "outputs": [],
   "source": [
    "#모델의 실행 옵션을 정합니다.\n",
    "model.compile(loss='categorical_crossentropy',optimizer='adam',\n",
    "              metrics=['accuracy'])"
   ],
   "metadata": {
    "collapsed": false,
    "ExecuteTime": {
     "start_time": "2023-08-02T13:00:38.597283Z",
     "end_time": "2023-08-02T13:00:38.609300Z"
    }
   }
  },
  {
   "cell_type": "code",
   "execution_count": 14,
   "outputs": [],
   "source": [
    "#학습의 조기 중단을 설정\n",
    "early_sttopping_callback = EarlyStopping(monitor='val_loss',patience=5)"
   ],
   "metadata": {
    "collapsed": false,
    "ExecuteTime": {
     "start_time": "2023-08-02T13:00:39.162335Z",
     "end_time": "2023-08-02T13:00:39.173299Z"
    }
   }
  },
  {
   "cell_type": "code",
   "execution_count": 15,
   "outputs": [
    {
     "name": "stdout",
     "output_type": "stream",
     "text": [
      "Epoch 1/200\n",
      "450/450 [==============================] - 10s 8ms/step - loss: 2.1666 - accuracy: 0.4544 - val_loss: 1.8536 - val_accuracy: 0.5405\n",
      "Epoch 2/200\n",
      "450/450 [==============================] - 3s 6ms/step - loss: 1.7841 - accuracy: 0.5461 - val_loss: 1.6701 - val_accuracy: 0.5837\n",
      "Epoch 3/200\n",
      "450/450 [==============================] - 3s 6ms/step - loss: 1.5852 - accuracy: 0.6005 - val_loss: 1.5188 - val_accuracy: 0.6256\n",
      "Epoch 4/200\n",
      "450/450 [==============================] - 3s 6ms/step - loss: 1.3738 - accuracy: 0.6541 - val_loss: 1.3820 - val_accuracy: 0.6523\n",
      "Epoch 5/200\n",
      "450/450 [==============================] - 3s 6ms/step - loss: 1.2388 - accuracy: 0.6853 - val_loss: 1.2931 - val_accuracy: 0.6661\n",
      "Epoch 6/200\n",
      "450/450 [==============================] - 3s 6ms/step - loss: 1.1334 - accuracy: 0.7168 - val_loss: 1.2474 - val_accuracy: 0.6825\n",
      "Epoch 7/200\n",
      "450/450 [==============================] - 3s 6ms/step - loss: 1.0383 - accuracy: 0.7354 - val_loss: 1.1480 - val_accuracy: 0.7093\n",
      "Epoch 8/200\n",
      "450/450 [==============================] - 3s 6ms/step - loss: 0.9449 - accuracy: 0.7594 - val_loss: 1.1192 - val_accuracy: 0.7195\n",
      "Epoch 9/200\n",
      "450/450 [==============================] - 3s 6ms/step - loss: 0.8748 - accuracy: 0.7763 - val_loss: 1.1063 - val_accuracy: 0.7199\n",
      "Epoch 10/200\n",
      "450/450 [==============================] - 3s 6ms/step - loss: 0.8049 - accuracy: 0.7941 - val_loss: 1.1280 - val_accuracy: 0.7208\n",
      "Epoch 11/200\n",
      "450/450 [==============================] - 3s 6ms/step - loss: 0.7382 - accuracy: 0.8126 - val_loss: 1.1229 - val_accuracy: 0.7297\n",
      "Epoch 12/200\n",
      "450/450 [==============================] - 3s 6ms/step - loss: 0.6854 - accuracy: 0.8262 - val_loss: 1.1610 - val_accuracy: 0.7177\n",
      "Epoch 13/200\n",
      "450/450 [==============================] - 3s 6ms/step - loss: 0.6381 - accuracy: 0.8382 - val_loss: 1.1529 - val_accuracy: 0.7311\n",
      "Epoch 14/200\n",
      "450/450 [==============================] - 3s 6ms/step - loss: 0.5830 - accuracy: 0.8516 - val_loss: 1.1940 - val_accuracy: 0.7266\n"
     ]
    }
   ],
   "source": [
    "#모델을 실행합니다.\n",
    "history = model.fit(X_train,y_train,batch_size=20,epochs=200,\n",
    "                    validation_data=(X_test,y_test),callbacks=[early_sttopping_callback])\n"
   ],
   "metadata": {
    "collapsed": false,
    "ExecuteTime": {
     "start_time": "2023-08-02T13:00:39.878150Z",
     "end_time": "2023-08-02T13:01:26.528997Z"
    }
   }
  },
  {
   "cell_type": "code",
   "execution_count": 16,
   "outputs": [
    {
     "name": "stdout",
     "output_type": "stream",
     "text": [
      "71/71 [==============================] - 0s 6ms/step - loss: 1.1940 - accuracy: 0.7266\n",
      "\n",
      " Test Accuracy:0.7266\n"
     ]
    }
   ],
   "source": [
    "#테스트 정확도를 출력합니다.\n",
    "print('\\n Test Accuracy:%.4f'%(model.evaluate(X_test,y_test)[1]))"
   ],
   "metadata": {
    "collapsed": false,
    "ExecuteTime": {
     "start_time": "2023-08-02T13:01:32.448214Z",
     "end_time": "2023-08-02T13:01:32.943119Z"
    }
   }
  },
  {
   "cell_type": "code",
   "execution_count": 20,
   "outputs": [
    {
     "name": "stdout",
     "output_type": "stream",
     "text": [
      "[1.853559136390686, 1.6700592041015625, 1.5187675952911377, 1.3820011615753174, 1.293104887008667, 1.2473794221878052, 1.1479898691177368, 1.1191593408584595, 1.1062871217727661, 1.127977967262268, 1.122884750366211, 1.1610121726989746, 1.1528593301773071, 1.1939504146575928]\n"
     ]
    }
   ],
   "source": [
    "#점증셋과 학습셋의 오차를 저장합니다.\n",
    "y_vloss =history.history['val_loss']\n",
    "\n",
    "y_loss = history.history['loss']\n"
   ],
   "metadata": {
    "collapsed": false,
    "ExecuteTime": {
     "start_time": "2023-08-02T13:05:11.654301Z",
     "end_time": "2023-08-02T13:05:11.673343Z"
    }
   }
  },
  {
   "cell_type": "code",
   "execution_count": 23,
   "outputs": [
    {
     "data": {
      "text/plain": "<Figure size 640x480 with 1 Axes>",
      "image/png": "[encoded data removed]"
     },
     "metadata": {},
     "output_type": "display_data"
    }
   ],
   "source": [
    "#그래프로 표현해 보겠습니다.\n",
    "x_len = np.arange(len(y_loss))\n",
    "\n",
    "plt.plot(x_len,y_vloss,marker='.',c='red',label='Testset_loss')\n",
    "plt.plot(x_len,y_loss,marker='.',c='blue',label='Trainset_loss')\n",
    "#그래프에 그리드를 주고 레이블을 표시\n",
    "plt.legend(loc='upper right')\n",
    "plt.grid()\n",
    "plt.xlabel('epoch')\n",
    "plt.ylabel('loss')\n",
    "plt.show()\n"
   ],
   "metadata": {
    "collapsed": false,
    "ExecuteTime": {
     "start_time": "2023-08-02T13:06:48.800279Z",
     "end_time": "2023-08-02T13:06:48.889984Z"
    }
   }
  },
  {
   "cell_type": "code",
   "execution_count": null,
   "outputs": [],
   "source": [],
   "metadata": {
    "collapsed": false
   }
  }
 ],
 "metadata": {
  "kernelspec": {
   "display_name": "Python 3",
   "language": "python",
   "name": "python3"
  },
  "language_info": {
   "codemirror_mode": {
    "name": "ipython",
    "version": 2
   },
   "file_extension": ".py",
   "mimetype": "text/x-python",
   "name": "python",
   "nbconvert_exporter": "python",
   "pygments_lexer": "ipython2",
   "version": "2.7.6"
  }
 },
 "nbformat": 4,
 "nbformat_minor": 0
}
