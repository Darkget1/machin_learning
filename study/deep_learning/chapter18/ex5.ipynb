{
 "cells": [
  {
   "cell_type": "code",
   "execution_count": 1,
   "metadata": {
    "ExecuteTime": {
     "end_time": "2023-08-03T09:46:02.754213Z",
     "start_time": "2023-08-03T09:46:02.738268Z"
    }
   },
   "outputs": [],
   "source": [
    "from keras.models import Sequential\n",
    "from keras.layers import Dense, Dropout,Activation,Embedding,LSTM,Conv1D,MaxPooling1D\n",
    "from keras.datasets import imdb\n",
    "from keras.utils.data_utils import pad_sequences\n",
    "from keras.callbacks import EarlyStopping\n",
    "from attention import Attention\n",
    "\n",
    "import numpy as np\n",
    "import matplotlib.pyplot as plt\n"
   ]
  },
  {
   "cell_type": "code",
   "execution_count": 2,
   "metadata": {
    "ExecuteTime": {
     "end_time": "2023-08-03T09:46:05.521070Z",
     "start_time": "2023-08-03T09:46:03.412497Z"
    },
    "collapsed": false,
    "jupyter": {
     "outputs_hidden": false
    }
   },
   "outputs": [],
   "source": [
    "#데이터를 불러와 학습셋 테스트셋으로 나눈다\n",
    "(X_train,y_train),(X_test,y_test) = imdb.load_data(num_words=5000)"
   ]
  },
  {
   "cell_type": "code",
   "execution_count": 3,
   "metadata": {
    "ExecuteTime": {
     "end_time": "2023-08-03T09:46:05.945654Z",
     "start_time": "2023-08-03T09:46:05.521070Z"
    },
    "collapsed": false,
    "jupyter": {
     "outputs_hidden": false
    }
   },
   "outputs": [],
   "source": [
    "#단어의 수를 맞춥니다.\n",
    "X_train = pad_sequences(X_train,maxlen=500)\n",
    "X_test = pad_sequences(X_test,maxlen=500)"
   ]
  },
  {
   "cell_type": "code",
   "execution_count": 4,
   "metadata": {
    "ExecuteTime": {
     "end_time": "2023-08-03T09:46:05.961609Z",
     "start_time": "2023-08-03T09:46:05.946652Z"
    },
    "collapsed": false,
    "jupyter": {
     "outputs_hidden": false
    }
   },
   "outputs": [
    {
     "name": "stdout",
     "output_type": "stream",
     "text": [
      "500\n",
      "500\n"
     ]
    }
   ],
   "source": [
    "print(X_train.shape[1])\n",
    "print(X_test.shape[1])"
   ]
  },
  {
   "cell_type": "code",
   "execution_count": 5,
   "metadata": {
    "ExecuteTime": {
     "end_time": "2023-08-03T09:47:48.581369Z",
     "start_time": "2023-08-03T09:47:48.297951Z"
    },
    "collapsed": false,
    "jupyter": {
     "outputs_hidden": false
    }
   },
   "outputs": [],
   "source": [
    "#모델의 구조를 설정\n",
    "model = Sequential()\n",
    "model.add(Embedding(5000,500))\n",
    "model.add(Dropout(0.5))\n",
    "model.add(LSTM(64,return_sequences=True))\n",
    "model.add(Attention())\n",
    "model.add(Dropout(0.5))\n",
    "model.add(Dense(1))\n",
    "model.add(Activation('sigmoid'))\n"
   ]
  },
  {
   "cell_type": "code",
   "execution_count": 6,
   "metadata": {
    "ExecuteTime": {
     "end_time": "2023-08-03T09:48:35.495805Z",
     "start_time": "2023-08-03T09:48:35.482848Z"
    },
    "collapsed": false,
    "jupyter": {
     "outputs_hidden": false
    }
   },
   "outputs": [],
   "source": [
    "#모델의 실행 옵션을 정합니다.\n",
    "model.compile(loss='binary_crossentropy',optimizer='adam',\n",
    "              metrics=['accuracy'])"
   ]
  },
  {
   "cell_type": "code",
   "execution_count": 7,
   "metadata": {
    "ExecuteTime": {
     "end_time": "2023-08-03T09:49:10.402644Z",
     "start_time": "2023-08-03T09:49:10.383708Z"
    },
    "collapsed": false,
    "jupyter": {
     "outputs_hidden": false
    }
   },
   "outputs": [],
   "source": [
    "#학습초기 중단을 설정합니다.\n",
    "early_stopping_callback = EarlyStopping(monitor='val_loss',patience=3)"
   ]
  },
  {
   "cell_type": "code",
   "execution_count": 8,
   "metadata": {
    "ExecuteTime": {
     "end_time": "2023-08-03T09:51:37.841559Z",
     "start_time": "2023-08-03T09:50:10.193348Z"
    },
    "collapsed": false,
    "jupyter": {
     "outputs_hidden": false
    }
   },
   "outputs": [
    {
     "name": "stdout",
     "output_type": "stream",
     "text": [
      "Epoch 1/100\n",
      "625/625 [==============================] - 19s 27ms/step - loss: 0.3662 - accuracy: 0.8331 - val_loss: 0.2825 - val_accuracy: 0.8820\n",
      "Epoch 2/100\n",
      "625/625 [==============================] - 16s 26ms/step - loss: 0.2213 - accuracy: 0.9126 - val_loss: 0.2723 - val_accuracy: 0.8865\n",
      "Epoch 3/100\n",
      "625/625 [==============================] - 16s 26ms/step - loss: 0.1612 - accuracy: 0.9382 - val_loss: 0.2839 - val_accuracy: 0.8858\n",
      "Epoch 4/100\n",
      "625/625 [==============================] - 16s 25ms/step - loss: 0.1155 - accuracy: 0.9550 - val_loss: 0.3940 - val_accuracy: 0.8811\n",
      "Epoch 5/100\n",
      "625/625 [==============================] - 16s 25ms/step - loss: 0.0790 - accuracy: 0.9698 - val_loss: 0.4034 - val_accuracy: 0.8793\n"
     ]
    }
   ],
   "source": [
    "#모델을 실행합니다.\n",
    "history = model.fit(X_train,y_train,batch_size=40,epochs=100,\n",
    "                    validation_data=(X_test,y_test),callbacks=[early_stopping_callback])"
   ]
  },
  {
   "cell_type": "code",
   "execution_count": 9,
   "metadata": {
    "ExecuteTime": {
     "end_time": "2023-08-03T09:51:49.652737Z",
     "start_time": "2023-08-03T09:51:43.362931Z"
    },
    "collapsed": false,
    "jupyter": {
     "outputs_hidden": false
    }
   },
   "outputs": [
    {
     "name": "stdout",
     "output_type": "stream",
     "text": [
      "782/782 [==============================] - 6s 7ms/step - loss: 0.4034 - accuracy: 0.8793\n",
      "\n",
      " Test Accuracy:0.8793\n"
     ]
    }
   ],
   "source": [
    "#테스트 정확도를 출력합니다.\n",
    "print('\\n Test Accuracy:%.4f'%(model.evaluate(X_test,y_test)[1]))"
   ]
  },
  {
   "cell_type": "code",
   "execution_count": 10,
   "metadata": {
    "ExecuteTime": {
     "end_time": "2023-08-03T09:51:51.088302Z",
     "start_time": "2023-08-03T09:51:51.076344Z"
    },
    "collapsed": false,
    "jupyter": {
     "outputs_hidden": false
    }
   },
   "outputs": [],
   "source": [
    "#점증셋과 학습셋의 오차를 저장합니다.\n",
    "y_vloss =history.history['val_loss']\n",
    "\n",
    "y_loss = history.history['loss']\n"
   ]
  },
  {
   "cell_type": "code",
   "execution_count": 11,
   "metadata": {
    "ExecuteTime": {
     "end_time": "2023-08-03T09:51:52.078649Z",
     "start_time": "2023-08-03T09:51:51.961622Z"
    },
    "collapsed": false,
    "jupyter": {
     "outputs_hidden": false
    }
   },
   "outputs": [
    {
     "data": {
      "image/png": "[encoded data removed]",
      "text/plain": [
       "<Figure size 640x480 with 1 Axes>"
      ]
     },
     "metadata": {},
     "output_type": "display_data"
    }
   ],
   "source": [
    "#그래프로 표현해 보겠습니다.\n",
    "x_len = np.arange(len(y_loss))\n",
    "\n",
    "plt.plot(x_len,y_vloss,marker='.',c='red',label='Testset_loss')\n",
    "plt.plot(x_len,y_loss,marker='.',c='blue',label='Trainset_loss')\n",
    "#그래프에 그리드를 주고 레이블을 표시\n",
    "plt.legend(loc='upper right')\n",
    "plt.grid()\n",
    "plt.xlabel('epoch')\n",
    "plt.ylabel('loss')\n",
    "plt.show()"
   ]
  },
  {
   "cell_type": "code",
   "execution_count": null,
   "metadata": {
    "collapsed": false
   },
   "outputs": [],
   "source": []
  }
 ],
 "metadata": {
  "kernelspec": {
   "display_name": "Python 3 (ipykernel)",
   "language": "python",
   "name": "python3"
  },
  "language_info": {
   "codemirror_mode": {
    "name": "ipython",
    "version": 3
   },
   "file_extension": ".py",
   "mimetype": "text/x-python",
   "name": "python",
   "nbconvert_exporter": "python",
   "pygments_lexer": "ipython3",
   "version": "3.10.12"
  }
 },
 "nbformat": 4,
 "nbformat_minor": 0
}
