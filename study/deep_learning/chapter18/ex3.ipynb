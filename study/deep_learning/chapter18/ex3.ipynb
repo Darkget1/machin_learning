{
 "cells": [
  {
   "cell_type": "code",
   "execution_count": 2,
   "metadata": {
    "collapsed": true,
    "ExecuteTime": {
     "start_time": "2023-08-02T15:57:17.599734Z",
     "end_time": "2023-08-02T15:57:17.610697Z"
    }
   },
   "outputs": [],
   "source": [
    "from keras.models import Sequential\n",
    "from keras.layers import Dense,LSTM,Embedding,Conv1D,Dropout,MaxPooling1D,Activation\n",
    "from keras.datasets import imdb\n",
    "from keras.utils import pad_sequences\n",
    "from keras.callbacks import EarlyStopping\n",
    "\n",
    "import numpy as np\n",
    "import matplotlib.pyplot as plt\n"
   ]
  },
  {
   "cell_type": "code",
   "execution_count": 3,
   "outputs": [],
   "source": [
    "#데이터를 불러와 학습셋,데이터셋으로 나눕니다.\n",
    "(X_train,y_train),(X_test,y_test) = imdb.load_data(num_words=5000)"
   ],
   "metadata": {
    "collapsed": false,
    "ExecuteTime": {
     "start_time": "2023-08-02T15:57:19.158256Z",
     "end_time": "2023-08-02T15:57:21.205941Z"
    }
   }
  },
  {
   "cell_type": "code",
   "execution_count": 5,
   "outputs": [
    {
     "name": "stdout",
     "output_type": "stream",
     "text": [
      "[[   0    0    0 ...   19  178   32]\n",
      " [   0    0    0 ...   16  145   95]\n",
      " [   0    0    0 ...    7  129  113]\n",
      " ...\n",
      " [   0    0    0 ...    4 3586    2]\n",
      " [   0    0    0 ...   12    9   23]\n",
      " [   0    0    0 ...  204  131    9]]\n"
     ]
    }
   ],
   "source": [
    "#단어의 수를 맞추어 줍니다.\n",
    "X_train = pad_sequences(X_train,maxlen=500)\n",
    "X_test = pad_sequences(X_test,maxlen=500)\n",
    "print(X_train)"
   ],
   "metadata": {
    "collapsed": false,
    "ExecuteTime": {
     "start_time": "2023-08-02T15:57:29.352405Z",
     "end_time": "2023-08-02T15:57:29.448217Z"
    }
   }
  },
  {
   "cell_type": "code",
   "execution_count": 6,
   "outputs": [],
   "source": [
    "#모델의 구조를 설정합니다.\n",
    "model =Sequential()\n",
    "model.add(Embedding(5000,100))\n",
    "model.add(Dropout(0.5))\n",
    "model.add(Conv1D(64,5,padding='valid',activation='relu',strides=1))\n",
    "model.add(MaxPooling1D(pool_size=4))\n",
    "model.add(LSTM(55))\n",
    "model.add(Dense(1))\n",
    "model.add(Activation('sigmoid'))"
   ],
   "metadata": {
    "collapsed": false,
    "ExecuteTime": {
     "start_time": "2023-08-02T15:57:32.933650Z",
     "end_time": "2023-08-02T15:57:34.834149Z"
    }
   }
  },
  {
   "cell_type": "code",
   "execution_count": 7,
   "outputs": [],
   "source": [
    "#모델의 실행 옵션을 정합니다.\n",
    "model.compile(loss='categorical_crossentropy',optimizer='adam',\n",
    "              metrics=['accuracy'])"
   ],
   "metadata": {
    "collapsed": false,
    "ExecuteTime": {
     "start_time": "2023-08-02T15:57:35.973347Z",
     "end_time": "2023-08-02T15:57:35.989294Z"
    }
   }
  },
  {
   "cell_type": "code",
   "execution_count": 8,
   "outputs": [],
   "source": [
    "#학습의 조기 중단을 설정\n",
    "early_sttopping_callback = EarlyStopping(monitor='val_loss',patience=3)"
   ],
   "metadata": {
    "collapsed": false,
    "ExecuteTime": {
     "start_time": "2023-08-02T15:57:39.259947Z",
     "end_time": "2023-08-02T15:57:39.279880Z"
    }
   }
  },
  {
   "cell_type": "code",
   "execution_count": 1,
   "outputs": [
    {
     "ename": "NameError",
     "evalue": "name 'model' is not defined",
     "output_type": "error",
     "traceback": [
      "\u001B[1;31m---------------------------------------------------------------------------\u001B[0m",
      "\u001B[1;31mNameError\u001B[0m                                 Traceback (most recent call last)",
      "Cell \u001B[1;32mIn[1], line 2\u001B[0m\n\u001B[0;32m      1\u001B[0m \u001B[38;5;66;03m#모델을 실행합니다.\u001B[39;00m\n\u001B[1;32m----> 2\u001B[0m history \u001B[38;5;241m=\u001B[39m \u001B[43mmodel\u001B[49m\u001B[38;5;241m.\u001B[39mfit(X_train,y_train,batch_size\u001B[38;5;241m=\u001B[39m\u001B[38;5;241m40\u001B[39m,epochs\u001B[38;5;241m=\u001B[39m\u001B[38;5;241m100\u001B[39m,validation_split\u001B[38;5;241m=\u001B[39m\u001B[38;5;241m0.25\u001B[39m,\n\u001B[0;32m      3\u001B[0m                     callbacks\u001B[38;5;241m=\u001B[39m[early_sttopping_callback])\n",
      "\u001B[1;31mNameError\u001B[0m: name 'model' is not defined"
     ]
    }
   ],
   "source": [
    "#모델을 실행합니다.\n",
    "history = model.fit(X_train,y_train,batch_size=40,epochs=100,validation_split=0.25,\n",
    "                    callbacks=[early_sttopping_callback])"
   ],
   "metadata": {
    "collapsed": false,
    "ExecuteTime": {
     "start_time": "2023-08-02T16:11:04.718760Z",
     "end_time": "2023-08-02T16:11:05.289675Z"
    }
   }
  },
  {
   "cell_type": "code",
   "execution_count": null,
   "outputs": [],
   "source": [
    "#테스트 정확도를 출력합니다.\n",
    "print('\\n Test Accuracy:%.4f'%(model.evaluate(X_test,y_test)[1]))"
   ],
   "metadata": {
    "collapsed": false,
    "pycharm": {
     "is_executing": true
    }
   }
  },
  {
   "cell_type": "code",
   "execution_count": null,
   "outputs": [],
   "source": [
    "#점증셋과 학습셋의 오차를 저장합니다.\n",
    "y_vloss =history.history['val_loss']\n",
    "\n",
    "y_loss = history.history['loss']\n"
   ],
   "metadata": {
    "collapsed": false
   }
  },
  {
   "cell_type": "code",
   "execution_count": null,
   "outputs": [],
   "source": [
    "#그래프로 표현해 보겠습니다.\n",
    "x_len = np.arange(len(y_loss))\n",
    "\n",
    "plt.plot(x_len,y_vloss,marker='.',c='red',label='Testset_loss')\n",
    "plt.plot(x_len,y_loss,marker='.',c='blue',label='Trainset_loss')\n",
    "#그래프에 그리드를 주고 레이블을 표시\n",
    "plt.legend(loc='upper right')\n",
    "plt.grid()\n",
    "plt.xlabel('epoch')\n",
    "plt.ylabel('loss')\n",
    "plt.show()"
   ],
   "metadata": {
    "collapsed": false
   }
  }
 ],
 "metadata": {
  "kernelspec": {
   "display_name": "Python 3",
   "language": "python",
   "name": "python3"
  },
  "language_info": {
   "codemirror_mode": {
    "name": "ipython",
    "version": 2
   },
   "file_extension": ".py",
   "mimetype": "text/x-python",
   "name": "python",
   "nbconvert_exporter": "python",
   "pygments_lexer": "ipython2",
   "version": "2.7.6"
  }
 },
 "nbformat": 4,
 "nbformat_minor": 0
}
