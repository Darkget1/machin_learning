{
 "cells": [
  {
   "cell_type": "code",
   "execution_count": 1,
   "metadata": {
    "collapsed": true,
    "ExecuteTime": {
     "start_time": "2023-08-01T10:47:30.722394Z",
     "end_time": "2023-08-01T10:47:34.974173Z"
    }
   },
   "outputs": [],
   "source": [
    "from keras.models import Sequential\n",
    "from keras.layers import Dense, Dropout, Conv2D, MaxPooling2D,Flatten\n",
    "from keras.callbacks import ModelCheckpoint,EarlyStopping\n",
    "from keras.datasets import mnist\n",
    "from keras.utils import  to_categorical\n",
    "import matplotlib.pyplot as plt\n",
    "import numpy as np\n",
    "import pandas as pd\n",
    "import keras"
   ]
  },
  {
   "cell_type": "code",
   "execution_count": 2,
   "outputs": [],
   "source": [
    "train_df = pd.read_csv('../data/sign_mnist_train.csv')\n",
    "test_df = pd.read_csv('../data/sign_mnist_test.csv')"
   ],
   "metadata": {
    "collapsed": false,
    "ExecuteTime": {
     "start_time": "2023-08-01T10:47:36.377249Z",
     "end_time": "2023-08-01T10:47:37.583700Z"
    }
   }
  },
  {
   "cell_type": "code",
   "execution_count": 3,
   "outputs": [
    {
     "name": "stdout",
     "output_type": "stream",
     "text": [
      "   label  pixel1  pixel2  pixel3  pixel4  pixel5  pixel6  pixel7  pixel8  \\\n",
      "0      3     107     118     127     134     139     143     146     150   \n",
      "1      6     155     157     156     156     156     157     156     158   \n",
      "2      2     187     188     188     187     187     186     187     188   \n",
      "3      2     211     211     212     212     211     210     211     210   \n",
      "4     13     164     167     170     172     176     179     180     184   \n",
      "\n",
      "   pixel9  ...  pixel775  pixel776  pixel777  pixel778  pixel779  pixel780  \\\n",
      "0     153  ...       207       207       207       207       206       206   \n",
      "1     158  ...        69       149       128        87        94       163   \n",
      "2     187  ...       202       201       200       199       198       199   \n",
      "3     210  ...       235       234       233       231       230       226   \n",
      "4     185  ...        92       105       105       108       133       163   \n",
      "\n",
      "   pixel781  pixel782  pixel783  pixel784  \n",
      "0       206       204       203       202  \n",
      "1       175       103       135       149  \n",
      "2       198       195       194       195  \n",
      "3       225       222       229       163  \n",
      "4       157       163       164       179  \n",
      "\n",
      "[5 rows x 785 columns]\n"
     ]
    }
   ],
   "source": [
    "print(train_df.head())"
   ],
   "metadata": {
    "collapsed": false,
    "ExecuteTime": {
     "start_time": "2023-08-01T10:47:38.729193Z",
     "end_time": "2023-08-01T10:47:38.753112Z"
    }
   }
  },
  {
   "cell_type": "code",
   "execution_count": 4,
   "outputs": [],
   "source": [
    "X_train_df = train_df.iloc[:,1:]\n",
    "y_train_df = train_df.iloc[:,0]\n",
    "X_test_df = test_df.iloc[:,1:]\n",
    "y_test_df = test_df.iloc[:,0]"
   ],
   "metadata": {
    "collapsed": false,
    "ExecuteTime": {
     "start_time": "2023-08-01T10:47:39.875435Z",
     "end_time": "2023-08-01T10:47:39.896366Z"
    }
   }
  },
  {
   "cell_type": "code",
   "execution_count": 5,
   "outputs": [
    {
     "name": "stdout",
     "output_type": "stream",
     "text": [
      "학습셋 이미지 수 : 27455 개\n",
      "테스트셋 이미지 수 : 7172 개\n"
     ]
    }
   ],
   "source": [
    "print('학습셋 이미지 수 : %d 개'%(X_train_df.shape[0]))\n",
    "print('테스트셋 이미지 수 : %d 개'%(X_test_df.shape[0]))\n"
   ],
   "metadata": {
    "collapsed": false,
    "ExecuteTime": {
     "start_time": "2023-08-01T10:47:41.157862Z",
     "end_time": "2023-08-01T10:47:41.180747Z"
    }
   }
  },
  {
   "cell_type": "code",
   "execution_count": 6,
   "outputs": [
    {
     "data": {
      "text/plain": "<Figure size 640x480 with 1 Axes>",
      "image/png": "[encoded data removed]"
     },
     "metadata": {},
     "output_type": "display_data"
    }
   ],
   "source": [
    "X_train = pd.DataFrame(X_train_df).to_numpy()\n",
    "#-1은 파이썬에서 reshape 실행하는 함수 면 행 열 칼라 순이다 그런대 -1을하면 면의 갯수를 설정안해도 알아서한다.\n",
    "X_train = X_train.reshape(-1,28,28,1)\n",
    "plt.imshow(X_train[0],cmap='Greys')\n",
    "plt.show()"
   ],
   "metadata": {
    "collapsed": false,
    "ExecuteTime": {
     "start_time": "2023-08-01T10:47:42.288299Z",
     "end_time": "2023-08-01T10:47:42.402022Z"
    }
   }
  },
  {
   "cell_type": "code",
   "execution_count": 7,
   "outputs": [
    {
     "name": "stdout",
     "output_type": "stream",
     "text": [
      "[107][118][127][134][139][143][146][150][153][156][158][160][163][165][159][166][168][170][170][171][171][171][172][171][171][170][170][169]\n",
      "[111][121][129][135][141][144][148][151][154][157][160][163][164][170][119][152][171][171][170][171][172][172][172][172][172][171][171][170]\n",
      "[113][123][131][137][142][145][150][152][155][158][161][163][164][172][105][142][170][171][171][171][172][172][173][173][172][171][171][171]\n",
      "[116][125][133][139][143][146][151][153][156][159][162][163][167][167][95][144][171][172][172][172][172][172][173][173][173][172][172][171]\n",
      "[117][126][134][140][145][149][153][156][158][161][163][164][175][156][87][154][172][173][173][173][173][173][174][174][174][173][172][172]\n",
      "[119][128][136][142][146][150][153][156][159][163][165][164][184][148][89][164][172][174][174][174][174][175][175][174][175][174][173][173]\n",
      "[122][130][138][143][147][150][154][158][162][165][166][172][181][128][94][170][173][175][174][175][176][177][177][177][177][175][175][174]\n",
      "[122][132][139][145][149][152][156][160][163][165][166][181][172][103][113][175][176][178][178][179][179][179][179][178][179][177][175][174]\n",
      "[125][134][141][147][150][153][157][161][164][167][168][184][179][116][126][165][176][179][180][180][181][180][180][180][179][178][177][176]\n",
      "[128][135][142][148][152][154][158][162][165][168][170][187][180][156][161][124][143][179][178][178][181][182][181][180][181][180][179][179]\n",
      "[129][136][144][150][153][155][159][163][166][169][172][187][184][153][102][117][110][175][169][154][182][183][183][182][182][181][181][179]\n",
      "[131][138][145][150][155][157][161][165][168][174][190][189][175][146][94][97][113][151][158][129][184][184][184][184][183][183][182][180]\n",
      "[131][139][146][151][155][159][163][167][175][182][179][171][159][114][102][89][121][136][136][96][172][186][186][185][185][184][182][181]\n",
      "[131][140][147][154][157][160][164][179][186][191][187][180][157][100][88][84][108][111][126][90][120][186][187][187][186][185][184][182]\n",
      "[133][141][149][155][158][160][174][201][189][165][151][143][146][120][87][78][87][76][108][98][96][181][188][187][186][186][185][183]\n",
      "[133][141][150][156][160][161][179][197][174][135][99][72][95][134][97][72][74][68][116][105][108][187][189][187][187][186][186][185]\n",
      "[134][143][151][156][161][163][179][194][156][110][74][42][52][139][94][67][75][75][118][106][129][189][191][190][188][188][187][186]\n",
      "[135][144][152][158][163][163][177][193][161][122][84][43][71][134][81][57][71][88][112][98][157][193][193][192][190][190][189][188]\n",
      "[136][144][152][158][162][163][176][192][164][128][98][62][60][100][71][76][96][101][105][95][174][195][194][194][194][193][191][190]\n",
      "[137][145][152][159][164][165][178][191][164][135][113][82][59][87][98][111][120][108][97][108][190][196][195][195][194][193][193][192]\n",
      "[139][146][154][160][164][165][175][186][163][139][112][85][67][102][126][133][126][105][104][176][197][198][197][196][195][195][194][193]\n",
      "[138][147][155][161][165][167][172][186][163][137][107][87][76][106][122][125][117][96][156][199][199][200][198][196][196][195][195][194]\n",
      "[139][148][156][163][166][168][172][180][158][131][108][99][86][108][118][116][103][107][191][202][201][200][200][200][199][197][198][196]\n",
      "[140][149][157][164][168][167][177][178][155][131][118][105][87][100][106][100][96][164][202][202][202][202][202][201][200][199][199][198]\n",
      "[140][150][157][165][167][170][181][175][152][130][115][98][82][85][90][99][165][202][203][204][203][203][202][202][201][201][200][200]\n",
      "[142][150][159][165][170][191][173][157][144][119][97][84][79][79][91][172][202][203][203][205][204][204][204][203][202][202][201][200]\n",
      "[142][151][160][165][188][190][187][150][119][109][85][79][79][78][137][203][205][206][206][207][207][206][206][204][205][204][203][202]\n",
      "[142][151][160][172][196][188][188][190][135][96][86][77][77][79][176][205][207][207][207][207][207][207][206][206][206][204][203][202]\n"
     ]
    }
   ],
   "source": [
    "import sys\n",
    "\n",
    "for x in X_train[0]:\n",
    "    for i in x:\n",
    "        sys.stdout.write(\"%-4s\"%i)\n",
    "    sys.stdout.write('\\n')"
   ],
   "metadata": {
    "collapsed": false,
    "ExecuteTime": {
     "start_time": "2023-08-01T10:47:43.371351Z",
     "end_time": "2023-08-01T10:47:43.400255Z"
    }
   }
  },
  {
   "cell_type": "code",
   "execution_count": 8,
   "outputs": [],
   "source": [
    "X_train = X_train.reshape(X_train.shape[0],784).astype('float64')/255\n",
    "X_test = pd.DataFrame(X_test_df).to_numpy()\n",
    "X_test = X_test.reshape(X_test.shape[0],784).astype('float64')/255\n"
   ],
   "metadata": {
    "collapsed": false,
    "ExecuteTime": {
     "start_time": "2023-08-01T10:47:45.150282Z",
     "end_time": "2023-08-01T10:47:45.255575Z"
    }
   }
  },
  {
   "cell_type": "code",
   "execution_count": 9,
   "outputs": [
    {
     "name": "stdout",
     "output_type": "stream",
     "text": [
      "class : 3\n"
     ]
    }
   ],
   "source": [
    "#클래스 값을 확인해 봅시다\n",
    "print('class : %d'%(y_train_df[0]))"
   ],
   "metadata": {
    "collapsed": false,
    "ExecuteTime": {
     "start_time": "2023-08-01T10:47:46.022265Z",
     "end_time": "2023-08-01T10:47:46.035222Z"
    }
   }
  },
  {
   "cell_type": "code",
   "execution_count": 10,
   "outputs": [
    {
     "name": "stdout",
     "output_type": "stream",
     "text": [
      "[0. 0. 0. 1. 0. 0. 0. 0. 0. 0. 0. 0. 0. 0. 0. 0. 0. 0. 0. 0. 0. 0. 0. 0.\n",
      " 0.]\n"
     ]
    }
   ],
   "source": [
    "y_train = to_categorical(y_train_df,25)\n",
    "y_test =to_categorical(y_test_df,25)\n",
    "print(y_train[0])"
   ],
   "metadata": {
    "collapsed": false,
    "ExecuteTime": {
     "start_time": "2023-08-01T10:47:46.715560Z",
     "end_time": "2023-08-01T10:47:46.724530Z"
    }
   }
  },
  {
   "cell_type": "code",
   "execution_count": 11,
   "outputs": [
    {
     "name": "stdout",
     "output_type": "stream",
     "text": [
      "Model: \"sequential\"\n",
      "_________________________________________________________________\n",
      " Layer (type)                Output Shape              Param #   \n",
      "=================================================================\n",
      " dense (Dense)               (None, 512)               401920    \n",
      "                                                                 \n",
      " dense_1 (Dense)             (None, 25)                12825     \n",
      "                                                                 \n",
      "=================================================================\n",
      "Total params: 414,745\n",
      "Trainable params: 414,745\n",
      "Non-trainable params: 0\n",
      "_________________________________________________________________\n"
     ]
    }
   ],
   "source": [
    "model = Sequential()\n",
    "model.add(Dense(512,input_dim=784,activation='relu'))\n",
    "model.add(Dense(25,activation='softmax'))\n",
    "model.summary()"
   ],
   "metadata": {
    "collapsed": false,
    "ExecuteTime": {
     "start_time": "2023-08-01T10:47:47.566952Z",
     "end_time": "2023-08-01T10:47:50.644351Z"
    }
   }
  },
  {
   "cell_type": "code",
   "execution_count": 12,
   "outputs": [],
   "source": [
    "model.compile(loss='categorical_crossentropy',optimizer='adam',\n",
    "              metrics=['accuracy'])"
   ],
   "metadata": {
    "collapsed": false,
    "ExecuteTime": {
     "start_time": "2023-08-01T10:47:50.616445Z",
     "end_time": "2023-08-01T10:47:50.651330Z"
    }
   }
  },
  {
   "cell_type": "code",
   "execution_count": 13,
   "outputs": [],
   "source": [
    "import os\n",
    "modelpath = '../data/model/MNIST_MLP.hdf5'\n",
    "MODEL_DIR = '../data/model/'\n",
    "# if not os.path.exists(MODEL_DIR):\n",
    "#     os.path.\n",
    "checkpointer = ModelCheckpoint(filepath=modelpath,monitor='val_loss',\n",
    "                               verbose=1,save_best_only=True)\n",
    "early_stopping_callback = EarlyStopping(monitor='val_loss',patience=10)"
   ],
   "metadata": {
    "collapsed": false,
    "ExecuteTime": {
     "start_time": "2023-08-01T10:47:50.631395Z",
     "end_time": "2023-08-01T10:47:50.651330Z"
    }
   }
  },
  {
   "cell_type": "code",
   "execution_count": 18,
   "outputs": [
    {
     "name": "stdout",
     "output_type": "stream",
     "text": [
      "\n",
      "Epoch 1: val_loss improved from 0.04554 to 0.03730, saving model to ../data/model\\MNIST_MLP.hdf5\n",
      "\n",
      "Epoch 2: val_loss did not improve from 0.03730\n",
      "\n",
      "Epoch 3: val_loss improved from 0.03730 to 0.03108, saving model to ../data/model\\MNIST_MLP.hdf5\n",
      "\n",
      "Epoch 4: val_loss did not improve from 0.03108\n",
      "\n",
      "Epoch 5: val_loss improved from 0.03108 to 0.02495, saving model to ../data/model\\MNIST_MLP.hdf5\n",
      "\n",
      "Epoch 6: val_loss did not improve from 0.02495\n",
      "\n",
      "Epoch 7: val_loss did not improve from 0.02495\n",
      "\n",
      "Epoch 8: val_loss improved from 0.02495 to 0.02012, saving model to ../data/model\\MNIST_MLP.hdf5\n",
      "\n",
      "Epoch 9: val_loss did not improve from 0.02012\n",
      "\n",
      "Epoch 10: val_loss improved from 0.02012 to 0.01767, saving model to ../data/model\\MNIST_MLP.hdf5\n",
      "\n",
      "Epoch 11: val_loss improved from 0.01767 to 0.01600, saving model to ../data/model\\MNIST_MLP.hdf5\n",
      "\n",
      "Epoch 12: val_loss improved from 0.01600 to 0.01526, saving model to ../data/model\\MNIST_MLP.hdf5\n",
      "\n",
      "Epoch 13: val_loss did not improve from 0.01526\n",
      "\n",
      "Epoch 14: val_loss improved from 0.01526 to 0.01453, saving model to ../data/model\\MNIST_MLP.hdf5\n",
      "\n",
      "Epoch 15: val_loss improved from 0.01453 to 0.01286, saving model to ../data/model\\MNIST_MLP.hdf5\n",
      "\n",
      "Epoch 16: val_loss improved from 0.01286 to 0.01178, saving model to ../data/model\\MNIST_MLP.hdf5\n",
      "\n",
      "Epoch 17: val_loss improved from 0.01178 to 0.00944, saving model to ../data/model\\MNIST_MLP.hdf5\n",
      "\n",
      "Epoch 18: val_loss did not improve from 0.00944\n",
      "\n",
      "Epoch 19: val_loss did not improve from 0.00944\n",
      "\n",
      "Epoch 20: val_loss did not improve from 0.00944\n",
      "\n",
      "Epoch 21: val_loss did not improve from 0.00944\n",
      "\n",
      "Epoch 22: val_loss did not improve from 0.00944\n",
      "\n",
      "Epoch 23: val_loss did not improve from 0.00944\n",
      "\n",
      "Epoch 24: val_loss did not improve from 0.00944\n",
      "\n",
      "Epoch 25: val_loss did not improve from 0.00944\n",
      "\n",
      "Epoch 26: val_loss did not improve from 0.00944\n",
      "\n",
      "Epoch 27: val_loss did not improve from 0.00944\n"
     ]
    }
   ],
   "source": [
    "#모델을 실행합니다.\n",
    "history = model.fit(X_train,y_train,validation_split=0.25,epochs=100,\n",
    "                    batch_size=200,verbose=0,callbacks=[early_stopping_callback,checkpointer])\n"
   ],
   "metadata": {
    "collapsed": false,
    "ExecuteTime": {
     "start_time": "2023-08-01T11:01:00.828345Z",
     "end_time": "2023-08-01T11:01:08.240773Z"
    }
   }
  },
  {
   "cell_type": "code",
   "execution_count": 19,
   "outputs": [
    {
     "name": "stdout",
     "output_type": "stream",
     "text": [
      "225/225 [==============================] - 1s 3ms/step - loss: 1.0854 - accuracy: 0.7522\n",
      "\n",
      " TEST Accuracy: 0.7522\n"
     ]
    }
   ],
   "source": [
    "#테스트 정확도를 출력합니다.\n",
    "print('\\n TEST Accuracy: %.4f'%(model.evaluate(X_test,y_test)[1]))"
   ],
   "metadata": {
    "collapsed": false,
    "ExecuteTime": {
     "start_time": "2023-08-01T11:01:13.221191Z",
     "end_time": "2023-08-01T11:01:13.901914Z"
    }
   }
  },
  {
   "cell_type": "code",
   "execution_count": 16,
   "outputs": [],
   "source": [
    "#검증셋과 학습셋의 오차를 저장\n",
    "y_vloss = history.history['val_loss']\n",
    "y_loss = history.history['loss']"
   ],
   "metadata": {
    "collapsed": false,
    "ExecuteTime": {
     "start_time": "2023-08-01T10:48:07.794710Z",
     "end_time": "2023-08-01T10:48:07.808662Z"
    }
   }
  },
  {
   "cell_type": "code",
   "execution_count": 17,
   "outputs": [
    {
     "data": {
      "text/plain": "<Figure size 640x480 with 1 Axes>",
      "image/png": "[encoded data removed]"
     },
     "metadata": {},
     "output_type": "display_data"
    }
   ],
   "source": [
    "import numpy as np\n",
    "x_len = np.arange(len(y_loss))\n",
    "\n",
    "plt.plot(x_len,y_vloss,marker='.',c='red',label='Testset_loss')\n",
    "plt.plot(x_len,y_loss,marker='.',c='blue',label='Trainset_loss')\n",
    "plt.legend(loc='upper right')\n",
    "plt.grid()\n",
    "plt.xlabel('epoch')\n",
    "plt.ylabel('loss')\n",
    "plt.show()"
   ],
   "metadata": {
    "collapsed": false,
    "ExecuteTime": {
     "start_time": "2023-08-01T10:48:08.458820Z",
     "end_time": "2023-08-01T10:48:08.541542Z"
    }
   }
  },
  {
   "cell_type": "code",
   "execution_count": null,
   "outputs": [],
   "source": [],
   "metadata": {
    "collapsed": false
   }
  }
 ],
 "metadata": {
  "kernelspec": {
   "display_name": "Python 3",
   "language": "python",
   "name": "python3"
  },
  "language_info": {
   "codemirror_mode": {
    "name": "ipython",
    "version": 2
   },
   "file_extension": ".py",
   "mimetype": "text/x-python",
   "name": "python",
   "nbconvert_exporter": "python",
   "pygments_lexer": "ipython2",
   "version": "2.7.6"
  }
 },
 "nbformat": 4,
 "nbformat_minor": 0
}
