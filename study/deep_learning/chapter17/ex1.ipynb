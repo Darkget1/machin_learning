{
 "cells": [
  {
   "cell_type": "code",
   "execution_count": 1,
   "metadata": {
    "collapsed": true,
    "ExecuteTime": {
     "start_time": "2023-08-01T12:00:32.028880Z",
     "end_time": "2023-08-01T12:00:34.959992Z"
    }
   },
   "outputs": [],
   "source": [
    "from keras.preprocessing.text import text_to_word_sequence\n"
   ]
  },
  {
   "cell_type": "code",
   "execution_count": 2,
   "outputs": [],
   "source": [
    "#전처리할 텍스트를 정합니다.\n",
    "text = '해보지 않으면 해낼 수 없다'\n"
   ],
   "metadata": {
    "collapsed": false,
    "ExecuteTime": {
     "start_time": "2023-08-01T12:00:45.964795Z",
     "end_time": "2023-08-01T12:00:45.980740Z"
    }
   }
  },
  {
   "cell_type": "code",
   "execution_count": 4,
   "outputs": [
    {
     "name": "stdout",
     "output_type": "stream",
     "text": [
      "\n",
      "원문 : \n",
      " 해보지 않으면 해낼 수 없다\n",
      "\n",
      "토큰화: \n",
      " ['해보지', '않으면', '해낼', '수', '없다']\n"
     ]
    }
   ],
   "source": [
    "#해당 텍스트를 토큰화합니다.\n",
    "result =text_to_word_sequence(text)\n",
    "print('\\n원문 : \\n',text)\n",
    "print('\\n토큰화: \\n',result)"
   ],
   "metadata": {
    "collapsed": false,
    "ExecuteTime": {
     "start_time": "2023-08-01T12:02:00.606692Z",
     "end_time": "2023-08-01T12:02:00.620645Z"
    }
   }
  },
  {
   "cell_type": "code",
   "execution_count": 5,
   "outputs": [],
   "source": [
    "docs = ['먼저 텍스트의 각 단어를 나누어 토큰화합니다.',\n",
    "        '텍스트의 단어로 토큰화해야 딥러닝에서 인식됩니다.',\n",
    "        '토큰화한 결과는 딥러닝에서 사용할 수 있습니다.',]"
   ],
   "metadata": {
    "collapsed": false,
    "ExecuteTime": {
     "start_time": "2023-08-01T12:03:03.035002Z",
     "end_time": "2023-08-01T12:03:03.046962Z"
    }
   }
  },
  {
   "cell_type": "code",
   "execution_count": 6,
   "outputs": [
    {
     "name": "stdout",
     "output_type": "stream",
     "text": [
      "\n",
      "단어 카운트\n",
      " OrderedDict([('먼저', 1), ('텍스트의', 2), ('각', 1), ('단어를', 1), ('나누어', 1), ('토큰화합니다', 1), ('단어로', 1), ('토큰화해야', 1), ('딥러닝에서', 2), ('인식됩니다', 1), ('토큰화한', 1), ('결과는', 1), ('사용할', 1), ('수', 1), ('있습니다', 1)])\n"
     ]
    }
   ],
   "source": [
    "from keras.preprocessing.text import Tokenizer\n",
    "token = Tokenizer()\n",
    "token.fit_on_texts(docs)\n",
    "print('\\n단어 카운트\\n',token.word_counts)"
   ],
   "metadata": {
    "collapsed": false,
    "ExecuteTime": {
     "start_time": "2023-08-01T12:04:07.507427Z",
     "end_time": "2023-08-01T12:04:07.519387Z"
    }
   }
  },
  {
   "cell_type": "code",
   "execution_count": 7,
   "outputs": [
    {
     "name": "stdout",
     "output_type": "stream",
     "text": [
      "\n",
      "문장 카운트 :  3\n"
     ]
    }
   ],
   "source": [
    "print('\\n문장 카운트 : ',token.document_count)"
   ],
   "metadata": {
    "collapsed": false,
    "ExecuteTime": {
     "start_time": "2023-08-01T12:04:30.875068Z",
     "end_time": "2023-08-01T12:04:30.895054Z"
    }
   }
  },
  {
   "cell_type": "code",
   "execution_count": 8,
   "outputs": [
    {
     "name": "stdout",
     "output_type": "stream",
     "text": [
      "\n",
      " 단어가 몇 개의 문장에 포함되어 있는가 : \n",
      " defaultdict(<class 'int'>, {'단어를': 1, '각': 1, '토큰화합니다': 1, '나누어': 1, '먼저': 1, '텍스트의': 2, '토큰화해야': 1, '딥러닝에서': 2, '단어로': 1, '인식됩니다': 1, '있습니다': 1, '사용할': 1, '수': 1, '토큰화한': 1, '결과는': 1})\n"
     ]
    }
   ],
   "source": [
    "print('\\n 단어가 몇 개의 문장에 포함되어 있는가 : \\n',token.word_docs)"
   ],
   "metadata": {
    "collapsed": false,
    "ExecuteTime": {
     "start_time": "2023-08-01T12:05:11.443584Z",
     "end_time": "2023-08-01T12:05:11.491424Z"
    }
   }
  },
  {
   "cell_type": "code",
   "execution_count": 9,
   "outputs": [
    {
     "name": "stdout",
     "output_type": "stream",
     "text": [
      "\n",
      "각 단어에 매겨진 인덱스 값:\n",
      " {'텍스트의': 1, '딥러닝에서': 2, '먼저': 3, '각': 4, '단어를': 5, '나누어': 6, '토큰화합니다': 7, '단어로': 8, '토큰화해야': 9, '인식됩니다': 10, '토큰화한': 11, '결과는': 12, '사용할': 13, '수': 14, '있습니다': 15}\n"
     ]
    }
   ],
   "source": [
    "print('\\n각 단어에 매겨진 인덱스 값:\\n',token.word_index)"
   ],
   "metadata": {
    "collapsed": false,
    "ExecuteTime": {
     "start_time": "2023-08-01T12:05:41.396386Z",
     "end_time": "2023-08-01T12:05:41.407350Z"
    }
   }
  },
  {
   "cell_type": "code",
   "execution_count": 14,
   "outputs": [
    {
     "name": "stdout",
     "output_type": "stream",
     "text": [
      "{'오랫동안': 1, '꿈꾸는': 2, '이는': 3, '그': 4, '꿈을': 5, '닮아간다': 6}\n"
     ]
    }
   ],
   "source": [
    "#원핫 인코딩\n",
    "text = '오랫동안 꿈꾸는 이는 그 꿈을 닮아간다'\n",
    "token = Tokenizer()\n",
    "token.fit_on_texts([text])\n",
    "print(token.word_index)"
   ],
   "metadata": {
    "collapsed": false,
    "ExecuteTime": {
     "start_time": "2023-08-01T12:08:58.042370Z",
     "end_time": "2023-08-01T12:08:58.053333Z"
    }
   }
  },
  {
   "cell_type": "code",
   "execution_count": 15,
   "outputs": [
    {
     "name": "stdout",
     "output_type": "stream",
     "text": [
      "[[1, 2, 3, 4, 5, 6]]\n"
     ]
    }
   ],
   "source": [
    "x = token.texts_to_sequences([text])\n",
    "print(x)"
   ],
   "metadata": {
    "collapsed": false,
    "ExecuteTime": {
     "start_time": "2023-08-01T12:09:12.624824Z",
     "end_time": "2023-08-01T12:09:12.637817Z"
    }
   }
  },
  {
   "cell_type": "code",
   "execution_count": 17,
   "outputs": [
    {
     "name": "stdout",
     "output_type": "stream",
     "text": [
      "[[[[1. 0. 0. 0. 0. 0. 0.]\n",
      "   [0. 1. 0. 0. 0. 0. 0.]\n",
      "   [1. 0. 0. 0. 0. 0. 0.]\n",
      "   [1. 0. 0. 0. 0. 0. 0.]\n",
      "   [1. 0. 0. 0. 0. 0. 0.]\n",
      "   [1. 0. 0. 0. 0. 0. 0.]\n",
      "   [1. 0. 0. 0. 0. 0. 0.]]\n",
      "\n",
      "  [[1. 0. 0. 0. 0. 0. 0.]\n",
      "   [1. 0. 0. 0. 0. 0. 0.]\n",
      "   [0. 1. 0. 0. 0. 0. 0.]\n",
      "   [1. 0. 0. 0. 0. 0. 0.]\n",
      "   [1. 0. 0. 0. 0. 0. 0.]\n",
      "   [1. 0. 0. 0. 0. 0. 0.]\n",
      "   [1. 0. 0. 0. 0. 0. 0.]]\n",
      "\n",
      "  [[1. 0. 0. 0. 0. 0. 0.]\n",
      "   [1. 0. 0. 0. 0. 0. 0.]\n",
      "   [1. 0. 0. 0. 0. 0. 0.]\n",
      "   [0. 1. 0. 0. 0. 0. 0.]\n",
      "   [1. 0. 0. 0. 0. 0. 0.]\n",
      "   [1. 0. 0. 0. 0. 0. 0.]\n",
      "   [1. 0. 0. 0. 0. 0. 0.]]\n",
      "\n",
      "  [[1. 0. 0. 0. 0. 0. 0.]\n",
      "   [1. 0. 0. 0. 0. 0. 0.]\n",
      "   [1. 0. 0. 0. 0. 0. 0.]\n",
      "   [1. 0. 0. 0. 0. 0. 0.]\n",
      "   [0. 1. 0. 0. 0. 0. 0.]\n",
      "   [1. 0. 0. 0. 0. 0. 0.]\n",
      "   [1. 0. 0. 0. 0. 0. 0.]]\n",
      "\n",
      "  [[1. 0. 0. 0. 0. 0. 0.]\n",
      "   [1. 0. 0. 0. 0. 0. 0.]\n",
      "   [1. 0. 0. 0. 0. 0. 0.]\n",
      "   [1. 0. 0. 0. 0. 0. 0.]\n",
      "   [1. 0. 0. 0. 0. 0. 0.]\n",
      "   [0. 1. 0. 0. 0. 0. 0.]\n",
      "   [1. 0. 0. 0. 0. 0. 0.]]\n",
      "\n",
      "  [[1. 0. 0. 0. 0. 0. 0.]\n",
      "   [1. 0. 0. 0. 0. 0. 0.]\n",
      "   [1. 0. 0. 0. 0. 0. 0.]\n",
      "   [1. 0. 0. 0. 0. 0. 0.]\n",
      "   [1. 0. 0. 0. 0. 0. 0.]\n",
      "   [1. 0. 0. 0. 0. 0. 0.]\n",
      "   [0. 1. 0. 0. 0. 0. 0.]]]]\n"
     ]
    }
   ],
   "source": [
    "from keras.utils import to_categorical\n",
    "#인덱스 수에 하나를 추가해서 원-핫 인코딩 배열 만들기\n",
    "word_size = len(token.word_index)+1\n",
    "x = to_categorical(x,num_classes=word_size)\n",
    "print(x)"
   ],
   "metadata": {
    "collapsed": false,
    "ExecuteTime": {
     "start_time": "2023-08-01T12:10:21.112532Z",
     "end_time": "2023-08-01T12:10:21.125489Z"
    }
   }
  },
  {
   "cell_type": "code",
   "execution_count": 31,
   "outputs": [],
   "source": [
    "from keras.layers import Embedding\n",
    "from keras.models import Sequential\n",
    "from numpy import array\n",
    "model = Sequential()\n",
    "model.add(Embedding(16,4))"
   ],
   "metadata": {
    "collapsed": false,
    "ExecuteTime": {
     "start_time": "2023-08-01T12:54:13.320443Z",
     "end_time": "2023-08-01T12:54:13.334396Z"
    }
   }
  },
  {
   "cell_type": "code",
   "execution_count": 32,
   "outputs": [],
   "source": [
    "docs = ['너무 재밌네요','최고예요','참 잘 만든 영화에요','추천하고 싶은 영화입니다',\n",
    "        '한번 더 보고싶네요','글쎄요','별로예요','생각보다 지루하네요','연기가 어색해요',\n",
    "        '재미없어요']\n",
    "#긍정 리뷰는 1, 부정 리뷰는 0으로 클래스를 지정합니다.\n",
    "classes = array([1,1,1,1,1,0,0,0,0,0])"
   ],
   "metadata": {
    "collapsed": false,
    "ExecuteTime": {
     "start_time": "2023-08-01T12:54:14.171834Z",
     "end_time": "2023-08-01T12:54:14.175822Z"
    }
   }
  },
  {
   "cell_type": "code",
   "execution_count": 33,
   "outputs": [
    {
     "name": "stdout",
     "output_type": "stream",
     "text": [
      "{'너무': 1, '재밌네요': 2, '최고예요': 3, '참': 4, '잘': 5, '만든': 6, '영화에요': 7, '추천하고': 8, '싶은': 9, '영화입니다': 10, '한번': 11, '더': 12, '보고싶네요': 13, '글쎄요': 14, '별로예요': 15, '생각보다': 16, '지루하네요': 17, '연기가': 18, '어색해요': 19, '재미없어요': 20}\n"
     ]
    }
   ],
   "source": [
    "#토큰화\n",
    "token = Tokenizer()\n",
    "token.fit_on_texts(docs)\n",
    "print(token.word_index)"
   ],
   "metadata": {
    "collapsed": false,
    "ExecuteTime": {
     "start_time": "2023-08-01T12:54:14.858197Z",
     "end_time": "2023-08-01T12:54:14.878131Z"
    }
   }
  },
  {
   "cell_type": "code",
   "execution_count": 34,
   "outputs": [
    {
     "name": "stdout",
     "output_type": "stream",
     "text": [
      "\n",
      "리뷰 테스트, 토큰화 결과 : \n",
      " [[1, 2], [3], [4, 5, 6, 7], [8, 9, 10], [11, 12, 13], [14], [15], [16, 17], [18, 19], [20]]\n"
     ]
    }
   ],
   "source": [
    "x = token.texts_to_sequences(docs)\n",
    "print('\\n리뷰 테스트, 토큰화 결과 : \\n',x)"
   ],
   "metadata": {
    "collapsed": false,
    "ExecuteTime": {
     "start_time": "2023-08-01T12:54:15.794157Z",
     "end_time": "2023-08-01T12:54:15.814450Z"
    }
   }
  },
  {
   "cell_type": "code",
   "execution_count": 35,
   "outputs": [
    {
     "name": "stdout",
     "output_type": "stream",
     "text": [
      "\n",
      "패딩 결과:\n",
      " [[ 0  0  1  2]\n",
      " [ 0  0  0  3]\n",
      " [ 4  5  6  7]\n",
      " [ 0  8  9 10]\n",
      " [ 0 11 12 13]\n",
      " [ 0  0  0 14]\n",
      " [ 0  0  0 15]\n",
      " [ 0  0 16 17]\n",
      " [ 0  0 18 19]\n",
      " [ 0  0  0 20]]\n"
     ]
    }
   ],
   "source": [
    "from keras.utils import pad_sequences\n",
    "padded_x = pad_sequences(x,4)#서로의 다른길이의 데이터를 4로 맞추기\n",
    "print('\\n패딩 결과:\\n',padded_x)"
   ],
   "metadata": {
    "collapsed": false,
    "ExecuteTime": {
     "start_time": "2023-08-01T12:54:17.194763Z",
     "end_time": "2023-08-01T12:54:17.206726Z"
    }
   }
  },
  {
   "cell_type": "code",
   "execution_count": 36,
   "outputs": [],
   "source": [
    "word_size = len(token.word_index)+1"
   ],
   "metadata": {
    "collapsed": false,
    "ExecuteTime": {
     "start_time": "2023-08-01T12:54:17.930148Z",
     "end_time": "2023-08-01T12:54:17.940114Z"
    }
   }
  },
  {
   "cell_type": "code",
   "execution_count": 37,
   "outputs": [
    {
     "data": {
      "text/plain": "<keras.layers.core.embedding.Embedding at 0x17d60282fb0>"
     },
     "execution_count": 37,
     "metadata": {},
     "output_type": "execute_result"
    }
   ],
   "source": [
    "Embedding(word_size,8,input_length=4)"
   ],
   "metadata": {
    "collapsed": false,
    "ExecuteTime": {
     "start_time": "2023-08-01T12:54:18.765613Z",
     "end_time": "2023-08-01T12:54:18.789676Z"
    }
   }
  },
  {
   "cell_type": "code",
   "execution_count": 38,
   "outputs": [
    {
     "name": "stdout",
     "output_type": "stream",
     "text": [
      "Model: \"sequential_3\"\n",
      "_________________________________________________________________\n",
      " Layer (type)                Output Shape              Param #   \n",
      "=================================================================\n",
      " embedding_5 (Embedding)     (None, 4, 8)              168       \n",
      "                                                                 \n",
      " flatten_1 (Flatten)         (None, 32)                0         \n",
      "                                                                 \n",
      " dense_1 (Dense)             (None, 1)                 33        \n",
      "                                                                 \n",
      "=================================================================\n",
      "Total params: 201\n",
      "Trainable params: 201\n",
      "Non-trainable params: 0\n",
      "_________________________________________________________________\n"
     ]
    }
   ],
   "source": [
    "#단어 임베딩을 포함해 딥러닝 모델을 만들고 결과를 출력합니다.\n",
    "from keras.layers import Dense,Flatten\n",
    "model = Sequential()\n",
    "model.add(Embedding(word_size,8,input_length=4))\n",
    "model.add(Flatten())\n",
    "model.add(Dense(1,activation='sigmoid'))\n",
    "model.summary()"
   ],
   "metadata": {
    "collapsed": false,
    "ExecuteTime": {
     "start_time": "2023-08-01T12:54:19.339350Z",
     "end_time": "2023-08-01T12:54:19.370259Z"
    }
   }
  },
  {
   "cell_type": "code",
   "execution_count": 40,
   "outputs": [
    {
     "name": "stdout",
     "output_type": "stream",
     "text": [
      "Epoch 1/20\n",
      "1/1 [==============================] - 0s 205ms/step - loss: 0.6498 - accuracy: 0.9000\n",
      "Epoch 2/20\n",
      "1/1 [==============================] - 0s 10ms/step - loss: 0.6476 - accuracy: 0.9000\n",
      "Epoch 3/20\n",
      "1/1 [==============================] - 0s 15ms/step - loss: 0.6455 - accuracy: 0.9000\n",
      "Epoch 4/20\n",
      "1/1 [==============================] - 0s 15ms/step - loss: 0.6433 - accuracy: 0.9000\n",
      "Epoch 5/20\n",
      "1/1 [==============================] - 0s 19ms/step - loss: 0.6411 - accuracy: 0.9000\n",
      "Epoch 6/20\n",
      "1/1 [==============================] - 0s 7ms/step - loss: 0.6390 - accuracy: 0.9000\n",
      "Epoch 7/20\n",
      "1/1 [==============================] - 0s 13ms/step - loss: 0.6368 - accuracy: 0.9000\n",
      "Epoch 8/20\n",
      "1/1 [==============================] - 0s 12ms/step - loss: 0.6345 - accuracy: 0.9000\n",
      "Epoch 9/20\n",
      "1/1 [==============================] - 0s 11ms/step - loss: 0.6323 - accuracy: 0.9000\n",
      "Epoch 10/20\n",
      "1/1 [==============================] - 0s 15ms/step - loss: 0.6301 - accuracy: 0.9000\n",
      "Epoch 11/20\n",
      "1/1 [==============================] - 0s 9ms/step - loss: 0.6279 - accuracy: 0.9000\n",
      "Epoch 12/20\n",
      "1/1 [==============================] - 0s 11ms/step - loss: 0.6256 - accuracy: 0.9000\n",
      "Epoch 13/20\n",
      "1/1 [==============================] - 0s 17ms/step - loss: 0.6234 - accuracy: 0.9000\n",
      "Epoch 14/20\n",
      "1/1 [==============================] - 0s 9ms/step - loss: 0.6211 - accuracy: 0.9000\n",
      "Epoch 15/20\n",
      "1/1 [==============================] - 0s 15ms/step - loss: 0.6188 - accuracy: 0.9000\n",
      "Epoch 16/20\n",
      "1/1 [==============================] - 0s 12ms/step - loss: 0.6165 - accuracy: 0.9000\n",
      "Epoch 17/20\n",
      "1/1 [==============================] - 0s 11ms/step - loss: 0.6142 - accuracy: 0.9000\n",
      "Epoch 18/20\n",
      "1/1 [==============================] - 0s 14ms/step - loss: 0.6119 - accuracy: 0.9000\n",
      "Epoch 19/20\n",
      "1/1 [==============================] - 0s 13ms/step - loss: 0.6095 - accuracy: 0.9000\n",
      "Epoch 20/20\n",
      "1/1 [==============================] - 0s 12ms/step - loss: 0.6072 - accuracy: 0.9000\n",
      "1/1 [==============================] - 0s 58ms/step - loss: 0.6048 - accuracy: 0.9000\n",
      "\n",
      " Accuracy : 0.9000\n"
     ]
    }
   ],
   "source": [
    "model.compile(optimizer='adam',loss='binary_crossentropy',\n",
    "              metrics=['accuracy'])\n",
    "model.fit(padded_x,classes,epochs=20)\n",
    "print('\\n Accuracy : %.4f'%(model.evaluate(padded_x,classes)[1]))"
   ],
   "metadata": {
    "collapsed": false,
    "ExecuteTime": {
     "start_time": "2023-08-01T12:55:27.794192Z",
     "end_time": "2023-08-01T12:55:28.439003Z"
    }
   }
  },
  {
   "cell_type": "code",
   "execution_count": null,
   "outputs": [],
   "source": [],
   "metadata": {
    "collapsed": false
   }
  }
 ],
 "metadata": {
  "kernelspec": {
   "display_name": "Python 3",
   "language": "python",
   "name": "python3"
  },
  "language_info": {
   "codemirror_mode": {
    "name": "ipython",
    "version": 2
   },
   "file_extension": ".py",
   "mimetype": "text/x-python",
   "name": "python",
   "nbconvert_exporter": "python",
   "pygments_lexer": "ipython2",
   "version": "2.7.6"
  }
 },
 "nbformat": 4,
 "nbformat_minor": 0
}
