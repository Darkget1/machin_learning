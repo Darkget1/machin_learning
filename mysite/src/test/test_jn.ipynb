{
 "cells": [
  {
   "cell_type": "code",
   "execution_count": 1,
   "metadata": {
    "collapsed": true,
    "ExecuteTime": {
     "end_time": "2023-07-21T06:41:42.301062400Z",
     "start_time": "2023-07-21T06:41:41.731161200Z"
    }
   },
   "outputs": [
    {
     "name": "stdout",
     "output_type": "stream",
     "text": [
      "['https://www.coupang.com/vp/products/2638550?itemId=8797681&vendorItemId=3265972233&q=%EB%82%98%EC%9A%B0%ED%91%B8%EB%93%9C+%EC%BD%94%EC%9C%A0%EC%82%B0%EA%B7%A0&itemsCount=36&searchId=c9e3a658a02f44888e43a322561ee4df&rank=0', 'https://www.coupang.com/vp/products/2638549?itemId=7242818&vendorItemId=3272622782&pickType=COU_PICK&q=%EB%82%98%EC%9A%B0%ED%91%B8%EB%93%9C+%EC%BD%94%EC%9C%A0%EC%82%B0%EA%B7%A0&itemsCount=36&searchId=c9e3a658a02f44888e43a322561ee4df&rank=2', 'https://www.coupang.com/vp/products/6082626075?itemId=11283933766&vendorItemId=3278620062&q=%EB%82%98%EC%9A%B0%ED%91%B8%EB%93%9C+%EC%BD%94%EC%9C%A0%EC%82%B0%EA%B7%A0&itemsCount=36&searchId=c9e3a658a02f44888e43a322561ee4df&rank=3', 'https://www.coupang.com/vp/products/3316941?itemId=7674870823&vendorItemId=80994716051&q=%EB%82%98%EC%9A%B0%ED%91%B8%EB%93%9C+%EC%BD%94%EC%9C%A0%EC%82%B0%EA%B7%A0&itemsCount=36&searchId=c9e3a658a02f44888e43a322561ee4df&rank=15', 'https://www.coupang.com/vp/products/28090?itemId=68158&vendorItemId=3086587012&q=%EB%82%98%EC%9A%B0%ED%91%B8%EB%93%9C+%EC%BD%94%EC%9C%A0%EC%82%B0%EA%B7%A0&itemsCount=36&searchId=c9e3a658a02f44888e43a322561ee4df&rank=17', 'https://www.coupang.com/vp/products/27999?itemId=68041&vendorItemId=3086627054&q=%EB%82%98%EC%9A%B0%ED%91%B8%EB%93%9C+%EC%BD%94%EC%9C%A0%EC%82%B0%EA%B7%A0&itemsCount=36&searchId=c9e3a658a02f44888e43a322561ee4df&rank=20', 'https://www.coupang.com/vp/products/1779297764?itemId=3029777136&vendorItemId=71017875113&q=%EB%82%98%EC%9A%B0%ED%91%B8%EB%93%9C+%EC%BD%94%EC%9C%A0%EC%82%B0%EA%B7%A0&itemsCount=36&searchId=c9e3a658a02f44888e43a322561ee4df&rank=21', 'https://www.coupang.com/vp/products/26236?itemId=65414&vendorItemId=3085663794&q=%EB%82%98%EC%9A%B0%ED%91%B8%EB%93%9C+%EC%BD%94%EC%9C%A0%EC%82%B0%EA%B7%A0&itemsCount=36&searchId=c9e3a658a02f44888e43a322561ee4df&rank=25', 'https://www.coupang.com/vp/products/28014?itemId=68064&vendorItemId=3086601452&q=%EB%82%98%EC%9A%B0%ED%91%B8%EB%93%9C+%EC%BD%94%EC%9C%A0%EC%82%B0%EA%B7%A0&itemsCount=36&searchId=c9e3a658a02f44888e43a322561ee4df&rank=26', 'https://www.coupang.com/vp/products/22637474?itemId=87995795&vendorItemId=85101732873&q=%EB%82%98%EC%9A%B0%ED%91%B8%EB%93%9C+%EC%BD%94%EC%9C%A0%EC%82%B0%EA%B7%A0&itemsCount=36&searchId=c9e3a658a02f44888e43a322561ee4df&rank=28', 'https://www.coupang.com/vp/products/27997?itemId=2075640&vendorItemId=3086627649&q=%EB%82%98%EC%9A%B0%ED%91%B8%EB%93%9C+%EC%BD%94%EC%9C%A0%EC%82%B0%EA%B7%A0&itemsCount=36&searchId=c9e3a658a02f44888e43a322561ee4df&rank=32', 'https://www.coupang.com/vp/products/6157987336?itemId=12928534376&vendorItemId=81217791410&q=%EB%82%98%EC%9A%B0%ED%91%B8%EB%93%9C+%EC%BD%94%EC%9C%A0%EC%82%B0%EA%B7%A0&itemsCount=36&searchId=f77e4d9061dc45caac9b8142d4265f2b&rank=38', 'https://www.coupang.com/vp/products/6714272915?itemId=15597457164&vendorItemId=3180741512&q=%EB%82%98%EC%9A%B0%ED%91%B8%EB%93%9C+%EC%BD%94%EC%9C%A0%EC%82%B0%EA%B7%A0&itemsCount=36&searchId=f77e4d9061dc45caac9b8142d4265f2b&rank=40', 'https://www.coupang.com/vp/products/29287?itemId=70319&vendorItemId=3086401401&q=%EB%82%98%EC%9A%B0%ED%91%B8%EB%93%9C+%EC%BD%94%EC%9C%A0%EC%82%B0%EA%B7%A0&itemsCount=36&searchId=f77e4d9061dc45caac9b8142d4265f2b&rank=44', 'https://www.coupang.com/vp/products/6461426768?itemId=14214593167&vendorItemId=81926539884&q=%EB%82%98%EC%9A%B0%ED%91%B8%EB%93%9C+%EC%BD%94%EC%9C%A0%EC%82%B0%EA%B7%A0&itemsCount=36&searchId=f77e4d9061dc45caac9b8142d4265f2b&rank=45', 'https://www.coupang.com/vp/products/7248180342?itemId=18431645956&vendorItemId=3224013257&q=%EB%82%98%EC%9A%B0%ED%91%B8%EB%93%9C+%EC%BD%94%EC%9C%A0%EC%82%B0%EA%B7%A0&itemsCount=36&searchId=f77e4d9061dc45caac9b8142d4265f2b&rank=47', 'https://www.coupang.com/vp/products/438506?itemId=1199608&vendorItemId=3180780224&q=%EB%82%98%EC%9A%B0%ED%91%B8%EB%93%9C+%EC%BD%94%EC%9C%A0%EC%82%B0%EA%B7%A0&itemsCount=36&searchId=f77e4d9061dc45caac9b8142d4265f2b&rank=50', 'https://www.coupang.com/vp/products/356490?itemId=882372&vendorItemId=3146720968&q=%EB%82%98%EC%9A%B0%ED%91%B8%EB%93%9C+%EC%BD%94%EC%9C%A0%EC%82%B0%EA%B7%A0&itemsCount=36&searchId=f77e4d9061dc45caac9b8142d4265f2b&rank=55', 'https://www.coupang.com/vp/products/6942332527?itemId=9242017836&vendorItemId=76527665006&q=%EB%82%98%EC%9A%B0%ED%91%B8%EB%93%9C+%EC%BD%94%EC%9C%A0%EC%82%B0%EA%B7%A0&itemsCount=36&searchId=f77e4d9061dc45caac9b8142d4265f2b&rank=56', 'https://www.coupang.com/vp/products/1969921?itemId=8797680&vendorItemId=85222071590&q=%EB%82%98%EC%9A%B0%ED%91%B8%EB%93%9C+%EC%BD%94%EC%9C%A0%EC%82%B0%EA%B7%A0&itemsCount=36&searchId=f77e4d9061dc45caac9b8142d4265f2b&rank=57', 'https://www.coupang.com/vp/products/1366689128?itemId=12659301479&vendorItemId=81926667047&q=%EB%82%98%EC%9A%B0%ED%91%B8%EB%93%9C+%EC%BD%94%EC%9C%A0%EC%82%B0%EA%B7%A0&itemsCount=36&searchId=f77e4d9061dc45caac9b8142d4265f2b&rank=59', 'https://www.coupang.com/vp/products/3251030?itemId=2622755438&vendorItemId=81926513369&q=%EB%82%98%EC%9A%B0%ED%91%B8%EB%93%9C+%EC%BD%94%EC%9C%A0%EC%82%B0%EA%B7%A0&itemsCount=36&searchId=f77e4d9061dc45caac9b8142d4265f2b&rank=60', 'https://www.coupang.com/vp/products/6714053703?itemId=15596616061&vendorItemId=3086191674&q=%EB%82%98%EC%9A%B0%ED%91%B8%EB%93%9C+%EC%BD%94%EC%9C%A0%EC%82%B0%EA%B7%A0&itemsCount=36&searchId=f77e4d9061dc45caac9b8142d4265f2b&rank=61', 'https://www.coupang.com/vp/products/28023?itemId=7169050922&vendorItemId=78679900220&q=%EB%82%98%EC%9A%B0%ED%91%B8%EB%93%9C+%EC%BD%94%EC%9C%A0%EC%82%B0%EA%B7%A0&itemsCount=36&searchId=f77e4d9061dc45caac9b8142d4265f2b&rank=64', 'https://www.coupang.com/vp/products/46844277?itemId=65440&vendorItemId=3085673612&q=%EB%82%98%EC%9A%B0%ED%91%B8%EB%93%9C+%EC%BD%94%EC%9C%A0%EC%82%B0%EA%B7%A0&itemsCount=36&searchId=f77e4d9061dc45caac9b8142d4265f2b&rank=66', 'https://www.coupang.com/vp/products/28032?itemId=68085&vendorItemId=3086644837&q=%EB%82%98%EC%9A%B0%ED%91%B8%EB%93%9C+%EC%BD%94%EC%9C%A0%EC%82%B0%EA%B7%A0&itemsCount=36&searchId=f77e4d9061dc45caac9b8142d4265f2b&rank=70', 'https://www.coupang.com/vp/products/1969924?itemId=8797685&vendorItemId=3265929101&q=%EB%82%98%EC%9A%B0%ED%91%B8%EB%93%9C+%EC%BD%94%EC%9C%A0%EC%82%B0%EA%B7%A0&itemsCount=36&searchId=f77e4d9061dc45caac9b8142d4265f2b&rank=71', 'https://www.coupang.com/vp/products/3251033?itemId=973938294&vendorItemId=80539256186&q=%EB%82%98%EC%9A%B0%ED%91%B8%EB%93%9C+%EC%BD%94%EC%9C%A0%EC%82%B0%EA%B7%A0&itemsCount=36&searchId=bd2c895f2f604db8afe464229ca90883&rank=77', 'https://www.coupang.com/vp/products/3251031?itemId=2076108&vendorItemId=3279573591&q=%EB%82%98%EC%9A%B0%ED%91%B8%EB%93%9C+%EC%BD%94%EC%9C%A0%EC%82%B0%EA%B7%A0&itemsCount=36&searchId=bd2c895f2f604db8afe464229ca90883&rank=81', 'https://www.coupang.com/vp/products/28091?itemId=68160&vendorItemId=3086584498&q=%EB%82%98%EC%9A%B0%ED%91%B8%EB%93%9C+%EC%BD%94%EC%9C%A0%EC%82%B0%EA%B7%A0&itemsCount=36&searchId=bd2c895f2f604db8afe464229ca90883&rank=86', 'https://www.coupang.com/vp/products/198328103?itemId=572728049&vendorItemId=4503748992&q=%EB%82%98%EC%9A%B0%ED%91%B8%EB%93%9C+%EC%BD%94%EC%9C%A0%EC%82%B0%EA%B7%A0&itemsCount=36&searchId=bd2c895f2f604db8afe464229ca90883&rank=88', 'https://www.coupang.com/vp/products/1366688677?itemId=2398832741&vendorItemId=85719205614&q=%EB%82%98%EC%9A%B0%ED%91%B8%EB%93%9C+%EC%BD%94%EC%9C%A0%EC%82%B0%EA%B7%A0&itemsCount=36&searchId=bd2c895f2f604db8afe464229ca90883&rank=91', 'https://www.coupang.com/vp/products/30606?itemId=18633997296&vendorItemId=85935862266&q=%EB%82%98%EC%9A%B0%ED%91%B8%EB%93%9C+%EC%BD%94%EC%9C%A0%EC%82%B0%EA%B7%A0&itemsCount=36&searchId=bd2c895f2f604db8afe464229ca90883&rank=105', 'https://www.coupang.com/vp/products/26286?itemId=65493&vendorItemId=85923376022&q=%EB%82%98%EC%9A%B0%ED%91%B8%EB%93%9C+%EC%BD%94%EC%9C%A0%EC%82%B0%EA%B7%A0&itemsCount=36&searchId=b1c4ef030be140f3be806a8d9896e582&rank=108', 'https://www.coupang.com/vp/products/391701?itemId=884806104&vendorItemId=81926533020&q=%EB%82%98%EC%9A%B0%ED%91%B8%EB%93%9C+%EC%BD%94%EC%9C%A0%EC%82%B0%EA%B7%A0&itemsCount=36&searchId=b1c4ef030be140f3be806a8d9896e582&rank=118', 'https://www.coupang.com/vp/products/139891664?itemId=18753393003&vendorItemId=85885338490&q=%EB%82%98%EC%9A%B0%ED%91%B8%EB%93%9C+%EC%BD%94%EC%9C%A0%EC%82%B0%EA%B7%A0&itemsCount=36&searchId=2a0e0c99ed4c45be9420fea4f8ffd771&rank=323', 'https://www.coupang.com/vp/products/6525485052?itemId=14475285159&vendorItemId=3156631411&q=%EB%82%98%EC%9A%B0%ED%91%B8%EB%93%9C+%EC%BD%94%EC%9C%A0%EC%82%B0%EA%B7%A0&itemsCount=36&searchId=ebce0b9e15a0410a9227a340ca22fd19&rank=333']\n"
     ]
    }
   ],
   "source": [
    "import pandas as pd\n",
    "brand_list_df = pd.read_excel('comparison_list.xlsx')\n",
    "brand_list = brand_list_df['comparison_list'].to_list()\n",
    "\n",
    "url_list_df = pd.read_excel('나우푸드/Coupang_link_2023.5.14.xlsx')\n",
    "url_list = url_list_df['link'].to_list()\n",
    "print(url_list)\n",
    "\n",
    "\n"
   ]
  },
  {
   "cell_type": "code",
   "execution_count": 2,
   "outputs": [
    {
     "data": {
      "text/plain": "37"
     },
     "execution_count": 2,
     "metadata": {},
     "output_type": "execute_result"
    }
   ],
   "source": [
    "len(url_list)"
   ],
   "metadata": {
    "collapsed": false,
    "ExecuteTime": {
     "end_time": "2023-07-21T06:42:09.854602200Z",
     "start_time": "2023-07-21T06:42:09.839036700Z"
    }
   }
  },
  {
   "cell_type": "code",
   "execution_count": 3,
   "outputs": [],
   "source": [
    "import os\n",
    "path_list = os.listdir('나우푸드')"
   ],
   "metadata": {
    "collapsed": false,
    "ExecuteTime": {
     "end_time": "2023-07-21T06:44:58.012961200Z",
     "start_time": "2023-07-21T06:44:57.981712800Z"
    }
   }
  },
  {
   "cell_type": "code",
   "execution_count": 4,
   "outputs": [
    {
     "data": {
      "text/plain": "['Coupang_0_2023.04.xlsx',\n 'Coupang_10_2023.01.xlsx',\n 'Coupang_10_2023.02.xlsx',\n 'Coupang_10_2023.03.xlsx',\n 'Coupang_10_2023.04.xlsx',\n 'Coupang_11_2023.01.xlsx',\n 'Coupang_11_2023.02.xlsx',\n 'Coupang_11_2023.03.xlsx',\n 'Coupang_11_2023.04.xlsx',\n 'Coupang_12_2023.05.xlsx',\n 'Coupang_13_2023.01.xlsx',\n 'Coupang_13_2023.03.xlsx',\n 'Coupang_14_2023.01.xlsx',\n 'Coupang_14_2023.02.xlsx',\n 'Coupang_14_2023.03.xlsx',\n 'Coupang_14_2023.04.xlsx',\n 'Coupang_15_2023.01.xlsx',\n 'Coupang_15_2023.02.xlsx',\n 'Coupang_15_2023.03.xlsx',\n 'Coupang_15_2023.04.xlsx',\n 'Coupang_16_2023.03.xlsx',\n 'Coupang_16_2023.04.xlsx',\n 'Coupang_17_2023.01.xlsx',\n 'Coupang_17_2023.02.xlsx',\n 'Coupang_17_2023.03.xlsx',\n 'Coupang_17_2023.04.xlsx',\n 'Coupang_18_2023.01.xlsx',\n 'Coupang_18_2023.03.xlsx',\n 'Coupang_18_2023.04.xlsx',\n 'Coupang_19_2023.01.xlsx',\n 'Coupang_19_2023.03.xlsx',\n 'Coupang_1_2023.01.xlsx',\n 'Coupang_1_2023.02.xlsx',\n 'Coupang_1_2023.03.xlsx',\n 'Coupang_1_2023.04.xlsx',\n 'Coupang_20_2023.01.xlsx',\n 'Coupang_20_2023.02.xlsx',\n 'Coupang_20_2023.03.xlsx',\n 'Coupang_20_2023.04.xlsx',\n 'Coupang_21_2023.01.xlsx',\n 'Coupang_21_2023.02.xlsx',\n 'Coupang_21_2023.03.xlsx',\n 'Coupang_21_2023.04.xlsx',\n 'Coupang_22_2023.01.xlsx',\n 'Coupang_22_2023.02.xlsx',\n 'Coupang_22_2023.03.xlsx',\n 'Coupang_22_2023.04.xlsx',\n 'Coupang_23_2023.01.xlsx',\n 'Coupang_23_2023.02.xlsx',\n 'Coupang_23_2023.03.xlsx',\n 'Coupang_23_2023.04.xlsx',\n 'Coupang_24_2023.05.xlsx',\n 'Coupang_25_2023.03.xlsx',\n 'Coupang_25_2023.04.xlsx',\n 'Coupang_26_2023.01.xlsx',\n 'Coupang_26_2023.02.xlsx',\n 'Coupang_26_2023.03.xlsx',\n 'Coupang_26_2023.04.xlsx',\n 'Coupang_27_2023.02.xlsx',\n 'Coupang_27_2023.03.xlsx',\n 'Coupang_27_2023.04.xlsx',\n 'Coupang_28_2023.01.xlsx',\n 'Coupang_28_2023.02.xlsx',\n 'Coupang_28_2023.03.xlsx',\n 'Coupang_28_2023.04.xlsx',\n 'Coupang_29_2023.01.xlsx',\n 'Coupang_29_2023.02.xlsx',\n 'Coupang_29_2023.03.xlsx',\n 'Coupang_29_2023.04.xlsx',\n 'Coupang_2_2023.01.xlsx',\n 'Coupang_2_2023.02.xlsx',\n 'Coupang_2_2023.03.xlsx',\n 'Coupang_2_2023.04.xlsx',\n 'Coupang_30_2023.02.xlsx',\n 'Coupang_31_2022.06.xlsx',\n 'Coupang_32_2021.02.xlsx',\n 'Coupang_33_2023.01.xlsx',\n 'Coupang_33_2023.02.xlsx',\n 'Coupang_33_2023.03.xlsx',\n 'Coupang_33_2023.04.xlsx',\n 'Coupang_34_2023.01.xlsx',\n 'Coupang_34_2023.02.xlsx',\n 'Coupang_34_2023.03.xlsx',\n 'Coupang_34_2023.04.xlsx',\n 'Coupang_35_2023.01.xlsx',\n 'Coupang_35_2023.03.xlsx',\n 'Coupang_35_2023.04.xlsx',\n 'Coupang_36_2022.12.xlsx',\n 'Coupang_36_2023.01.xlsx',\n 'Coupang_3_2022.12.xlsx',\n 'Coupang_4_2023.01.xlsx',\n 'Coupang_4_2023.02.xlsx',\n 'Coupang_4_2023.03.xlsx',\n 'Coupang_4_2023.04.xlsx',\n 'Coupang_5_2023.01.xlsx',\n 'Coupang_5_2023.02.xlsx',\n 'Coupang_5_2023.03.xlsx',\n 'Coupang_5_2023.04.xlsx',\n 'Coupang_6_2021.04.xlsx',\n 'Coupang_7_2022.12.xlsx',\n 'Coupang_8_2022.11.xlsx',\n 'Coupang_9_2023.01.xlsx',\n 'Coupang_9_2023.02.xlsx',\n 'Coupang_9_2023.03.xlsx',\n 'Coupang_9_2023.04.xlsx',\n 'Coupang_link_2023.5.14.xlsx']"
     },
     "execution_count": 4,
     "metadata": {},
     "output_type": "execute_result"
    }
   ],
   "source": [
    "path_list"
   ],
   "metadata": {
    "collapsed": false,
    "ExecuteTime": {
     "end_time": "2023-07-21T06:45:02.163549400Z",
     "start_time": "2023-07-21T06:45:02.132306700Z"
    }
   }
  },
  {
   "cell_type": "code",
   "execution_count": null,
   "outputs": [],
   "source": [
    "\n",
    "for path in path_list:\n",
    "    if path.split('_')[1]=='0':\n"
   ],
   "metadata": {
    "collapsed": false
   }
  }
 ],
 "metadata": {
  "kernelspec": {
   "display_name": "Python 3",
   "language": "python",
   "name": "python3"
  },
  "language_info": {
   "codemirror_mode": {
    "name": "ipython",
    "version": 2
   },
   "file_extension": ".py",
   "mimetype": "text/x-python",
   "name": "python",
   "nbconvert_exporter": "python",
   "pygments_lexer": "ipython2",
   "version": "2.7.6"
  }
 },
 "nbformat": 4,
 "nbformat_minor": 0
}
