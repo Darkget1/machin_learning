{
 "cells": [
  {
   "cell_type": "code",
   "execution_count": 1,
   "outputs": [
    {
     "name": "stdout",
     "output_type": "stream",
     "text": [
      "안녕파이썬\n"
     ]
    }
   ],
   "source": [
    "print('안녕파이썬')"
   ],
   "metadata": {
    "collapsed": false,
    "ExecuteTime": {
     "end_time": "2023-07-06T01:49:13.951304100Z",
     "start_time": "2023-07-06T01:49:13.926120800Z"
    }
   }
  },
  {
   "cell_type": "code",
   "execution_count": 8,
   "outputs": [
    {
     "name": "stdout",
     "output_type": "stream",
     "text": [
      "100\n"
     ]
    }
   ],
   "source": [
    "a=100\n",
    "print(a)"
   ],
   "metadata": {
    "collapsed": false,
    "ExecuteTime": {
     "end_time": "2023-07-06T01:55:23.196919600Z",
     "start_time": "2023-07-06T01:55:23.182930300Z"
    }
   }
  },
  {
   "cell_type": "code",
   "execution_count": 9,
   "outputs": [
    {
     "name": "stdout",
     "output_type": "stream",
     "text": [
      "200\n"
     ]
    }
   ],
   "source": [
    "a=100\n",
    "a=200\n",
    "print(a)"
   ],
   "metadata": {
    "collapsed": false,
    "ExecuteTime": {
     "end_time": "2023-07-06T01:55:32.313892200Z",
     "start_time": "2023-07-06T01:55:32.298302Z"
    }
   }
  },
  {
   "cell_type": "code",
   "execution_count": 11,
   "outputs": [
    {
     "name": "stdout",
     "output_type": "stream",
     "text": [
      "이순신 서울시\n"
     ]
    }
   ],
   "source": [
    "name = '이순신'\n",
    "addr = '서울시'\n",
    "print(name,addr)"
   ],
   "metadata": {
    "collapsed": false,
    "ExecuteTime": {
     "end_time": "2023-07-06T01:56:07.437662700Z",
     "start_time": "2023-07-06T01:56:07.375201Z"
    }
   }
  },
  {
   "cell_type": "code",
   "execution_count": 12,
   "outputs": [
    {
     "name": "stdout",
     "output_type": "stream",
     "text": [
      "5년 후 나이 25\n"
     ]
    }
   ],
   "source": [
    "age = 20\n",
    "age = age +5\n",
    "print('5년 후 나이', age)"
   ],
   "metadata": {
    "collapsed": false,
    "ExecuteTime": {
     "end_time": "2023-07-06T01:56:28.041666700Z",
     "start_time": "2023-07-06T01:56:27.979269100Z"
    }
   }
  },
  {
   "cell_type": "code",
   "execution_count": 16,
   "outputs": [
    {
     "name": "stdout",
     "output_type": "stream",
     "text": [
      "30\n",
      "-10\n",
      "200\n"
     ]
    }
   ],
   "source": [
    "x = 10\n",
    "y = 20\n",
    "print(x+y)\n",
    "print(x-y)\n",
    "print(x*y)"
   ],
   "metadata": {
    "collapsed": false,
    "ExecuteTime": {
     "end_time": "2023-07-06T02:03:31.759823500Z",
     "start_time": "2023-07-06T02:03:31.757838400Z"
    }
   }
  },
  {
   "cell_type": "code",
   "execution_count": 1,
   "outputs": [
    {
     "name": "stdout",
     "output_type": "stream",
     "text": [
      "0.5\n",
      "10\n",
      "100\n",
      "0\n"
     ]
    }
   ],
   "source": [
    "x=10\n",
    "y=20\n",
    "print(x/y)\n",
    "print(x%y)\n",
    "print(x**2)\n",
    "print(x//y)"
   ],
   "metadata": {
    "collapsed": false,
    "ExecuteTime": {
     "end_time": "2023-07-06T02:10:28.903529700Z",
     "start_time": "2023-07-06T02:10:28.893002800Z"
    }
   }
  },
  {
   "cell_type": "code",
   "execution_count": 3,
   "outputs": [
    {
     "data": {
      "text/plain": "'파이썬파이썬파이썬파이썬파이썬'"
     },
     "execution_count": 3,
     "metadata": {},
     "output_type": "execute_result"
    }
   ],
   "source": [
    "start = '파이썬'\n",
    "end = '짱!'\n",
    "start+end\n",
    "word='파이썬'\n",
    "word*5"
   ],
   "metadata": {
    "collapsed": false,
    "ExecuteTime": {
     "end_time": "2023-07-06T02:10:49.808460700Z",
     "start_time": "2023-07-06T02:10:49.793042300Z"
    }
   }
  },
  {
   "cell_type": "code",
   "execution_count": 4,
   "outputs": [
    {
     "name": "stdout",
     "output_type": "stream",
     "text": [
      "이순신\n"
     ]
    }
   ],
   "source": [
    "name = input('입력이름 : ')\n",
    "print(name)"
   ],
   "metadata": {
    "collapsed": false,
    "ExecuteTime": {
     "end_time": "2023-07-06T02:11:29.792592700Z",
     "start_time": "2023-07-06T02:11:25.533392200Z"
    }
   }
  },
  {
   "cell_type": "code",
   "execution_count": 5,
   "outputs": [
    {
     "name": "stdout",
     "output_type": "stream",
     "text": [
      "50\n"
     ]
    }
   ],
   "source": [
    "x = int(input('숫자1 입력 :') )\n",
    "y = int(input('숫자2 입력 :'))\n",
    "print(x+y)"
   ],
   "metadata": {
    "collapsed": false,
    "ExecuteTime": {
     "end_time": "2023-07-06T02:14:49.561336200Z",
     "start_time": "2023-07-06T02:14:46.054981200Z"
    }
   }
  },
  {
   "cell_type": "code",
   "execution_count": 6,
   "outputs": [
    {
     "name": "stdout",
     "output_type": "stream",
     "text": [
      "7.5\n"
     ]
    }
   ],
   "source": [
    "z = float(input('숫자 입력 : '))\n",
    "print(z)"
   ],
   "metadata": {
    "collapsed": false,
    "ExecuteTime": {
     "end_time": "2023-07-06T02:15:14.366881400Z",
     "start_time": "2023-07-06T02:15:11.133955200Z"
    }
   }
  },
  {
   "cell_type": "code",
   "execution_count": 8,
   "outputs": [
    {
     "name": "stdout",
     "output_type": "stream",
     "text": [
      "파이썬\n",
      "짱\n"
     ]
    }
   ],
   "source": [
    "print('파이썬')\n",
    "print('짱')"
   ],
   "metadata": {
    "collapsed": false,
    "ExecuteTime": {
     "end_time": "2023-07-06T02:16:15.292650500Z",
     "start_time": "2023-07-06T02:16:15.275144200Z"
    }
   }
  },
  {
   "cell_type": "code",
   "execution_count": 10,
   "outputs": [
    {
     "name": "stdout",
     "output_type": "stream",
     "text": [
      "파이썬 짱\n"
     ]
    }
   ],
   "source": [
    "print('파이썬',end=' ')\n",
    "print('짱')"
   ],
   "metadata": {
    "collapsed": false,
    "ExecuteTime": {
     "end_time": "2023-07-06T02:16:46.729576900Z",
     "start_time": "2023-07-06T02:16:46.729576900Z"
    }
   }
  },
  {
   "cell_type": "code",
   "execution_count": 11,
   "outputs": [
    {
     "name": "stdout",
     "output_type": "stream",
     "text": [
      "입력한 이름은 이순신\n"
     ]
    }
   ],
   "source": [
    "name = input('이름 입력 : ')\n",
    "print('입력한 이름은', name)"
   ],
   "metadata": {
    "collapsed": false,
    "ExecuteTime": {
     "end_time": "2023-07-06T02:17:41.684641700Z",
     "start_time": "2023-07-06T02:17:38.959844600Z"
    }
   }
  },
  {
   "cell_type": "code",
   "execution_count": 12,
   "outputs": [
    {
     "name": "stdout",
     "output_type": "stream",
     "text": [
      "입력한 이름은 이순신\n"
     ]
    }
   ],
   "source": [
    "name = input('이름 입력 : ')\n",
    "print('입력한 이름은 %s' % name)"
   ],
   "metadata": {
    "collapsed": false,
    "ExecuteTime": {
     "end_time": "2023-07-06T02:19:14.387488400Z",
     "start_time": "2023-07-06T02:19:11.938929Z"
    }
   }
  },
  {
   "cell_type": "code",
   "execution_count": 20,
   "outputs": [
    {
     "name": "stdout",
     "output_type": "stream",
     "text": [
      "20 + 30 = 50\n",
      "20.000000 + 30.000000 = 50.000000\n"
     ]
    }
   ],
   "source": [
    "x = int(input('숫자1 입력: '))\n",
    "y = int(input('숫자2 입력: '))\n",
    "print('%d + %d = %d' % (x, y, x+y))\n",
    "print(f'{x:2f} + {y:2f} = {x+y:2f}')"
   ],
   "metadata": {
    "collapsed": false,
    "ExecuteTime": {
     "end_time": "2023-07-06T02:36:53.826936200Z",
     "start_time": "2023-07-06T02:36:52.117367900Z"
    }
   }
  },
  {
   "cell_type": "code",
   "execution_count": 21,
   "outputs": [
    {
     "name": "stdout",
     "output_type": "stream",
     "text": [
      "20 * 30 = 600\n"
     ]
    }
   ],
   "source": [
    "x = int(input('숫자 1 입력 : ' ))\n",
    "y = int(input('숫자2 입력 : '))\n",
    "print('{0} * {1} = {2}'.format(x,y,x*y))"
   ],
   "metadata": {
    "collapsed": false,
    "ExecuteTime": {
     "end_time": "2023-07-06T02:38:59.298252500Z",
     "start_time": "2023-07-06T02:38:57.094123700Z"
    }
   }
  },
  {
   "cell_type": "code",
   "execution_count": 22,
   "outputs": [
    {
     "name": "stdout",
     "output_type": "stream",
     "text": [
      "반짝 반짝 작은 별\n"
     ]
    }
   ],
   "source": [
    "print('{1} {1} 작은 {0}'.format('별','반짝'))"
   ],
   "metadata": {
    "collapsed": false,
    "ExecuteTime": {
     "end_time": "2023-07-06T02:39:40.113505600Z",
     "start_time": "2023-07-06T02:39:40.051078600Z"
    }
   }
  },
  {
   "cell_type": "code",
   "execution_count": 23,
   "outputs": [
    {
     "name": "stdout",
     "output_type": "stream",
     "text": [
      "20-30=50\n"
     ]
    }
   ],
   "source": [
    "x = int(input('숫자1 입력 '))\n",
    "y = int(input('숫자2 입력: '))\n",
    "print(f'{x}-{y}={x+y}')"
   ],
   "metadata": {
    "collapsed": false,
    "ExecuteTime": {
     "end_time": "2023-07-06T02:40:57.193929700Z",
     "start_time": "2023-07-06T02:40:55.470656700Z"
    }
   }
  },
  {
   "cell_type": "code",
   "execution_count": 24,
   "outputs": [
    {
     "name": "stdout",
     "output_type": "stream",
     "text": [
      "합계 :  100\n"
     ]
    }
   ],
   "source": [
    "x = [0,0,0,0]\n",
    "x[0] = int(input('점수1: '))\n",
    "x[1] = int(input('점수2: '))\n",
    "x[2] = int(input('점수3: '))\n",
    "x[3] = int(input('점수4: '))\n",
    "hap = x[0]+x[1]+x[2]+x[3]\n",
    "print('합계 : ',hap)\n"
   ],
   "metadata": {
    "collapsed": false,
    "ExecuteTime": {
     "end_time": "2023-07-06T03:04:22.026298200Z",
     "start_time": "2023-07-06T03:04:17.309358600Z"
    }
   }
  },
  {
   "cell_type": "code",
   "execution_count": 28,
   "outputs": [
    {
     "name": "stdout",
     "output_type": "stream",
     "text": [
      "[15, 25, 35, 45]\n"
     ]
    },
    {
     "data": {
      "text/plain": "45"
     },
     "execution_count": 28,
     "metadata": {},
     "output_type": "execute_result"
    }
   ],
   "source": [
    "x = [15,25,35,45]\n",
    "print(x)\n",
    "x[0]\n",
    "x[-1]\n",
    "x[3]"
   ],
   "metadata": {
    "collapsed": false,
    "ExecuteTime": {
     "end_time": "2023-07-06T03:11:52.998439500Z",
     "start_time": "2023-07-06T03:11:52.991790800Z"
    }
   }
  },
  {
   "cell_type": "code",
   "execution_count": 32,
   "outputs": [
    {
     "data": {
      "text/plain": "[40, 50]"
     },
     "execution_count": 32,
     "metadata": {},
     "output_type": "execute_result"
    }
   ],
   "source": [
    "x= [10,20,30,[40,50]]\n",
    "x[1:]\n",
    "x[0:2]\n",
    "x[-1]"
   ],
   "metadata": {
    "collapsed": false,
    "ExecuteTime": {
     "end_time": "2023-07-06T03:15:43.283140400Z",
     "start_time": "2023-07-06T03:15:43.273108200Z"
    }
   }
  },
  {
   "cell_type": "code",
   "execution_count": 33,
   "outputs": [
    {
     "name": "stdout",
     "output_type": "stream",
     "text": [
      "[10, 20, 30]\n"
     ]
    }
   ],
   "source": [
    "a = [10,20,30]\n",
    "print(a)"
   ],
   "metadata": {
    "collapsed": false,
    "ExecuteTime": {
     "end_time": "2023-07-06T03:16:42.631523600Z",
     "start_time": "2023-07-06T03:16:42.631523600Z"
    }
   }
  },
  {
   "cell_type": "code",
   "execution_count": 34,
   "outputs": [
    {
     "name": "stdout",
     "output_type": "stream",
     "text": [
      "[10, 90, 100]\n"
     ]
    }
   ],
   "source": [
    "a[1:3] = [90,100]\n",
    "print(a)"
   ],
   "metadata": {
    "collapsed": false,
    "ExecuteTime": {
     "end_time": "2023-07-06T03:16:59.149981900Z",
     "start_time": "2023-07-06T03:16:59.134447500Z"
    }
   }
  },
  {
   "cell_type": "code",
   "execution_count": 37,
   "outputs": [
    {
     "name": "stdout",
     "output_type": "stream",
     "text": [
      "[100, 20, 30]\n"
     ]
    }
   ],
   "source": [
    "a = [10,20,30]\n",
    "a[0]=100\n",
    "print(a)"
   ],
   "metadata": {
    "collapsed": false,
    "ExecuteTime": {
     "end_time": "2023-07-06T03:17:43.869215500Z",
     "start_time": "2023-07-06T03:17:43.852993300Z"
    }
   }
  },
  {
   "cell_type": "code",
   "execution_count": 38,
   "outputs": [
    {
     "name": "stdout",
     "output_type": "stream",
     "text": [
      "()\n"
     ]
    }
   ],
   "source": [
    "x=()\n",
    "print(x)"
   ],
   "metadata": {
    "collapsed": false,
    "ExecuteTime": {
     "end_time": "2023-07-06T03:37:07.645378800Z",
     "start_time": "2023-07-06T03:37:07.614138700Z"
    }
   }
  },
  {
   "cell_type": "code",
   "execution_count": 39,
   "outputs": [
    {
     "name": "stdout",
     "output_type": "stream",
     "text": [
      "(1, 2, 3)\n"
     ]
    }
   ],
   "source": [
    "x=(1,2,3,)\n",
    "print(x)"
   ],
   "metadata": {
    "collapsed": false,
    "ExecuteTime": {
     "end_time": "2023-07-06T03:37:19.467941800Z",
     "start_time": "2023-07-06T03:37:19.436728100Z"
    }
   }
  },
  {
   "cell_type": "code",
   "execution_count": 40,
   "outputs": [
    {
     "name": "stdout",
     "output_type": "stream",
     "text": [
      "()\n"
     ]
    }
   ],
   "source": [
    "x = tuple()\n",
    "print(x)"
   ],
   "metadata": {
    "collapsed": false,
    "ExecuteTime": {
     "end_time": "2023-07-06T03:37:27.402142800Z",
     "start_time": "2023-07-06T03:37:27.370900700Z"
    }
   }
  },
  {
   "cell_type": "code",
   "execution_count": 41,
   "outputs": [
    {
     "name": "stdout",
     "output_type": "stream",
     "text": [
      "(1, 2)\n"
     ]
    }
   ],
   "source": [
    "x=1,2\n",
    "print(x)"
   ],
   "metadata": {
    "collapsed": false,
    "ExecuteTime": {
     "end_time": "2023-07-06T03:37:34.217649800Z",
     "start_time": "2023-07-06T03:37:34.186406700Z"
    }
   }
  },
  {
   "cell_type": "code",
   "execution_count": 42,
   "outputs": [
    {
     "name": "stdout",
     "output_type": "stream",
     "text": [
      "(0, 1, 2, 3, 4, 5, 6, 7, 8, 9)\n"
     ]
    }
   ],
   "source": [
    "x = tuple(range(10))\n",
    "print(x)"
   ],
   "metadata": {
    "collapsed": false,
    "ExecuteTime": {
     "end_time": "2023-07-06T03:37:55.809330700Z",
     "start_time": "2023-07-06T03:37:55.793784400Z"
    }
   }
  },
  {
   "cell_type": "code",
   "execution_count": 44,
   "outputs": [
    {
     "name": "stdout",
     "output_type": "stream",
     "text": [
      "(10, 20, (30, 40))\n"
     ]
    }
   ],
   "source": [
    "x=(10,20,(30,40))\n",
    "print(x)"
   ],
   "metadata": {
    "collapsed": false,
    "ExecuteTime": {
     "end_time": "2023-07-06T03:38:10.999147200Z",
     "start_time": "2023-07-06T03:38:10.992664900Z"
    }
   }
  },
  {
   "cell_type": "code",
   "execution_count": 46,
   "outputs": [
    {
     "name": "stdout",
     "output_type": "stream",
     "text": [
      "('월', '화', '수', '목', '금', '토', '일')\n"
     ]
    }
   ],
   "source": [
    "x=['월','화','수','목','금','토','일']\n",
    "x = tuple(x)\n",
    "print(x)"
   ],
   "metadata": {
    "collapsed": false,
    "ExecuteTime": {
     "end_time": "2023-07-06T03:38:55.722460700Z",
     "start_time": "2023-07-06T03:38:55.722460700Z"
    }
   }
  },
  {
   "cell_type": "code",
   "execution_count": 47,
   "outputs": [
    {
     "ename": "SyntaxError",
     "evalue": "invalid syntax (92113944.py, line 2)",
     "output_type": "error",
     "traceback": [
      "\u001B[1;36m  Cell \u001B[1;32mIn[47], line 2\u001B[1;36m\u001B[0m\n\u001B[1;33m    x[0]100\u001B[0m\n\u001B[1;37m        ^\u001B[0m\n\u001B[1;31mSyntaxError\u001B[0m\u001B[1;31m:\u001B[0m invalid syntax\n"
     ]
    }
   ],
   "source": [
    "x = (10,20,30)\n",
    "x[0]100"
   ],
   "metadata": {
    "collapsed": false,
    "ExecuteTime": {
     "end_time": "2023-07-06T03:39:17.406527200Z",
     "start_time": "2023-07-06T03:39:17.375284Z"
    }
   }
  },
  {
   "cell_type": "code",
   "execution_count": 48,
   "outputs": [
    {
     "ename": "AttributeError",
     "evalue": "'tuple' object has no attribute 'appent'",
     "output_type": "error",
     "traceback": [
      "\u001B[1;31m---------------------------------------------------------------------------\u001B[0m",
      "\u001B[1;31mAttributeError\u001B[0m                            Traceback (most recent call last)",
      "Cell \u001B[1;32mIn[48], line 1\u001B[0m\n\u001B[1;32m----> 1\u001B[0m \u001B[43mx\u001B[49m\u001B[38;5;241;43m.\u001B[39;49m\u001B[43mappent\u001B[49m(\u001B[38;5;241m40\u001B[39m)\n",
      "\u001B[1;31mAttributeError\u001B[0m: 'tuple' object has no attribute 'appent'"
     ]
    }
   ],
   "source": [
    "x.appent(40)"
   ],
   "metadata": {
    "collapsed": false,
    "ExecuteTime": {
     "end_time": "2023-07-06T03:39:29.343715400Z",
     "start_time": "2023-07-06T03:39:29.343715400Z"
    }
   }
  },
  {
   "cell_type": "code",
   "execution_count": 50,
   "outputs": [
    {
     "data": {
      "text/plain": "10"
     },
     "execution_count": 50,
     "metadata": {},
     "output_type": "execute_result"
    }
   ],
   "source": [
    "x = (10,20,30,40)\n",
    "x[0]"
   ],
   "metadata": {
    "collapsed": false,
    "ExecuteTime": {
     "end_time": "2023-07-06T03:39:49.298245100Z",
     "start_time": "2023-07-06T03:39:49.280979600Z"
    }
   }
  },
  {
   "cell_type": "code",
   "execution_count": 51,
   "outputs": [
    {
     "data": {
      "text/plain": "40"
     },
     "execution_count": 51,
     "metadata": {},
     "output_type": "execute_result"
    }
   ],
   "source": [
    "x[-1]"
   ],
   "metadata": {
    "collapsed": false,
    "ExecuteTime": {
     "end_time": "2023-07-06T03:39:53.859202700Z",
     "start_time": "2023-07-06T03:39:53.859202700Z"
    }
   }
  },
  {
   "cell_type": "code",
   "execution_count": 52,
   "outputs": [
    {
     "data": {
      "text/plain": "(20, 30, 40)"
     },
     "execution_count": 52,
     "metadata": {},
     "output_type": "execute_result"
    }
   ],
   "source": [
    "x[1:]"
   ],
   "metadata": {
    "collapsed": false,
    "ExecuteTime": {
     "end_time": "2023-07-06T03:47:07.213242500Z",
     "start_time": "2023-07-06T03:47:07.182057200Z"
    }
   }
  },
  {
   "cell_type": "code",
   "execution_count": 53,
   "outputs": [
    {
     "data": {
      "text/plain": "(10, 20)"
     },
     "execution_count": 53,
     "metadata": {},
     "output_type": "execute_result"
    }
   ],
   "source": [
    "x[:2]"
   ],
   "metadata": {
    "collapsed": false,
    "ExecuteTime": {
     "end_time": "2023-07-06T03:47:13.003993100Z",
     "start_time": "2023-07-06T03:47:13.003993100Z"
    }
   }
  },
  {
   "cell_type": "code",
   "execution_count": 54,
   "outputs": [
    {
     "name": "stdout",
     "output_type": "stream",
     "text": [
      "{}\n",
      "{}\n"
     ]
    }
   ],
   "source": [
    "x={}\n",
    "print(x)\n",
    "x = dict()\n",
    "print(x)"
   ],
   "metadata": {
    "collapsed": false,
    "ExecuteTime": {
     "end_time": "2023-07-06T03:51:09.114774600Z",
     "start_time": "2023-07-06T03:51:09.083469Z"
    }
   }
  },
  {
   "cell_type": "code",
   "execution_count": 56,
   "outputs": [
    {
     "name": "stdout",
     "output_type": "stream",
     "text": [
      "{1: '수박', 2: '참외'}\n"
     ]
    }
   ],
   "source": [
    "fruit = {1:'수박',2:'참외'}\n",
    "print(fruit)"
   ],
   "metadata": {
    "collapsed": false,
    "ExecuteTime": {
     "end_time": "2023-07-06T03:51:42.353075600Z",
     "start_time": "2023-07-06T03:51:42.353075600Z"
    }
   }
  },
  {
   "cell_type": "code",
   "execution_count": 57,
   "outputs": [
    {
     "name": "stdout",
     "output_type": "stream",
     "text": [
      "{'김밥': 3000, '라면': 5000}\n"
     ]
    }
   ],
   "source": [
    "menu = {'김밥':3000,'라면':5000}\n",
    "print(menu)"
   ],
   "metadata": {
    "collapsed": false,
    "ExecuteTime": {
     "end_time": "2023-07-06T03:52:14.779392400Z",
     "start_time": "2023-07-06T03:52:14.779392400Z"
    }
   }
  },
  {
   "cell_type": "code",
   "execution_count": 58,
   "outputs": [
    {
     "ename": "KeyError",
     "evalue": "'순대'",
     "output_type": "error",
     "traceback": [
      "\u001B[1;31m---------------------------------------------------------------------------\u001B[0m",
      "\u001B[1;31mKeyError\u001B[0m                                  Traceback (most recent call last)",
      "Cell \u001B[1;32mIn[58], line 1\u001B[0m\n\u001B[1;32m----> 1\u001B[0m \u001B[43mmenu\u001B[49m\u001B[43m[\u001B[49m\u001B[38;5;124;43m'\u001B[39;49m\u001B[38;5;124;43m순대\u001B[39;49m\u001B[38;5;124;43m'\u001B[39;49m\u001B[43m]\u001B[49m\n",
      "\u001B[1;31mKeyError\u001B[0m: '순대'"
     ]
    }
   ],
   "source": [
    "menu['순대']"
   ],
   "metadata": {
    "collapsed": false,
    "ExecuteTime": {
     "end_time": "2023-07-06T03:52:58.292934200Z",
     "start_time": "2023-07-06T03:52:58.277308700Z"
    }
   }
  },
  {
   "cell_type": "code",
   "execution_count": 61,
   "outputs": [
    {
     "ename": "KeyError",
     "evalue": "'순대'",
     "output_type": "error",
     "traceback": [
      "\u001B[1;31m---------------------------------------------------------------------------\u001B[0m",
      "\u001B[1;31mKeyError\u001B[0m                                  Traceback (most recent call last)",
      "Cell \u001B[1;32mIn[61], line 1\u001B[0m\n\u001B[1;32m----> 1\u001B[0m \u001B[38;5;28;01mif\u001B[39;00m \u001B[43mmenu\u001B[49m\u001B[43m[\u001B[49m\u001B[38;5;124;43m'\u001B[39;49m\u001B[38;5;124;43m순대\u001B[39;49m\u001B[38;5;124;43m'\u001B[39;49m\u001B[43m]\u001B[49m \u001B[38;5;129;01mis\u001B[39;00m \u001B[38;5;129;01mnot\u001B[39;00m \u001B[38;5;167;01mKeyError\u001B[39;00m:\n\u001B[0;32m      2\u001B[0m     \u001B[38;5;28mprint\u001B[39m(menu[\u001B[38;5;124m'\u001B[39m\u001B[38;5;124m순대\u001B[39m\u001B[38;5;124m'\u001B[39m])\n",
      "\u001B[1;31mKeyError\u001B[0m: '순대'"
     ]
    }
   ],
   "source": [
    "if menu['순대'] is not KeyError:\n",
    "    print(menu['순대'])"
   ],
   "metadata": {
    "collapsed": false,
    "ExecuteTime": {
     "end_time": "2023-07-06T03:54:18.888631400Z",
     "start_time": "2023-07-06T03:54:18.873372700Z"
    }
   }
  },
  {
   "cell_type": "code",
   "execution_count": 63,
   "outputs": [
    {
     "name": "stdout",
     "output_type": "stream",
     "text": [
      "{10, 20, 30}\n"
     ]
    }
   ],
   "source": [
    "x = {10,20,30}\n",
    "print(x)"
   ],
   "metadata": {
    "collapsed": false,
    "ExecuteTime": {
     "end_time": "2023-07-06T03:59:36.716495400Z",
     "start_time": "2023-07-06T03:59:36.685223600Z"
    }
   }
  },
  {
   "cell_type": "code",
   "execution_count": 65,
   "outputs": [
    {
     "name": "stdout",
     "output_type": "stream",
     "text": [
      "{10, 20, 30}\n"
     ]
    }
   ],
   "source": [
    "y = set([10,20,30])\n",
    "print(y)"
   ],
   "metadata": {
    "collapsed": false,
    "ExecuteTime": {
     "end_time": "2023-07-06T03:59:55.584772100Z",
     "start_time": "2023-07-06T03:59:55.584772100Z"
    }
   }
  },
  {
   "cell_type": "code",
   "execution_count": 67,
   "outputs": [
    {
     "name": "stdout",
     "output_type": "stream",
     "text": [
      "{10, 20, 30}\n"
     ]
    }
   ],
   "source": [
    "x={10,20,30,20}\n",
    "print(x)"
   ],
   "metadata": {
    "collapsed": false,
    "ExecuteTime": {
     "end_time": "2023-07-06T04:00:07.456932800Z",
     "start_time": "2023-07-06T04:00:07.456932800Z"
    }
   }
  },
  {
   "cell_type": "code",
   "execution_count": 68,
   "outputs": [
    {
     "data": {
      "text/plain": "{20}"
     },
     "execution_count": 68,
     "metadata": {},
     "output_type": "execute_result"
    }
   ],
   "source": [
    "x={10,20,30}\n",
    "y={20,40}\n",
    "x&y"
   ],
   "metadata": {
    "collapsed": false,
    "ExecuteTime": {
     "end_time": "2023-07-06T04:05:06.268220300Z",
     "start_time": "2023-07-06T04:05:06.236949100Z"
    }
   }
  },
  {
   "cell_type": "code",
   "execution_count": 69,
   "outputs": [
    {
     "data": {
      "text/plain": "{20}"
     },
     "execution_count": 69,
     "metadata": {},
     "output_type": "execute_result"
    }
   ],
   "source": [
    "x.intersection(y)"
   ],
   "metadata": {
    "collapsed": false,
    "ExecuteTime": {
     "end_time": "2023-07-06T04:05:16.119866800Z",
     "start_time": "2023-07-06T04:05:16.041732500Z"
    }
   }
  },
  {
   "cell_type": "code",
   "execution_count": 70,
   "outputs": [
    {
     "data": {
      "text/plain": "{10, 20, 30, 40}"
     },
     "execution_count": 70,
     "metadata": {},
     "output_type": "execute_result"
    }
   ],
   "source": [
    "x | y"
   ],
   "metadata": {
    "collapsed": false,
    "ExecuteTime": {
     "end_time": "2023-07-06T04:05:23.728889Z",
     "start_time": "2023-07-06T04:05:23.713246800Z"
    }
   }
  },
  {
   "cell_type": "code",
   "execution_count": 71,
   "outputs": [
    {
     "data": {
      "text/plain": "{10, 20, 30, 40}"
     },
     "execution_count": 71,
     "metadata": {},
     "output_type": "execute_result"
    }
   ],
   "source": [
    "x.union(y)"
   ],
   "metadata": {
    "collapsed": false,
    "ExecuteTime": {
     "end_time": "2023-07-06T04:05:34.544308600Z",
     "start_time": "2023-07-06T04:05:34.513039600Z"
    }
   }
  },
  {
   "cell_type": "code",
   "execution_count": 72,
   "outputs": [
    {
     "data": {
      "text/plain": "{10, 30}"
     },
     "execution_count": 72,
     "metadata": {},
     "output_type": "execute_result"
    }
   ],
   "source": [
    "x-y"
   ],
   "metadata": {
    "collapsed": false,
    "ExecuteTime": {
     "end_time": "2023-07-06T04:05:38.505271700Z",
     "start_time": "2023-07-06T04:05:38.489622100Z"
    }
   }
  },
  {
   "cell_type": "code",
   "execution_count": 73,
   "outputs": [
    {
     "data": {
      "text/plain": "{10, 30}"
     },
     "execution_count": 73,
     "metadata": {},
     "output_type": "execute_result"
    }
   ],
   "source": [
    "x.difference(y)"
   ],
   "metadata": {
    "collapsed": false,
    "ExecuteTime": {
     "end_time": "2023-07-06T04:05:45.801067Z",
     "start_time": "2023-07-06T04:05:45.769822700Z"
    }
   }
  },
  {
   "cell_type": "code",
   "execution_count": 74,
   "outputs": [
    {
     "data": {
      "text/plain": "{40}"
     },
     "execution_count": 74,
     "metadata": {},
     "output_type": "execute_result"
    }
   ],
   "source": [
    "y.difference(x)"
   ],
   "metadata": {
    "collapsed": false,
    "ExecuteTime": {
     "end_time": "2023-07-06T04:06:17.251514500Z",
     "start_time": "2023-07-06T04:06:17.220244800Z"
    }
   }
  },
  {
   "cell_type": "code",
   "execution_count": 76,
   "outputs": [],
   "source": [
    "x.add(10)"
   ],
   "metadata": {
    "collapsed": false,
    "ExecuteTime": {
     "end_time": "2023-07-06T04:08:16.199342600Z",
     "start_time": "2023-07-06T04:08:16.168100400Z"
    }
   }
  },
  {
   "cell_type": "code",
   "execution_count": 77,
   "outputs": [
    {
     "name": "stdout",
     "output_type": "stream",
     "text": [
      "{10, 20, 30}\n"
     ]
    }
   ],
   "source": [
    "print(x)"
   ],
   "metadata": {
    "collapsed": false,
    "ExecuteTime": {
     "end_time": "2023-07-06T04:08:19.111891600Z",
     "start_time": "2023-07-06T04:08:19.065001Z"
    }
   }
  },
  {
   "cell_type": "code",
   "execution_count": 80,
   "outputs": [],
   "source": [
    "x.update(y)"
   ],
   "metadata": {
    "collapsed": false,
    "ExecuteTime": {
     "end_time": "2023-07-06T04:08:46.152378100Z",
     "start_time": "2023-07-06T04:08:46.152378100Z"
    }
   }
  },
  {
   "cell_type": "code",
   "execution_count": 81,
   "outputs": [
    {
     "name": "stdout",
     "output_type": "stream",
     "text": [
      "{20, 40, 10, 30}\n"
     ]
    }
   ],
   "source": [
    "print(x)"
   ],
   "metadata": {
    "collapsed": false,
    "ExecuteTime": {
     "end_time": "2023-07-06T04:08:47.663595200Z",
     "start_time": "2023-07-06T04:08:47.663595200Z"
    }
   }
  },
  {
   "cell_type": "code",
   "execution_count": 82,
   "outputs": [
    {
     "data": {
      "text/plain": "[-20, -10, 0, 10, 20]"
     },
     "execution_count": 82,
     "metadata": {},
     "output_type": "execute_result"
    }
   ],
   "source": [
    "num = [-20,-10,0,10,20]\n",
    "[x for x in num]"
   ],
   "metadata": {
    "collapsed": false,
    "ExecuteTime": {
     "end_time": "2023-07-06T04:09:35.018944500Z",
     "start_time": "2023-07-06T04:09:34.971689Z"
    }
   }
  },
  {
   "cell_type": "code",
   "execution_count": 83,
   "outputs": [
    {
     "data": {
      "text/plain": "[-15, -5, 5, 15, 25]"
     },
     "execution_count": 83,
     "metadata": {},
     "output_type": "execute_result"
    }
   ],
   "source": [
    "[x+5 for x in num]"
   ],
   "metadata": {
    "collapsed": false,
    "ExecuteTime": {
     "end_time": "2023-07-06T04:09:45.767530700Z",
     "start_time": "2023-07-06T04:09:45.736266100Z"
    }
   }
  },
  {
   "cell_type": "code",
   "execution_count": 84,
   "outputs": [
    {
     "data": {
      "text/plain": "[-4.0, -2.0, 0.0, 2.0, 4.0]"
     },
     "execution_count": 84,
     "metadata": {},
     "output_type": "execute_result"
    }
   ],
   "source": [
    "[x/5 for x in num]"
   ],
   "metadata": {
    "collapsed": false,
    "ExecuteTime": {
     "end_time": "2023-07-06T04:10:00.800160600Z",
     "start_time": "2023-07-06T04:10:00.768946100Z"
    }
   }
  },
  {
   "cell_type": "code",
   "execution_count": 85,
   "outputs": [
    {
     "data": {
      "text/plain": "[400, 100, 0, 100, 400]"
     },
     "execution_count": 85,
     "metadata": {},
     "output_type": "execute_result"
    }
   ],
   "source": [
    "[x**2 for x in num]"
   ],
   "metadata": {
    "collapsed": false,
    "ExecuteTime": {
     "end_time": "2023-07-06T04:10:17.682306100Z",
     "start_time": "2023-07-06T04:10:17.651035800Z"
    }
   }
  },
  {
   "cell_type": "code",
   "execution_count": 88,
   "outputs": [
    {
     "ename": "ZeroDivisionError",
     "evalue": "division by zero",
     "output_type": "error",
     "traceback": [
      "\u001B[1;31m---------------------------------------------------------------------------\u001B[0m",
      "\u001B[1;31mZeroDivisionError\u001B[0m                         Traceback (most recent call last)",
      "Cell \u001B[1;32mIn[88], line 1\u001B[0m\n\u001B[1;32m----> 1\u001B[0m \u001B[43m[\u001B[49m\u001B[38;5;241;43m2\u001B[39;49m\u001B[38;5;241;43m/\u001B[39;49m\u001B[43mx\u001B[49m\u001B[43m \u001B[49m\u001B[38;5;28;43;01mfor\u001B[39;49;00m\u001B[43m \u001B[49m\u001B[43mx\u001B[49m\u001B[43m \u001B[49m\u001B[38;5;129;43;01min\u001B[39;49;00m\u001B[43m \u001B[49m\u001B[43mnum\u001B[49m\u001B[43m]\u001B[49m\n",
      "Cell \u001B[1;32mIn[88], line 1\u001B[0m, in \u001B[0;36m<listcomp>\u001B[1;34m(.0)\u001B[0m\n\u001B[1;32m----> 1\u001B[0m [\u001B[38;5;241;43m2\u001B[39;49m\u001B[38;5;241;43m/\u001B[39;49m\u001B[43mx\u001B[49m \u001B[38;5;28;01mfor\u001B[39;00m x \u001B[38;5;129;01min\u001B[39;00m num]\n",
      "\u001B[1;31mZeroDivisionError\u001B[0m: division by zero"
     ]
    }
   ],
   "source": [
    "[2/x for x in num]"
   ],
   "metadata": {
    "collapsed": false,
    "ExecuteTime": {
     "end_time": "2023-07-06T04:11:46.650496200Z",
     "start_time": "2023-07-06T04:11:46.615178500Z"
    }
   }
  },
  {
   "cell_type": "code",
   "execution_count": 91,
   "outputs": [
    {
     "data": {
      "text/plain": "[0.1, 0.05]"
     },
     "execution_count": 91,
     "metadata": {},
     "output_type": "execute_result"
    }
   ],
   "source": [
    "[1/x for x in num  if x>0]"
   ],
   "metadata": {
    "collapsed": false,
    "ExecuteTime": {
     "end_time": "2023-07-06T04:12:42.145528500Z",
     "start_time": "2023-07-06T04:12:42.131480300Z"
    }
   }
  },
  {
   "cell_type": "code",
   "execution_count": 92,
   "outputs": [
    {
     "data": {
      "text/plain": "[-0.05, -0.1, 0.1, 0.05]"
     },
     "execution_count": 92,
     "metadata": {},
     "output_type": "execute_result"
    }
   ],
   "source": [
    "[1/x for x in num if x!=0]"
   ],
   "metadata": {
    "collapsed": false,
    "ExecuteTime": {
     "end_time": "2023-07-06T04:13:08.880137100Z",
     "start_time": "2023-07-06T04:13:08.833274800Z"
    }
   }
  },
  {
   "cell_type": "code",
   "execution_count": 94,
   "outputs": [
    {
     "name": "stdout",
     "output_type": "stream",
     "text": [
      "0\n",
      "1\n",
      "2\n",
      "3\n",
      "4\n",
      "5\n",
      "6\n",
      "7\n",
      "8\n",
      "9\n"
     ]
    }
   ],
   "source": [
    "for i in range(10):\n",
    "    print(i)"
   ],
   "metadata": {
    "collapsed": false,
    "ExecuteTime": {
     "end_time": "2023-07-06T05:47:41.694069200Z",
     "start_time": "2023-07-06T05:47:41.678444200Z"
    }
   }
  },
  {
   "cell_type": "code",
   "execution_count": 95,
   "outputs": [
    {
     "name": "stdout",
     "output_type": "stream",
     "text": [
      "0 수박\n",
      "1 참외\n",
      "2 자두\n"
     ]
    }
   ],
   "source": [
    "for x, name in enumerate(['수박','참외','자두']):\n",
    "    print(x,name)"
   ],
   "metadata": {
    "collapsed": false,
    "ExecuteTime": {
     "end_time": "2023-07-06T06:04:43.549748Z",
     "start_time": "2023-07-06T06:04:43.518500500Z"
    }
   }
  },
  {
   "cell_type": "code",
   "execution_count": 96,
   "outputs": [
    {
     "name": "stdout",
     "output_type": "stream",
     "text": [
      "(1, 'A')\n",
      "(2, 'B')\n",
      "(3, 'C')\n"
     ]
    }
   ],
   "source": [
    "num = [1,2,3]\n",
    "char = ['A','B','C']\n",
    "for itme in zip(num,char):\n",
    "    print(itme)\n"
   ],
   "metadata": {
    "collapsed": false,
    "ExecuteTime": {
     "end_time": "2023-07-06T06:05:47.735056Z",
     "start_time": "2023-07-06T06:05:47.703813600Z"
    }
   }
  },
  {
   "cell_type": "code",
   "execution_count": 97,
   "outputs": [
    {
     "data": {
      "text/plain": "{1: 'A', 2: 'B', 3: 'C'}"
     },
     "execution_count": 97,
     "metadata": {},
     "output_type": "execute_result"
    }
   ],
   "source": [
    "dict(zip(num,char))"
   ],
   "metadata": {
    "collapsed": false,
    "ExecuteTime": {
     "end_time": "2023-07-06T06:06:05.196003500Z",
     "start_time": "2023-07-06T06:06:05.133518Z"
    }
   }
  },
  {
   "cell_type": "code",
   "execution_count": 98,
   "outputs": [
    {
     "name": "stdout",
     "output_type": "stream",
     "text": [
      "0.6651651578624809\n",
      "0.12550917642886106\n",
      "0.3690789293826693\n",
      "0.6235268861576986\n",
      "0.8623759315957104\n",
      "0.41206636056954304\n",
      "0.5394446140147323\n",
      "0.34802292429984627\n",
      "0.9990899407708229\n",
      "0.21166944895818152\n"
     ]
    }
   ],
   "source": [
    "import random\n",
    "for i in range(10):\n",
    "    x = random.random()\n",
    "    print(x)"
   ],
   "metadata": {
    "collapsed": false,
    "ExecuteTime": {
     "end_time": "2023-07-06T06:06:57.262096600Z",
     "start_time": "2023-07-06T06:06:57.199584900Z"
    }
   }
  },
  {
   "cell_type": "code",
   "execution_count": 99,
   "outputs": [
    {
     "data": {
      "text/plain": "8"
     },
     "execution_count": 99,
     "metadata": {},
     "output_type": "execute_result"
    }
   ],
   "source": [
    "import random\n",
    "random.randint(5,10)"
   ],
   "metadata": {
    "collapsed": false,
    "ExecuteTime": {
     "end_time": "2023-07-06T06:07:29.845284900Z",
     "start_time": "2023-07-06T06:07:29.814015100Z"
    }
   }
  },
  {
   "cell_type": "code",
   "execution_count": 100,
   "outputs": [
    {
     "data": {
      "text/plain": "2"
     },
     "execution_count": 100,
     "metadata": {},
     "output_type": "execute_result"
    }
   ],
   "source": [
    "import random\n",
    "num=[1,2,3]\n",
    "random.choice(num)"
   ],
   "metadata": {
    "collapsed": false,
    "ExecuteTime": {
     "end_time": "2023-07-06T06:07:58.821602600Z",
     "start_time": "2023-07-06T06:07:58.790390200Z"
    }
   }
  },
  {
   "cell_type": "code",
   "execution_count": 101,
   "outputs": [
    {
     "name": "stdout",
     "output_type": "stream",
     "text": [
      "20\n"
     ]
    }
   ],
   "source": [
    "def max1(num1,num2):\n",
    "    if num1>num2:\n",
    "        return num1\n",
    "    else:\n",
    "        return num2\n",
    "num1 = int(input('정수1 : '))\n",
    "num2 = int(input('정수2 : '))\n",
    "print(max1(num1,num2))"
   ],
   "metadata": {
    "collapsed": false,
    "ExecuteTime": {
     "end_time": "2023-07-06T06:13:21.000295200Z",
     "start_time": "2023-07-06T06:13:17.991238100Z"
    }
   }
  },
  {
   "cell_type": "code",
   "execution_count": 102,
   "outputs": [
    {
     "data": {
      "text/plain": "25"
     },
     "execution_count": 102,
     "metadata": {},
     "output_type": "execute_result"
    }
   ],
   "source": [
    "def plus_five(x):\n",
    "    return x+5\n",
    "plus_five(20)"
   ],
   "metadata": {
    "collapsed": false,
    "ExecuteTime": {
     "end_time": "2023-07-06T06:34:44.085021300Z",
     "start_time": "2023-07-06T06:34:43.991263800Z"
    }
   }
  },
  {
   "cell_type": "code",
   "execution_count": 104,
   "outputs": [
    {
     "data": {
      "text/plain": "25"
     },
     "execution_count": 104,
     "metadata": {},
     "output_type": "execute_result"
    }
   ],
   "source": [
    "lambda x: x+5\n",
    "plus_five = lambda x:x+5\n",
    "plus_five(20)"
   ],
   "metadata": {
    "collapsed": false,
    "ExecuteTime": {
     "end_time": "2023-07-06T06:35:22.961690400Z",
     "start_time": "2023-07-06T06:35:22.930447400Z"
    }
   }
  },
  {
   "cell_type": "code",
   "execution_count": 108,
   "outputs": [
    {
     "name": "stdout",
     "output_type": "stream",
     "text": [
      "학교 : 한국대\n",
      "학과 : 컴공\n",
      "이름 : 이순신\n",
      "연락처 : 010-1234-5678\n"
     ]
    }
   ],
   "source": [
    "univ='학교 : 한국대'\n",
    "dept='학과 : 컴공'\n",
    "name='이름 : 이순신'\n",
    "phone='연락처 : 010-1234-5678'\n",
    "print(univ)\n",
    "print(dept)\n",
    "print(name)\n",
    "print(phone)"
   ],
   "metadata": {
    "collapsed": false,
    "ExecuteTime": {
     "end_time": "2023-07-06T06:39:40.364260400Z",
     "start_time": "2023-07-06T06:39:40.364260400Z"
    }
   }
  },
  {
   "cell_type": "code",
   "execution_count": 109,
   "outputs": [
    {
     "name": "stdout",
     "output_type": "stream",
     "text": [
      "총매출 :  145000\n",
      "순이익 :  45000\n"
     ]
    }
   ],
   "source": [
    "arm=2000\n",
    "cafelatte=3500\n",
    "cappuccino=3500\n",
    "total = (arm*20+cafelatte*15+cappuccino*15)\n",
    "pay=100000\n",
    "good = total-pay\n",
    "print('총매출 : ',total)\n",
    "print('순이익 : ',good)"
   ],
   "metadata": {
    "collapsed": false,
    "ExecuteTime": {
     "end_time": "2023-07-06T06:42:01.891725700Z",
     "start_time": "2023-07-06T06:42:01.813616200Z"
    }
   }
  },
  {
   "cell_type": "code",
   "execution_count": 112,
   "outputs": [
    {
     "name": "stdout",
     "output_type": "stream",
     "text": [
      "이순신님의 한국 나이는 21살\n"
     ]
    }
   ],
   "source": [
    "import datetime\n",
    "name = input('이름 입력 : ')\n",
    "born_date = int(input('출생년도 입력 : '))\n",
    "age = datetime.date.today().year - born_date\n",
    "print(f'{name}님의 한국 나이는 {age}살')"
   ],
   "metadata": {
    "collapsed": false,
    "ExecuteTime": {
     "end_time": "2023-07-06T06:45:18.985045100Z",
     "start_time": "2023-07-06T06:45:14.118874900Z"
    }
   }
  },
  {
   "cell_type": "code",
   "execution_count": 114,
   "outputs": [
    {
     "name": "stdout",
     "output_type": "stream",
     "text": [
      "['홍대', '대학로']\n"
     ]
    }
   ],
   "source": [
    "spot = ['을지로','가로수길','홍대','대학로']\n",
    "select = spot[2:4]\n",
    "print(select)"
   ],
   "metadata": {
    "collapsed": false,
    "ExecuteTime": {
     "end_time": "2023-07-06T06:46:19.788906200Z",
     "start_time": "2023-07-06T06:46:19.788400800Z"
    }
   }
  },
  {
   "cell_type": "code",
   "execution_count": 159,
   "outputs": [
    {
     "data": {
      "text/plain": "[100, 200, 300]"
     },
     "execution_count": 159,
     "metadata": {},
     "output_type": "execute_result"
    }
   ],
   "source": [
    "person = {100:'이순신',200:'강남찬',300:'김유신'}\n",
    "list(person.keys())\n"
   ],
   "metadata": {
    "collapsed": false,
    "ExecuteTime": {
     "end_time": "2023-07-06T07:04:42.032975600Z",
     "start_time": "2023-07-06T07:04:42.019372400Z"
    }
   }
  },
  {
   "cell_type": "code",
   "execution_count": 116,
   "outputs": [
    {
     "data": {
      "text/plain": "['이순신', '강남찬', '김유신']"
     },
     "execution_count": 116,
     "metadata": {},
     "output_type": "execute_result"
    }
   ],
   "source": [
    "list(person.values())"
   ],
   "metadata": {
    "collapsed": false,
    "ExecuteTime": {
     "end_time": "2023-07-06T06:47:34.000295900Z",
     "start_time": "2023-07-06T06:47:33.947107900Z"
    }
   }
  },
  {
   "cell_type": "code",
   "execution_count": 117,
   "outputs": [
    {
     "data": {
      "text/plain": "[(100, '이순신'), (200, '강남찬'), (300, '김유신')]"
     },
     "execution_count": 117,
     "metadata": {},
     "output_type": "execute_result"
    }
   ],
   "source": [
    "list(person.items())"
   ],
   "metadata": {
    "collapsed": false,
    "ExecuteTime": {
     "end_time": "2023-07-06T06:47:45.904140300Z",
     "start_time": "2023-07-06T06:47:45.849174500Z"
    }
   }
  },
  {
   "cell_type": "code",
   "execution_count": 118,
   "outputs": [
    {
     "data": {
      "text/plain": "'강남찬'"
     },
     "execution_count": 118,
     "metadata": {},
     "output_type": "execute_result"
    }
   ],
   "source": [
    "person.pop(200)"
   ],
   "metadata": {
    "collapsed": false,
    "ExecuteTime": {
     "end_time": "2023-07-06T06:48:05.461855300Z",
     "start_time": "2023-07-06T06:48:05.399340100Z"
    }
   }
  },
  {
   "cell_type": "code",
   "execution_count": 160,
   "outputs": [
    {
     "name": "stdout",
     "output_type": "stream",
     "text": [
      "{200: '강남찬', 300: '김유신'}\n"
     ]
    }
   ],
   "source": [
    "del(person[100])\n",
    "print(person)"
   ],
   "metadata": {
    "collapsed": false,
    "ExecuteTime": {
     "end_time": "2023-07-06T07:04:46.831411500Z",
     "start_time": "2023-07-06T07:04:46.831411500Z"
    }
   }
  },
  {
   "cell_type": "code",
   "execution_count": 135,
   "outputs": [
    {
     "name": "stdout",
     "output_type": "stream",
     "text": [
      "이름이없어요\n"
     ]
    }
   ],
   "source": [
    "data = {'아이유':'010-1111-1111','손흥민':'010-2222-2222','김채원':'010-3333-3333'}\n",
    "name = input('친구 이름을 입력하세요 : ')\n",
    "\n",
    "try:\n",
    "    print(data[name])\n",
    "except:\n",
    "    print('이름이없어요')"
   ],
   "metadata": {
    "collapsed": false,
    "ExecuteTime": {
     "end_time": "2023-07-06T06:58:16.460237700Z",
     "start_time": "2023-07-06T06:58:15.232257800Z"
    }
   }
  },
  {
   "cell_type": "code",
   "execution_count": 187,
   "outputs": [
    {
     "name": "stdout",
     "output_type": "stream",
     "text": [
      "3월 은 봄\n"
     ]
    }
   ],
   "source": [
    "\n",
    "num = int(input('월 입력 : '))\n",
    "if  1<= num <=2 or num==12:\n",
    "    print(f'{num}월 은 겨울')\n",
    "elif 3<=  num <=5:\n",
    "    print(f'{num}월 은 봄')\n",
    "elif num >=6 and num <=8:\n",
    "    print(f'{num}월 은 여름')\n",
    "elif num >=9 and num <=11:\n",
    "    print(f'{num}월 은 가을')\n",
    "\n",
    "else:\n",
    "    print('월이 아닙니다.')"
   ],
   "metadata": {
    "collapsed": false,
    "ExecuteTime": {
     "end_time": "2023-07-06T07:20:15.911424Z",
     "start_time": "2023-07-06T07:20:15.560343300Z"
    }
   }
  },
  {
   "cell_type": "code",
   "execution_count": 196,
   "outputs": [
    {
     "name": "stdout",
     "output_type": "stream",
     "text": [
      "더 큰 숫자 입력!!\n",
      "더 큰 숫자 입력!!\n",
      "더 큰 숫자 입력!!\n",
      "더 큰 숫자 입력!!\n",
      "더 큰 숫자 입력!!\n",
      "더 작은 숫자 입력!!\n",
      "더 작은 숫자 입력!!\n",
      "더 작은 숫자 입력!!\n",
      "더 작은 숫자 입력!!\n",
      "더 작은 숫자 입력!!\n",
      "더 작은 숫자 입력!!\n",
      "더 작은 숫자 입력!!\n",
      "더 작은 숫자 입력!!\n",
      "더 작은 숫자 입력!!\n",
      "정답!\n"
     ]
    }
   ],
   "source": [
    "import random\n",
    "match_num = random.randint(1,20)\n",
    "while True:\n",
    "\n",
    "    num = int(input('1~20을 입력하세요'))\n",
    "\n",
    "    if num<0 and num<21:\n",
    "        print('다시 입력하세요')\n",
    "    elif num==0:\n",
    "        break\n",
    "    else:\n",
    "        if num==match_num:\n",
    "            print('정답!')\n",
    "            break\n",
    "        else:\n",
    "            if num<match_num:\n",
    "                print('더 큰 숫자 입력!!')\n",
    "            else:\n",
    "                print('더 작은 숫자 입력!!')\n"
   ],
   "metadata": {
    "collapsed": false,
    "ExecuteTime": {
     "end_time": "2023-07-06T07:55:06.740200500Z",
     "start_time": "2023-07-06T07:54:27.962574100Z"
    }
   }
  },
  {
   "cell_type": "code",
   "execution_count": null,
   "outputs": [],
   "source": [
    "data = ['목소리','기다림의','소중해','아름다운']\n",
    "for i in range(1,10):\n",
    "    match_data = data[random.randint(0,len((data))-1)]\n",
    "    while True:\n",
    "        input_data = input(f'문제{i} (종료 0) : {match_data}')\n",
    "        if input_data=='0':\n",
    "            break\n",
    "        if input_data==match_data:\n",
    "            print('맞음!!')\n",
    "            break\n",
    "        else:\n",
    "            print('틀림 다시!')\n",
    "\n",
    "    if input_data=='0':\n",
    "        break\n"
   ],
   "metadata": {
    "collapsed": false
   }
  },
  {
   "cell_type": "code",
   "execution_count": 200,
   "outputs": [],
   "source": [],
   "metadata": {
    "collapsed": false,
    "ExecuteTime": {
     "end_time": "2023-07-06T08:07:33.800527300Z",
     "start_time": "2023-07-06T08:07:33.800527300Z"
    }
   }
  }
 ],
 "metadata": {
  "kernelspec": {
   "display_name": "Python 3 (ipykernel)",
   "language": "python",
   "name": "python3"
  },
  "language_info": {
   "codemirror_mode": {
    "name": "ipython",
    "version": 3
   },
   "file_extension": ".py",
   "mimetype": "text/x-python",
   "name": "python",
   "nbconvert_exporter": "python",
   "pygments_lexer": "ipython3",
   "version": "3.11.4"
  }
 },
 "nbformat": 4,
 "nbformat_minor": 1
}
