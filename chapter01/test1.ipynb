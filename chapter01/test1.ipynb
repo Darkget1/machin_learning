{
 "cells": [
  {
   "cell_type": "code",
   "execution_count": 1,
   "outputs": [
    {
     "name": "stdout",
     "output_type": "stream",
     "text": [
      "안녕파이썬\n"
     ]
    }
   ],
   "source": [
    "print('안녕파이썬')"
   ],
   "metadata": {
    "collapsed": false,
    "ExecuteTime": {
     "end_time": "2023-07-06T01:49:13.951304100Z",
     "start_time": "2023-07-06T01:49:13.926120800Z"
    }
   }
  },
  {
   "cell_type": "code",
   "execution_count": 8,
   "outputs": [
    {
     "name": "stdout",
     "output_type": "stream",
     "text": [
      "100\n"
     ]
    }
   ],
   "source": [
    "a=100\n",
    "print(a)"
   ],
   "metadata": {
    "collapsed": false,
    "ExecuteTime": {
     "end_time": "2023-07-06T01:55:23.196919600Z",
     "start_time": "2023-07-06T01:55:23.182930300Z"
    }
   }
  },
  {
   "cell_type": "code",
   "execution_count": 9,
   "outputs": [
    {
     "name": "stdout",
     "output_type": "stream",
     "text": [
      "200\n"
     ]
    }
   ],
   "source": [
    "a=100\n",
    "a=200\n",
    "print(a)"
   ],
   "metadata": {
    "collapsed": false,
    "ExecuteTime": {
     "end_time": "2023-07-06T01:55:32.313892200Z",
     "start_time": "2023-07-06T01:55:32.298302Z"
    }
   }
  },
  {
   "cell_type": "code",
   "execution_count": 11,
   "outputs": [
    {
     "name": "stdout",
     "output_type": "stream",
     "text": [
      "이순신 서울시\n"
     ]
    }
   ],
   "source": [
    "name = '이순신'\n",
    "addr = '서울시'\n",
    "print(name,addr)"
   ],
   "metadata": {
    "collapsed": false,
    "ExecuteTime": {
     "end_time": "2023-07-06T01:56:07.437662700Z",
     "start_time": "2023-07-06T01:56:07.375201Z"
    }
   }
  },
  {
   "cell_type": "code",
   "execution_count": 12,
   "outputs": [
    {
     "name": "stdout",
     "output_type": "stream",
     "text": [
      "5년 후 나이 25\n"
     ]
    }
   ],
   "source": [
    "age = 20\n",
    "age = age +5\n",
    "print('5년 후 나이', age)"
   ],
   "metadata": {
    "collapsed": false,
    "ExecuteTime": {
     "end_time": "2023-07-06T01:56:28.041666700Z",
     "start_time": "2023-07-06T01:56:27.979269100Z"
    }
   }
  },
  {
   "cell_type": "code",
   "execution_count": 16,
   "outputs": [
    {
     "name": "stdout",
     "output_type": "stream",
     "text": [
      "30\n",
      "-10\n",
      "200\n"
     ]
    }
   ],
   "source": [
    "x = 10\n",
    "y = 20\n",
    "print(x+y)\n",
    "print(x-y)\n",
    "print(x*y)"
   ],
   "metadata": {
    "collapsed": false,
    "ExecuteTime": {
     "end_time": "2023-07-06T02:03:31.759823500Z",
     "start_time": "2023-07-06T02:03:31.757838400Z"
    }
   }
  },
  {
   "cell_type": "code",
   "execution_count": 1,
   "outputs": [
    {
     "name": "stdout",
     "output_type": "stream",
     "text": [
      "0.5\n",
      "10\n",
      "100\n",
      "0\n"
     ]
    }
   ],
   "source": [
    "x=10\n",
    "y=20\n",
    "print(x/y)\n",
    "print(x%y)\n",
    "print(x**2)\n",
    "print(x//y)"
   ],
   "metadata": {
    "collapsed": false,
    "ExecuteTime": {
     "end_time": "2023-07-06T02:10:28.903529700Z",
     "start_time": "2023-07-06T02:10:28.893002800Z"
    }
   }
  },
  {
   "cell_type": "code",
   "execution_count": 3,
   "outputs": [
    {
     "data": {
      "text/plain": "'파이썬파이썬파이썬파이썬파이썬'"
     },
     "execution_count": 3,
     "metadata": {},
     "output_type": "execute_result"
    }
   ],
   "source": [
    "start = '파이썬'\n",
    "end = '짱!'\n",
    "start+end\n",
    "word='파이썬'\n",
    "word*5"
   ],
   "metadata": {
    "collapsed": false,
    "ExecuteTime": {
     "end_time": "2023-07-06T02:10:49.808460700Z",
     "start_time": "2023-07-06T02:10:49.793042300Z"
    }
   }
  },
  {
   "cell_type": "code",
   "execution_count": 4,
   "outputs": [
    {
     "name": "stdout",
     "output_type": "stream",
     "text": [
      "이순신\n"
     ]
    }
   ],
   "source": [
    "name = input('입력이름 : ')\n",
    "print(name)"
   ],
   "metadata": {
    "collapsed": false,
    "ExecuteTime": {
     "end_time": "2023-07-06T02:11:29.792592700Z",
     "start_time": "2023-07-06T02:11:25.533392200Z"
    }
   }
  },
  {
   "cell_type": "code",
   "execution_count": 5,
   "outputs": [
    {
     "name": "stdout",
     "output_type": "stream",
     "text": [
      "50\n"
     ]
    }
   ],
   "source": [
    "x = int(input('숫자1 입력 :') )\n",
    "y = int(input('숫자2 입력 :'))\n",
    "print(x+y)"
   ],
   "metadata": {
    "collapsed": false,
    "ExecuteTime": {
     "end_time": "2023-07-06T02:14:49.561336200Z",
     "start_time": "2023-07-06T02:14:46.054981200Z"
    }
   }
  },
  {
   "cell_type": "code",
   "execution_count": 6,
   "outputs": [
    {
     "name": "stdout",
     "output_type": "stream",
     "text": [
      "7.5\n"
     ]
    }
   ],
   "source": [
    "z = float(input('숫자 입력 : '))\n",
    "print(z)"
   ],
   "metadata": {
    "collapsed": false,
    "ExecuteTime": {
     "end_time": "2023-07-06T02:15:14.366881400Z",
     "start_time": "2023-07-06T02:15:11.133955200Z"
    }
   }
  },
  {
   "cell_type": "code",
   "execution_count": 8,
   "outputs": [
    {
     "name": "stdout",
     "output_type": "stream",
     "text": [
      "파이썬\n",
      "짱\n"
     ]
    }
   ],
   "source": [
    "print('파이썬')\n",
    "print('짱')"
   ],
   "metadata": {
    "collapsed": false,
    "ExecuteTime": {
     "end_time": "2023-07-06T02:16:15.292650500Z",
     "start_time": "2023-07-06T02:16:15.275144200Z"
    }
   }
  },
  {
   "cell_type": "code",
   "execution_count": 10,
   "outputs": [
    {
     "name": "stdout",
     "output_type": "stream",
     "text": [
      "파이썬 짱\n"
     ]
    }
   ],
   "source": [
    "print('파이썬',end=' ')\n",
    "print('짱')"
   ],
   "metadata": {
    "collapsed": false,
    "ExecuteTime": {
     "end_time": "2023-07-06T02:16:46.729576900Z",
     "start_time": "2023-07-06T02:16:46.729576900Z"
    }
   }
  },
  {
   "cell_type": "code",
   "execution_count": 11,
   "outputs": [
    {
     "name": "stdout",
     "output_type": "stream",
     "text": [
      "입력한 이름은 이순신\n"
     ]
    }
   ],
   "source": [
    "name = input('이름 입력 : ')\n",
    "print('입력한 이름은', name)"
   ],
   "metadata": {
    "collapsed": false,
    "ExecuteTime": {
     "end_time": "2023-07-06T02:17:41.684641700Z",
     "start_time": "2023-07-06T02:17:38.959844600Z"
    }
   }
  },
  {
   "cell_type": "code",
   "execution_count": 12,
   "outputs": [
    {
     "name": "stdout",
     "output_type": "stream",
     "text": [
      "입력한 이름은 이순신\n"
     ]
    }
   ],
   "source": [
    "name = input('이름 입력 : ')\n",
    "print('입력한 이름은 %s' % name)"
   ],
   "metadata": {
    "collapsed": false,
    "ExecuteTime": {
     "end_time": "2023-07-06T02:19:14.387488400Z",
     "start_time": "2023-07-06T02:19:11.938929Z"
    }
   }
  },
  {
   "cell_type": "code",
   "execution_count": 20,
   "outputs": [
    {
     "name": "stdout",
     "output_type": "stream",
     "text": [
      "20 + 30 = 50\n",
      "20.000000 + 30.000000 = 50.000000\n"
     ]
    }
   ],
   "source": [
    "x = int(input('숫자1 입력: '))\n",
    "y = int(input('숫자2 입력: '))\n",
    "print('%d + %d = %d' % (x, y, x+y))\n",
    "print(f'{x:2f} + {y:2f} = {x+y:2f}')"
   ],
   "metadata": {
    "collapsed": false,
    "ExecuteTime": {
     "end_time": "2023-07-06T02:36:53.826936200Z",
     "start_time": "2023-07-06T02:36:52.117367900Z"
    }
   }
  },
  {
   "cell_type": "code",
   "execution_count": 21,
   "outputs": [
    {
     "name": "stdout",
     "output_type": "stream",
     "text": [
      "20 * 30 = 600\n"
     ]
    }
   ],
   "source": [
    "x = int(input('숫자 1 입력 : ' ))\n",
    "y = int(input('숫자2 입력 : '))\n",
    "print('{0} * {1} = {2}'.format(x,y,x*y))"
   ],
   "metadata": {
    "collapsed": false,
    "ExecuteTime": {
     "end_time": "2023-07-06T02:38:59.298252500Z",
     "start_time": "2023-07-06T02:38:57.094123700Z"
    }
   }
  },
  {
   "cell_type": "code",
   "execution_count": 22,
   "outputs": [
    {
     "name": "stdout",
     "output_type": "stream",
     "text": [
      "반짝 반짝 작은 별\n"
     ]
    }
   ],
   "source": [
    "print('{1} {1} 작은 {0}'.format('별','반짝'))"
   ],
   "metadata": {
    "collapsed": false,
    "ExecuteTime": {
     "end_time": "2023-07-06T02:39:40.113505600Z",
     "start_time": "2023-07-06T02:39:40.051078600Z"
    }
   }
  },
  {
   "cell_type": "code",
   "execution_count": 23,
   "outputs": [
    {
     "name": "stdout",
     "output_type": "stream",
     "text": [
      "20-30=50\n"
     ]
    }
   ],
   "source": [
    "x = int(input('숫자1 입력 '))\n",
    "y = int(input('숫자2 입력: '))\n",
    "print(f'{x}-{y}={x+y}')"
   ],
   "metadata": {
    "collapsed": false,
    "ExecuteTime": {
     "end_time": "2023-07-06T02:40:57.193929700Z",
     "start_time": "2023-07-06T02:40:55.470656700Z"
    }
   }
  },
  {
   "cell_type": "code",
   "execution_count": null,
   "outputs": [],
   "source": [],
   "metadata": {
    "collapsed": false
   }
  }
 ],
 "metadata": {
  "kernelspec": {
   "display_name": "Python 3 (ipykernel)",
   "language": "python",
   "name": "python3"
  },
  "language_info": {
   "codemirror_mode": {
    "name": "ipython",
    "version": 3
   },
   "file_extension": ".py",
   "mimetype": "text/x-python",
   "name": "python",
   "nbconvert_exporter": "python",
   "pygments_lexer": "ipython3",
   "version": "3.11.4"
  }
 },
 "nbformat": 4,
 "nbformat_minor": 1
}
