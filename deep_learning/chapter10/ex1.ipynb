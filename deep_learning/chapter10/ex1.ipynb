{
 "cells": [
  {
   "cell_type": "code",
   "execution_count": 1,
   "metadata": {
    "collapsed": true,
    "ExecuteTime": {
     "end_time": "2023-07-25T06:40:29.097900900Z",
     "start_time": "2023-07-25T06:40:24.884121900Z"
    }
   },
   "outputs": [],
   "source": [
    "#텐서플로 라이브러리 안에 있는 케라스 API에서 필요한 함수들을 불러옵니다.\n",
    "from keras.models import Sequential\n",
    "from keras.layers import Dense"
   ]
  },
  {
   "cell_type": "code",
   "execution_count": 2,
   "outputs": [],
   "source": [
    "#데이터를 다루는데 필요한 라이브러리를 불러온다.\n",
    "import numpy as np"
   ],
   "metadata": {
    "collapsed": false,
    "ExecuteTime": {
     "end_time": "2023-07-25T06:40:46.866425900Z",
     "start_time": "2023-07-25T06:40:46.861440400Z"
    }
   }
  },
  {
   "cell_type": "code",
   "execution_count": 3,
   "outputs": [
    {
     "name": "stderr",
     "output_type": "stream",
     "text": [
      "Cloning into 'data'...\n"
     ]
    }
   ],
   "source": [
    "!git clone https://github.com/taehojo/data.git"
   ],
   "metadata": {
    "collapsed": false,
    "ExecuteTime": {
     "end_time": "2023-07-25T06:41:17.774527300Z",
     "start_time": "2023-07-25T06:41:16.728013500Z"
    }
   }
  },
  {
   "cell_type": "code",
   "execution_count": 6,
   "outputs": [],
   "source": [
    "#준비된 수술 환자 데이터 불러옵니다.\n",
    "Data_set =np.loadtxt('../data/ThoraricSurgery3.csv',delimiter=',')\n",
    "X = Data_set[:,0:16]\n",
    "y = Data_set[:,16]\n"
   ],
   "metadata": {
    "collapsed": false,
    "ExecuteTime": {
     "end_time": "2023-07-25T06:43:34.278435700Z",
     "start_time": "2023-07-25T06:43:34.273827200Z"
    }
   }
  },
  {
   "cell_type": "code",
   "execution_count": 7,
   "outputs": [],
   "source": [
    "#딥러닝 모델의 구조를 결정합니다.\n",
    "model = Sequential()\n",
    "#입력층 은닉충 역할을 같이한다.\n",
    "#노드를 30개 만들겟다\n",
    "#노드란 가중합으로 변수와 가중치 바이어스가 모인다.\n",
    "#input_dim은 데이터를 몇개의 값을 가져오는지 지정\n",
    "model.add(Dense(30,input_dim=16,activation='relu'))\n",
    "#출력층\n",
    "model.add(Dense(1,activation='sigmoid'))\n"
   ],
   "metadata": {
    "collapsed": false,
    "ExecuteTime": {
     "end_time": "2023-07-25T06:44:39.188011300Z",
     "start_time": "2023-07-25T06:44:37.275011500Z"
    }
   }
  },
  {
   "cell_type": "code",
   "execution_count": 12,
   "outputs": [
    {
     "name": "stdout",
     "output_type": "stream",
     "text": [
      "Epoch 1/5\n",
      "30/30 [==============================] - 1s 1ms/step - loss: 0.4124 - accuracy: 0.8468\n",
      "Epoch 2/5\n",
      "30/30 [==============================] - 0s 1ms/step - loss: 0.4221 - accuracy: 0.8532\n",
      "Epoch 3/5\n",
      "30/30 [==============================] - 0s 1ms/step - loss: 0.4115 - accuracy: 0.8553\n",
      "Epoch 4/5\n",
      "30/30 [==============================] - 0s 1ms/step - loss: 0.4052 - accuracy: 0.8511\n",
      "Epoch 5/5\n",
      "30/30 [==============================] - 0s 1ms/step - loss: 0.3978 - accuracy: 0.8489\n"
     ]
    }
   ],
   "source": [
    "#딥러닝 모델을 실행합니다.\n",
    "#optimizer 오차줄이는 역할\n",
    "#생존 예측은 생존과 사망 둘중 하나 예측해야하므로 교차 엔트로피 오차 함수를 적용하기위해\n",
    "#binary_crossentropy를 사용한다 교차 엔트로피!!\n",
    "model.compile(loss='binary_crossentropy',optimizer='adam',\n",
    "metrics = ['accuracy'])\n",
    "history = model.fit(X,y,epochs=5,batch_size=16)"
   ],
   "metadata": {
    "collapsed": false,
    "ExecuteTime": {
     "end_time": "2023-07-25T07:19:47.665320300Z",
     "start_time": "2023-07-25T07:19:46.798479200Z"
    }
   }
  },
  {
   "cell_type": "code",
   "execution_count": 14,
   "outputs": [
    {
     "ename": "AttributeError",
     "evalue": "'History' object has no attribute 'predict'",
     "output_type": "error",
     "traceback": [
      "\u001B[1;31m---------------------------------------------------------------------------\u001B[0m",
      "\u001B[1;31mAttributeError\u001B[0m                            Traceback (most recent call last)",
      "Cell \u001B[1;32mIn[14], line 2\u001B[0m\n\u001B[0;32m      1\u001B[0m \u001B[38;5;28minput\u001B[39m \u001B[38;5;241m=\u001B[39m [\u001B[38;5;241m0\u001B[39m,\u001B[38;5;241m0\u001B[39m]\n\u001B[1;32m----> 2\u001B[0m prediction \u001B[38;5;241m=\u001B[39m \u001B[43mhistory\u001B[49m\u001B[38;5;241;43m.\u001B[39;49m\u001B[43mpredict\u001B[49m(\u001B[38;5;28minput\u001B[39m)\n\u001B[0;32m      3\u001B[0m \u001B[38;5;28mprint\u001B[39m(\u001B[38;5;124mf\u001B[39m\u001B[38;5;124m'\u001B[39m\u001B[38;5;132;01m{\u001B[39;00m\u001B[38;5;28minput\u001B[39m\u001B[38;5;132;01m}\u001B[39;00m\u001B[38;5;124m예상 확률은 \u001B[39m\u001B[38;5;132;01m{\u001B[39;00mprediction\u001B[38;5;241m*\u001B[39m\u001B[38;5;241m100\u001B[39m\u001B[38;5;132;01m}\u001B[39;00m\u001B[38;5;124m 입니다.\u001B[39m\u001B[38;5;124m'\u001B[39m)\n",
      "\u001B[1;31mAttributeError\u001B[0m: 'History' object has no attribute 'predict'"
     ]
    }
   ],
   "source": [
    "input = [0,0]\n",
    "prediction = model.predict(input)\n",
    "print(f'{input}예상 확률은 {prediction*100} 입니다.')"
   ],
   "metadata": {
    "collapsed": false,
    "ExecuteTime": {
     "end_time": "2023-07-25T07:19:59.424442Z",
     "start_time": "2023-07-25T07:19:59.402518400Z"
    }
   }
  },
  {
   "cell_type": "code",
   "execution_count": null,
   "outputs": [],
   "source": [],
   "metadata": {
    "collapsed": false
   }
  }
 ],
 "metadata": {
  "kernelspec": {
   "display_name": "Python 3",
   "language": "python",
   "name": "python3"
  },
  "language_info": {
   "codemirror_mode": {
    "name": "ipython",
    "version": 2
   },
   "file_extension": ".py",
   "mimetype": "text/x-python",
   "name": "python",
   "nbconvert_exporter": "python",
   "pygments_lexer": "ipython2",
   "version": "2.7.6"
  }
 },
 "nbformat": 4,
 "nbformat_minor": 0
}
