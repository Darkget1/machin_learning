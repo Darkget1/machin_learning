{
 "cells": [
  {
   "cell_type": "code",
   "execution_count": 1,
   "metadata": {
    "collapsed": true,
    "ExecuteTime": {
     "end_time": "2023-07-25T03:38:45.061779800Z",
     "start_time": "2023-07-25T03:38:44.979337300Z"
    }
   },
   "outputs": [],
   "source": [
    "import numpy as np\n"
   ]
  },
  {
   "cell_type": "code",
   "execution_count": 2,
   "outputs": [],
   "source": [
    "#가중치와 바이어스\n",
    "w11 = np.array([-2,-2])\n",
    "w12 = np.array([2,2])\n",
    "w2 = np.array([1,1])\n",
    "b1=3\n",
    "b2=-1\n",
    "b3=-1\n"
   ],
   "metadata": {
    "collapsed": false,
    "ExecuteTime": {
     "end_time": "2023-07-25T03:39:25.515509900Z",
     "start_time": "2023-07-25T03:39:25.511520600Z"
    }
   }
  },
  {
   "cell_type": "code",
   "execution_count": 3,
   "outputs": [],
   "source": [
    "#퍼셉트론\n",
    "def MLP(x,w,b):\n",
    "    y=np.sum(w*x)+b\n",
    "    if y<=0:\n",
    "        return 0\n",
    "    else:\n",
    "        return 1\n"
   ],
   "metadata": {
    "collapsed": false,
    "ExecuteTime": {
     "end_time": "2023-07-25T03:40:05.484439900Z",
     "start_time": "2023-07-25T03:40:05.479431500Z"
    }
   }
  },
  {
   "cell_type": "code",
   "execution_count": 4,
   "outputs": [],
   "source": [
    "#NAND 게이트\n",
    "def NAND(x1,x2):\n",
    "    return MLP(np.array([x1,x2]),w11,b1)\n",
    "#OR 게이트\n",
    "def OR(x1,x2):\n",
    "    return MLP(np.array([x1,x2]),w12,b2)\n",
    "#AND 게이트\n",
    "def AND(x1,x2):\n",
    "    return MLP(np.array([x1,x2]),w2,b3)\n",
    "#XOR 게이트\n",
    "def XOR(x1,x2):\n",
    "    return AND(NAND(x1,x2),OR(x1,x2))\n"
   ],
   "metadata": {
    "collapsed": false,
    "ExecuteTime": {
     "end_time": "2023-07-25T03:42:25.384252800Z",
     "start_time": "2023-07-25T03:42:25.379266200Z"
    }
   }
  },
  {
   "cell_type": "code",
   "execution_count": 5,
   "outputs": [
    {
     "name": "stdout",
     "output_type": "stream",
     "text": [
      "입력값 : (0, 0)출력값 : 0\n",
      "입력값 : (1, 0)출력값 : 1\n",
      "입력값 : (0, 1)출력값 : 1\n",
      "입력값 : (1, 1)출력값 : 0\n"
     ]
    }
   ],
   "source": [
    "#x1값, x2값을 번갈아 대입하며 최종 값 출력\n",
    "for x in[(0,0),(1,0),(0,1),(1,1)]:\n",
    "    y=XOR(x[0],x[1])\n",
    "    print(\"입력값 : \"+str(x)+\"출력값 : \"+str(y))"
   ],
   "metadata": {
    "collapsed": false,
    "ExecuteTime": {
     "end_time": "2023-07-25T03:43:27.096125900Z",
     "start_time": "2023-07-25T03:43:27.084155600Z"
    }
   }
  },
  {
   "cell_type": "code",
   "execution_count": null,
   "outputs": [],
   "source": [],
   "metadata": {
    "collapsed": false
   }
  }
 ],
 "metadata": {
  "kernelspec": {
   "display_name": "Python 3",
   "language": "python",
   "name": "python3"
  },
  "language_info": {
   "codemirror_mode": {
    "name": "ipython",
    "version": 2
   },
   "file_extension": ".py",
   "mimetype": "text/x-python",
   "name": "python",
   "nbconvert_exporter": "python",
   "pygments_lexer": "ipython2",
   "version": "2.7.6"
  }
 },
 "nbformat": 4,
 "nbformat_minor": 0
}
