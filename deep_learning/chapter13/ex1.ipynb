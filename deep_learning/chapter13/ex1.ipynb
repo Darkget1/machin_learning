{
 "cells": [
  {
   "cell_type": "code",
   "execution_count": 2,
   "metadata": {
    "collapsed": true,
    "ExecuteTime": {
     "end_time": "2023-07-26T06:34:59.176024200Z",
     "start_time": "2023-07-26T06:34:58.440978800Z"
    }
   },
   "outputs": [],
   "source": [
    "from keras.models import Sequential\n",
    "from keras.layers import Dense\n",
    "import pandas as pd\n",
    "import seaborn as sns\n",
    "import matplotlib.pyplot as plt"
   ]
  },
  {
   "cell_type": "code",
   "execution_count": 3,
   "outputs": [],
   "source": [
    "#아이리스 데이터 불러옵니다.\n",
    "df =pd.read_csv('../data/iris3.csv')\n"
   ],
   "metadata": {
    "collapsed": false,
    "ExecuteTime": {
     "end_time": "2023-07-26T06:35:28.325429900Z",
     "start_time": "2023-07-26T06:35:28.325429900Z"
    }
   }
  },
  {
   "cell_type": "code",
   "execution_count": 4,
   "outputs": [],
   "source": [
    "#속성을 X, 클래스를 y로 지정합니다.\n",
    "X = df.iloc[:,0:4]\n",
    "y = df.iloc[:,4]\n"
   ],
   "metadata": {
    "collapsed": false,
    "ExecuteTime": {
     "end_time": "2023-07-26T06:36:41.975369100Z",
     "start_time": "2023-07-26T06:36:41.975369100Z"
    }
   }
  },
  {
   "cell_type": "code",
   "execution_count": 5,
   "outputs": [],
   "source": [
    "#원-핫 인코딩 처리를 합니다.\n",
    "y = pd.get_dummies(y)\n"
   ],
   "metadata": {
    "collapsed": false,
    "ExecuteTime": {
     "end_time": "2023-07-26T06:37:00.255682800Z",
     "start_time": "2023-07-26T06:37:00.230077300Z"
    }
   }
  },
  {
   "cell_type": "code",
   "execution_count": 6,
   "outputs": [
    {
     "name": "stdout",
     "output_type": "stream",
     "text": [
      "Model: \"sequential\"\n",
      "_________________________________________________________________\n",
      " Layer (type)                Output Shape              Param #   \n",
      "=================================================================\n",
      " dense (Dense)               (None, 12)                60        \n",
      "                                                                 \n",
      " dense_1 (Dense)             (None, 8)                 104       \n",
      "                                                                 \n",
      " dense_2 (Dense)             (None, 3)                 27        \n",
      "                                                                 \n",
      "=================================================================\n",
      "Total params: 191 (764.00 Byte)\n",
      "Trainable params: 191 (764.00 Byte)\n",
      "Non-trainable params: 0 (0.00 Byte)\n",
      "_________________________________________________________________\n"
     ]
    }
   ],
   "source": [
    "#모델 설정\n",
    "model = Sequential()\n",
    "model.add(Dense(12,input_dim=4,activation='relu'))\n",
    "model.add(Dense(8,activation='relu'))\n",
    "model.add(Dense(3,activation='softmax'))\n",
    "model.summary()\n"
   ],
   "metadata": {
    "collapsed": false,
    "ExecuteTime": {
     "end_time": "2023-07-26T06:38:05.954132200Z",
     "start_time": "2023-07-26T06:38:05.878555300Z"
    }
   }
  },
  {
   "cell_type": "code",
   "execution_count": 7,
   "outputs": [],
   "source": [
    "#모델 컴파일\n",
    "model.compile(loss='categorical_crossentropy',optimizer='adam',metrics=['accuracy'])\n"
   ],
   "metadata": {
    "collapsed": false,
    "ExecuteTime": {
     "end_time": "2023-07-26T06:38:44.007871Z",
     "start_time": "2023-07-26T06:38:43.998849100Z"
    }
   }
  },
  {
   "cell_type": "code",
   "execution_count": 8,
   "outputs": [
    {
     "name": "stdout",
     "output_type": "stream",
     "text": [
      "Epoch 1/50\n",
      "30/30 [==============================] - 1s 1ms/step - loss: 1.4554 - accuracy: 0.3333 \n",
      "Epoch 2/50\n",
      "30/30 [==============================] - 0s 1ms/step - loss: 1.1870 - accuracy: 0.3333\n",
      "Epoch 3/50\n",
      "30/30 [==============================] - 0s 1ms/step - loss: 1.1105 - accuracy: 0.3800\n",
      "Epoch 4/50\n",
      "30/30 [==============================] - 0s 1ms/step - loss: 1.0893 - accuracy: 0.3400\n",
      "Epoch 5/50\n",
      "30/30 [==============================] - 0s 1ms/step - loss: 1.0693 - accuracy: 0.3467\n",
      "Epoch 6/50\n",
      "30/30 [==============================] - 0s 539us/step - loss: 1.0539 - accuracy: 0.3600\n",
      "Epoch 7/50\n",
      "30/30 [==============================] - 0s 1ms/step - loss: 1.0379 - accuracy: 0.3333\n",
      "Epoch 8/50\n",
      "30/30 [==============================] - 0s 1ms/step - loss: 1.0217 - accuracy: 0.3333\n",
      "Epoch 9/50\n",
      "30/30 [==============================] - 0s 987us/step - loss: 1.0046 - accuracy: 0.3467\n",
      "Epoch 10/50\n",
      "30/30 [==============================] - 0s 1ms/step - loss: 0.9817 - accuracy: 0.3533\n",
      "Epoch 11/50\n",
      "30/30 [==============================] - 0s 1ms/step - loss: 0.9575 - accuracy: 0.3400\n",
      "Epoch 12/50\n",
      "30/30 [==============================] - 0s 1ms/step - loss: 0.9330 - accuracy: 0.3333\n",
      "Epoch 13/50\n",
      "30/30 [==============================] - 0s 1ms/step - loss: 0.9088 - accuracy: 0.3333\n",
      "Epoch 14/50\n",
      "30/30 [==============================] - 0s 591us/step - loss: 0.8861 - accuracy: 0.3400\n",
      "Epoch 15/50\n",
      "30/30 [==============================] - 0s 1ms/step - loss: 0.8667 - accuracy: 0.4467\n",
      "Epoch 16/50\n",
      "30/30 [==============================] - 0s 1ms/step - loss: 0.8503 - accuracy: 0.5467\n",
      "Epoch 17/50\n",
      "30/30 [==============================] - 0s 1ms/step - loss: 0.8236 - accuracy: 0.5600\n",
      "Epoch 18/50\n",
      "30/30 [==============================] - 0s 1ms/step - loss: 0.8076 - accuracy: 0.6333\n",
      "Epoch 19/50\n",
      "30/30 [==============================] - 0s 729us/step - loss: 0.7921 - accuracy: 0.6600\n",
      "Epoch 20/50\n",
      "30/30 [==============================] - 0s 1ms/step - loss: 0.7778 - accuracy: 0.7000\n",
      "Epoch 21/50\n",
      "30/30 [==============================] - 0s 1ms/step - loss: 0.7655 - accuracy: 0.6667\n",
      "Epoch 22/50\n",
      "30/30 [==============================] - 0s 1ms/step - loss: 0.7448 - accuracy: 0.7600\n",
      "Epoch 23/50\n",
      "30/30 [==============================] - 0s 1ms/step - loss: 0.7319 - accuracy: 0.6667\n",
      "Epoch 24/50\n",
      "30/30 [==============================] - 0s 1ms/step - loss: 0.7154 - accuracy: 0.6800\n",
      "Epoch 25/50\n",
      "30/30 [==============================] - 0s 1ms/step - loss: 0.7013 - accuracy: 0.6933\n",
      "Epoch 26/50\n",
      "30/30 [==============================] - 0s 1ms/step - loss: 0.6891 - accuracy: 0.7267\n",
      "Epoch 27/50\n",
      "30/30 [==============================] - 0s 1ms/step - loss: 0.6764 - accuracy: 0.7533\n",
      "Epoch 28/50\n",
      "30/30 [==============================] - 0s 539us/step - loss: 0.6662 - accuracy: 0.7800\n",
      "Epoch 29/50\n",
      "30/30 [==============================] - 0s 1ms/step - loss: 0.6500 - accuracy: 0.7400\n",
      "Epoch 30/50\n",
      "30/30 [==============================] - 0s 1ms/step - loss: 0.6477 - accuracy: 0.8867\n",
      "Epoch 31/50\n",
      "30/30 [==============================] - 0s 1ms/step - loss: 0.6268 - accuracy: 0.9000\n",
      "Epoch 32/50\n",
      "30/30 [==============================] - 0s 1ms/step - loss: 0.6201 - accuracy: 0.7733\n",
      "Epoch 33/50\n",
      "30/30 [==============================] - 0s 837us/step - loss: 0.6044 - accuracy: 0.8667\n",
      "Epoch 34/50\n",
      "30/30 [==============================] - 0s 1ms/step - loss: 0.5928 - accuracy: 0.9067\n",
      "Epoch 35/50\n",
      "30/30 [==============================] - 0s 1ms/step - loss: 0.5820 - accuracy: 0.8933\n",
      "Epoch 36/50\n",
      "30/30 [==============================] - 0s 539us/step - loss: 0.5713 - accuracy: 0.8600\n",
      "Epoch 37/50\n",
      "30/30 [==============================] - 0s 677us/step - loss: 0.5557 - accuracy: 0.9467\n",
      "Epoch 38/50\n",
      "30/30 [==============================] - 0s 1ms/step - loss: 0.5434 - accuracy: 0.9400\n",
      "Epoch 39/50\n",
      "30/30 [==============================] - 0s 1ms/step - loss: 0.5357 - accuracy: 0.9600\n",
      "Epoch 40/50\n",
      "30/30 [==============================] - 0s 1ms/step - loss: 0.5190 - accuracy: 0.9067\n",
      "Epoch 41/50\n",
      "30/30 [==============================] - 0s 539us/step - loss: 0.5082 - accuracy: 0.9533\n",
      "Epoch 42/50\n",
      "30/30 [==============================] - 0s 1ms/step - loss: 0.4993 - accuracy: 0.9333\n",
      "Epoch 43/50\n",
      "30/30 [==============================] - 0s 1ms/step - loss: 0.4852 - accuracy: 0.9533\n",
      "Epoch 44/50\n",
      "30/30 [==============================] - 0s 1ms/step - loss: 0.4719 - accuracy: 0.9400\n",
      "Epoch 45/50\n",
      "30/30 [==============================] - 0s 1ms/step - loss: 0.4575 - accuracy: 0.9733\n",
      "Epoch 46/50\n",
      "30/30 [==============================] - 0s 2ms/step - loss: 0.4454 - accuracy: 0.9600\n",
      "Epoch 47/50\n",
      "30/30 [==============================] - 0s 1ms/step - loss: 0.4308 - accuracy: 0.9733\n",
      "Epoch 48/50\n",
      "30/30 [==============================] - 0s 853us/step - loss: 0.4199 - accuracy: 0.9600\n",
      "Epoch 49/50\n",
      "30/30 [==============================] - 0s 1ms/step - loss: 0.4081 - accuracy: 0.9467\n",
      "Epoch 50/50\n",
      "30/30 [==============================] - 0s 1ms/step - loss: 0.3950 - accuracy: 0.9600\n"
     ]
    }
   ],
   "source": [
    "history = model.fit(X,y,epochs=50,batch_size=5)"
   ],
   "metadata": {
    "collapsed": false,
    "ExecuteTime": {
     "end_time": "2023-07-26T06:39:03.301726500Z",
     "start_time": "2023-07-26T06:39:00.518412800Z"
    }
   }
  },
  {
   "cell_type": "code",
   "execution_count": null,
   "outputs": [],
   "source": [],
   "metadata": {
    "collapsed": false
   }
  }
 ],
 "metadata": {
  "kernelspec": {
   "display_name": "Python 3",
   "language": "python",
   "name": "python3"
  },
  "language_info": {
   "codemirror_mode": {
    "name": "ipython",
    "version": 2
   },
   "file_extension": ".py",
   "mimetype": "text/x-python",
   "name": "python",
   "nbconvert_exporter": "python",
   "pygments_lexer": "ipython2",
   "version": "2.7.6"
  }
 },
 "nbformat": 4,
 "nbformat_minor": 0
}
