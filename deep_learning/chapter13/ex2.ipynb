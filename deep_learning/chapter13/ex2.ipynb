{
 "cells": [
  {
   "cell_type": "code",
   "execution_count": 3,
   "metadata": {
    "collapsed": true,
    "ExecuteTime": {
     "end_time": "2023-07-26T07:05:27.251005800Z",
     "start_time": "2023-07-26T07:05:25.803286200Z"
    }
   },
   "outputs": [],
   "source": [
    "#5.1와인 데이터셋 불러오기\n",
    "import pandas as pd\n",
    "red =pd.read_csv('http://archive.ics.uci.edu/ml/machine-learning-'\n",
    "                'databases/wine-quality/winequality-red.csv',sep=';')\n",
    "white =pd.read_csv('http://archive.ics.uci.edu/ml/machine-learning-'\n",
    "                'databases/wine-quality/winequality-white.csv',sep=';')"
   ]
  },
  {
   "cell_type": "code",
   "execution_count": 4,
   "outputs": [
    {
     "name": "stdout",
     "output_type": "stream",
     "text": [
      "   fixed acidity  volatile acidity  citric acid  residual sugar  chlorides  \\\n",
      "0            7.4              0.70         0.00             1.9      0.076   \n",
      "1            7.8              0.88         0.00             2.6      0.098   \n",
      "2            7.8              0.76         0.04             2.3      0.092   \n",
      "3           11.2              0.28         0.56             1.9      0.075   \n",
      "4            7.4              0.70         0.00             1.9      0.076   \n",
      "\n",
      "   free sulfur dioxide  total sulfur dioxide  density    pH  sulphates  \\\n",
      "0                 11.0                  34.0   0.9978  3.51       0.56   \n",
      "1                 25.0                  67.0   0.9968  3.20       0.68   \n",
      "2                 15.0                  54.0   0.9970  3.26       0.65   \n",
      "3                 17.0                  60.0   0.9980  3.16       0.58   \n",
      "4                 11.0                  34.0   0.9978  3.51       0.56   \n",
      "\n",
      "   alcohol  quality  \n",
      "0      9.4        5  \n",
      "1      9.8        5  \n",
      "2      9.8        5  \n",
      "3      9.8        6  \n",
      "4      9.4        5  \n",
      "   fixed acidity  volatile acidity  citric acid  residual sugar  chlorides  \\\n",
      "0            7.0              0.27         0.36            20.7      0.045   \n",
      "1            6.3              0.30         0.34             1.6      0.049   \n",
      "2            8.1              0.28         0.40             6.9      0.050   \n",
      "3            7.2              0.23         0.32             8.5      0.058   \n",
      "4            7.2              0.23         0.32             8.5      0.058   \n",
      "\n",
      "   free sulfur dioxide  total sulfur dioxide  density    pH  sulphates  \\\n",
      "0                 45.0                 170.0   1.0010  3.00       0.45   \n",
      "1                 14.0                 132.0   0.9940  3.30       0.49   \n",
      "2                 30.0                  97.0   0.9951  3.26       0.44   \n",
      "3                 47.0                 186.0   0.9956  3.19       0.40   \n",
      "4                 47.0                 186.0   0.9956  3.19       0.40   \n",
      "\n",
      "   alcohol  quality  \n",
      "0      8.8        6  \n",
      "1      9.5        6  \n",
      "2     10.1        6  \n",
      "3      9.9        6  \n",
      "4      9.9        6  \n"
     ]
    }
   ],
   "source": [
    "print(red.head())\n",
    "print(white.head())"
   ],
   "metadata": {
    "collapsed": false,
    "ExecuteTime": {
     "end_time": "2023-07-26T07:06:15.220779400Z",
     "start_time": "2023-07-26T07:06:15.204578400Z"
    }
   }
  },
  {
   "cell_type": "code",
   "execution_count": 6,
   "outputs": [
    {
     "name": "stdout",
     "output_type": "stream",
     "text": [
      "   fixed acidity  volatile acidity  citric acid  residual sugar  chlorides  \\\n",
      "0            7.4              0.70          0.0             1.9      0.076   \n",
      "1            7.8              0.88          0.0             2.6      0.098   \n",
      "\n",
      "   free sulfur dioxide  total sulfur dioxide  density    pH  sulphates  \\\n",
      "0                 11.0                  34.0   0.9978  3.51       0.56   \n",
      "1                 25.0                  67.0   0.9968  3.20       0.68   \n",
      "\n",
      "   alcohol  quality  type  \n",
      "0      9.4        5     0  \n",
      "1      9.8        5     0  \n",
      "   fixed acidity  volatile acidity  citric acid  residual sugar  chlorides  \\\n",
      "0            7.0              0.27         0.36            20.7      0.045   \n",
      "1            6.3              0.30         0.34             1.6      0.049   \n",
      "\n",
      "   free sulfur dioxide  total sulfur dioxide  density   pH  sulphates  \\\n",
      "0                 45.0                 170.0    1.001  3.0       0.45   \n",
      "1                 14.0                 132.0    0.994  3.3       0.49   \n",
      "\n",
      "   alcohol  quality  type  \n",
      "0      8.8        6     1  \n",
      "1      9.5        6     1  \n",
      "       fixed acidity  volatile acidity  citric acid  residual sugar  \\\n",
      "count    6497.000000       6497.000000  6497.000000     6497.000000   \n",
      "mean        7.215307          0.339666     0.318633        5.443235   \n",
      "std         1.296434          0.164636     0.145318        4.757804   \n",
      "min         3.800000          0.080000     0.000000        0.600000   \n",
      "25%         6.400000          0.230000     0.250000        1.800000   \n",
      "50%         7.000000          0.290000     0.310000        3.000000   \n",
      "75%         7.700000          0.400000     0.390000        8.100000   \n",
      "max        15.900000          1.580000     1.660000       65.800000   \n",
      "\n",
      "         chlorides  free sulfur dioxide  total sulfur dioxide      density  \\\n",
      "count  6497.000000          6497.000000           6497.000000  6497.000000   \n",
      "mean      0.056034            30.525319            115.744574     0.994697   \n",
      "std       0.035034            17.749400             56.521855     0.002999   \n",
      "min       0.009000             1.000000              6.000000     0.987110   \n",
      "25%       0.038000            17.000000             77.000000     0.992340   \n",
      "50%       0.047000            29.000000            118.000000     0.994890   \n",
      "75%       0.065000            41.000000            156.000000     0.996990   \n",
      "max       0.611000           289.000000            440.000000     1.038980   \n",
      "\n",
      "                pH    sulphates      alcohol      quality         type  \n",
      "count  6497.000000  6497.000000  6497.000000  6497.000000  6497.000000  \n",
      "mean      3.218501     0.531268    10.491801     5.818378     0.753886  \n",
      "std       0.160787     0.148806     1.192712     0.873255     0.430779  \n",
      "min       2.720000     0.220000     8.000000     3.000000     0.000000  \n",
      "25%       3.110000     0.430000     9.500000     5.000000     1.000000  \n",
      "50%       3.210000     0.510000    10.300000     6.000000     1.000000  \n",
      "75%       3.320000     0.600000    11.300000     6.000000     1.000000  \n",
      "max       4.010000     2.000000    14.900000     9.000000     1.000000  \n"
     ]
    }
   ],
   "source": [
    "red['type']=0\n",
    "white['type']=1\n",
    "print(red.head(2))\n",
    "print(white.head(2))\n",
    "wine = pd.concat([red,white])\n",
    "print(wine.describe())\n"
   ],
   "metadata": {
    "collapsed": false,
    "ExecuteTime": {
     "end_time": "2023-07-26T07:16:24.225487300Z",
     "start_time": "2023-07-26T07:16:24.173102900Z"
    }
   }
  },
  {
   "cell_type": "code",
   "execution_count": 7,
   "outputs": [
    {
     "data": {
      "text/plain": "<Figure size 640x480 with 1 Axes>",
      "image/png": "[encoded data removed]"
     },
     "metadata": {},
     "output_type": "display_data"
    },
    {
     "name": "stdout",
     "output_type": "stream",
     "text": [
      "type\n",
      "1    4898\n",
      "0    1599\n",
      "Name: count, dtype: int64\n"
     ]
    }
   ],
   "source": [
    "#5.3레드 완이과 화이트 와인 type 히스토그램\n",
    "import matplotlib.pyplot as plt\n",
    "plt.hist(wine['type'])\n",
    "plt.xticks([0,1])\n",
    "plt.show()\n",
    "print(wine['type'].value_counts())"
   ],
   "metadata": {
    "collapsed": false,
    "ExecuteTime": {
     "end_time": "2023-07-26T07:18:52.412473100Z",
     "start_time": "2023-07-26T07:18:51.649223800Z"
    }
   }
  },
  {
   "cell_type": "code",
   "execution_count": 8,
   "outputs": [
    {
     "name": "stdout",
     "output_type": "stream",
     "text": [
      "<class 'pandas.core.frame.DataFrame'>\n",
      "Index: 6497 entries, 0 to 4897\n",
      "Data columns (total 13 columns):\n",
      " #   Column                Non-Null Count  Dtype  \n",
      "---  ------                --------------  -----  \n",
      " 0   fixed acidity         6497 non-null   float64\n",
      " 1   volatile acidity      6497 non-null   float64\n",
      " 2   citric acid           6497 non-null   float64\n",
      " 3   residual sugar        6497 non-null   float64\n",
      " 4   chlorides             6497 non-null   float64\n",
      " 5   free sulfur dioxide   6497 non-null   float64\n",
      " 6   total sulfur dioxide  6497 non-null   float64\n",
      " 7   density               6497 non-null   float64\n",
      " 8   pH                    6497 non-null   float64\n",
      " 9   sulphates             6497 non-null   float64\n",
      " 10  alcohol               6497 non-null   float64\n",
      " 11  quality               6497 non-null   int64  \n",
      " 12  type                  6497 non-null   int64  \n",
      "dtypes: float64(11), int64(2)\n",
      "memory usage: 710.6 KB\n",
      "None\n"
     ]
    }
   ],
   "source": [
    "#5.4데이터 요약 정보 확인\n",
    "print(wine.info())"
   ],
   "metadata": {
    "collapsed": false,
    "ExecuteTime": {
     "end_time": "2023-07-26T07:38:42.050157300Z",
     "start_time": "2023-07-26T07:38:42.017555400Z"
    }
   }
  },
  {
   "cell_type": "code",
   "execution_count": 9,
   "outputs": [
    {
     "name": "stdout",
     "output_type": "stream",
     "text": [
      "   fixed acidity  volatile acidity  citric acid  residual sugar  chlorides  \\\n",
      "0       0.297521          0.413333     0.000000        0.019939   0.111296   \n",
      "1       0.330579          0.533333     0.000000        0.030675   0.147841   \n",
      "2       0.330579          0.453333     0.024096        0.026074   0.137874   \n",
      "3       0.611570          0.133333     0.337349        0.019939   0.109635   \n",
      "4       0.297521          0.413333     0.000000        0.019939   0.111296   \n",
      "\n",
      "   free sulfur dioxide  total sulfur dioxide   density        pH  sulphates  \\\n",
      "0             0.034722              0.064516  0.206092  0.612403   0.191011   \n",
      "1             0.083333              0.140553  0.186813  0.372093   0.258427   \n",
      "2             0.048611              0.110599  0.190669  0.418605   0.241573   \n",
      "3             0.055556              0.124424  0.209948  0.341085   0.202247   \n",
      "4             0.034722              0.064516  0.206092  0.612403   0.191011   \n",
      "\n",
      "    alcohol   quality  type  \n",
      "0  0.202899  0.333333   0.0  \n",
      "1  0.260870  0.333333   0.0  \n",
      "2  0.260870  0.333333   0.0  \n",
      "3  0.260870  0.500000   0.0  \n",
      "4  0.202899  0.333333   0.0  \n",
      "       fixed acidity  volatile acidity  citric acid  residual sugar  \\\n",
      "count    6497.000000       6497.000000  6497.000000     6497.000000   \n",
      "mean        0.282257          0.173111     0.191948        0.074283   \n",
      "std         0.107143          0.109758     0.087541        0.072972   \n",
      "min         0.000000          0.000000     0.000000        0.000000   \n",
      "25%         0.214876          0.100000     0.150602        0.018405   \n",
      "50%         0.264463          0.140000     0.186747        0.036810   \n",
      "75%         0.322314          0.213333     0.234940        0.115031   \n",
      "max         1.000000          1.000000     1.000000        1.000000   \n",
      "\n",
      "         chlorides  free sulfur dioxide  total sulfur dioxide      density  \\\n",
      "count  6497.000000          6497.000000           6497.000000  6497.000000   \n",
      "mean      0.078129             0.102518              0.252868     0.146262   \n",
      "std       0.058195             0.061630              0.130235     0.057811   \n",
      "min       0.000000             0.000000              0.000000     0.000000   \n",
      "25%       0.048173             0.055556              0.163594     0.100829   \n",
      "50%       0.063123             0.097222              0.258065     0.149990   \n",
      "75%       0.093023             0.138889              0.345622     0.190476   \n",
      "max       1.000000             1.000000              1.000000     1.000000   \n",
      "\n",
      "                pH    sulphates      alcohol      quality         type  \n",
      "count  6497.000000  6497.000000  6497.000000  6497.000000  6497.000000  \n",
      "mean      0.386435     0.174870     0.361131     0.469730     0.753886  \n",
      "std       0.124641     0.083599     0.172857     0.145543     0.430779  \n",
      "min       0.000000     0.000000     0.000000     0.000000     0.000000  \n",
      "25%       0.302326     0.117978     0.217391     0.333333     1.000000  \n",
      "50%       0.379845     0.162921     0.333333     0.500000     1.000000  \n",
      "75%       0.465116     0.213483     0.478261     0.500000     1.000000  \n",
      "max       1.000000     1.000000     1.000000     1.000000     1.000000  \n"
     ]
    }
   ],
   "source": [
    "#5.5 데이터 정규화\n",
    "wine_norm = (wine-wine.min())/(wine.max()-wine.min())\n",
    "print(wine_norm.head())\n",
    "print(wine_norm.describe())"
   ],
   "metadata": {
    "collapsed": false,
    "ExecuteTime": {
     "end_time": "2023-07-26T07:41:15.030480800Z",
     "start_time": "2023-07-26T07:41:14.996459400Z"
    }
   }
  },
  {
   "cell_type": "code",
   "execution_count": 10,
   "outputs": [
    {
     "name": "stdout",
     "output_type": "stream",
     "text": [
      "      fixed acidity  volatile acidity  citric acid  residual sugar  chlorides  \\\n",
      "1811       0.314050          0.200000     0.120482        0.042945   0.061462   \n",
      "623        0.280992          0.106667     0.204819        0.007669   0.059801   \n",
      "210        0.148760          0.110000     0.150602        0.139571   0.038206   \n",
      "2309       0.355372          0.133333     0.204819        0.010736   0.043189   \n",
      "172        0.314050          0.266667     0.222892        0.003067   0.046512   \n",
      "\n",
      "      free sulfur dioxide  total sulfur dioxide   density        pH  \\\n",
      "1811             0.027778              0.253456  0.140544  0.333333   \n",
      "623              0.006944              0.133641  0.080779  0.395349   \n",
      "210              0.038194              0.142857  0.132832  0.457364   \n",
      "2309             0.034722              0.276498  0.100443  0.325581   \n",
      "172              0.010417              0.216590  0.059572  0.240310   \n",
      "\n",
      "      sulphates   alcohol   quality  type  \n",
      "1811   0.106742  0.202899  0.333333   1.0  \n",
      "623    0.162921  0.492754  0.333333   1.0  \n",
      "210    0.067416  0.362319  0.333333   1.0  \n",
      "2309   0.157303  0.260870  0.500000   1.0  \n",
      "172    0.095506  0.492754  0.166667   1.0  \n",
      "[[0.31404959 0.2        0.12048193 0.04294479 0.06146179 0.02777778\n",
      "  0.25345622 0.14054367 0.33333333 0.10674157 0.20289855 0.33333333\n",
      "  1.        ]\n",
      " [0.28099174 0.10666667 0.20481928 0.00766871 0.05980066 0.00694444\n",
      "  0.13364055 0.08077887 0.39534884 0.16292135 0.49275362 0.33333333\n",
      "  1.        ]\n",
      " [0.14876033 0.11       0.15060241 0.13957055 0.03820598 0.03819444\n",
      "  0.14285714 0.13283208 0.45736434 0.06741573 0.36231884 0.33333333\n",
      "  1.        ]\n",
      " [0.3553719  0.13333333 0.20481928 0.0107362  0.04318937 0.03472222\n",
      "  0.2764977  0.10044342 0.3255814  0.15730337 0.26086957 0.5\n",
      "  1.        ]\n",
      " [0.31404959 0.26666667 0.22289157 0.00306748 0.04651163 0.01041667\n",
      "  0.21658986 0.05957201 0.24031008 0.09550562 0.49275362 0.16666667\n",
      "  1.        ]]\n"
     ]
    }
   ],
   "source": [
    "#5.6 데이터 섞은 후 numpy array로 변환\n",
    "import numpy as np\n",
    "wine_shuffle = wine_norm.sample(frac=1)\n",
    "print(wine_shuffle.head())\n",
    "wine_np = wine_shuffle.to_numpy()\n",
    "print(wine_np[:5])"
   ],
   "metadata": {
    "collapsed": false,
    "ExecuteTime": {
     "end_time": "2023-07-26T07:47:47.940422700Z",
     "start_time": "2023-07-26T07:47:47.915446500Z"
    }
   }
  },
  {
   "cell_type": "code",
   "execution_count": 13,
   "outputs": [],
   "source": [
    "#5.7 train 데이터와 test 데이터로 분리\n",
    "import keras\n",
    "train_idx =int(len(wine_np)*0.8)\n",
    "train_X,train_Y = wine_np[:train_idx,:-1], wine_np[:train_idx,-1] #train_x는 마지막꺼 빼고 train_y는 마지막꺼\n",
    "test_X,text_Y = wine_np[train_idx:,-1],wine_np[train_idx:,-1]"
   ],
   "metadata": {
    "collapsed": false,
    "ExecuteTime": {
     "end_time": "2023-07-26T07:52:35.134040400Z",
     "start_time": "2023-07-26T07:52:35.134040400Z"
    }
   }
  },
  {
   "cell_type": "code",
   "execution_count": 14,
   "outputs": [
    {
     "name": "stdout",
     "output_type": "stream",
     "text": [
      "[0.31404959 0.2        0.12048193 0.04294479 0.06146179 0.02777778\n",
      " 0.25345622 0.14054367 0.33333333 0.10674157 0.20289855 0.33333333]\n",
      "1.0\n",
      "1.0\n",
      "1.0\n"
     ]
    }
   ],
   "source": [
    "print(train_X[0])\n",
    "print(train_Y[0])\n",
    "print(test_X[0])\n",
    "print(text_Y[0])\n"
   ],
   "metadata": {
    "collapsed": false,
    "ExecuteTime": {
     "end_time": "2023-07-26T07:53:15.637993900Z",
     "start_time": "2023-07-26T07:53:15.604193600Z"
    }
   }
  },
  {
   "cell_type": "code",
   "execution_count": 15,
   "outputs": [
    {
     "name": "stdout",
     "output_type": "stream",
     "text": [
      "[0. 1.]\n",
      "[0. 1.]\n"
     ]
    }
   ],
   "source": [
    "train_Y = keras.utils.to_categorical(train_Y,num_classes=2)\n",
    "test_Y = keras.utils.to_categorical(text_Y,num_classes=2)\n",
    "print(train_Y[0])\n",
    "print(test_Y[0])"
   ],
   "metadata": {
    "collapsed": false,
    "ExecuteTime": {
     "end_time": "2023-07-26T07:54:19.451403300Z",
     "start_time": "2023-07-26T07:54:19.405554100Z"
    }
   }
  },
  {
   "cell_type": "code",
   "execution_count": 23,
   "outputs": [],
   "source": [
    "#5.8 와인 데이터셋 분류 모델 생성\n",
    "model = keras.Sequential([\n",
    "    keras.layers.Dense(units=48,activation='relu',input_shape=(12,)),\n",
    "    keras.layers.Dense(units=24,activation='relu'),\n",
    "    keras.layers.Dense(units=12,activation='relu'),\n",
    "    keras.layers.Dense(units=2,activation='softmax')\n",
    "])\n",
    "model.compile(optimizer=keras.optimizers.Adam(learning_rate=0.07),\n",
    "              loss='categorical_crossentropy',metrics=['accuracy'])"
   ],
   "metadata": {
    "collapsed": false,
    "ExecuteTime": {
     "end_time": "2023-07-26T08:11:08.062742900Z",
     "start_time": "2023-07-26T08:11:08.015313700Z"
    }
   }
  },
  {
   "cell_type": "code",
   "execution_count": 24,
   "outputs": [
    {
     "name": "stdout",
     "output_type": "stream",
     "text": [
      "Epoch 1/25\n",
      "122/122 [==============================] - 1s 3ms/step - loss: 0.1349 - accuracy: 0.9564 - val_loss: 0.1019 - val_accuracy: 0.9646\n",
      "Epoch 2/25\n",
      "122/122 [==============================] - 0s 2ms/step - loss: 0.0753 - accuracy: 0.9797 - val_loss: 0.2416 - val_accuracy: 0.8562\n",
      "Epoch 3/25\n",
      "122/122 [==============================] - 0s 2ms/step - loss: 0.0688 - accuracy: 0.9792 - val_loss: 0.0417 - val_accuracy: 0.9854\n",
      "Epoch 4/25\n",
      "122/122 [==============================] - 0s 2ms/step - loss: 0.0528 - accuracy: 0.9851 - val_loss: 0.0249 - val_accuracy: 0.9946\n",
      "Epoch 5/25\n",
      "122/122 [==============================] - 0s 2ms/step - loss: 0.0434 - accuracy: 0.9892 - val_loss: 0.0223 - val_accuracy: 0.9954\n",
      "Epoch 6/25\n",
      "122/122 [==============================] - 0s 2ms/step - loss: 0.0436 - accuracy: 0.9877 - val_loss: 0.0282 - val_accuracy: 0.9938\n",
      "Epoch 7/25\n",
      "122/122 [==============================] - 0s 2ms/step - loss: 0.0605 - accuracy: 0.9846 - val_loss: 0.0475 - val_accuracy: 0.9862\n",
      "Epoch 8/25\n",
      "122/122 [==============================] - 0s 2ms/step - loss: 0.0496 - accuracy: 0.9867 - val_loss: 0.0257 - val_accuracy: 0.9962\n",
      "Epoch 9/25\n",
      "122/122 [==============================] - 0s 2ms/step - loss: 0.0523 - accuracy: 0.9859 - val_loss: 0.0293 - val_accuracy: 0.9946\n",
      "Epoch 10/25\n",
      "122/122 [==============================] - 0s 2ms/step - loss: 0.0424 - accuracy: 0.9877 - val_loss: 0.0356 - val_accuracy: 0.9900\n",
      "Epoch 11/25\n",
      "122/122 [==============================] - 0s 2ms/step - loss: 0.0539 - accuracy: 0.9838 - val_loss: 0.0420 - val_accuracy: 0.9862\n",
      "Epoch 12/25\n",
      "122/122 [==============================] - 0s 2ms/step - loss: 0.0387 - accuracy: 0.9902 - val_loss: 0.0253 - val_accuracy: 0.9954\n",
      "Epoch 13/25\n",
      "122/122 [==============================] - 0s 2ms/step - loss: 0.0391 - accuracy: 0.9908 - val_loss: 0.0259 - val_accuracy: 0.9954\n",
      "Epoch 14/25\n",
      "122/122 [==============================] - 0s 2ms/step - loss: 0.0370 - accuracy: 0.9913 - val_loss: 0.0272 - val_accuracy: 0.9962\n",
      "Epoch 15/25\n",
      "122/122 [==============================] - 0s 2ms/step - loss: 0.0515 - accuracy: 0.9856 - val_loss: 0.0241 - val_accuracy: 0.9962\n",
      "Epoch 16/25\n",
      "122/122 [==============================] - 0s 2ms/step - loss: 0.0428 - accuracy: 0.9897 - val_loss: 0.0262 - val_accuracy: 0.9946\n",
      "Epoch 17/25\n",
      "122/122 [==============================] - 0s 2ms/step - loss: 0.0329 - accuracy: 0.9905 - val_loss: 0.0252 - val_accuracy: 0.9946\n",
      "Epoch 18/25\n",
      "122/122 [==============================] - 0s 2ms/step - loss: 0.0319 - accuracy: 0.9920 - val_loss: 0.0296 - val_accuracy: 0.9946\n",
      "Epoch 19/25\n",
      "122/122 [==============================] - 0s 2ms/step - loss: 0.0354 - accuracy: 0.9908 - val_loss: 0.0226 - val_accuracy: 0.9954\n",
      "Epoch 20/25\n",
      "122/122 [==============================] - 0s 2ms/step - loss: 0.0307 - accuracy: 0.9920 - val_loss: 0.0195 - val_accuracy: 0.9969\n",
      "Epoch 21/25\n",
      "122/122 [==============================] - 0s 2ms/step - loss: 0.0380 - accuracy: 0.9897 - val_loss: 0.0296 - val_accuracy: 0.9946\n",
      "Epoch 22/25\n",
      "122/122 [==============================] - 0s 2ms/step - loss: 0.0296 - accuracy: 0.9910 - val_loss: 0.0256 - val_accuracy: 0.9954\n",
      "Epoch 23/25\n",
      "122/122 [==============================] - 0s 2ms/step - loss: 0.0499 - accuracy: 0.9892 - val_loss: 0.0300 - val_accuracy: 0.9962\n",
      "Epoch 24/25\n",
      "122/122 [==============================] - 0s 2ms/step - loss: 0.0306 - accuracy: 0.9918 - val_loss: 0.0334 - val_accuracy: 0.9946\n",
      "Epoch 25/25\n",
      "122/122 [==============================] - 0s 2ms/step - loss: 0.0328 - accuracy: 0.9923 - val_loss: 0.0405 - val_accuracy: 0.9931\n"
     ]
    }
   ],
   "source": [
    "#5.9와인 데이터셋 분류 모델 학습\n",
    "history = model.fit(train_X,train_Y,epochs=25,batch_size=32,\n",
    "                    validation_split=0.25)"
   ],
   "metadata": {
    "collapsed": false,
    "ExecuteTime": {
     "end_time": "2023-07-26T08:11:15.604068800Z",
     "start_time": "2023-07-26T08:11:09.398146500Z"
    }
   }
  },
  {
   "cell_type": "code",
   "execution_count": null,
   "outputs": [],
   "source": [],
   "metadata": {
    "collapsed": false
   }
  }
 ],
 "metadata": {
  "kernelspec": {
   "display_name": "Python 3",
   "language": "python",
   "name": "python3"
  },
  "language_info": {
   "codemirror_mode": {
    "name": "ipython",
    "version": 2
   },
   "file_extension": ".py",
   "mimetype": "text/x-python",
   "name": "python",
   "nbconvert_exporter": "python",
   "pygments_lexer": "ipython2",
   "version": "2.7.6"
  }
 },
 "nbformat": 4,
 "nbformat_minor": 0
}
