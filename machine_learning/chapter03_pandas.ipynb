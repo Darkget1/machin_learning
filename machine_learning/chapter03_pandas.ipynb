{
 "cells": [
  {
   "cell_type": "code",
   "execution_count": 75,
   "metadata": {
    "collapsed": true,
    "ExecuteTime": {
     "end_time": "2023-07-06T08:49:08.002147400Z",
     "start_time": "2023-07-06T08:49:08.001642Z"
    }
   },
   "outputs": [
    {
     "data": {
      "text/plain": "   name  dept  score\n0  jang   com    100\n1  yang   eng     90\n2    oh  math     95",
      "text/html": "<div>\n<style scoped>\n    .dataframe tbody tr th:only-of-type {\n        vertical-align: middle;\n    }\n\n    .dataframe tbody tr th {\n        vertical-align: top;\n    }\n\n    .dataframe thead th {\n        text-align: right;\n    }\n</style>\n<table border=\"1\" class=\"dataframe\">\n  <thead>\n    <tr style=\"text-align: right;\">\n      <th></th>\n      <th>name</th>\n      <th>dept</th>\n      <th>score</th>\n    </tr>\n  </thead>\n  <tbody>\n    <tr>\n      <th>0</th>\n      <td>jang</td>\n      <td>com</td>\n      <td>100</td>\n    </tr>\n    <tr>\n      <th>1</th>\n      <td>yang</td>\n      <td>eng</td>\n      <td>90</td>\n    </tr>\n    <tr>\n      <th>2</th>\n      <td>oh</td>\n      <td>math</td>\n      <td>95</td>\n    </tr>\n  </tbody>\n</table>\n</div>"
     },
     "execution_count": 75,
     "metadata": {},
     "output_type": "execute_result"
    }
   ],
   "source": [
    "import pandas as pd\n",
    "df = pd.DataFrame({'name':['jang','yang','oh'],'dept':['com','eng','math'],'score':[100,90,95]})\n",
    "df"
   ]
  },
  {
   "cell_type": "code",
   "execution_count": 73,
   "outputs": [
    {
     "data": {
      "text/plain": "0    jang\n1    yang\n2      oh\ndtype: object"
     },
     "execution_count": 73,
     "metadata": {},
     "output_type": "execute_result"
    }
   ],
   "source": [
    "name = pd.Series(['jang','yang','oh'])\n",
    "name"
   ],
   "metadata": {
    "collapsed": false,
    "ExecuteTime": {
     "end_time": "2023-07-06T08:49:06.008891700Z",
     "start_time": "2023-07-06T08:49:06.006566500Z"
    }
   }
  },
  {
   "cell_type": "code",
   "execution_count": 4,
   "outputs": [
    {
     "data": {
      "text/plain": "    id  nclass  math  english  science\n0    1       1    50       98       50\n1    2       1    60       97       60\n2    3       1    45       86       78\n3    4       1    30       98       58\n4    5       2    25       80       65\n5    6       2    50       89       98\n6    7       2    80       90       45\n7    8       2    90       78       25\n8    9       3    20       98       15\n9   10       3    50       98       45\n10  11       3    65       65       65\n11  12       3    45       85       32\n12  13       4    46       98       65\n13  14       4    48       87       12\n14  15       4    75       56       78\n15  16       4    58       98       65\n16  17       5    65       68       98\n17  18       5    80       78       90\n18  19       5    89       68       87\n19  20       5    78       83       58",
      "text/html": "<div>\n<style scoped>\n    .dataframe tbody tr th:only-of-type {\n        vertical-align: middle;\n    }\n\n    .dataframe tbody tr th {\n        vertical-align: top;\n    }\n\n    .dataframe thead th {\n        text-align: right;\n    }\n</style>\n<table border=\"1\" class=\"dataframe\">\n  <thead>\n    <tr style=\"text-align: right;\">\n      <th></th>\n      <th>id</th>\n      <th>nclass</th>\n      <th>math</th>\n      <th>english</th>\n      <th>science</th>\n    </tr>\n  </thead>\n  <tbody>\n    <tr>\n      <th>0</th>\n      <td>1</td>\n      <td>1</td>\n      <td>50</td>\n      <td>98</td>\n      <td>50</td>\n    </tr>\n    <tr>\n      <th>1</th>\n      <td>2</td>\n      <td>1</td>\n      <td>60</td>\n      <td>97</td>\n      <td>60</td>\n    </tr>\n    <tr>\n      <th>2</th>\n      <td>3</td>\n      <td>1</td>\n      <td>45</td>\n      <td>86</td>\n      <td>78</td>\n    </tr>\n    <tr>\n      <th>3</th>\n      <td>4</td>\n      <td>1</td>\n      <td>30</td>\n      <td>98</td>\n      <td>58</td>\n    </tr>\n    <tr>\n      <th>4</th>\n      <td>5</td>\n      <td>2</td>\n      <td>25</td>\n      <td>80</td>\n      <td>65</td>\n    </tr>\n    <tr>\n      <th>5</th>\n      <td>6</td>\n      <td>2</td>\n      <td>50</td>\n      <td>89</td>\n      <td>98</td>\n    </tr>\n    <tr>\n      <th>6</th>\n      <td>7</td>\n      <td>2</td>\n      <td>80</td>\n      <td>90</td>\n      <td>45</td>\n    </tr>\n    <tr>\n      <th>7</th>\n      <td>8</td>\n      <td>2</td>\n      <td>90</td>\n      <td>78</td>\n      <td>25</td>\n    </tr>\n    <tr>\n      <th>8</th>\n      <td>9</td>\n      <td>3</td>\n      <td>20</td>\n      <td>98</td>\n      <td>15</td>\n    </tr>\n    <tr>\n      <th>9</th>\n      <td>10</td>\n      <td>3</td>\n      <td>50</td>\n      <td>98</td>\n      <td>45</td>\n    </tr>\n    <tr>\n      <th>10</th>\n      <td>11</td>\n      <td>3</td>\n      <td>65</td>\n      <td>65</td>\n      <td>65</td>\n    </tr>\n    <tr>\n      <th>11</th>\n      <td>12</td>\n      <td>3</td>\n      <td>45</td>\n      <td>85</td>\n      <td>32</td>\n    </tr>\n    <tr>\n      <th>12</th>\n      <td>13</td>\n      <td>4</td>\n      <td>46</td>\n      <td>98</td>\n      <td>65</td>\n    </tr>\n    <tr>\n      <th>13</th>\n      <td>14</td>\n      <td>4</td>\n      <td>48</td>\n      <td>87</td>\n      <td>12</td>\n    </tr>\n    <tr>\n      <th>14</th>\n      <td>15</td>\n      <td>4</td>\n      <td>75</td>\n      <td>56</td>\n      <td>78</td>\n    </tr>\n    <tr>\n      <th>15</th>\n      <td>16</td>\n      <td>4</td>\n      <td>58</td>\n      <td>98</td>\n      <td>65</td>\n    </tr>\n    <tr>\n      <th>16</th>\n      <td>17</td>\n      <td>5</td>\n      <td>65</td>\n      <td>68</td>\n      <td>98</td>\n    </tr>\n    <tr>\n      <th>17</th>\n      <td>18</td>\n      <td>5</td>\n      <td>80</td>\n      <td>78</td>\n      <td>90</td>\n    </tr>\n    <tr>\n      <th>18</th>\n      <td>19</td>\n      <td>5</td>\n      <td>89</td>\n      <td>68</td>\n      <td>87</td>\n    </tr>\n    <tr>\n      <th>19</th>\n      <td>20</td>\n      <td>5</td>\n      <td>78</td>\n      <td>83</td>\n      <td>58</td>\n    </tr>\n  </tbody>\n</table>\n</div>"
     },
     "execution_count": 4,
     "metadata": {},
     "output_type": "execute_result"
    }
   ],
   "source": [
    "import pandas as pd\n",
    "df = pd.read_csv('data/Machine_Learning/exam.csv')\n",
    "df"
   ],
   "metadata": {
    "collapsed": false,
    "ExecuteTime": {
     "end_time": "2023-07-06T08:53:32.322392600Z",
     "start_time": "2023-07-06T08:53:31.791623400Z"
    }
   }
  },
  {
   "cell_type": "code",
   "execution_count": 6,
   "outputs": [
    {
     "data": {
      "text/plain": "  학과코드   학과명\n0  A01   컴퓨터\n1  A02    국문\n2  A03    영문\n3  A04    경영\n4  A05    경제\n5  A06  전자공학\n6  A07  기계설비\n7  A99   디자인",
      "text/html": "<div>\n<style scoped>\n    .dataframe tbody tr th:only-of-type {\n        vertical-align: middle;\n    }\n\n    .dataframe tbody tr th {\n        vertical-align: top;\n    }\n\n    .dataframe thead th {\n        text-align: right;\n    }\n</style>\n<table border=\"1\" class=\"dataframe\">\n  <thead>\n    <tr style=\"text-align: right;\">\n      <th></th>\n      <th>학과코드</th>\n      <th>학과명</th>\n    </tr>\n  </thead>\n  <tbody>\n    <tr>\n      <th>0</th>\n      <td>A01</td>\n      <td>컴퓨터</td>\n    </tr>\n    <tr>\n      <th>1</th>\n      <td>A02</td>\n      <td>국문</td>\n    </tr>\n    <tr>\n      <th>2</th>\n      <td>A03</td>\n      <td>영문</td>\n    </tr>\n    <tr>\n      <th>3</th>\n      <td>A04</td>\n      <td>경영</td>\n    </tr>\n    <tr>\n      <th>4</th>\n      <td>A05</td>\n      <td>경제</td>\n    </tr>\n    <tr>\n      <th>5</th>\n      <td>A06</td>\n      <td>전자공학</td>\n    </tr>\n    <tr>\n      <th>6</th>\n      <td>A07</td>\n      <td>기계설비</td>\n    </tr>\n    <tr>\n      <th>7</th>\n      <td>A99</td>\n      <td>디자인</td>\n    </tr>\n  </tbody>\n</table>\n</div>"
     },
     "execution_count": 6,
     "metadata": {},
     "output_type": "execute_result"
    }
   ],
   "source": [
    "df = pd.read_excel('data/Machine_Learning/code.xlsx')\n",
    "df"
   ],
   "metadata": {
    "collapsed": false,
    "ExecuteTime": {
     "end_time": "2023-07-06T08:54:44.666045400Z",
     "start_time": "2023-07-06T08:54:44.405490500Z"
    }
   }
  },
  {
   "cell_type": "code",
   "execution_count": 3,
   "outputs": [
    {
     "data": {
      "text/plain": "       title singer  personnel sortation release_date                 agency  \\\n0        좋은날    아이유          1        솔로   2010-12-09              카카오엔터테인먼트   \n1    내가제일잘나가   2NE1          4        그룹   2011-06-24               YG엔터테인먼트   \n2      강남스타일     싸이          1        솔로   2012-07-15               YG엔터테인먼트   \n3       첫사랑니   f(x)          5        그룹   2013-07-29               SM엔터테인먼트   \n4        위아래   EXID          4        그룹   2014-08-27                  바나나컬쳐   \n5    Ah-Choo   러블리즈          8        그룹   2015-10-01               울림엔터테인먼트   \n6       피땀눈물  방탄소년단          7        그룹   2016-10-10                  빅히트뮤직   \n7     시간을달려서   여자친구          6        그룹   2016-01-25                   쏘스뮤직   \n8        빨간맛   레드벨벳          5        그룹   2017-07-09               SM엔터테인먼트   \n9       에너제틱    워너원         11        그룹   2017-08-07  YMC엔터테인먼트, 스톤뮤직엔터테인먼트   \n10      뚜두뚜두   블랙핑크          4        그룹   2018-06-15               YG엔터테인먼트   \n11      달라달라     있지          5        그룹   2019-02-12              JYP엔터테인먼트   \n12  Dynamite  방탄소년단          7        그룹   2020-08-21                  빅히트뮤직   \n\n   genre type  \n0    발라드   EP  \n1     댄스   싱글  \n2     힙합   정규  \n3     댄스   정규  \n4     댄스   싱글  \n5     댄스   EP  \n6    R&B   정규  \n7     댄스   EP  \n8     댄스   EP  \n9     댄스   EP  \n10    댄스   EP  \n11    댄스   싱글  \n12    댄스   싱글  ",
      "text/html": "<div>\n<style scoped>\n    .dataframe tbody tr th:only-of-type {\n        vertical-align: middle;\n    }\n\n    .dataframe tbody tr th {\n        vertical-align: top;\n    }\n\n    .dataframe thead th {\n        text-align: right;\n    }\n</style>\n<table border=\"1\" class=\"dataframe\">\n  <thead>\n    <tr style=\"text-align: right;\">\n      <th></th>\n      <th>title</th>\n      <th>singer</th>\n      <th>personnel</th>\n      <th>sortation</th>\n      <th>release_date</th>\n      <th>agency</th>\n      <th>genre</th>\n      <th>type</th>\n    </tr>\n  </thead>\n  <tbody>\n    <tr>\n      <th>0</th>\n      <td>좋은날</td>\n      <td>아이유</td>\n      <td>1</td>\n      <td>솔로</td>\n      <td>2010-12-09</td>\n      <td>카카오엔터테인먼트</td>\n      <td>발라드</td>\n      <td>EP</td>\n    </tr>\n    <tr>\n      <th>1</th>\n      <td>내가제일잘나가</td>\n      <td>2NE1</td>\n      <td>4</td>\n      <td>그룹</td>\n      <td>2011-06-24</td>\n      <td>YG엔터테인먼트</td>\n      <td>댄스</td>\n      <td>싱글</td>\n    </tr>\n    <tr>\n      <th>2</th>\n      <td>강남스타일</td>\n      <td>싸이</td>\n      <td>1</td>\n      <td>솔로</td>\n      <td>2012-07-15</td>\n      <td>YG엔터테인먼트</td>\n      <td>힙합</td>\n      <td>정규</td>\n    </tr>\n    <tr>\n      <th>3</th>\n      <td>첫사랑니</td>\n      <td>f(x)</td>\n      <td>5</td>\n      <td>그룹</td>\n      <td>2013-07-29</td>\n      <td>SM엔터테인먼트</td>\n      <td>댄스</td>\n      <td>정규</td>\n    </tr>\n    <tr>\n      <th>4</th>\n      <td>위아래</td>\n      <td>EXID</td>\n      <td>4</td>\n      <td>그룹</td>\n      <td>2014-08-27</td>\n      <td>바나나컬쳐</td>\n      <td>댄스</td>\n      <td>싱글</td>\n    </tr>\n    <tr>\n      <th>5</th>\n      <td>Ah-Choo</td>\n      <td>러블리즈</td>\n      <td>8</td>\n      <td>그룹</td>\n      <td>2015-10-01</td>\n      <td>울림엔터테인먼트</td>\n      <td>댄스</td>\n      <td>EP</td>\n    </tr>\n    <tr>\n      <th>6</th>\n      <td>피땀눈물</td>\n      <td>방탄소년단</td>\n      <td>7</td>\n      <td>그룹</td>\n      <td>2016-10-10</td>\n      <td>빅히트뮤직</td>\n      <td>R&amp;B</td>\n      <td>정규</td>\n    </tr>\n    <tr>\n      <th>7</th>\n      <td>시간을달려서</td>\n      <td>여자친구</td>\n      <td>6</td>\n      <td>그룹</td>\n      <td>2016-01-25</td>\n      <td>쏘스뮤직</td>\n      <td>댄스</td>\n      <td>EP</td>\n    </tr>\n    <tr>\n      <th>8</th>\n      <td>빨간맛</td>\n      <td>레드벨벳</td>\n      <td>5</td>\n      <td>그룹</td>\n      <td>2017-07-09</td>\n      <td>SM엔터테인먼트</td>\n      <td>댄스</td>\n      <td>EP</td>\n    </tr>\n    <tr>\n      <th>9</th>\n      <td>에너제틱</td>\n      <td>워너원</td>\n      <td>11</td>\n      <td>그룹</td>\n      <td>2017-08-07</td>\n      <td>YMC엔터테인먼트, 스톤뮤직엔터테인먼트</td>\n      <td>댄스</td>\n      <td>EP</td>\n    </tr>\n    <tr>\n      <th>10</th>\n      <td>뚜두뚜두</td>\n      <td>블랙핑크</td>\n      <td>4</td>\n      <td>그룹</td>\n      <td>2018-06-15</td>\n      <td>YG엔터테인먼트</td>\n      <td>댄스</td>\n      <td>EP</td>\n    </tr>\n    <tr>\n      <th>11</th>\n      <td>달라달라</td>\n      <td>있지</td>\n      <td>5</td>\n      <td>그룹</td>\n      <td>2019-02-12</td>\n      <td>JYP엔터테인먼트</td>\n      <td>댄스</td>\n      <td>싱글</td>\n    </tr>\n    <tr>\n      <th>12</th>\n      <td>Dynamite</td>\n      <td>방탄소년단</td>\n      <td>7</td>\n      <td>그룹</td>\n      <td>2020-08-21</td>\n      <td>빅히트뮤직</td>\n      <td>댄스</td>\n      <td>싱글</td>\n    </tr>\n  </tbody>\n</table>\n</div>"
     },
     "execution_count": 3,
     "metadata": {},
     "output_type": "execute_result"
    }
   ],
   "source": [
    "import pandas as pd\n",
    "filename = 'data/Machine_Learning/music.csv'\n",
    "df = pd.read_csv(filename)\n",
    "df"
   ],
   "metadata": {
    "collapsed": false,
    "ExecuteTime": {
     "end_time": "2023-07-07T00:49:33.612404Z",
     "start_time": "2023-07-07T00:49:31.409091Z"
    }
   }
  },
  {
   "cell_type": "code",
   "execution_count": 4,
   "outputs": [
    {
     "name": "stdout",
     "output_type": "stream",
     "text": [
      "<class 'pandas.core.frame.DataFrame'>\n",
      "RangeIndex: 13 entries, 0 to 12\n",
      "Data columns (total 8 columns):\n",
      " #   Column        Non-Null Count  Dtype \n",
      "---  ------        --------------  ----- \n",
      " 0   title         13 non-null     object\n",
      " 1   singer        13 non-null     object\n",
      " 2   personnel     13 non-null     int64 \n",
      " 3   sortation     13 non-null     object\n",
      " 4   release_date  13 non-null     object\n",
      " 5   agency        13 non-null     object\n",
      " 6   genre         13 non-null     object\n",
      " 7   type          13 non-null     object\n",
      "dtypes: int64(1), object(7)\n",
      "memory usage: 964.0+ bytes\n"
     ]
    }
   ],
   "source": [
    "df.info()"
   ],
   "metadata": {
    "collapsed": false,
    "ExecuteTime": {
     "end_time": "2023-07-07T00:49:36.537424400Z",
     "start_time": "2023-07-07T00:49:36.525665700Z"
    }
   }
  },
  {
   "cell_type": "code",
   "execution_count": 5,
   "outputs": [
    {
     "data": {
      "text/plain": "     title singer  personnel sortation release_date     agency genre type\n0      좋은날    아이유          1        솔로   2010-12-09  카카오엔터테인먼트   발라드   EP\n1  내가제일잘나가   2NE1          4        그룹   2011-06-24   YG엔터테인먼트    댄스   싱글\n2    강남스타일     싸이          1        솔로   2012-07-15   YG엔터테인먼트    힙합   정규\n3     첫사랑니   f(x)          5        그룹   2013-07-29   SM엔터테인먼트    댄스   정규\n4      위아래   EXID          4        그룹   2014-08-27      바나나컬쳐    댄스   싱글",
      "text/html": "<div>\n<style scoped>\n    .dataframe tbody tr th:only-of-type {\n        vertical-align: middle;\n    }\n\n    .dataframe tbody tr th {\n        vertical-align: top;\n    }\n\n    .dataframe thead th {\n        text-align: right;\n    }\n</style>\n<table border=\"1\" class=\"dataframe\">\n  <thead>\n    <tr style=\"text-align: right;\">\n      <th></th>\n      <th>title</th>\n      <th>singer</th>\n      <th>personnel</th>\n      <th>sortation</th>\n      <th>release_date</th>\n      <th>agency</th>\n      <th>genre</th>\n      <th>type</th>\n    </tr>\n  </thead>\n  <tbody>\n    <tr>\n      <th>0</th>\n      <td>좋은날</td>\n      <td>아이유</td>\n      <td>1</td>\n      <td>솔로</td>\n      <td>2010-12-09</td>\n      <td>카카오엔터테인먼트</td>\n      <td>발라드</td>\n      <td>EP</td>\n    </tr>\n    <tr>\n      <th>1</th>\n      <td>내가제일잘나가</td>\n      <td>2NE1</td>\n      <td>4</td>\n      <td>그룹</td>\n      <td>2011-06-24</td>\n      <td>YG엔터테인먼트</td>\n      <td>댄스</td>\n      <td>싱글</td>\n    </tr>\n    <tr>\n      <th>2</th>\n      <td>강남스타일</td>\n      <td>싸이</td>\n      <td>1</td>\n      <td>솔로</td>\n      <td>2012-07-15</td>\n      <td>YG엔터테인먼트</td>\n      <td>힙합</td>\n      <td>정규</td>\n    </tr>\n    <tr>\n      <th>3</th>\n      <td>첫사랑니</td>\n      <td>f(x)</td>\n      <td>5</td>\n      <td>그룹</td>\n      <td>2013-07-29</td>\n      <td>SM엔터테인먼트</td>\n      <td>댄스</td>\n      <td>정규</td>\n    </tr>\n    <tr>\n      <th>4</th>\n      <td>위아래</td>\n      <td>EXID</td>\n      <td>4</td>\n      <td>그룹</td>\n      <td>2014-08-27</td>\n      <td>바나나컬쳐</td>\n      <td>댄스</td>\n      <td>싱글</td>\n    </tr>\n  </tbody>\n</table>\n</div>"
     },
     "execution_count": 5,
     "metadata": {},
     "output_type": "execute_result"
    }
   ],
   "source": [
    "df.head()"
   ],
   "metadata": {
    "collapsed": false,
    "ExecuteTime": {
     "end_time": "2023-07-07T00:49:37.986337Z",
     "start_time": "2023-07-07T00:49:37.946770800Z"
    }
   }
  },
  {
   "cell_type": "code",
   "execution_count": 6,
   "outputs": [
    {
     "data": {
      "text/plain": "       title singer  personnel sortation release_date                 agency  \\\n8        빨간맛   레드벨벳          5        그룹   2017-07-09               SM엔터테인먼트   \n9       에너제틱    워너원         11        그룹   2017-08-07  YMC엔터테인먼트, 스톤뮤직엔터테인먼트   \n10      뚜두뚜두   블랙핑크          4        그룹   2018-06-15               YG엔터테인먼트   \n11      달라달라     있지          5        그룹   2019-02-12              JYP엔터테인먼트   \n12  Dynamite  방탄소년단          7        그룹   2020-08-21                  빅히트뮤직   \n\n   genre type  \n8     댄스   EP  \n9     댄스   EP  \n10    댄스   EP  \n11    댄스   싱글  \n12    댄스   싱글  ",
      "text/html": "<div>\n<style scoped>\n    .dataframe tbody tr th:only-of-type {\n        vertical-align: middle;\n    }\n\n    .dataframe tbody tr th {\n        vertical-align: top;\n    }\n\n    .dataframe thead th {\n        text-align: right;\n    }\n</style>\n<table border=\"1\" class=\"dataframe\">\n  <thead>\n    <tr style=\"text-align: right;\">\n      <th></th>\n      <th>title</th>\n      <th>singer</th>\n      <th>personnel</th>\n      <th>sortation</th>\n      <th>release_date</th>\n      <th>agency</th>\n      <th>genre</th>\n      <th>type</th>\n    </tr>\n  </thead>\n  <tbody>\n    <tr>\n      <th>8</th>\n      <td>빨간맛</td>\n      <td>레드벨벳</td>\n      <td>5</td>\n      <td>그룹</td>\n      <td>2017-07-09</td>\n      <td>SM엔터테인먼트</td>\n      <td>댄스</td>\n      <td>EP</td>\n    </tr>\n    <tr>\n      <th>9</th>\n      <td>에너제틱</td>\n      <td>워너원</td>\n      <td>11</td>\n      <td>그룹</td>\n      <td>2017-08-07</td>\n      <td>YMC엔터테인먼트, 스톤뮤직엔터테인먼트</td>\n      <td>댄스</td>\n      <td>EP</td>\n    </tr>\n    <tr>\n      <th>10</th>\n      <td>뚜두뚜두</td>\n      <td>블랙핑크</td>\n      <td>4</td>\n      <td>그룹</td>\n      <td>2018-06-15</td>\n      <td>YG엔터테인먼트</td>\n      <td>댄스</td>\n      <td>EP</td>\n    </tr>\n    <tr>\n      <th>11</th>\n      <td>달라달라</td>\n      <td>있지</td>\n      <td>5</td>\n      <td>그룹</td>\n      <td>2019-02-12</td>\n      <td>JYP엔터테인먼트</td>\n      <td>댄스</td>\n      <td>싱글</td>\n    </tr>\n    <tr>\n      <th>12</th>\n      <td>Dynamite</td>\n      <td>방탄소년단</td>\n      <td>7</td>\n      <td>그룹</td>\n      <td>2020-08-21</td>\n      <td>빅히트뮤직</td>\n      <td>댄스</td>\n      <td>싱글</td>\n    </tr>\n  </tbody>\n</table>\n</div>"
     },
     "execution_count": 6,
     "metadata": {},
     "output_type": "execute_result"
    }
   ],
   "source": [
    "df.tail()"
   ],
   "metadata": {
    "collapsed": false,
    "ExecuteTime": {
     "end_time": "2023-07-07T00:49:39.915899500Z",
     "start_time": "2023-07-07T00:49:39.900428600Z"
    }
   }
  },
  {
   "cell_type": "code",
   "execution_count": 7,
   "outputs": [
    {
     "data": {
      "text/plain": "     title singer  personnel sortation release_date                 agency  \\\n0      좋은날    아이유          1        솔로   2010-12-09              카카오엔터테인먼트   \n1  내가제일잘나가   2NE1          4        그룹   2011-06-24               YG엔터테인먼트   \n2    강남스타일     싸이          1        솔로   2012-07-15               YG엔터테인먼트   \n3     첫사랑니   f(x)          5        그룹   2013-07-29               SM엔터테인먼트   \n4      위아래   EXID          4        그룹   2014-08-27                  바나나컬쳐   \n5  Ah-Choo   러블리즈          8        그룹   2015-10-01               울림엔터테인먼트   \n6     피땀눈물  방탄소년단          7        그룹   2016-10-10                  빅히트뮤직   \n7   시간을달려서   여자친구          6        그룹   2016-01-25                   쏘스뮤직   \n8      빨간맛   레드벨벳          5        그룹   2017-07-09               SM엔터테인먼트   \n9     에너제틱    워너원         11        그룹   2017-08-07  YMC엔터테인먼트, 스톤뮤직엔터테인먼트   \n\n  genre type  \n0   발라드   EP  \n1    댄스   싱글  \n2    힙합   정규  \n3    댄스   정규  \n4    댄스   싱글  \n5    댄스   EP  \n6   R&B   정규  \n7    댄스   EP  \n8    댄스   EP  \n9    댄스   EP  ",
      "text/html": "<div>\n<style scoped>\n    .dataframe tbody tr th:only-of-type {\n        vertical-align: middle;\n    }\n\n    .dataframe tbody tr th {\n        vertical-align: top;\n    }\n\n    .dataframe thead th {\n        text-align: right;\n    }\n</style>\n<table border=\"1\" class=\"dataframe\">\n  <thead>\n    <tr style=\"text-align: right;\">\n      <th></th>\n      <th>title</th>\n      <th>singer</th>\n      <th>personnel</th>\n      <th>sortation</th>\n      <th>release_date</th>\n      <th>agency</th>\n      <th>genre</th>\n      <th>type</th>\n    </tr>\n  </thead>\n  <tbody>\n    <tr>\n      <th>0</th>\n      <td>좋은날</td>\n      <td>아이유</td>\n      <td>1</td>\n      <td>솔로</td>\n      <td>2010-12-09</td>\n      <td>카카오엔터테인먼트</td>\n      <td>발라드</td>\n      <td>EP</td>\n    </tr>\n    <tr>\n      <th>1</th>\n      <td>내가제일잘나가</td>\n      <td>2NE1</td>\n      <td>4</td>\n      <td>그룹</td>\n      <td>2011-06-24</td>\n      <td>YG엔터테인먼트</td>\n      <td>댄스</td>\n      <td>싱글</td>\n    </tr>\n    <tr>\n      <th>2</th>\n      <td>강남스타일</td>\n      <td>싸이</td>\n      <td>1</td>\n      <td>솔로</td>\n      <td>2012-07-15</td>\n      <td>YG엔터테인먼트</td>\n      <td>힙합</td>\n      <td>정규</td>\n    </tr>\n    <tr>\n      <th>3</th>\n      <td>첫사랑니</td>\n      <td>f(x)</td>\n      <td>5</td>\n      <td>그룹</td>\n      <td>2013-07-29</td>\n      <td>SM엔터테인먼트</td>\n      <td>댄스</td>\n      <td>정규</td>\n    </tr>\n    <tr>\n      <th>4</th>\n      <td>위아래</td>\n      <td>EXID</td>\n      <td>4</td>\n      <td>그룹</td>\n      <td>2014-08-27</td>\n      <td>바나나컬쳐</td>\n      <td>댄스</td>\n      <td>싱글</td>\n    </tr>\n    <tr>\n      <th>5</th>\n      <td>Ah-Choo</td>\n      <td>러블리즈</td>\n      <td>8</td>\n      <td>그룹</td>\n      <td>2015-10-01</td>\n      <td>울림엔터테인먼트</td>\n      <td>댄스</td>\n      <td>EP</td>\n    </tr>\n    <tr>\n      <th>6</th>\n      <td>피땀눈물</td>\n      <td>방탄소년단</td>\n      <td>7</td>\n      <td>그룹</td>\n      <td>2016-10-10</td>\n      <td>빅히트뮤직</td>\n      <td>R&amp;B</td>\n      <td>정규</td>\n    </tr>\n    <tr>\n      <th>7</th>\n      <td>시간을달려서</td>\n      <td>여자친구</td>\n      <td>6</td>\n      <td>그룹</td>\n      <td>2016-01-25</td>\n      <td>쏘스뮤직</td>\n      <td>댄스</td>\n      <td>EP</td>\n    </tr>\n    <tr>\n      <th>8</th>\n      <td>빨간맛</td>\n      <td>레드벨벳</td>\n      <td>5</td>\n      <td>그룹</td>\n      <td>2017-07-09</td>\n      <td>SM엔터테인먼트</td>\n      <td>댄스</td>\n      <td>EP</td>\n    </tr>\n    <tr>\n      <th>9</th>\n      <td>에너제틱</td>\n      <td>워너원</td>\n      <td>11</td>\n      <td>그룹</td>\n      <td>2017-08-07</td>\n      <td>YMC엔터테인먼트, 스톤뮤직엔터테인먼트</td>\n      <td>댄스</td>\n      <td>EP</td>\n    </tr>\n  </tbody>\n</table>\n</div>"
     },
     "execution_count": 7,
     "metadata": {},
     "output_type": "execute_result"
    }
   ],
   "source": [
    "df.head(10)"
   ],
   "metadata": {
    "collapsed": false,
    "ExecuteTime": {
     "end_time": "2023-07-07T00:49:41.241154800Z",
     "start_time": "2023-07-07T00:49:41.224913200Z"
    }
   }
  },
  {
   "cell_type": "code",
   "execution_count": 8,
   "outputs": [
    {
     "data": {
      "text/plain": "       title singer  personnel sortation release_date                 agency  \\\n3       첫사랑니   f(x)          5        그룹   2013-07-29               SM엔터테인먼트   \n4        위아래   EXID          4        그룹   2014-08-27                  바나나컬쳐   \n5    Ah-Choo   러블리즈          8        그룹   2015-10-01               울림엔터테인먼트   \n6       피땀눈물  방탄소년단          7        그룹   2016-10-10                  빅히트뮤직   \n7     시간을달려서   여자친구          6        그룹   2016-01-25                   쏘스뮤직   \n8        빨간맛   레드벨벳          5        그룹   2017-07-09               SM엔터테인먼트   \n9       에너제틱    워너원         11        그룹   2017-08-07  YMC엔터테인먼트, 스톤뮤직엔터테인먼트   \n10      뚜두뚜두   블랙핑크          4        그룹   2018-06-15               YG엔터테인먼트   \n11      달라달라     있지          5        그룹   2019-02-12              JYP엔터테인먼트   \n12  Dynamite  방탄소년단          7        그룹   2020-08-21                  빅히트뮤직   \n\n   genre type  \n3     댄스   정규  \n4     댄스   싱글  \n5     댄스   EP  \n6    R&B   정규  \n7     댄스   EP  \n8     댄스   EP  \n9     댄스   EP  \n10    댄스   EP  \n11    댄스   싱글  \n12    댄스   싱글  ",
      "text/html": "<div>\n<style scoped>\n    .dataframe tbody tr th:only-of-type {\n        vertical-align: middle;\n    }\n\n    .dataframe tbody tr th {\n        vertical-align: top;\n    }\n\n    .dataframe thead th {\n        text-align: right;\n    }\n</style>\n<table border=\"1\" class=\"dataframe\">\n  <thead>\n    <tr style=\"text-align: right;\">\n      <th></th>\n      <th>title</th>\n      <th>singer</th>\n      <th>personnel</th>\n      <th>sortation</th>\n      <th>release_date</th>\n      <th>agency</th>\n      <th>genre</th>\n      <th>type</th>\n    </tr>\n  </thead>\n  <tbody>\n    <tr>\n      <th>3</th>\n      <td>첫사랑니</td>\n      <td>f(x)</td>\n      <td>5</td>\n      <td>그룹</td>\n      <td>2013-07-29</td>\n      <td>SM엔터테인먼트</td>\n      <td>댄스</td>\n      <td>정규</td>\n    </tr>\n    <tr>\n      <th>4</th>\n      <td>위아래</td>\n      <td>EXID</td>\n      <td>4</td>\n      <td>그룹</td>\n      <td>2014-08-27</td>\n      <td>바나나컬쳐</td>\n      <td>댄스</td>\n      <td>싱글</td>\n    </tr>\n    <tr>\n      <th>5</th>\n      <td>Ah-Choo</td>\n      <td>러블리즈</td>\n      <td>8</td>\n      <td>그룹</td>\n      <td>2015-10-01</td>\n      <td>울림엔터테인먼트</td>\n      <td>댄스</td>\n      <td>EP</td>\n    </tr>\n    <tr>\n      <th>6</th>\n      <td>피땀눈물</td>\n      <td>방탄소년단</td>\n      <td>7</td>\n      <td>그룹</td>\n      <td>2016-10-10</td>\n      <td>빅히트뮤직</td>\n      <td>R&amp;B</td>\n      <td>정규</td>\n    </tr>\n    <tr>\n      <th>7</th>\n      <td>시간을달려서</td>\n      <td>여자친구</td>\n      <td>6</td>\n      <td>그룹</td>\n      <td>2016-01-25</td>\n      <td>쏘스뮤직</td>\n      <td>댄스</td>\n      <td>EP</td>\n    </tr>\n    <tr>\n      <th>8</th>\n      <td>빨간맛</td>\n      <td>레드벨벳</td>\n      <td>5</td>\n      <td>그룹</td>\n      <td>2017-07-09</td>\n      <td>SM엔터테인먼트</td>\n      <td>댄스</td>\n      <td>EP</td>\n    </tr>\n    <tr>\n      <th>9</th>\n      <td>에너제틱</td>\n      <td>워너원</td>\n      <td>11</td>\n      <td>그룹</td>\n      <td>2017-08-07</td>\n      <td>YMC엔터테인먼트, 스톤뮤직엔터테인먼트</td>\n      <td>댄스</td>\n      <td>EP</td>\n    </tr>\n    <tr>\n      <th>10</th>\n      <td>뚜두뚜두</td>\n      <td>블랙핑크</td>\n      <td>4</td>\n      <td>그룹</td>\n      <td>2018-06-15</td>\n      <td>YG엔터테인먼트</td>\n      <td>댄스</td>\n      <td>EP</td>\n    </tr>\n    <tr>\n      <th>11</th>\n      <td>달라달라</td>\n      <td>있지</td>\n      <td>5</td>\n      <td>그룹</td>\n      <td>2019-02-12</td>\n      <td>JYP엔터테인먼트</td>\n      <td>댄스</td>\n      <td>싱글</td>\n    </tr>\n    <tr>\n      <th>12</th>\n      <td>Dynamite</td>\n      <td>방탄소년단</td>\n      <td>7</td>\n      <td>그룹</td>\n      <td>2020-08-21</td>\n      <td>빅히트뮤직</td>\n      <td>댄스</td>\n      <td>싱글</td>\n    </tr>\n  </tbody>\n</table>\n</div>"
     },
     "execution_count": 8,
     "metadata": {},
     "output_type": "execute_result"
    }
   ],
   "source": [
    "df.tail(10)"
   ],
   "metadata": {
    "collapsed": false,
    "ExecuteTime": {
     "end_time": "2023-07-07T00:49:42.545573600Z",
     "start_time": "2023-07-07T00:49:42.524727500Z"
    }
   }
  },
  {
   "cell_type": "code",
   "execution_count": 9,
   "outputs": [
    {
     "name": "stdout",
     "output_type": "stream",
     "text": [
      "None\n"
     ]
    }
   ],
   "source": [
    "data_count=df.describe().get('count')\n",
    "print(data_count)\n"
   ],
   "metadata": {
    "collapsed": false,
    "ExecuteTime": {
     "end_time": "2023-07-07T00:49:43.876092700Z",
     "start_time": "2023-07-07T00:49:43.850617200Z"
    }
   }
  },
  {
   "cell_type": "code",
   "execution_count": 10,
   "outputs": [
    {
     "name": "stdout",
     "output_type": "stream",
     "text": [
      "<class 'pandas.core.frame.DataFrame'>\n",
      "RangeIndex: 13 entries, 0 to 12\n",
      "Data columns (total 8 columns):\n",
      " #   Column        Non-Null Count  Dtype \n",
      "---  ------        --------------  ----- \n",
      " 0   title         13 non-null     object\n",
      " 1   singer        13 non-null     object\n",
      " 2   personnel     13 non-null     int64 \n",
      " 3   sortation     13 non-null     object\n",
      " 4   release_date  13 non-null     object\n",
      " 5   agency        13 non-null     object\n",
      " 6   genre         13 non-null     object\n",
      " 7   type          13 non-null     object\n",
      "dtypes: int64(1), object(7)\n",
      "memory usage: 964.0+ bytes\n"
     ]
    }
   ],
   "source": [
    "df.info()\n"
   ],
   "metadata": {
    "collapsed": false,
    "ExecuteTime": {
     "end_time": "2023-07-07T00:49:45.124165300Z",
     "start_time": "2023-07-07T00:49:45.109134500Z"
    }
   }
  },
  {
   "cell_type": "code",
   "execution_count": 36,
   "outputs": [
    {
     "data": {
      "text/plain": "       title singer sortation release_date    agency genre type\ncount     13     13        13           13        13    13   13\nunique    13     12         2           13         9     4    3\ntop      좋은날  방탄소년단        그룹   2010-12-09  YG엔터테인먼트    댄스   EP\nfreq       1      2        11            1         3    10    6",
      "text/html": "<div>\n<style scoped>\n    .dataframe tbody tr th:only-of-type {\n        vertical-align: middle;\n    }\n\n    .dataframe tbody tr th {\n        vertical-align: top;\n    }\n\n    .dataframe thead th {\n        text-align: right;\n    }\n</style>\n<table border=\"1\" class=\"dataframe\">\n  <thead>\n    <tr style=\"text-align: right;\">\n      <th></th>\n      <th>title</th>\n      <th>singer</th>\n      <th>sortation</th>\n      <th>release_date</th>\n      <th>agency</th>\n      <th>genre</th>\n      <th>type</th>\n    </tr>\n  </thead>\n  <tbody>\n    <tr>\n      <th>count</th>\n      <td>13</td>\n      <td>13</td>\n      <td>13</td>\n      <td>13</td>\n      <td>13</td>\n      <td>13</td>\n      <td>13</td>\n    </tr>\n    <tr>\n      <th>unique</th>\n      <td>13</td>\n      <td>12</td>\n      <td>2</td>\n      <td>13</td>\n      <td>9</td>\n      <td>4</td>\n      <td>3</td>\n    </tr>\n    <tr>\n      <th>top</th>\n      <td>좋은날</td>\n      <td>방탄소년단</td>\n      <td>그룹</td>\n      <td>2010-12-09</td>\n      <td>YG엔터테인먼트</td>\n      <td>댄스</td>\n      <td>EP</td>\n    </tr>\n    <tr>\n      <th>freq</th>\n      <td>1</td>\n      <td>2</td>\n      <td>11</td>\n      <td>1</td>\n      <td>3</td>\n      <td>10</td>\n      <td>6</td>\n    </tr>\n  </tbody>\n</table>\n</div>"
     },
     "execution_count": 36,
     "metadata": {},
     "output_type": "execute_result"
    }
   ],
   "source": [
    "df.describe(include='object')"
   ],
   "metadata": {
    "collapsed": false,
    "ExecuteTime": {
     "end_time": "2023-07-06T09:17:30.194408800Z",
     "start_time": "2023-07-06T09:17:30.194408800Z"
    }
   }
  },
  {
   "cell_type": "code",
   "execution_count": 2,
   "outputs": [
    {
     "ename": "NameError",
     "evalue": "name 'df' is not defined",
     "output_type": "error",
     "traceback": [
      "\u001B[1;31m---------------------------------------------------------------------------\u001B[0m",
      "\u001B[1;31mNameError\u001B[0m                                 Traceback (most recent call last)",
      "Cell \u001B[1;32mIn[2], line 1\u001B[0m\n\u001B[1;32m----> 1\u001B[0m \u001B[43mdf\u001B[49m\u001B[38;5;241m.\u001B[39mindex\n",
      "\u001B[1;31mNameError\u001B[0m: name 'df' is not defined"
     ]
    }
   ],
   "source": [
    "df.index"
   ],
   "metadata": {
    "collapsed": false,
    "ExecuteTime": {
     "end_time": "2023-07-07T00:49:18.502291Z",
     "start_time": "2023-07-07T00:49:18.433060400Z"
    }
   }
  },
  {
   "cell_type": "code",
   "execution_count": 12,
   "outputs": [
    {
     "data": {
      "text/plain": "(13, 8)"
     },
     "execution_count": 12,
     "metadata": {},
     "output_type": "execute_result"
    }
   ],
   "source": [
    "df.shape"
   ],
   "metadata": {
    "collapsed": false,
    "ExecuteTime": {
     "end_time": "2023-07-07T00:53:31.759654100Z",
     "start_time": "2023-07-07T00:53:31.752178700Z"
    }
   }
  },
  {
   "cell_type": "code",
   "execution_count": 11,
   "outputs": [
    {
     "data": {
      "text/plain": "Index(['title', 'singer', 'personnel', 'sortation', 'release_date', 'agency',\n       'genre', 'type'],\n      dtype='object')"
     },
     "execution_count": 11,
     "metadata": {},
     "output_type": "execute_result"
    }
   ],
   "source": [
    "df.columns"
   ],
   "metadata": {
    "collapsed": false,
    "ExecuteTime": {
     "end_time": "2023-07-07T00:53:29.619080200Z",
     "start_time": "2023-07-07T00:53:29.611381300Z"
    }
   }
  },
  {
   "cell_type": "code",
   "execution_count": 13,
   "outputs": [
    {
     "data": {
      "text/plain": "title           object\nsinger          object\npersonnel        int64\nsortation       object\nrelease_date    object\nagency          object\ngenre           object\ntype            object\ndtype: object"
     },
     "execution_count": 13,
     "metadata": {},
     "output_type": "execute_result"
    }
   ],
   "source": [
    "df.dtypes"
   ],
   "metadata": {
    "collapsed": false,
    "ExecuteTime": {
     "end_time": "2023-07-07T02:18:57.058045200Z",
     "start_time": "2023-07-07T02:18:57.039714800Z"
    }
   }
  },
  {
   "cell_type": "code",
   "execution_count": 14,
   "outputs": [
    {
     "data": {
      "text/plain": "       title singer  personnel sortation release_date                 agency  \\\n0        좋은날    아이유          1        솔로   2010-12-09              카카오엔터테인먼트   \n1    내가제일잘나가   2NE1          4        그룹   2011-06-24               YG엔터테인먼트   \n2      강남스타일     싸이          1        솔로   2012-07-15               YG엔터테인먼트   \n3       첫사랑니   f(x)          5        그룹   2013-07-29               SM엔터테인먼트   \n4        위아래   EXID          4        그룹   2014-08-27                  바나나컬쳐   \n5    Ah-Choo   러블리즈          8        그룹   2015-10-01               울림엔터테인먼트   \n7     시간을달려서   여자친구          6        그룹   2016-01-25                   쏘스뮤직   \n6       피땀눈물  방탄소년단          7        그룹   2016-10-10                  빅히트뮤직   \n8        빨간맛   레드벨벳          5        그룹   2017-07-09               SM엔터테인먼트   \n9       에너제틱    워너원         11        그룹   2017-08-07  YMC엔터테인먼트, 스톤뮤직엔터테인먼트   \n10      뚜두뚜두   블랙핑크          4        그룹   2018-06-15               YG엔터테인먼트   \n11      달라달라     있지          5        그룹   2019-02-12              JYP엔터테인먼트   \n12  Dynamite  방탄소년단          7        그룹   2020-08-21                  빅히트뮤직   \n\n   genre type  \n0    발라드   EP  \n1     댄스   싱글  \n2     힙합   정규  \n3     댄스   정규  \n4     댄스   싱글  \n5     댄스   EP  \n7     댄스   EP  \n6    R&B   정규  \n8     댄스   EP  \n9     댄스   EP  \n10    댄스   EP  \n11    댄스   싱글  \n12    댄스   싱글  ",
      "text/html": "<div>\n<style scoped>\n    .dataframe tbody tr th:only-of-type {\n        vertical-align: middle;\n    }\n\n    .dataframe tbody tr th {\n        vertical-align: top;\n    }\n\n    .dataframe thead th {\n        text-align: right;\n    }\n</style>\n<table border=\"1\" class=\"dataframe\">\n  <thead>\n    <tr style=\"text-align: right;\">\n      <th></th>\n      <th>title</th>\n      <th>singer</th>\n      <th>personnel</th>\n      <th>sortation</th>\n      <th>release_date</th>\n      <th>agency</th>\n      <th>genre</th>\n      <th>type</th>\n    </tr>\n  </thead>\n  <tbody>\n    <tr>\n      <th>0</th>\n      <td>좋은날</td>\n      <td>아이유</td>\n      <td>1</td>\n      <td>솔로</td>\n      <td>2010-12-09</td>\n      <td>카카오엔터테인먼트</td>\n      <td>발라드</td>\n      <td>EP</td>\n    </tr>\n    <tr>\n      <th>1</th>\n      <td>내가제일잘나가</td>\n      <td>2NE1</td>\n      <td>4</td>\n      <td>그룹</td>\n      <td>2011-06-24</td>\n      <td>YG엔터테인먼트</td>\n      <td>댄스</td>\n      <td>싱글</td>\n    </tr>\n    <tr>\n      <th>2</th>\n      <td>강남스타일</td>\n      <td>싸이</td>\n      <td>1</td>\n      <td>솔로</td>\n      <td>2012-07-15</td>\n      <td>YG엔터테인먼트</td>\n      <td>힙합</td>\n      <td>정규</td>\n    </tr>\n    <tr>\n      <th>3</th>\n      <td>첫사랑니</td>\n      <td>f(x)</td>\n      <td>5</td>\n      <td>그룹</td>\n      <td>2013-07-29</td>\n      <td>SM엔터테인먼트</td>\n      <td>댄스</td>\n      <td>정규</td>\n    </tr>\n    <tr>\n      <th>4</th>\n      <td>위아래</td>\n      <td>EXID</td>\n      <td>4</td>\n      <td>그룹</td>\n      <td>2014-08-27</td>\n      <td>바나나컬쳐</td>\n      <td>댄스</td>\n      <td>싱글</td>\n    </tr>\n    <tr>\n      <th>5</th>\n      <td>Ah-Choo</td>\n      <td>러블리즈</td>\n      <td>8</td>\n      <td>그룹</td>\n      <td>2015-10-01</td>\n      <td>울림엔터테인먼트</td>\n      <td>댄스</td>\n      <td>EP</td>\n    </tr>\n    <tr>\n      <th>7</th>\n      <td>시간을달려서</td>\n      <td>여자친구</td>\n      <td>6</td>\n      <td>그룹</td>\n      <td>2016-01-25</td>\n      <td>쏘스뮤직</td>\n      <td>댄스</td>\n      <td>EP</td>\n    </tr>\n    <tr>\n      <th>6</th>\n      <td>피땀눈물</td>\n      <td>방탄소년단</td>\n      <td>7</td>\n      <td>그룹</td>\n      <td>2016-10-10</td>\n      <td>빅히트뮤직</td>\n      <td>R&amp;B</td>\n      <td>정규</td>\n    </tr>\n    <tr>\n      <th>8</th>\n      <td>빨간맛</td>\n      <td>레드벨벳</td>\n      <td>5</td>\n      <td>그룹</td>\n      <td>2017-07-09</td>\n      <td>SM엔터테인먼트</td>\n      <td>댄스</td>\n      <td>EP</td>\n    </tr>\n    <tr>\n      <th>9</th>\n      <td>에너제틱</td>\n      <td>워너원</td>\n      <td>11</td>\n      <td>그룹</td>\n      <td>2017-08-07</td>\n      <td>YMC엔터테인먼트, 스톤뮤직엔터테인먼트</td>\n      <td>댄스</td>\n      <td>EP</td>\n    </tr>\n    <tr>\n      <th>10</th>\n      <td>뚜두뚜두</td>\n      <td>블랙핑크</td>\n      <td>4</td>\n      <td>그룹</td>\n      <td>2018-06-15</td>\n      <td>YG엔터테인먼트</td>\n      <td>댄스</td>\n      <td>EP</td>\n    </tr>\n    <tr>\n      <th>11</th>\n      <td>달라달라</td>\n      <td>있지</td>\n      <td>5</td>\n      <td>그룹</td>\n      <td>2019-02-12</td>\n      <td>JYP엔터테인먼트</td>\n      <td>댄스</td>\n      <td>싱글</td>\n    </tr>\n    <tr>\n      <th>12</th>\n      <td>Dynamite</td>\n      <td>방탄소년단</td>\n      <td>7</td>\n      <td>그룹</td>\n      <td>2020-08-21</td>\n      <td>빅히트뮤직</td>\n      <td>댄스</td>\n      <td>싱글</td>\n    </tr>\n  </tbody>\n</table>\n</div>"
     },
     "execution_count": 14,
     "metadata": {},
     "output_type": "execute_result"
    }
   ],
   "source": [
    "df.sort_values('release_date')"
   ],
   "metadata": {
    "collapsed": false,
    "ExecuteTime": {
     "end_time": "2023-07-07T02:19:35.487733800Z",
     "start_time": "2023-07-07T02:19:35.471775800Z"
    }
   }
  },
  {
   "cell_type": "code",
   "execution_count": 15,
   "outputs": [
    {
     "data": {
      "text/plain": "       title singer  personnel sortation release_date                 agency  \\\n5    Ah-Choo   러블리즈          8        그룹   2015-10-01               울림엔터테인먼트   \n12  Dynamite  방탄소년단          7        그룹   2020-08-21                  빅히트뮤직   \n2      강남스타일     싸이          1        솔로   2012-07-15               YG엔터테인먼트   \n1    내가제일잘나가   2NE1          4        그룹   2011-06-24               YG엔터테인먼트   \n11      달라달라     있지          5        그룹   2019-02-12              JYP엔터테인먼트   \n10      뚜두뚜두   블랙핑크          4        그룹   2018-06-15               YG엔터테인먼트   \n8        빨간맛   레드벨벳          5        그룹   2017-07-09               SM엔터테인먼트   \n7     시간을달려서   여자친구          6        그룹   2016-01-25                   쏘스뮤직   \n9       에너제틱    워너원         11        그룹   2017-08-07  YMC엔터테인먼트, 스톤뮤직엔터테인먼트   \n4        위아래   EXID          4        그룹   2014-08-27                  바나나컬쳐   \n0        좋은날    아이유          1        솔로   2010-12-09              카카오엔터테인먼트   \n3       첫사랑니   f(x)          5        그룹   2013-07-29               SM엔터테인먼트   \n6       피땀눈물  방탄소년단          7        그룹   2016-10-10                  빅히트뮤직   \n\n   genre type  \n5     댄스   EP  \n12    댄스   싱글  \n2     힙합   정규  \n1     댄스   싱글  \n11    댄스   싱글  \n10    댄스   EP  \n8     댄스   EP  \n7     댄스   EP  \n9     댄스   EP  \n4     댄스   싱글  \n0    발라드   EP  \n3     댄스   정규  \n6    R&B   정규  ",
      "text/html": "<div>\n<style scoped>\n    .dataframe tbody tr th:only-of-type {\n        vertical-align: middle;\n    }\n\n    .dataframe tbody tr th {\n        vertical-align: top;\n    }\n\n    .dataframe thead th {\n        text-align: right;\n    }\n</style>\n<table border=\"1\" class=\"dataframe\">\n  <thead>\n    <tr style=\"text-align: right;\">\n      <th></th>\n      <th>title</th>\n      <th>singer</th>\n      <th>personnel</th>\n      <th>sortation</th>\n      <th>release_date</th>\n      <th>agency</th>\n      <th>genre</th>\n      <th>type</th>\n    </tr>\n  </thead>\n  <tbody>\n    <tr>\n      <th>5</th>\n      <td>Ah-Choo</td>\n      <td>러블리즈</td>\n      <td>8</td>\n      <td>그룹</td>\n      <td>2015-10-01</td>\n      <td>울림엔터테인먼트</td>\n      <td>댄스</td>\n      <td>EP</td>\n    </tr>\n    <tr>\n      <th>12</th>\n      <td>Dynamite</td>\n      <td>방탄소년단</td>\n      <td>7</td>\n      <td>그룹</td>\n      <td>2020-08-21</td>\n      <td>빅히트뮤직</td>\n      <td>댄스</td>\n      <td>싱글</td>\n    </tr>\n    <tr>\n      <th>2</th>\n      <td>강남스타일</td>\n      <td>싸이</td>\n      <td>1</td>\n      <td>솔로</td>\n      <td>2012-07-15</td>\n      <td>YG엔터테인먼트</td>\n      <td>힙합</td>\n      <td>정규</td>\n    </tr>\n    <tr>\n      <th>1</th>\n      <td>내가제일잘나가</td>\n      <td>2NE1</td>\n      <td>4</td>\n      <td>그룹</td>\n      <td>2011-06-24</td>\n      <td>YG엔터테인먼트</td>\n      <td>댄스</td>\n      <td>싱글</td>\n    </tr>\n    <tr>\n      <th>11</th>\n      <td>달라달라</td>\n      <td>있지</td>\n      <td>5</td>\n      <td>그룹</td>\n      <td>2019-02-12</td>\n      <td>JYP엔터테인먼트</td>\n      <td>댄스</td>\n      <td>싱글</td>\n    </tr>\n    <tr>\n      <th>10</th>\n      <td>뚜두뚜두</td>\n      <td>블랙핑크</td>\n      <td>4</td>\n      <td>그룹</td>\n      <td>2018-06-15</td>\n      <td>YG엔터테인먼트</td>\n      <td>댄스</td>\n      <td>EP</td>\n    </tr>\n    <tr>\n      <th>8</th>\n      <td>빨간맛</td>\n      <td>레드벨벳</td>\n      <td>5</td>\n      <td>그룹</td>\n      <td>2017-07-09</td>\n      <td>SM엔터테인먼트</td>\n      <td>댄스</td>\n      <td>EP</td>\n    </tr>\n    <tr>\n      <th>7</th>\n      <td>시간을달려서</td>\n      <td>여자친구</td>\n      <td>6</td>\n      <td>그룹</td>\n      <td>2016-01-25</td>\n      <td>쏘스뮤직</td>\n      <td>댄스</td>\n      <td>EP</td>\n    </tr>\n    <tr>\n      <th>9</th>\n      <td>에너제틱</td>\n      <td>워너원</td>\n      <td>11</td>\n      <td>그룹</td>\n      <td>2017-08-07</td>\n      <td>YMC엔터테인먼트, 스톤뮤직엔터테인먼트</td>\n      <td>댄스</td>\n      <td>EP</td>\n    </tr>\n    <tr>\n      <th>4</th>\n      <td>위아래</td>\n      <td>EXID</td>\n      <td>4</td>\n      <td>그룹</td>\n      <td>2014-08-27</td>\n      <td>바나나컬쳐</td>\n      <td>댄스</td>\n      <td>싱글</td>\n    </tr>\n    <tr>\n      <th>0</th>\n      <td>좋은날</td>\n      <td>아이유</td>\n      <td>1</td>\n      <td>솔로</td>\n      <td>2010-12-09</td>\n      <td>카카오엔터테인먼트</td>\n      <td>발라드</td>\n      <td>EP</td>\n    </tr>\n    <tr>\n      <th>3</th>\n      <td>첫사랑니</td>\n      <td>f(x)</td>\n      <td>5</td>\n      <td>그룹</td>\n      <td>2013-07-29</td>\n      <td>SM엔터테인먼트</td>\n      <td>댄스</td>\n      <td>정규</td>\n    </tr>\n    <tr>\n      <th>6</th>\n      <td>피땀눈물</td>\n      <td>방탄소년단</td>\n      <td>7</td>\n      <td>그룹</td>\n      <td>2016-10-10</td>\n      <td>빅히트뮤직</td>\n      <td>R&amp;B</td>\n      <td>정규</td>\n    </tr>\n  </tbody>\n</table>\n</div>"
     },
     "execution_count": 15,
     "metadata": {},
     "output_type": "execute_result"
    }
   ],
   "source": [
    "df.sort('title')"
   ],
   "metadata": {
    "collapsed": false,
    "ExecuteTime": {
     "end_time": "2023-07-07T02:31:44.664852800Z",
     "start_time": "2023-07-07T02:31:44.646902200Z"
    }
   }
  },
  {
   "cell_type": "code",
   "execution_count": 16,
   "outputs": [
    {
     "data": {
      "text/plain": "      title singer  personnel sortation release_date     agency genre type\n2     강남스타일     싸이          1        솔로   2012-07-15   YG엔터테인먼트    힙합   정규\n0       좋은날    아이유          1        솔로   2010-12-09  카카오엔터테인먼트   발라드   EP\n1   내가제일잘나가   2NE1          4        그룹   2011-06-24   YG엔터테인먼트    댄스   싱글\n4       위아래   EXID          4        그룹   2014-08-27      바나나컬쳐    댄스   싱글\n10     뚜두뚜두   블랙핑크          4        그룹   2018-06-15   YG엔터테인먼트    댄스   EP",
      "text/html": "<div>\n<style scoped>\n    .dataframe tbody tr th:only-of-type {\n        vertical-align: middle;\n    }\n\n    .dataframe tbody tr th {\n        vertical-align: top;\n    }\n\n    .dataframe thead th {\n        text-align: right;\n    }\n</style>\n<table border=\"1\" class=\"dataframe\">\n  <thead>\n    <tr style=\"text-align: right;\">\n      <th></th>\n      <th>title</th>\n      <th>singer</th>\n      <th>personnel</th>\n      <th>sortation</th>\n      <th>release_date</th>\n      <th>agency</th>\n      <th>genre</th>\n      <th>type</th>\n    </tr>\n  </thead>\n  <tbody>\n    <tr>\n      <th>2</th>\n      <td>강남스타일</td>\n      <td>싸이</td>\n      <td>1</td>\n      <td>솔로</td>\n      <td>2012-07-15</td>\n      <td>YG엔터테인먼트</td>\n      <td>힙합</td>\n      <td>정규</td>\n    </tr>\n    <tr>\n      <th>0</th>\n      <td>좋은날</td>\n      <td>아이유</td>\n      <td>1</td>\n      <td>솔로</td>\n      <td>2010-12-09</td>\n      <td>카카오엔터테인먼트</td>\n      <td>발라드</td>\n      <td>EP</td>\n    </tr>\n    <tr>\n      <th>1</th>\n      <td>내가제일잘나가</td>\n      <td>2NE1</td>\n      <td>4</td>\n      <td>그룹</td>\n      <td>2011-06-24</td>\n      <td>YG엔터테인먼트</td>\n      <td>댄스</td>\n      <td>싱글</td>\n    </tr>\n    <tr>\n      <th>4</th>\n      <td>위아래</td>\n      <td>EXID</td>\n      <td>4</td>\n      <td>그룹</td>\n      <td>2014-08-27</td>\n      <td>바나나컬쳐</td>\n      <td>댄스</td>\n      <td>싱글</td>\n    </tr>\n    <tr>\n      <th>10</th>\n      <td>뚜두뚜두</td>\n      <td>블랙핑크</td>\n      <td>4</td>\n      <td>그룹</td>\n      <td>2018-06-15</td>\n      <td>YG엔터테인먼트</td>\n      <td>댄스</td>\n      <td>EP</td>\n    </tr>\n  </tbody>\n</table>\n</div>"
     },
     "execution_count": 16,
     "metadata": {},
     "output_type": "execute_result"
    }
   ],
   "source": [
    "df.sort_values(['personnel','singer']).head()"
   ],
   "metadata": {
    "collapsed": false,
    "ExecuteTime": {
     "end_time": "2023-07-07T02:43:59.121425700Z",
     "start_time": "2023-07-07T02:43:59.105466500Z"
    }
   }
  },
  {
   "cell_type": "code",
   "execution_count": 17,
   "outputs": [
    {
     "data": {
      "text/plain": "                       count\nagency                      \nYG엔터테인먼트                   3\nSM엔터테인먼트                   2\n빅히트뮤직                      2\n카카오엔터테인먼트                  1\n바나나컬쳐                      1\n울림엔터테인먼트                   1\n쏘스뮤직                       1\nYMC엔터테인먼트, 스톤뮤직엔터테인먼트      1\nJYP엔터테인먼트                  1",
      "text/html": "<div>\n<style scoped>\n    .dataframe tbody tr th:only-of-type {\n        vertical-align: middle;\n    }\n\n    .dataframe tbody tr th {\n        vertical-align: top;\n    }\n\n    .dataframe thead th {\n        text-align: right;\n    }\n</style>\n<table border=\"1\" class=\"dataframe\">\n  <thead>\n    <tr style=\"text-align: right;\">\n      <th></th>\n      <th>count</th>\n    </tr>\n    <tr>\n      <th>agency</th>\n      <th></th>\n    </tr>\n  </thead>\n  <tbody>\n    <tr>\n      <th>YG엔터테인먼트</th>\n      <td>3</td>\n    </tr>\n    <tr>\n      <th>SM엔터테인먼트</th>\n      <td>2</td>\n    </tr>\n    <tr>\n      <th>빅히트뮤직</th>\n      <td>2</td>\n    </tr>\n    <tr>\n      <th>카카오엔터테인먼트</th>\n      <td>1</td>\n    </tr>\n    <tr>\n      <th>바나나컬쳐</th>\n      <td>1</td>\n    </tr>\n    <tr>\n      <th>울림엔터테인먼트</th>\n      <td>1</td>\n    </tr>\n    <tr>\n      <th>쏘스뮤직</th>\n      <td>1</td>\n    </tr>\n    <tr>\n      <th>YMC엔터테인먼트, 스톤뮤직엔터테인먼트</th>\n      <td>1</td>\n    </tr>\n    <tr>\n      <th>JYP엔터테인먼트</th>\n      <td>1</td>\n    </tr>\n  </tbody>\n</table>\n</div>"
     },
     "execution_count": 17,
     "metadata": {},
     "output_type": "execute_result"
    }
   ],
   "source": [
    "cnt = df['agency'].value_counts()\n",
    "pd.DataFrame(cnt)"
   ],
   "metadata": {
    "collapsed": false,
    "ExecuteTime": {
     "end_time": "2023-07-07T02:44:50.657017100Z",
     "start_time": "2023-07-07T02:44:50.651031500Z"
    }
   }
  },
  {
   "cell_type": "code",
   "execution_count": 18,
   "outputs": [
    {
     "data": {
      "text/plain": "array(['카카오엔터테인먼트', 'YG엔터테인먼트', 'SM엔터테인먼트', '바나나컬쳐', '울림엔터테인먼트', '빅히트뮤직',\n       '쏘스뮤직', 'YMC엔터테인먼트, 스톤뮤직엔터테인먼트', 'JYP엔터테인먼트'], dtype=object)"
     },
     "execution_count": 18,
     "metadata": {},
     "output_type": "execute_result"
    }
   ],
   "source": [
    "df['agency'].unique()"
   ],
   "metadata": {
    "collapsed": false,
    "ExecuteTime": {
     "end_time": "2023-07-07T02:45:22.158154400Z",
     "start_time": "2023-07-07T02:45:22.130716500Z"
    }
   }
  },
  {
   "cell_type": "code",
   "execution_count": 20,
   "outputs": [
    {
     "data": {
      "text/plain": "          날짜  평균기온  최저기온  최고기온\n0 2022-06-01  22.1  16.2  28.6\n1 2022-06-02  21.5  17.1  26.9\n2 2022-06-03  24.5  18.7  32.6\n3 2022-06-04  25.6  20.3  29.7\n4 2022-06-05  22.7  20.2  27.0",
      "text/html": "<div>\n<style scoped>\n    .dataframe tbody tr th:only-of-type {\n        vertical-align: middle;\n    }\n\n    .dataframe tbody tr th {\n        vertical-align: top;\n    }\n\n    .dataframe thead th {\n        text-align: right;\n    }\n</style>\n<table border=\"1\" class=\"dataframe\">\n  <thead>\n    <tr style=\"text-align: right;\">\n      <th></th>\n      <th>날짜</th>\n      <th>평균기온</th>\n      <th>최저기온</th>\n      <th>최고기온</th>\n    </tr>\n  </thead>\n  <tbody>\n    <tr>\n      <th>0</th>\n      <td>2022-06-01</td>\n      <td>22.1</td>\n      <td>16.2</td>\n      <td>28.6</td>\n    </tr>\n    <tr>\n      <th>1</th>\n      <td>2022-06-02</td>\n      <td>21.5</td>\n      <td>17.1</td>\n      <td>26.9</td>\n    </tr>\n    <tr>\n      <th>2</th>\n      <td>2022-06-03</td>\n      <td>24.5</td>\n      <td>18.7</td>\n      <td>32.6</td>\n    </tr>\n    <tr>\n      <th>3</th>\n      <td>2022-06-04</td>\n      <td>25.6</td>\n      <td>20.3</td>\n      <td>29.7</td>\n    </tr>\n    <tr>\n      <th>4</th>\n      <td>2022-06-05</td>\n      <td>22.7</td>\n      <td>20.2</td>\n      <td>27.0</td>\n    </tr>\n  </tbody>\n</table>\n</div>"
     },
     "execution_count": 20,
     "metadata": {},
     "output_type": "execute_result"
    }
   ],
   "source": [
    "import pandas as pd\n",
    "filename = 'data/Machine_Learning/weather.xlsx'\n",
    "df = pd.read_excel(filename)\n",
    "df.head()"
   ],
   "metadata": {
    "collapsed": false,
    "ExecuteTime": {
     "end_time": "2023-07-07T02:48:19.855244Z",
     "start_time": "2023-07-07T02:48:18.763752200Z"
    }
   }
  },
  {
   "cell_type": "code",
   "execution_count": 21,
   "outputs": [
    {
     "data": {
      "text/plain": "0     22.1\n1     21.5\n2     24.5\n3     25.6\n4     22.7\n5     19.7\n6     20.6\n7     21.2\n8     20.9\n9     20.9\n10    24.6\n11    24.6\n12    23.6\n13    21.5\n14    17.5\n15    20.3\n16    22.5\n17    23.3\n18    23.4\n19    25.2\n20    26.5\n21    25.9\n22    24.3\n23    22.6\n24    26.0\n25    26.5\n26    26.8\n27    26.9\n28    25.1\n29    22.3\nName: 평균기온, dtype: float64"
     },
     "execution_count": 21,
     "metadata": {},
     "output_type": "execute_result"
    }
   ],
   "source": [
    "df['평균기온']"
   ],
   "metadata": {
    "collapsed": false,
    "ExecuteTime": {
     "end_time": "2023-07-07T02:48:30.976776Z",
     "start_time": "2023-07-07T02:48:30.950641Z"
    }
   }
  },
  {
   "cell_type": "code",
   "execution_count": 22,
   "outputs": [
    {
     "data": {
      "text/plain": "    최저기온  최고기온\n0   16.2  28.6\n1   17.1  26.9\n2   18.7  32.6\n3   20.3  29.7\n4   20.2  27.0\n5   16.7  24.5\n6   15.1  25.1\n7   16.2  25.8\n8   18.5  24.5\n9   17.2  26.6\n10  17.7  32.7\n11  18.9  31.5\n12  19.6  29.2\n13  17.7  27.1\n14  14.9  20.1\n15  17.6  24.8\n16  16.5  28.1\n17  22.0  25.1\n18  22.3  25.1\n19  22.0  29.0\n20  21.2  32.6\n21  21.9  31.0\n22  23.3  26.4\n23  20.6  24.9\n24  21.5  30.5\n25  24.8  28.1\n26  25.4  28.1\n27  25.7  27.9\n28  24.4  26.1\n29  21.2  24.5",
      "text/html": "<div>\n<style scoped>\n    .dataframe tbody tr th:only-of-type {\n        vertical-align: middle;\n    }\n\n    .dataframe tbody tr th {\n        vertical-align: top;\n    }\n\n    .dataframe thead th {\n        text-align: right;\n    }\n</style>\n<table border=\"1\" class=\"dataframe\">\n  <thead>\n    <tr style=\"text-align: right;\">\n      <th></th>\n      <th>최저기온</th>\n      <th>최고기온</th>\n    </tr>\n  </thead>\n  <tbody>\n    <tr>\n      <th>0</th>\n      <td>16.2</td>\n      <td>28.6</td>\n    </tr>\n    <tr>\n      <th>1</th>\n      <td>17.1</td>\n      <td>26.9</td>\n    </tr>\n    <tr>\n      <th>2</th>\n      <td>18.7</td>\n      <td>32.6</td>\n    </tr>\n    <tr>\n      <th>3</th>\n      <td>20.3</td>\n      <td>29.7</td>\n    </tr>\n    <tr>\n      <th>4</th>\n      <td>20.2</td>\n      <td>27.0</td>\n    </tr>\n    <tr>\n      <th>5</th>\n      <td>16.7</td>\n      <td>24.5</td>\n    </tr>\n    <tr>\n      <th>6</th>\n      <td>15.1</td>\n      <td>25.1</td>\n    </tr>\n    <tr>\n      <th>7</th>\n      <td>16.2</td>\n      <td>25.8</td>\n    </tr>\n    <tr>\n      <th>8</th>\n      <td>18.5</td>\n      <td>24.5</td>\n    </tr>\n    <tr>\n      <th>9</th>\n      <td>17.2</td>\n      <td>26.6</td>\n    </tr>\n    <tr>\n      <th>10</th>\n      <td>17.7</td>\n      <td>32.7</td>\n    </tr>\n    <tr>\n      <th>11</th>\n      <td>18.9</td>\n      <td>31.5</td>\n    </tr>\n    <tr>\n      <th>12</th>\n      <td>19.6</td>\n      <td>29.2</td>\n    </tr>\n    <tr>\n      <th>13</th>\n      <td>17.7</td>\n      <td>27.1</td>\n    </tr>\n    <tr>\n      <th>14</th>\n      <td>14.9</td>\n      <td>20.1</td>\n    </tr>\n    <tr>\n      <th>15</th>\n      <td>17.6</td>\n      <td>24.8</td>\n    </tr>\n    <tr>\n      <th>16</th>\n      <td>16.5</td>\n      <td>28.1</td>\n    </tr>\n    <tr>\n      <th>17</th>\n      <td>22.0</td>\n      <td>25.1</td>\n    </tr>\n    <tr>\n      <th>18</th>\n      <td>22.3</td>\n      <td>25.1</td>\n    </tr>\n    <tr>\n      <th>19</th>\n      <td>22.0</td>\n      <td>29.0</td>\n    </tr>\n    <tr>\n      <th>20</th>\n      <td>21.2</td>\n      <td>32.6</td>\n    </tr>\n    <tr>\n      <th>21</th>\n      <td>21.9</td>\n      <td>31.0</td>\n    </tr>\n    <tr>\n      <th>22</th>\n      <td>23.3</td>\n      <td>26.4</td>\n    </tr>\n    <tr>\n      <th>23</th>\n      <td>20.6</td>\n      <td>24.9</td>\n    </tr>\n    <tr>\n      <th>24</th>\n      <td>21.5</td>\n      <td>30.5</td>\n    </tr>\n    <tr>\n      <th>25</th>\n      <td>24.8</td>\n      <td>28.1</td>\n    </tr>\n    <tr>\n      <th>26</th>\n      <td>25.4</td>\n      <td>28.1</td>\n    </tr>\n    <tr>\n      <th>27</th>\n      <td>25.7</td>\n      <td>27.9</td>\n    </tr>\n    <tr>\n      <th>28</th>\n      <td>24.4</td>\n      <td>26.1</td>\n    </tr>\n    <tr>\n      <th>29</th>\n      <td>21.2</td>\n      <td>24.5</td>\n    </tr>\n  </tbody>\n</table>\n</div>"
     },
     "execution_count": 22,
     "metadata": {},
     "output_type": "execute_result"
    }
   ],
   "source": [
    "df[['최저기온','최고기온']]"
   ],
   "metadata": {
    "collapsed": false,
    "ExecuteTime": {
     "end_time": "2023-07-07T02:48:57.902066700Z",
     "start_time": "2023-07-07T02:48:57.869178600Z"
    }
   }
  },
  {
   "cell_type": "code",
   "execution_count": 24,
   "outputs": [
    {
     "data": {
      "text/plain": "          날짜  최고기온\n0 2022-06-01  28.6\n1 2022-06-02  26.9\n2 2022-06-03  32.6",
      "text/html": "<div>\n<style scoped>\n    .dataframe tbody tr th:only-of-type {\n        vertical-align: middle;\n    }\n\n    .dataframe tbody tr th {\n        vertical-align: top;\n    }\n\n    .dataframe thead th {\n        text-align: right;\n    }\n</style>\n<table border=\"1\" class=\"dataframe\">\n  <thead>\n    <tr style=\"text-align: right;\">\n      <th></th>\n      <th>날짜</th>\n      <th>최고기온</th>\n    </tr>\n  </thead>\n  <tbody>\n    <tr>\n      <th>0</th>\n      <td>2022-06-01</td>\n      <td>28.6</td>\n    </tr>\n    <tr>\n      <th>1</th>\n      <td>2022-06-02</td>\n      <td>26.9</td>\n    </tr>\n    <tr>\n      <th>2</th>\n      <td>2022-06-03</td>\n      <td>32.6</td>\n    </tr>\n  </tbody>\n</table>\n</div>"
     },
     "execution_count": 24,
     "metadata": {},
     "output_type": "execute_result"
    }
   ],
   "source": [
    "df.loc[0:2,['날짜','최고기온']]"
   ],
   "metadata": {
    "collapsed": false,
    "ExecuteTime": {
     "end_time": "2023-07-07T02:55:34.252989Z",
     "start_time": "2023-07-07T02:55:34.232373500Z"
    }
   }
  },
  {
   "cell_type": "code",
   "execution_count": 25,
   "outputs": [
    {
     "data": {
      "text/plain": "           날짜  평균기온  최저기온  최고기온\n3  2022-06-04  25.6  20.3  29.7\n19 2022-06-20  25.2  22.0  29.0\n20 2022-06-21  26.5  21.2  32.6\n21 2022-06-22  25.9  21.9  31.0\n24 2022-06-25  26.0  21.5  30.5\n25 2022-06-26  26.5  24.8  28.1\n26 2022-06-27  26.8  25.4  28.1\n27 2022-06-28  26.9  25.7  27.9\n28 2022-06-29  25.1  24.4  26.1",
      "text/html": "<div>\n<style scoped>\n    .dataframe tbody tr th:only-of-type {\n        vertical-align: middle;\n    }\n\n    .dataframe tbody tr th {\n        vertical-align: top;\n    }\n\n    .dataframe thead th {\n        text-align: right;\n    }\n</style>\n<table border=\"1\" class=\"dataframe\">\n  <thead>\n    <tr style=\"text-align: right;\">\n      <th></th>\n      <th>날짜</th>\n      <th>평균기온</th>\n      <th>최저기온</th>\n      <th>최고기온</th>\n    </tr>\n  </thead>\n  <tbody>\n    <tr>\n      <th>3</th>\n      <td>2022-06-04</td>\n      <td>25.6</td>\n      <td>20.3</td>\n      <td>29.7</td>\n    </tr>\n    <tr>\n      <th>19</th>\n      <td>2022-06-20</td>\n      <td>25.2</td>\n      <td>22.0</td>\n      <td>29.0</td>\n    </tr>\n    <tr>\n      <th>20</th>\n      <td>2022-06-21</td>\n      <td>26.5</td>\n      <td>21.2</td>\n      <td>32.6</td>\n    </tr>\n    <tr>\n      <th>21</th>\n      <td>2022-06-22</td>\n      <td>25.9</td>\n      <td>21.9</td>\n      <td>31.0</td>\n    </tr>\n    <tr>\n      <th>24</th>\n      <td>2022-06-25</td>\n      <td>26.0</td>\n      <td>21.5</td>\n      <td>30.5</td>\n    </tr>\n    <tr>\n      <th>25</th>\n      <td>2022-06-26</td>\n      <td>26.5</td>\n      <td>24.8</td>\n      <td>28.1</td>\n    </tr>\n    <tr>\n      <th>26</th>\n      <td>2022-06-27</td>\n      <td>26.8</td>\n      <td>25.4</td>\n      <td>28.1</td>\n    </tr>\n    <tr>\n      <th>27</th>\n      <td>2022-06-28</td>\n      <td>26.9</td>\n      <td>25.7</td>\n      <td>27.9</td>\n    </tr>\n    <tr>\n      <th>28</th>\n      <td>2022-06-29</td>\n      <td>25.1</td>\n      <td>24.4</td>\n      <td>26.1</td>\n    </tr>\n  </tbody>\n</table>\n</div>"
     },
     "execution_count": 25,
     "metadata": {},
     "output_type": "execute_result"
    }
   ],
   "source": [
    "df.loc[df['평균기온']>=25]"
   ],
   "metadata": {
    "collapsed": false,
    "ExecuteTime": {
     "end_time": "2023-07-07T03:04:43.031931700Z",
     "start_time": "2023-07-07T03:04:43.016305800Z"
    }
   }
  },
  {
   "cell_type": "code",
   "execution_count": 29,
   "outputs": [
    {
     "data": {
      "text/plain": "최저기온    20.2\n최고기온    27.0\nName: 2022-06-05 00:00:00, dtype: object"
     },
     "execution_count": 29,
     "metadata": {},
     "output_type": "execute_result"
    }
   ],
   "source": [
    "df.index=df['날짜']\n",
    "df.loc['2022-06-05',['최저기온','최고기온']]"
   ],
   "metadata": {
    "collapsed": false,
    "ExecuteTime": {
     "end_time": "2023-07-07T03:07:11.389475200Z",
     "start_time": "2023-07-07T03:07:11.380482800Z"
    }
   }
  },
  {
   "cell_type": "code",
   "execution_count": 30,
   "outputs": [
    {
     "data": {
      "text/plain": "            최저기온  최고기온\n날짜                    \n2022-06-04  20.3  29.7\n2022-06-20  22.0  29.0\n2022-06-21  21.2  32.6\n2022-06-22  21.9  31.0\n2022-06-25  21.5  30.5\n2022-06-26  24.8  28.1\n2022-06-27  25.4  28.1\n2022-06-28  25.7  27.9\n2022-06-29  24.4  26.1",
      "text/html": "<div>\n<style scoped>\n    .dataframe tbody tr th:only-of-type {\n        vertical-align: middle;\n    }\n\n    .dataframe tbody tr th {\n        vertical-align: top;\n    }\n\n    .dataframe thead th {\n        text-align: right;\n    }\n</style>\n<table border=\"1\" class=\"dataframe\">\n  <thead>\n    <tr style=\"text-align: right;\">\n      <th></th>\n      <th>최저기온</th>\n      <th>최고기온</th>\n    </tr>\n    <tr>\n      <th>날짜</th>\n      <th></th>\n      <th></th>\n    </tr>\n  </thead>\n  <tbody>\n    <tr>\n      <th>2022-06-04</th>\n      <td>20.3</td>\n      <td>29.7</td>\n    </tr>\n    <tr>\n      <th>2022-06-20</th>\n      <td>22.0</td>\n      <td>29.0</td>\n    </tr>\n    <tr>\n      <th>2022-06-21</th>\n      <td>21.2</td>\n      <td>32.6</td>\n    </tr>\n    <tr>\n      <th>2022-06-22</th>\n      <td>21.9</td>\n      <td>31.0</td>\n    </tr>\n    <tr>\n      <th>2022-06-25</th>\n      <td>21.5</td>\n      <td>30.5</td>\n    </tr>\n    <tr>\n      <th>2022-06-26</th>\n      <td>24.8</td>\n      <td>28.1</td>\n    </tr>\n    <tr>\n      <th>2022-06-27</th>\n      <td>25.4</td>\n      <td>28.1</td>\n    </tr>\n    <tr>\n      <th>2022-06-28</th>\n      <td>25.7</td>\n      <td>27.9</td>\n    </tr>\n    <tr>\n      <th>2022-06-29</th>\n      <td>24.4</td>\n      <td>26.1</td>\n    </tr>\n  </tbody>\n</table>\n</div>"
     },
     "execution_count": 30,
     "metadata": {},
     "output_type": "execute_result"
    }
   ],
   "source": [
    "df.loc[df['평균기온']>=25,['최저기온','최고기온']]"
   ],
   "metadata": {
    "collapsed": false,
    "ExecuteTime": {
     "end_time": "2023-07-07T03:09:12.446901600Z",
     "start_time": "2023-07-07T03:09:12.400033200Z"
    }
   }
  },
  {
   "cell_type": "code",
   "execution_count": 33,
   "outputs": [
    {
     "name": "stdout",
     "output_type": "stream",
     "text": [
      "날짜\n",
      "2022-06-01    False\n",
      "2022-06-02    False\n",
      "2022-06-03     True\n",
      "2022-06-04    False\n",
      "2022-06-05    False\n",
      "2022-06-06    False\n",
      "2022-06-07    False\n",
      "2022-06-08    False\n",
      "2022-06-09    False\n",
      "2022-06-10    False\n",
      "2022-06-11     True\n",
      "2022-06-12     True\n",
      "2022-06-13    False\n",
      "2022-06-14    False\n",
      "2022-06-15    False\n",
      "2022-06-16    False\n",
      "2022-06-17    False\n",
      "2022-06-18    False\n",
      "2022-06-19    False\n",
      "2022-06-20    False\n",
      "2022-06-21     True\n",
      "2022-06-22     True\n",
      "2022-06-23    False\n",
      "2022-06-24    False\n",
      "2022-06-25     True\n",
      "2022-06-26    False\n",
      "2022-06-27    False\n",
      "2022-06-28    False\n",
      "2022-06-29    False\n",
      "2022-06-30    False\n",
      "Name: 최고기온, dtype: bool\n"
     ]
    },
    {
     "data": {
      "text/plain": "                   날짜  평균기온  최저기온  최고기온\n날짜                                     \n2022-06-03 2022-06-03  24.5  18.7  32.6\n2022-06-11 2022-06-11  24.6  17.7  32.7\n2022-06-12 2022-06-12  24.6  18.9  31.5\n2022-06-21 2022-06-21  26.5  21.2  32.6\n2022-06-22 2022-06-22  25.9  21.9  31.0\n2022-06-25 2022-06-25  26.0  21.5  30.5",
      "text/html": "<div>\n<style scoped>\n    .dataframe tbody tr th:only-of-type {\n        vertical-align: middle;\n    }\n\n    .dataframe tbody tr th {\n        vertical-align: top;\n    }\n\n    .dataframe thead th {\n        text-align: right;\n    }\n</style>\n<table border=\"1\" class=\"dataframe\">\n  <thead>\n    <tr style=\"text-align: right;\">\n      <th></th>\n      <th>날짜</th>\n      <th>평균기온</th>\n      <th>최저기온</th>\n      <th>최고기온</th>\n    </tr>\n    <tr>\n      <th>날짜</th>\n      <th></th>\n      <th></th>\n      <th></th>\n      <th></th>\n    </tr>\n  </thead>\n  <tbody>\n    <tr>\n      <th>2022-06-03</th>\n      <td>2022-06-03</td>\n      <td>24.5</td>\n      <td>18.7</td>\n      <td>32.6</td>\n    </tr>\n    <tr>\n      <th>2022-06-11</th>\n      <td>2022-06-11</td>\n      <td>24.6</td>\n      <td>17.7</td>\n      <td>32.7</td>\n    </tr>\n    <tr>\n      <th>2022-06-12</th>\n      <td>2022-06-12</td>\n      <td>24.6</td>\n      <td>18.9</td>\n      <td>31.5</td>\n    </tr>\n    <tr>\n      <th>2022-06-21</th>\n      <td>2022-06-21</td>\n      <td>26.5</td>\n      <td>21.2</td>\n      <td>32.6</td>\n    </tr>\n    <tr>\n      <th>2022-06-22</th>\n      <td>2022-06-22</td>\n      <td>25.9</td>\n      <td>21.9</td>\n      <td>31.0</td>\n    </tr>\n    <tr>\n      <th>2022-06-25</th>\n      <td>2022-06-25</td>\n      <td>26.0</td>\n      <td>21.5</td>\n      <td>30.5</td>\n    </tr>\n  </tbody>\n</table>\n</div>"
     },
     "execution_count": 33,
     "metadata": {},
     "output_type": "execute_result"
    }
   ],
   "source": [
    "w = df['최고기온'] >=30\n",
    "print(w)\n",
    "df[w]"
   ],
   "metadata": {
    "collapsed": false,
    "ExecuteTime": {
     "end_time": "2023-07-07T03:10:22.388791200Z",
     "start_time": "2023-07-07T03:10:22.356055800Z"
    }
   }
  },
  {
   "cell_type": "code",
   "execution_count": 34,
   "outputs": [
    {
     "data": {
      "text/plain": "            최저기온  최고기온\n날짜                    \n2022-06-03  18.7  32.6\n2022-06-11  17.7  32.7\n2022-06-12  18.9  31.5\n2022-06-21  21.2  32.6\n2022-06-22  21.9  31.0\n2022-06-25  21.5  30.5",
      "text/html": "<div>\n<style scoped>\n    .dataframe tbody tr th:only-of-type {\n        vertical-align: middle;\n    }\n\n    .dataframe tbody tr th {\n        vertical-align: top;\n    }\n\n    .dataframe thead th {\n        text-align: right;\n    }\n</style>\n<table border=\"1\" class=\"dataframe\">\n  <thead>\n    <tr style=\"text-align: right;\">\n      <th></th>\n      <th>최저기온</th>\n      <th>최고기온</th>\n    </tr>\n    <tr>\n      <th>날짜</th>\n      <th></th>\n      <th></th>\n    </tr>\n  </thead>\n  <tbody>\n    <tr>\n      <th>2022-06-03</th>\n      <td>18.7</td>\n      <td>32.6</td>\n    </tr>\n    <tr>\n      <th>2022-06-11</th>\n      <td>17.7</td>\n      <td>32.7</td>\n    </tr>\n    <tr>\n      <th>2022-06-12</th>\n      <td>18.9</td>\n      <td>31.5</td>\n    </tr>\n    <tr>\n      <th>2022-06-21</th>\n      <td>21.2</td>\n      <td>32.6</td>\n    </tr>\n    <tr>\n      <th>2022-06-22</th>\n      <td>21.9</td>\n      <td>31.0</td>\n    </tr>\n    <tr>\n      <th>2022-06-25</th>\n      <td>21.5</td>\n      <td>30.5</td>\n    </tr>\n  </tbody>\n</table>\n</div>"
     },
     "execution_count": 34,
     "metadata": {},
     "output_type": "execute_result"
    }
   ],
   "source": [
    "w = df['최고기온']>=30\n",
    "df[w][['최저기온','최고기온']]"
   ],
   "metadata": {
    "collapsed": false,
    "ExecuteTime": {
     "end_time": "2023-07-07T03:11:13.504810Z",
     "start_time": "2023-07-07T03:11:13.442384100Z"
    }
   }
  },
  {
   "cell_type": "code",
   "execution_count": 96,
   "outputs": [
    {
     "ename": "KeyError",
     "evalue": "'최고기온'",
     "output_type": "error",
     "traceback": [
      "\u001B[1;31m---------------------------------------------------------------------------\u001B[0m",
      "\u001B[1;31mKeyError\u001B[0m                                  Traceback (most recent call last)",
      "File \u001B[1;32mD:\\machine_learning\\venv\\Lib\\site-packages\\pandas\\core\\indexes\\base.py:3653\u001B[0m, in \u001B[0;36mIndex.get_loc\u001B[1;34m(self, key)\u001B[0m\n\u001B[0;32m   3652\u001B[0m \u001B[38;5;28;01mtry\u001B[39;00m:\n\u001B[1;32m-> 3653\u001B[0m     \u001B[38;5;28;01mreturn\u001B[39;00m \u001B[38;5;28;43mself\u001B[39;49m\u001B[38;5;241;43m.\u001B[39;49m\u001B[43m_engine\u001B[49m\u001B[38;5;241;43m.\u001B[39;49m\u001B[43mget_loc\u001B[49m\u001B[43m(\u001B[49m\u001B[43mcasted_key\u001B[49m\u001B[43m)\u001B[49m\n\u001B[0;32m   3654\u001B[0m \u001B[38;5;28;01mexcept\u001B[39;00m \u001B[38;5;167;01mKeyError\u001B[39;00m \u001B[38;5;28;01mas\u001B[39;00m err:\n",
      "File \u001B[1;32mD:\\machine_learning\\venv\\Lib\\site-packages\\pandas\\_libs\\index.pyx:147\u001B[0m, in \u001B[0;36mpandas._libs.index.IndexEngine.get_loc\u001B[1;34m()\u001B[0m\n",
      "File \u001B[1;32mD:\\machine_learning\\venv\\Lib\\site-packages\\pandas\\_libs\\index.pyx:176\u001B[0m, in \u001B[0;36mpandas._libs.index.IndexEngine.get_loc\u001B[1;34m()\u001B[0m\n",
      "File \u001B[1;32mpandas\\_libs\\hashtable_class_helper.pxi:7080\u001B[0m, in \u001B[0;36mpandas._libs.hashtable.PyObjectHashTable.get_item\u001B[1;34m()\u001B[0m\n",
      "File \u001B[1;32mpandas\\_libs\\hashtable_class_helper.pxi:7088\u001B[0m, in \u001B[0;36mpandas._libs.hashtable.PyObjectHashTable.get_item\u001B[1;34m()\u001B[0m\n",
      "\u001B[1;31mKeyError\u001B[0m: '최고기온'",
      "\nThe above exception was the direct cause of the following exception:\n",
      "\u001B[1;31mKeyError\u001B[0m                                  Traceback (most recent call last)",
      "Cell \u001B[1;32mIn[96], line 1\u001B[0m\n\u001B[1;32m----> 1\u001B[0m w \u001B[38;5;241m=\u001B[39m \u001B[43mdf\u001B[49m\u001B[43m[\u001B[49m\u001B[38;5;124;43m'\u001B[39;49m\u001B[38;5;124;43m최고기온\u001B[39;49m\u001B[38;5;124;43m'\u001B[39;49m\u001B[43m]\u001B[49m\u001B[38;5;241m==\u001B[39mdf[\u001B[38;5;124m'\u001B[39m\u001B[38;5;124m최고기온\u001B[39m\u001B[38;5;124m'\u001B[39m]\u001B[38;5;241m.\u001B[39mmax()\n\u001B[0;32m      3\u001B[0m df[w]\n",
      "File \u001B[1;32mD:\\machine_learning\\venv\\Lib\\site-packages\\pandas\\core\\frame.py:3761\u001B[0m, in \u001B[0;36mDataFrame.__getitem__\u001B[1;34m(self, key)\u001B[0m\n\u001B[0;32m   3759\u001B[0m \u001B[38;5;28;01mif\u001B[39;00m \u001B[38;5;28mself\u001B[39m\u001B[38;5;241m.\u001B[39mcolumns\u001B[38;5;241m.\u001B[39mnlevels \u001B[38;5;241m>\u001B[39m \u001B[38;5;241m1\u001B[39m:\n\u001B[0;32m   3760\u001B[0m     \u001B[38;5;28;01mreturn\u001B[39;00m \u001B[38;5;28mself\u001B[39m\u001B[38;5;241m.\u001B[39m_getitem_multilevel(key)\n\u001B[1;32m-> 3761\u001B[0m indexer \u001B[38;5;241m=\u001B[39m \u001B[38;5;28;43mself\u001B[39;49m\u001B[38;5;241;43m.\u001B[39;49m\u001B[43mcolumns\u001B[49m\u001B[38;5;241;43m.\u001B[39;49m\u001B[43mget_loc\u001B[49m\u001B[43m(\u001B[49m\u001B[43mkey\u001B[49m\u001B[43m)\u001B[49m\n\u001B[0;32m   3762\u001B[0m \u001B[38;5;28;01mif\u001B[39;00m is_integer(indexer):\n\u001B[0;32m   3763\u001B[0m     indexer \u001B[38;5;241m=\u001B[39m [indexer]\n",
      "File \u001B[1;32mD:\\machine_learning\\venv\\Lib\\site-packages\\pandas\\core\\indexes\\base.py:3655\u001B[0m, in \u001B[0;36mIndex.get_loc\u001B[1;34m(self, key)\u001B[0m\n\u001B[0;32m   3653\u001B[0m     \u001B[38;5;28;01mreturn\u001B[39;00m \u001B[38;5;28mself\u001B[39m\u001B[38;5;241m.\u001B[39m_engine\u001B[38;5;241m.\u001B[39mget_loc(casted_key)\n\u001B[0;32m   3654\u001B[0m \u001B[38;5;28;01mexcept\u001B[39;00m \u001B[38;5;167;01mKeyError\u001B[39;00m \u001B[38;5;28;01mas\u001B[39;00m err:\n\u001B[1;32m-> 3655\u001B[0m     \u001B[38;5;28;01mraise\u001B[39;00m \u001B[38;5;167;01mKeyError\u001B[39;00m(key) \u001B[38;5;28;01mfrom\u001B[39;00m \u001B[38;5;21;01merr\u001B[39;00m\n\u001B[0;32m   3656\u001B[0m \u001B[38;5;28;01mexcept\u001B[39;00m \u001B[38;5;167;01mTypeError\u001B[39;00m:\n\u001B[0;32m   3657\u001B[0m     \u001B[38;5;66;03m# If we have a listlike key, _check_indexing_error will raise\u001B[39;00m\n\u001B[0;32m   3658\u001B[0m     \u001B[38;5;66;03m#  InvalidIndexError. Otherwise we fall through and re-raise\u001B[39;00m\n\u001B[0;32m   3659\u001B[0m     \u001B[38;5;66;03m#  the TypeError.\u001B[39;00m\n\u001B[0;32m   3660\u001B[0m     \u001B[38;5;28mself\u001B[39m\u001B[38;5;241m.\u001B[39m_check_indexing_error(key)\n",
      "\u001B[1;31mKeyError\u001B[0m: '최고기온'"
     ]
    }
   ],
   "source": [
    "w = df['최고기온']==df['최고기온'].max()\n",
    "\n",
    "df[w]"
   ],
   "metadata": {
    "collapsed": false,
    "ExecuteTime": {
     "end_time": "2023-07-07T06:16:14.230953700Z",
     "start_time": "2023-07-07T06:16:14.171054700Z"
    }
   }
  },
  {
   "cell_type": "code",
   "execution_count": 37,
   "outputs": [
    {
     "data": {
      "text/plain": "                   날짜  평균기온  최저기온  최고기온\n날짜                                     \n2022-06-01 2022-06-01  22.1  16.2  28.6\n2022-06-03 2022-06-03  24.5  18.7  32.6\n2022-06-07 2022-06-07  20.6  15.1  25.1\n2022-06-11 2022-06-11  24.6  17.7  32.7\n2022-06-12 2022-06-12  24.6  18.9  31.5\n2022-06-17 2022-06-17  22.5  16.5  28.1\n2022-06-21 2022-06-21  26.5  21.2  32.6",
      "text/html": "<div>\n<style scoped>\n    .dataframe tbody tr th:only-of-type {\n        vertical-align: middle;\n    }\n\n    .dataframe tbody tr th {\n        vertical-align: top;\n    }\n\n    .dataframe thead th {\n        text-align: right;\n    }\n</style>\n<table border=\"1\" class=\"dataframe\">\n  <thead>\n    <tr style=\"text-align: right;\">\n      <th></th>\n      <th>날짜</th>\n      <th>평균기온</th>\n      <th>최저기온</th>\n      <th>최고기온</th>\n    </tr>\n    <tr>\n      <th>날짜</th>\n      <th></th>\n      <th></th>\n      <th></th>\n      <th></th>\n    </tr>\n  </thead>\n  <tbody>\n    <tr>\n      <th>2022-06-01</th>\n      <td>2022-06-01</td>\n      <td>22.1</td>\n      <td>16.2</td>\n      <td>28.6</td>\n    </tr>\n    <tr>\n      <th>2022-06-03</th>\n      <td>2022-06-03</td>\n      <td>24.5</td>\n      <td>18.7</td>\n      <td>32.6</td>\n    </tr>\n    <tr>\n      <th>2022-06-07</th>\n      <td>2022-06-07</td>\n      <td>20.6</td>\n      <td>15.1</td>\n      <td>25.1</td>\n    </tr>\n    <tr>\n      <th>2022-06-11</th>\n      <td>2022-06-11</td>\n      <td>24.6</td>\n      <td>17.7</td>\n      <td>32.7</td>\n    </tr>\n    <tr>\n      <th>2022-06-12</th>\n      <td>2022-06-12</td>\n      <td>24.6</td>\n      <td>18.9</td>\n      <td>31.5</td>\n    </tr>\n    <tr>\n      <th>2022-06-17</th>\n      <td>2022-06-17</td>\n      <td>22.5</td>\n      <td>16.5</td>\n      <td>28.1</td>\n    </tr>\n    <tr>\n      <th>2022-06-21</th>\n      <td>2022-06-21</td>\n      <td>26.5</td>\n      <td>21.2</td>\n      <td>32.6</td>\n    </tr>\n  </tbody>\n</table>\n</div>"
     },
     "execution_count": 37,
     "metadata": {},
     "output_type": "execute_result"
    }
   ],
   "source": [
    "w = df['최고기온']-df['최저기온'] >=10\n",
    "df[w]"
   ],
   "metadata": {
    "collapsed": false,
    "ExecuteTime": {
     "end_time": "2023-07-07T03:17:00.843608800Z",
     "start_time": "2023-07-07T03:17:00.812275400Z"
    }
   }
  },
  {
   "cell_type": "code",
   "execution_count": 62,
   "outputs": [
    {
     "data": {
      "text/plain": "title           object\nsinger          object\npersonnel        int64\nsortation       object\nrelease_date    object\nagency          object\ngenre           object\ntype            object\ndtype: object"
     },
     "execution_count": 62,
     "metadata": {},
     "output_type": "execute_result"
    }
   ],
   "source": [
    "import pandas as pd\n",
    "filename = 'data/Machine_Learning/music.csv'\n",
    "df = pd.read_csv(filename)\n",
    "df.dtypes"
   ],
   "metadata": {
    "collapsed": false,
    "ExecuteTime": {
     "end_time": "2023-07-07T04:02:27.376022700Z",
     "start_time": "2023-07-07T04:02:27.357151900Z"
    }
   }
  },
  {
   "cell_type": "code",
   "execution_count": 63,
   "outputs": [
    {
     "data": {
      "text/plain": "Index(['title', 'singer', 'personnel', 'sortation', 'release_date', 'genre'], dtype='object')"
     },
     "execution_count": 63,
     "metadata": {},
     "output_type": "execute_result"
    }
   ],
   "source": [
    "df.drop(['agency','type',],axis=1,inplace=True)\n",
    "df.columns"
   ],
   "metadata": {
    "collapsed": false,
    "ExecuteTime": {
     "end_time": "2023-07-07T04:02:28.743337900Z",
     "start_time": "2023-07-07T04:02:28.734617700Z"
    }
   }
  },
  {
   "cell_type": "code",
   "execution_count": 64,
   "outputs": [
    {
     "data": {
      "text/plain": "        제목    가수  인원수  구분         발매일   장르\n0      좋은날   아이유    1  솔로  2010-12-09  발라드\n1  내가제일잘나가  2NE1    4  그룹  2011-06-24   댄스\n2    강남스타일    싸이    1  솔로  2012-07-15   힙합\n3     첫사랑니  f(x)    5  그룹  2013-07-29   댄스\n4      위아래  EXID    4  그룹  2014-08-27   댄스",
      "text/html": "<div>\n<style scoped>\n    .dataframe tbody tr th:only-of-type {\n        vertical-align: middle;\n    }\n\n    .dataframe tbody tr th {\n        vertical-align: top;\n    }\n\n    .dataframe thead th {\n        text-align: right;\n    }\n</style>\n<table border=\"1\" class=\"dataframe\">\n  <thead>\n    <tr style=\"text-align: right;\">\n      <th></th>\n      <th>제목</th>\n      <th>가수</th>\n      <th>인원수</th>\n      <th>구분</th>\n      <th>발매일</th>\n      <th>장르</th>\n    </tr>\n  </thead>\n  <tbody>\n    <tr>\n      <th>0</th>\n      <td>좋은날</td>\n      <td>아이유</td>\n      <td>1</td>\n      <td>솔로</td>\n      <td>2010-12-09</td>\n      <td>발라드</td>\n    </tr>\n    <tr>\n      <th>1</th>\n      <td>내가제일잘나가</td>\n      <td>2NE1</td>\n      <td>4</td>\n      <td>그룹</td>\n      <td>2011-06-24</td>\n      <td>댄스</td>\n    </tr>\n    <tr>\n      <th>2</th>\n      <td>강남스타일</td>\n      <td>싸이</td>\n      <td>1</td>\n      <td>솔로</td>\n      <td>2012-07-15</td>\n      <td>힙합</td>\n    </tr>\n    <tr>\n      <th>3</th>\n      <td>첫사랑니</td>\n      <td>f(x)</td>\n      <td>5</td>\n      <td>그룹</td>\n      <td>2013-07-29</td>\n      <td>댄스</td>\n    </tr>\n    <tr>\n      <th>4</th>\n      <td>위아래</td>\n      <td>EXID</td>\n      <td>4</td>\n      <td>그룹</td>\n      <td>2014-08-27</td>\n      <td>댄스</td>\n    </tr>\n  </tbody>\n</table>\n</div>"
     },
     "execution_count": 64,
     "metadata": {},
     "output_type": "execute_result"
    }
   ],
   "source": [
    "df.columns = ['제목','가수','인원수','구분','발매일','장르']\n",
    "df.head()"
   ],
   "metadata": {
    "collapsed": false,
    "ExecuteTime": {
     "end_time": "2023-07-07T04:02:29.322566300Z",
     "start_time": "2023-07-07T04:02:29.299796500Z"
    }
   }
  },
  {
   "cell_type": "code",
   "execution_count": 65,
   "outputs": [
    {
     "data": {
      "text/plain": "제목     object\n가수     object\n인원수     int64\n구분     object\n발매일    object\n장르     object\ndtype: object"
     },
     "execution_count": 65,
     "metadata": {},
     "output_type": "execute_result"
    }
   ],
   "source": [
    "df.dtypes"
   ],
   "metadata": {
    "collapsed": false,
    "ExecuteTime": {
     "end_time": "2023-07-07T04:02:29.785433300Z",
     "start_time": "2023-07-07T04:02:29.773490500Z"
    }
   }
  },
  {
   "cell_type": "code",
   "execution_count": 66,
   "outputs": [
    {
     "data": {
      "text/plain": "        제목    가수  인원수  구분        발매일   장르    년도   월   일\n0      좋은날   아이유    1  솔로 2010-12-09  발라드  2010  12   9\n1  내가제일잘나가  2NE1    4  그룹 2011-06-24   댄스  2011   6  24\n2    강남스타일    싸이    1  솔로 2012-07-15   힙합  2012   7  15\n3     첫사랑니  f(x)    5  그룹 2013-07-29   댄스  2013   7  29\n4      위아래  EXID    4  그룹 2014-08-27   댄스  2014   8  27",
      "text/html": "<div>\n<style scoped>\n    .dataframe tbody tr th:only-of-type {\n        vertical-align: middle;\n    }\n\n    .dataframe tbody tr th {\n        vertical-align: top;\n    }\n\n    .dataframe thead th {\n        text-align: right;\n    }\n</style>\n<table border=\"1\" class=\"dataframe\">\n  <thead>\n    <tr style=\"text-align: right;\">\n      <th></th>\n      <th>제목</th>\n      <th>가수</th>\n      <th>인원수</th>\n      <th>구분</th>\n      <th>발매일</th>\n      <th>장르</th>\n      <th>년도</th>\n      <th>월</th>\n      <th>일</th>\n    </tr>\n  </thead>\n  <tbody>\n    <tr>\n      <th>0</th>\n      <td>좋은날</td>\n      <td>아이유</td>\n      <td>1</td>\n      <td>솔로</td>\n      <td>2010-12-09</td>\n      <td>발라드</td>\n      <td>2010</td>\n      <td>12</td>\n      <td>9</td>\n    </tr>\n    <tr>\n      <th>1</th>\n      <td>내가제일잘나가</td>\n      <td>2NE1</td>\n      <td>4</td>\n      <td>그룹</td>\n      <td>2011-06-24</td>\n      <td>댄스</td>\n      <td>2011</td>\n      <td>6</td>\n      <td>24</td>\n    </tr>\n    <tr>\n      <th>2</th>\n      <td>강남스타일</td>\n      <td>싸이</td>\n      <td>1</td>\n      <td>솔로</td>\n      <td>2012-07-15</td>\n      <td>힙합</td>\n      <td>2012</td>\n      <td>7</td>\n      <td>15</td>\n    </tr>\n    <tr>\n      <th>3</th>\n      <td>첫사랑니</td>\n      <td>f(x)</td>\n      <td>5</td>\n      <td>그룹</td>\n      <td>2013-07-29</td>\n      <td>댄스</td>\n      <td>2013</td>\n      <td>7</td>\n      <td>29</td>\n    </tr>\n    <tr>\n      <th>4</th>\n      <td>위아래</td>\n      <td>EXID</td>\n      <td>4</td>\n      <td>그룹</td>\n      <td>2014-08-27</td>\n      <td>댄스</td>\n      <td>2014</td>\n      <td>8</td>\n      <td>27</td>\n    </tr>\n  </tbody>\n</table>\n</div>"
     },
     "execution_count": 66,
     "metadata": {},
     "output_type": "execute_result"
    }
   ],
   "source": [
    "df['발매일'] = pd.to_datetime(df['발매일'], format='%Y-%m-%d',errors='raise')\n",
    "df['년도']=df['발매일'].dt.year\n",
    "df['월']=df['발매일'].dt.month\n",
    "df['일']=df['발매일'].dt.day\n",
    "df.head()"
   ],
   "metadata": {
    "collapsed": false,
    "ExecuteTime": {
     "end_time": "2023-07-07T04:02:31.025343500Z",
     "start_time": "2023-07-07T04:02:30.999977300Z"
    }
   }
  },
  {
   "cell_type": "code",
   "execution_count": 67,
   "outputs": [
    {
     "data": {
      "text/plain": "     인원수\n장르      \nR&B    1\n댄스    10\n발라드    1\n힙합     1",
      "text/html": "<div>\n<style scoped>\n    .dataframe tbody tr th:only-of-type {\n        vertical-align: middle;\n    }\n\n    .dataframe tbody tr th {\n        vertical-align: top;\n    }\n\n    .dataframe thead th {\n        text-align: right;\n    }\n</style>\n<table border=\"1\" class=\"dataframe\">\n  <thead>\n    <tr style=\"text-align: right;\">\n      <th></th>\n      <th>인원수</th>\n    </tr>\n    <tr>\n      <th>장르</th>\n      <th></th>\n    </tr>\n  </thead>\n  <tbody>\n    <tr>\n      <th>R&amp;B</th>\n      <td>1</td>\n    </tr>\n    <tr>\n      <th>댄스</th>\n      <td>10</td>\n    </tr>\n    <tr>\n      <th>발라드</th>\n      <td>1</td>\n    </tr>\n    <tr>\n      <th>힙합</th>\n      <td>1</td>\n    </tr>\n  </tbody>\n</table>\n</div>"
     },
     "execution_count": 67,
     "metadata": {},
     "output_type": "execute_result"
    }
   ],
   "source": [
    "newdata = df.groupby('장르').count()\n",
    "pd.DataFrame(newdata['인원수'])"
   ],
   "metadata": {
    "collapsed": false,
    "ExecuteTime": {
     "end_time": "2023-07-07T04:05:42.349877700Z",
     "start_time": "2023-07-07T04:05:42.349877700Z"
    }
   }
  },
  {
   "cell_type": "code",
   "execution_count": 79,
   "outputs": [
    {
     "data": {
      "text/plain": "        인원수\n구분 장르      \n그룹 R&B    7\n   댄스    59\n솔로 발라드    1\n   힙합     1",
      "text/html": "<div>\n<style scoped>\n    .dataframe tbody tr th:only-of-type {\n        vertical-align: middle;\n    }\n\n    .dataframe tbody tr th {\n        vertical-align: top;\n    }\n\n    .dataframe thead th {\n        text-align: right;\n    }\n</style>\n<table border=\"1\" class=\"dataframe\">\n  <thead>\n    <tr style=\"text-align: right;\">\n      <th></th>\n      <th></th>\n      <th>인원수</th>\n    </tr>\n    <tr>\n      <th>구분</th>\n      <th>장르</th>\n      <th></th>\n    </tr>\n  </thead>\n  <tbody>\n    <tr>\n      <th rowspan=\"2\" valign=\"top\">그룹</th>\n      <th>R&amp;B</th>\n      <td>7</td>\n    </tr>\n    <tr>\n      <th>댄스</th>\n      <td>59</td>\n    </tr>\n    <tr>\n      <th rowspan=\"2\" valign=\"top\">솔로</th>\n      <th>발라드</th>\n      <td>1</td>\n    </tr>\n    <tr>\n      <th>힙합</th>\n      <td>1</td>\n    </tr>\n  </tbody>\n</table>\n</div>"
     },
     "execution_count": 79,
     "metadata": {},
     "output_type": "execute_result"
    }
   ],
   "source": [
    "newdata = df.drop('발매일',axis=1).groupby(['구분','장르']).sum()\n",
    "pd.DataFrame(newdata['인원수'])"
   ],
   "metadata": {
    "collapsed": false,
    "ExecuteTime": {
     "end_time": "2023-07-07T04:17:01.488163800Z",
     "start_time": "2023-07-07T04:17:01.465058100Z"
    }
   }
  },
  {
   "cell_type": "code",
   "execution_count": 84,
   "outputs": [
    {
     "name": "stdout",
     "output_type": "stream",
     "text": [
      "<class 'pandas.core.frame.DataFrame'>\n",
      "RangeIndex: 891 entries, 0 to 890\n",
      "Data columns (total 12 columns):\n",
      " #   Column       Non-Null Count  Dtype  \n",
      "---  ------       --------------  -----  \n",
      " 0   PassengerId  891 non-null    int64  \n",
      " 1   Survived     891 non-null    int64  \n",
      " 2   Pclass       891 non-null    int64  \n",
      " 3   Name         891 non-null    object \n",
      " 4   Sex          891 non-null    object \n",
      " 5   Age          714 non-null    float64\n",
      " 6   SibSp        891 non-null    int64  \n",
      " 7   Parch        891 non-null    int64  \n",
      " 8   Ticket       891 non-null    object \n",
      " 9   Fare         891 non-null    float64\n",
      " 10  Cabin        204 non-null    object \n",
      " 11  Embarked     889 non-null    object \n",
      "dtypes: float64(2), int64(5), object(5)\n",
      "memory usage: 83.7+ KB\n"
     ]
    }
   ],
   "source": [
    "import pandas as pd\n",
    "filename = 'data/Machine_Learning/train.csv'\n",
    "df = pd.read_csv(filename)\n",
    "df.info()"
   ],
   "metadata": {
    "collapsed": false,
    "ExecuteTime": {
     "end_time": "2023-07-07T05:42:57.890425200Z",
     "start_time": "2023-07-07T05:42:57.867184700Z"
    }
   }
  },
  {
   "cell_type": "code",
   "execution_count": 81,
   "outputs": [
    {
     "data": {
      "text/plain": "     PassengerId  Survived  Pclass                                       Name  \\\n61            62         1       1                        Icard, Miss. Amelie   \n829          830         1       1  Stone, Mrs. George Nelson (Martha Evelyn)   \n\n        Sex   Age  SibSp  Parch  Ticket  Fare Cabin Embarked  \n61   female  38.0      0      0  113572  80.0   B28      NaN  \n829  female  62.0      0      0  113572  80.0   B28      NaN  ",
      "text/html": "<div>\n<style scoped>\n    .dataframe tbody tr th:only-of-type {\n        vertical-align: middle;\n    }\n\n    .dataframe tbody tr th {\n        vertical-align: top;\n    }\n\n    .dataframe thead th {\n        text-align: right;\n    }\n</style>\n<table border=\"1\" class=\"dataframe\">\n  <thead>\n    <tr style=\"text-align: right;\">\n      <th></th>\n      <th>PassengerId</th>\n      <th>Survived</th>\n      <th>Pclass</th>\n      <th>Name</th>\n      <th>Sex</th>\n      <th>Age</th>\n      <th>SibSp</th>\n      <th>Parch</th>\n      <th>Ticket</th>\n      <th>Fare</th>\n      <th>Cabin</th>\n      <th>Embarked</th>\n    </tr>\n  </thead>\n  <tbody>\n    <tr>\n      <th>61</th>\n      <td>62</td>\n      <td>1</td>\n      <td>1</td>\n      <td>Icard, Miss. Amelie</td>\n      <td>female</td>\n      <td>38.0</td>\n      <td>0</td>\n      <td>0</td>\n      <td>113572</td>\n      <td>80.0</td>\n      <td>B28</td>\n      <td>NaN</td>\n    </tr>\n    <tr>\n      <th>829</th>\n      <td>830</td>\n      <td>1</td>\n      <td>1</td>\n      <td>Stone, Mrs. George Nelson (Martha Evelyn)</td>\n      <td>female</td>\n      <td>62.0</td>\n      <td>0</td>\n      <td>0</td>\n      <td>113572</td>\n      <td>80.0</td>\n      <td>B28</td>\n      <td>NaN</td>\n    </tr>\n  </tbody>\n</table>\n</div>"
     },
     "execution_count": 81,
     "metadata": {},
     "output_type": "execute_result"
    }
   ],
   "source": [
    "df[df['Embarked'].isna()]"
   ],
   "metadata": {
    "collapsed": false,
    "ExecuteTime": {
     "end_time": "2023-07-07T05:37:15.037193500Z",
     "start_time": "2023-07-07T05:37:15.005946100Z"
    }
   }
  },
  {
   "cell_type": "code",
   "execution_count": 90,
   "outputs": [
    {
     "data": {
      "text/plain": "PassengerId      0\nSurvived         0\nPclass           0\nName             0\nSex              0\nAge            177\nSibSp            0\nParch            0\nTicket           0\nFare             0\nEmbarked         2\ndtype: int64"
     },
     "execution_count": 90,
     "metadata": {},
     "output_type": "execute_result"
    }
   ],
   "source": [
    "df.isnull().sum()\n"
   ],
   "metadata": {
    "collapsed": false,
    "ExecuteTime": {
     "end_time": "2023-07-07T05:50:40.362063800Z",
     "start_time": "2023-07-07T05:50:40.348856900Z"
    }
   }
  },
  {
   "cell_type": "code",
   "execution_count": 91,
   "outputs": [
    {
     "ename": "KeyError",
     "evalue": "\"['Cabin'] not found in axis\"",
     "output_type": "error",
     "traceback": [
      "\u001B[1;31m---------------------------------------------------------------------------\u001B[0m",
      "\u001B[1;31mKeyError\u001B[0m                                  Traceback (most recent call last)",
      "Cell \u001B[1;32mIn[91], line 1\u001B[0m\n\u001B[1;32m----> 1\u001B[0m \u001B[43mdf\u001B[49m\u001B[38;5;241;43m.\u001B[39;49m\u001B[43mdrop\u001B[49m\u001B[43m(\u001B[49m\u001B[38;5;124;43m'\u001B[39;49m\u001B[38;5;124;43mCabin\u001B[39;49m\u001B[38;5;124;43m'\u001B[39;49m\u001B[43m,\u001B[49m\u001B[43maxis\u001B[49m\u001B[38;5;241;43m=\u001B[39;49m\u001B[38;5;241;43m1\u001B[39;49m\u001B[43m,\u001B[49m\u001B[43minplace\u001B[49m\u001B[38;5;241;43m=\u001B[39;49m\u001B[38;5;28;43;01mTrue\u001B[39;49;00m\u001B[43m)\u001B[49m\n\u001B[0;32m      2\u001B[0m df\u001B[38;5;241m.\u001B[39mcolumns\n",
      "File \u001B[1;32mD:\\machine_learning\\venv\\Lib\\site-packages\\pandas\\core\\frame.py:5258\u001B[0m, in \u001B[0;36mDataFrame.drop\u001B[1;34m(self, labels, axis, index, columns, level, inplace, errors)\u001B[0m\n\u001B[0;32m   5110\u001B[0m \u001B[38;5;28;01mdef\u001B[39;00m \u001B[38;5;21mdrop\u001B[39m(\n\u001B[0;32m   5111\u001B[0m     \u001B[38;5;28mself\u001B[39m,\n\u001B[0;32m   5112\u001B[0m     labels: IndexLabel \u001B[38;5;241m=\u001B[39m \u001B[38;5;28;01mNone\u001B[39;00m,\n\u001B[1;32m   (...)\u001B[0m\n\u001B[0;32m   5119\u001B[0m     errors: IgnoreRaise \u001B[38;5;241m=\u001B[39m \u001B[38;5;124m\"\u001B[39m\u001B[38;5;124mraise\u001B[39m\u001B[38;5;124m\"\u001B[39m,\n\u001B[0;32m   5120\u001B[0m ) \u001B[38;5;241m-\u001B[39m\u001B[38;5;241m>\u001B[39m DataFrame \u001B[38;5;241m|\u001B[39m \u001B[38;5;28;01mNone\u001B[39;00m:\n\u001B[0;32m   5121\u001B[0m \u001B[38;5;250m    \u001B[39m\u001B[38;5;124;03m\"\"\"\u001B[39;00m\n\u001B[0;32m   5122\u001B[0m \u001B[38;5;124;03m    Drop specified labels from rows or columns.\u001B[39;00m\n\u001B[0;32m   5123\u001B[0m \n\u001B[1;32m   (...)\u001B[0m\n\u001B[0;32m   5256\u001B[0m \u001B[38;5;124;03m            weight  1.0     0.8\u001B[39;00m\n\u001B[0;32m   5257\u001B[0m \u001B[38;5;124;03m    \"\"\"\u001B[39;00m\n\u001B[1;32m-> 5258\u001B[0m     \u001B[38;5;28;01mreturn\u001B[39;00m \u001B[38;5;28;43msuper\u001B[39;49m\u001B[43m(\u001B[49m\u001B[43m)\u001B[49m\u001B[38;5;241;43m.\u001B[39;49m\u001B[43mdrop\u001B[49m\u001B[43m(\u001B[49m\n\u001B[0;32m   5259\u001B[0m \u001B[43m        \u001B[49m\u001B[43mlabels\u001B[49m\u001B[38;5;241;43m=\u001B[39;49m\u001B[43mlabels\u001B[49m\u001B[43m,\u001B[49m\n\u001B[0;32m   5260\u001B[0m \u001B[43m        \u001B[49m\u001B[43maxis\u001B[49m\u001B[38;5;241;43m=\u001B[39;49m\u001B[43maxis\u001B[49m\u001B[43m,\u001B[49m\n\u001B[0;32m   5261\u001B[0m \u001B[43m        \u001B[49m\u001B[43mindex\u001B[49m\u001B[38;5;241;43m=\u001B[39;49m\u001B[43mindex\u001B[49m\u001B[43m,\u001B[49m\n\u001B[0;32m   5262\u001B[0m \u001B[43m        \u001B[49m\u001B[43mcolumns\u001B[49m\u001B[38;5;241;43m=\u001B[39;49m\u001B[43mcolumns\u001B[49m\u001B[43m,\u001B[49m\n\u001B[0;32m   5263\u001B[0m \u001B[43m        \u001B[49m\u001B[43mlevel\u001B[49m\u001B[38;5;241;43m=\u001B[39;49m\u001B[43mlevel\u001B[49m\u001B[43m,\u001B[49m\n\u001B[0;32m   5264\u001B[0m \u001B[43m        \u001B[49m\u001B[43minplace\u001B[49m\u001B[38;5;241;43m=\u001B[39;49m\u001B[43minplace\u001B[49m\u001B[43m,\u001B[49m\n\u001B[0;32m   5265\u001B[0m \u001B[43m        \u001B[49m\u001B[43merrors\u001B[49m\u001B[38;5;241;43m=\u001B[39;49m\u001B[43merrors\u001B[49m\u001B[43m,\u001B[49m\n\u001B[0;32m   5266\u001B[0m \u001B[43m    \u001B[49m\u001B[43m)\u001B[49m\n",
      "File \u001B[1;32mD:\\machine_learning\\venv\\Lib\\site-packages\\pandas\\core\\generic.py:4549\u001B[0m, in \u001B[0;36mNDFrame.drop\u001B[1;34m(self, labels, axis, index, columns, level, inplace, errors)\u001B[0m\n\u001B[0;32m   4547\u001B[0m \u001B[38;5;28;01mfor\u001B[39;00m axis, labels \u001B[38;5;129;01min\u001B[39;00m axes\u001B[38;5;241m.\u001B[39mitems():\n\u001B[0;32m   4548\u001B[0m     \u001B[38;5;28;01mif\u001B[39;00m labels \u001B[38;5;129;01mis\u001B[39;00m \u001B[38;5;129;01mnot\u001B[39;00m \u001B[38;5;28;01mNone\u001B[39;00m:\n\u001B[1;32m-> 4549\u001B[0m         obj \u001B[38;5;241m=\u001B[39m \u001B[43mobj\u001B[49m\u001B[38;5;241;43m.\u001B[39;49m\u001B[43m_drop_axis\u001B[49m\u001B[43m(\u001B[49m\u001B[43mlabels\u001B[49m\u001B[43m,\u001B[49m\u001B[43m \u001B[49m\u001B[43maxis\u001B[49m\u001B[43m,\u001B[49m\u001B[43m \u001B[49m\u001B[43mlevel\u001B[49m\u001B[38;5;241;43m=\u001B[39;49m\u001B[43mlevel\u001B[49m\u001B[43m,\u001B[49m\u001B[43m \u001B[49m\u001B[43merrors\u001B[49m\u001B[38;5;241;43m=\u001B[39;49m\u001B[43merrors\u001B[49m\u001B[43m)\u001B[49m\n\u001B[0;32m   4551\u001B[0m \u001B[38;5;28;01mif\u001B[39;00m inplace:\n\u001B[0;32m   4552\u001B[0m     \u001B[38;5;28mself\u001B[39m\u001B[38;5;241m.\u001B[39m_update_inplace(obj)\n",
      "File \u001B[1;32mD:\\machine_learning\\venv\\Lib\\site-packages\\pandas\\core\\generic.py:4591\u001B[0m, in \u001B[0;36mNDFrame._drop_axis\u001B[1;34m(self, labels, axis, level, errors, only_slice)\u001B[0m\n\u001B[0;32m   4589\u001B[0m         new_axis \u001B[38;5;241m=\u001B[39m axis\u001B[38;5;241m.\u001B[39mdrop(labels, level\u001B[38;5;241m=\u001B[39mlevel, errors\u001B[38;5;241m=\u001B[39merrors)\n\u001B[0;32m   4590\u001B[0m     \u001B[38;5;28;01melse\u001B[39;00m:\n\u001B[1;32m-> 4591\u001B[0m         new_axis \u001B[38;5;241m=\u001B[39m \u001B[43maxis\u001B[49m\u001B[38;5;241;43m.\u001B[39;49m\u001B[43mdrop\u001B[49m\u001B[43m(\u001B[49m\u001B[43mlabels\u001B[49m\u001B[43m,\u001B[49m\u001B[43m \u001B[49m\u001B[43merrors\u001B[49m\u001B[38;5;241;43m=\u001B[39;49m\u001B[43merrors\u001B[49m\u001B[43m)\u001B[49m\n\u001B[0;32m   4592\u001B[0m     indexer \u001B[38;5;241m=\u001B[39m axis\u001B[38;5;241m.\u001B[39mget_indexer(new_axis)\n\u001B[0;32m   4594\u001B[0m \u001B[38;5;66;03m# Case for non-unique axis\u001B[39;00m\n\u001B[0;32m   4595\u001B[0m \u001B[38;5;28;01melse\u001B[39;00m:\n",
      "File \u001B[1;32mD:\\machine_learning\\venv\\Lib\\site-packages\\pandas\\core\\indexes\\base.py:6699\u001B[0m, in \u001B[0;36mIndex.drop\u001B[1;34m(self, labels, errors)\u001B[0m\n\u001B[0;32m   6697\u001B[0m \u001B[38;5;28;01mif\u001B[39;00m mask\u001B[38;5;241m.\u001B[39many():\n\u001B[0;32m   6698\u001B[0m     \u001B[38;5;28;01mif\u001B[39;00m errors \u001B[38;5;241m!=\u001B[39m \u001B[38;5;124m\"\u001B[39m\u001B[38;5;124mignore\u001B[39m\u001B[38;5;124m\"\u001B[39m:\n\u001B[1;32m-> 6699\u001B[0m         \u001B[38;5;28;01mraise\u001B[39;00m \u001B[38;5;167;01mKeyError\u001B[39;00m(\u001B[38;5;124mf\u001B[39m\u001B[38;5;124m\"\u001B[39m\u001B[38;5;132;01m{\u001B[39;00m\u001B[38;5;28mlist\u001B[39m(labels[mask])\u001B[38;5;132;01m}\u001B[39;00m\u001B[38;5;124m not found in axis\u001B[39m\u001B[38;5;124m\"\u001B[39m)\n\u001B[0;32m   6700\u001B[0m     indexer \u001B[38;5;241m=\u001B[39m indexer[\u001B[38;5;241m~\u001B[39mmask]\n\u001B[0;32m   6701\u001B[0m \u001B[38;5;28;01mreturn\u001B[39;00m \u001B[38;5;28mself\u001B[39m\u001B[38;5;241m.\u001B[39mdelete(indexer)\n",
      "\u001B[1;31mKeyError\u001B[0m: \"['Cabin'] not found in axis\""
     ]
    }
   ],
   "source": [
    "df.drop('',axis=1,inplace=True)\n",
    "df.columns"
   ],
   "metadata": {
    "collapsed": false,
    "ExecuteTime": {
     "end_time": "2023-07-07T05:50:42.471854300Z",
     "start_time": "2023-07-07T05:50:42.425006800Z"
    }
   }
  },
  {
   "cell_type": "code",
   "execution_count": 92,
   "outputs": [
    {
     "data": {
      "text/plain": "Index(['PassengerId', 'Survived', 'Pclass', 'Name', 'Sex', 'Age', 'SibSp',\n       'Parch', 'Ticket', 'Fare', 'Embarked'],\n      dtype='object')"
     },
     "execution_count": 92,
     "metadata": {},
     "output_type": "execute_result"
    }
   ],
   "source": [
    "df.columns"
   ],
   "metadata": {
    "collapsed": false,
    "ExecuteTime": {
     "end_time": "2023-07-07T05:52:16.222577300Z",
     "start_time": "2023-07-07T05:52:16.191363300Z"
    }
   }
  },
  {
   "cell_type": "code",
   "execution_count": 93,
   "outputs": [
    {
     "data": {
      "text/plain": "<bound method Series.mode of 0      S\n1      C\n2      S\n3      S\n4      S\n      ..\n886    S\n887    S\n888    S\n889    C\n890    Q\nName: Embarked, Length: 891, dtype: object>"
     },
     "execution_count": 93,
     "metadata": {},
     "output_type": "execute_result"
    }
   ],
   "source": [
    "df['Embarked'].mode"
   ],
   "metadata": {
    "collapsed": false,
    "ExecuteTime": {
     "end_time": "2023-07-07T05:57:53.732231400Z",
     "start_time": "2023-07-07T05:57:53.700988600Z"
    }
   }
  },
  {
   "cell_type": "code",
   "execution_count": 94,
   "outputs": [
    {
     "data": {
      "text/plain": "PassengerId      0\nSurvived         0\nPclass           0\nName             0\nSex              0\nAge            177\nSibSp            0\nParch            0\nTicket           0\nFare             0\nEmbarked         0\ndtype: int64"
     },
     "execution_count": 94,
     "metadata": {},
     "output_type": "execute_result"
    }
   ],
   "source": [
    "df['Embarked'].fillna(df['Embarked'].mode()[0],inplace=True)\n",
    "df.isnull().sum()"
   ],
   "metadata": {
    "collapsed": false,
    "ExecuteTime": {
     "end_time": "2023-07-07T05:59:10.098386100Z",
     "start_time": "2023-07-07T05:59:10.067144500Z"
    }
   }
  },
  {
   "cell_type": "code",
   "execution_count": 95,
   "outputs": [
    {
     "data": {
      "text/plain": "PassengerId    0\nSurvived       0\nPclass         0\nName           0\nSex            0\nAge            0\nSibSp          0\nParch          0\nTicket         0\nFare           0\nEmbarked       0\ndtype: int64"
     },
     "execution_count": 95,
     "metadata": {},
     "output_type": "execute_result"
    }
   ],
   "source": [
    "avg = df['Age'].mean()\n",
    "df['Age'] = df['Age'].fillna(avg)\n",
    "df.isnull().sum()"
   ],
   "metadata": {
    "collapsed": false,
    "ExecuteTime": {
     "end_time": "2023-07-07T06:00:12.009780400Z",
     "start_time": "2023-07-07T06:00:11.978537500Z"
    }
   }
  },
  {
   "cell_type": "code",
   "execution_count": null,
   "outputs": [],
   "source": [],
   "metadata": {
    "collapsed": false
   }
  }
 ],
 "metadata": {
  "kernelspec": {
   "display_name": "Python 3",
   "language": "python",
   "name": "python3"
  },
  "language_info": {
   "codemirror_mode": {
    "name": "ipython",
    "version": 2
   },
   "file_extension": ".py",
   "mimetype": "text/x-python",
   "name": "python",
   "nbconvert_exporter": "python",
   "pygments_lexer": "ipython2",
   "version": "2.7.6"
  }
 },
 "nbformat": 4,
 "nbformat_minor": 0
}
